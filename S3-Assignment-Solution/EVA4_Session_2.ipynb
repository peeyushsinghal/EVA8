{
  "nbformat": 4,
  "nbformat_minor": 0,
  "metadata": {
    "colab": {
      "provenance": [],
      "include_colab_link": true
    },
    "kernelspec": {
      "name": "python3",
      "display_name": "Python 3"
    },
    "accelerator": "GPU"
  },
  "cells": [
    {
      "cell_type": "markdown",
      "metadata": {
        "id": "view-in-github",
        "colab_type": "text"
      },
      "source": [
        "<a href=\"https://colab.research.google.com/github/peeyushsinghal/EVA8/blob/main/S3-Assignment-Solution/EVA4_Session_2.ipynb\" target=\"_parent\"><img src=\"https://colab.research.google.com/assets/colab-badge.svg\" alt=\"Open In Colab\"/></a>"
      ]
    },
    {
      "cell_type": "code",
      "metadata": {
        "id": "0m2JWFliFfKT"
      },
      "source": [
        "from __future__ import print_function\n",
        "import torch\n",
        "import torch.nn as nn\n",
        "import torch.nn.functional as F\n",
        "import torch.optim as optim\n",
        "from torchvision import datasets, transforms"
      ],
      "execution_count": 2,
      "outputs": []
    },
    {
      "cell_type": "code",
      "metadata": {
        "id": "h_Cx9q2QFgM7"
      },
      "source": [
        "class Net(nn.Module):\n",
        "    def __init__(self):\n",
        "        super(Net, self).__init__()\n",
        "\n",
        "\n",
        "        # Gives 99.4% + accuracy but Trainable params: 24,106\n",
        "        self.conv1 = nn.Conv2d(1, 16, 5, padding=1) #input -28 OUtput-26 RF 5\n",
        "        self.bn1 = nn.BatchNorm2d(16)\n",
        "        self.conv2 = nn.Conv2d(16, 32, 3, padding=1)#input -26 OUtput-26 RF 7\n",
        "        self.bn2 = nn.BatchNorm2d(32)\n",
        "        self.pool1 = nn.MaxPool2d(2, 2) #input -26 OUtput-13 RF 14\n",
        "        self.dropout1= nn.Dropout(0.25)\n",
        "        self.conv3 = nn.Conv2d(32, 32, 3, padding=1) #input -13 OUtput-13 RF 16\n",
        "        self.bn3 = nn.BatchNorm2d(32)\n",
        "        self.conv4 = nn.Conv2d( 32,32, 3, padding=1)#input -13 OUtput-13 RF 18\n",
        "        self.bn4 = nn.BatchNorm2d(32)\n",
        "        self.pool2 = nn.MaxPool2d(2, 2) #input -13 OUtput-6 RF 36\n",
        "        self.dropout2 = nn.Dropout(0.25)\n",
        "        self.conv5 = nn.Conv2d(32,10,1) # use of 1x1 - input 6 output 6 RF 36\n",
        "        self.gap = nn.AvgPool2d(6) # input - 10x5x5 Output -10x1x1\n",
        "\n",
        "\n",
        "        # self.conv1 = nn.Conv2d(1, 32, 3, padding=1) #input -28 OUtput-28 RF 3\n",
        "        # self.bn1 = nn.BatchNorm2d(32)\n",
        "        # self.conv2 = nn.Conv2d(32, 16, 3, padding=1)#input -28 OUtput-28 RF 5\n",
        "        # self.bn2 = nn.BatchNorm2d(16)\n",
        "        # self.pool1 = nn.MaxPool2d(2, 2) #input -28 OUtput-14 RF 10\n",
        "        # self.dropout1= nn.Dropout(0.25)\n",
        "        # self.conv3 = nn.Conv2d(16, 16, 3, padding=1) #input -14 OUtput-14 RF 12\n",
        "        # self.bn3 = nn.BatchNorm2d(16)\n",
        "        # self.conv4 = nn.Conv2d( 16,32, 3, padding=1)#input -14 OUtput-14 RF 14\n",
        "        # self.bn4 = nn.BatchNorm2d(32)\n",
        "        # self.pool2 = nn.MaxPool2d(2, 2) #input -14 OUtput-7 RF 28\n",
        "        # self.dropout2 = nn.Dropout(0.25)\n",
        "        # self.conv5 = nn.Conv2d(32,10,1) # use of 1x1 - input 7 output 7 RF 28\n",
        "        # self.gap = nn.AvgPool2d(7) # input - 10x7x7 Output -10x1x1\n",
        "\n",
        "\n",
        "        # self.conv1 = nn.Conv2d(1, 16, 3, padding=1) #input -28 OUtput-28 RF 3\n",
        "        # self.bn1 = nn.BatchNorm2d(16)\n",
        "        # self.conv2 = nn.Conv2d(16, 32, 3, padding=1)#input -28 OUtput-28 RF 5\n",
        "        # self.bn2 = nn.BatchNorm2d(32)\n",
        "        # self.pool1 = nn.MaxPool2d(2, 2) #input -28 OUtput-14 RF 10\n",
        "        # self.dropout1= nn.Dropout(0.25)\n",
        "        # self.conv3 = nn.Conv2d(32, 32, 3, padding=1) #input -14 OUtput-14 RF 12\n",
        "        # self.bn3 = nn.BatchNorm2d(32)\n",
        "        # self.conv4 = nn.Conv2d( 32,32, 3, padding=1)#input -14 OUtput-14 RF 14\n",
        "        # self.bn4 = nn.BatchNorm2d(32)\n",
        "        # self.pool2 = nn.MaxPool2d(2, 2) #input -14 OUtput-7 RF 28\n",
        "        # self.dropout2 = nn.Dropout(0.25)\n",
        "        # self.conv5 = nn.Conv2d(32,10,1) # use of 1x1 - input 7 output 7 RF 28\n",
        "        # self.gap = nn.AvgPool2d(7) # input - 10x7x7 Output -10x1x1\n",
        "\n",
        "\n",
        "\n",
        "        # self.conv1 = nn.Conv2d(1, 8, 3, padding=1) #input -28 OUtput-28 RF 3\n",
        "        # self.bn1 = nn.BatchNorm2d(8)\n",
        "        # self.conv2 = nn.Conv2d(8, 16, 3, padding=1)#input -28 OUtput-28 RF 5\n",
        "        # self.bn2 = nn.BatchNorm2d(16)\n",
        "        # self.pool1 = nn.MaxPool2d(2, 2) #input -28 OUtput-14 RF 10\n",
        "        # self.dropout1= nn.Dropout(0.25)\n",
        "        # self.conv3 = nn.Conv2d( 16,32, 3, padding=1) #input -14 OUtput-14 RF 12\n",
        "        # self.bn3 = nn.BatchNorm2d(32)\n",
        "        # self.conv4 = nn.Conv2d( 32,32, 3, padding=1)#input -14 OUtput-14 RF 14\n",
        "        # self.bn4 = nn.BatchNorm2d(32)\n",
        "        # self.pool2 = nn.MaxPool2d(2, 2) #input -14 OUtput-7 RF 28\n",
        "        # self.dropout2 = nn.Dropout(0.25)\n",
        "        # self.conv5 = nn.Conv2d(32,10,1) # use of 1x1 - input 7 output 7 RF 28\n",
        "        # self.gap = nn.AvgPool2d(7) # input - 10x7x7 Output -10x1x1\n",
        "\n",
        "        # self.conv5 = nn.Conv2d(256, 512, 3) #input -7 OUtput-5 RF 30\n",
        "        # self.conv6 = nn.Conv2d(512, 1024, 3) #input -5 OUtput-3 RF 32\n",
        "        # self.conv7 = nn.Conv2d(1024, 10, 3) #input - 3 OUtput-1 RF 34\n",
        "\n",
        "    def forward(self, x):\n",
        "      x= self.bn1(F.relu(self.conv1(x)))\n",
        "      x = self.bn2(F.relu(self.conv2(x)))\n",
        "      x = self.dropout1(self.pool1(x))\n",
        "\n",
        "      x= self.bn3(F.relu(self.conv3(x)))\n",
        "      x = self.bn4(F.relu(self.conv4(x)))\n",
        "      x = self.dropout2(self.pool2(x))\n",
        "\n",
        "      x = F.relu(self.conv5(x))\n",
        "      x = self.gap(x)\n",
        "      x = x.view(-1, 10)\n",
        "\n",
        "        # x = self.pool1(F.relu(self.conv2(F.relu(self.conv1(x)))))\n",
        "        # x = self.pool2(F.relu(self.conv4(F.relu(self.conv3(x)))))\n",
        "        # x = F.relu(self.conv6(F.relu(self.conv5(x))))\n",
        "        # x = F.relu(self.conv7(x))\n",
        "        # x = x.view(-1, 10)\n",
        "      return F.log_softmax(x)"
      ],
      "execution_count": 37,
      "outputs": []
    },
    {
      "cell_type": "code",
      "metadata": {
        "id": "xdydjYTZFyi3",
        "colab": {
          "base_uri": "https://localhost:8080/"
        },
        "outputId": "a5f25d8f-d5cb-40ad-9a95-05b9856dbefe"
      },
      "source": [
        "# !pip install torchsummary\n",
        "from torchsummary import summary\n",
        "use_cuda = torch.cuda.is_available()\n",
        "device = torch.device(\"cuda\" if use_cuda else \"cpu\")\n",
        "model = Net().to(device)\n",
        "summary(model, input_size=(1, 28, 28))"
      ],
      "execution_count": 38,
      "outputs": [
        {
          "output_type": "stream",
          "name": "stdout",
          "text": [
            "----------------------------------------------------------------\n",
            "        Layer (type)               Output Shape         Param #\n",
            "================================================================\n",
            "            Conv2d-1           [-1, 16, 26, 26]             416\n",
            "       BatchNorm2d-2           [-1, 16, 26, 26]              32\n",
            "            Conv2d-3           [-1, 32, 26, 26]           4,640\n",
            "       BatchNorm2d-4           [-1, 32, 26, 26]              64\n",
            "         MaxPool2d-5           [-1, 32, 13, 13]               0\n",
            "           Dropout-6           [-1, 32, 13, 13]               0\n",
            "            Conv2d-7           [-1, 32, 13, 13]           9,248\n",
            "       BatchNorm2d-8           [-1, 32, 13, 13]              64\n",
            "            Conv2d-9           [-1, 32, 13, 13]           9,248\n",
            "      BatchNorm2d-10           [-1, 32, 13, 13]              64\n",
            "        MaxPool2d-11             [-1, 32, 6, 6]               0\n",
            "          Dropout-12             [-1, 32, 6, 6]               0\n",
            "           Conv2d-13             [-1, 10, 6, 6]             330\n",
            "        AvgPool2d-14             [-1, 10, 1, 1]               0\n",
            "================================================================\n",
            "Total params: 24,106\n",
            "Trainable params: 24,106\n",
            "Non-trainable params: 0\n",
            "----------------------------------------------------------------\n",
            "Input size (MB): 0.00\n",
            "Forward/backward pass size (MB): 0.76\n",
            "Params size (MB): 0.09\n",
            "Estimated Total Size (MB): 0.86\n",
            "----------------------------------------------------------------\n"
          ]
        },
        {
          "output_type": "stream",
          "name": "stderr",
          "text": [
            "<ipython-input-37-92086ff8eae6>:75: UserWarning: Implicit dimension choice for log_softmax has been deprecated. Change the call to include dim=X as an argument.\n",
            "  return F.log_softmax(x)\n"
          ]
        }
      ]
    },
    {
      "cell_type": "code",
      "metadata": {
        "id": "DqTWLaM5GHgH"
      },
      "source": [
        "\n",
        "\n",
        "torch.manual_seed(1)\n",
        "# batch_size = 128\n",
        "batch_size = 64\n",
        "\n",
        "kwargs = {'num_workers': 1, 'pin_memory': True} if use_cuda else {}\n",
        "train_loader = torch.utils.data.DataLoader(\n",
        "    datasets.MNIST('../data', train=True, download=True,\n",
        "                    transform=transforms.Compose([\n",
        "                        transforms.ToTensor(),\n",
        "                        transforms.Normalize((0.1307,), (0.3081,))\n",
        "                    ])),\n",
        "    batch_size=batch_size, shuffle=True, **kwargs)\n",
        "test_loader = torch.utils.data.DataLoader(\n",
        "    datasets.MNIST('../data', train=False, transform=transforms.Compose([\n",
        "                        transforms.ToTensor(),\n",
        "                        transforms.Normalize((0.1307,), (0.3081,))\n",
        "                    ])),\n",
        "    batch_size=batch_size, shuffle=True, **kwargs)\n"
      ],
      "execution_count": 35,
      "outputs": []
    },
    {
      "cell_type": "code",
      "metadata": {
        "id": "8fDefDhaFlwH"
      },
      "source": [
        "from tqdm import tqdm\n",
        "def train(model, device, train_loader, optimizer, epoch):\n",
        "    model.train()\n",
        "    pbar = tqdm(train_loader)\n",
        "    for batch_idx, (data, target) in enumerate(pbar):\n",
        "        data, target = data.to(device), target.to(device)\n",
        "        optimizer.zero_grad()\n",
        "        output = model(data)\n",
        "        loss = F.nll_loss(output, target)\n",
        "        loss.backward()\n",
        "        optimizer.step()\n",
        "        pbar.set_description(desc= f'loss={loss.item()} batch_id={batch_idx}')\n",
        "\n",
        "\n",
        "def test(model, device, test_loader):\n",
        "    model.eval()\n",
        "    test_loss = 0\n",
        "    correct = 0\n",
        "    with torch.no_grad():\n",
        "        for data, target in test_loader:\n",
        "            data, target = data.to(device), target.to(device)\n",
        "            output = model(data)\n",
        "            test_loss += F.nll_loss(output, target, reduction='sum').item()  # sum up batch loss\n",
        "            pred = output.argmax(dim=1, keepdim=True)  # get the index of the max log-probability\n",
        "            correct += pred.eq(target.view_as(pred)).sum().item()\n",
        "\n",
        "    test_loss /= len(test_loader.dataset)\n",
        "\n",
        "    print('\\nTest set: Average loss: {:.4f}, Accuracy: {}/{} ({:.2f}%)\\n'.format(\n",
        "        test_loss, correct, len(test_loader.dataset),\n",
        "        100. * correct / len(test_loader.dataset)))"
      ],
      "execution_count": 11,
      "outputs": []
    },
    {
      "cell_type": "code",
      "metadata": {
        "id": "MMWbLWO6FuHb",
        "colab": {
          "base_uri": "https://localhost:8080/"
        },
        "outputId": "19af81fa-b897-4259-d4a3-7e5c4fb44ff9"
      },
      "source": [
        "\n",
        "model = Net().to(device)\n",
        "optimizer = optim.SGD(model.parameters(), lr=0.01, momentum=0.9)\n",
        "\n",
        "for epoch in range(1, 16):\n",
        "  print(f'Epoch : {epoch}')\n",
        "  train(model, device, train_loader, optimizer, epoch)\n",
        "  test(model, device, test_loader)"
      ],
      "execution_count": 39,
      "outputs": [
        {
          "output_type": "stream",
          "name": "stdout",
          "text": [
            "Epoch : 1\n"
          ]
        },
        {
          "output_type": "stream",
          "name": "stderr",
          "text": [
            "  0%|          | 0/938 [00:00<?, ?it/s]<ipython-input-37-92086ff8eae6>:75: UserWarning: Implicit dimension choice for log_softmax has been deprecated. Change the call to include dim=X as an argument.\n",
            "  return F.log_softmax(x)\n",
            "loss=0.06260082125663757 batch_id=937: 100%|██████████| 938/938 [00:19<00:00, 47.74it/s]\n"
          ]
        },
        {
          "output_type": "stream",
          "name": "stdout",
          "text": [
            "\n",
            "Test set: Average loss: 0.0511, Accuracy: 9845/10000 (98.45%)\n",
            "\n",
            "Epoch : 3\n"
          ]
        },
        {
          "output_type": "stream",
          "name": "stderr",
          "text": [
            "loss=0.007980444468557835 batch_id=937: 100%|██████████| 938/938 [00:19<00:00, 48.23it/s]\n"
          ]
        },
        {
          "output_type": "stream",
          "name": "stdout",
          "text": [
            "\n",
            "Test set: Average loss: 0.0410, Accuracy: 9863/10000 (98.63%)\n",
            "\n",
            "Epoch : 4\n"
          ]
        },
        {
          "output_type": "stream",
          "name": "stderr",
          "text": [
            "loss=0.01333051547408104 batch_id=937: 100%|██████████| 938/938 [00:19<00:00, 49.01it/s]\n"
          ]
        },
        {
          "output_type": "stream",
          "name": "stdout",
          "text": [
            "\n",
            "Test set: Average loss: 0.0332, Accuracy: 9897/10000 (98.97%)\n",
            "\n",
            "Epoch : 5\n"
          ]
        },
        {
          "output_type": "stream",
          "name": "stderr",
          "text": [
            "loss=0.18547262251377106 batch_id=937: 100%|██████████| 938/938 [00:19<00:00, 48.70it/s]\n"
          ]
        },
        {
          "output_type": "stream",
          "name": "stdout",
          "text": [
            "\n",
            "Test set: Average loss: 0.0288, Accuracy: 9900/10000 (99.00%)\n",
            "\n",
            "Epoch : 6\n"
          ]
        },
        {
          "output_type": "stream",
          "name": "stderr",
          "text": [
            "loss=0.1717425137758255 batch_id=937: 100%|██████████| 938/938 [00:18<00:00, 49.38it/s]\n"
          ]
        },
        {
          "output_type": "stream",
          "name": "stdout",
          "text": [
            "\n",
            "Test set: Average loss: 0.0281, Accuracy: 9911/10000 (99.11%)\n",
            "\n",
            "Epoch : 7\n"
          ]
        },
        {
          "output_type": "stream",
          "name": "stderr",
          "text": [
            "loss=0.0009817607933655381 batch_id=937: 100%|██████████| 938/938 [00:19<00:00, 47.40it/s]\n"
          ]
        },
        {
          "output_type": "stream",
          "name": "stdout",
          "text": [
            "\n",
            "Test set: Average loss: 0.0284, Accuracy: 9896/10000 (98.96%)\n",
            "\n",
            "Epoch : 8\n"
          ]
        },
        {
          "output_type": "stream",
          "name": "stderr",
          "text": [
            "loss=0.056328967213630676 batch_id=937: 100%|██████████| 938/938 [00:19<00:00, 47.50it/s]\n"
          ]
        },
        {
          "output_type": "stream",
          "name": "stdout",
          "text": [
            "\n",
            "Test set: Average loss: 0.0256, Accuracy: 9908/10000 (99.08%)\n",
            "\n",
            "Epoch : 9\n"
          ]
        },
        {
          "output_type": "stream",
          "name": "stderr",
          "text": [
            "loss=0.04417440667748451 batch_id=937: 100%|██████████| 938/938 [00:19<00:00, 46.98it/s]\n"
          ]
        },
        {
          "output_type": "stream",
          "name": "stdout",
          "text": [
            "\n",
            "Test set: Average loss: 0.0230, Accuracy: 9929/10000 (99.29%)\n",
            "\n",
            "Epoch : 10\n"
          ]
        },
        {
          "output_type": "stream",
          "name": "stderr",
          "text": [
            "loss=0.009675173088908195 batch_id=937: 100%|██████████| 938/938 [00:21<00:00, 43.66it/s]\n"
          ]
        },
        {
          "output_type": "stream",
          "name": "stdout",
          "text": [
            "\n",
            "Test set: Average loss: 0.0232, Accuracy: 9919/10000 (99.19%)\n",
            "\n",
            "Epoch : 11\n"
          ]
        },
        {
          "output_type": "stream",
          "name": "stderr",
          "text": [
            "loss=0.19452378153800964 batch_id=937: 100%|██████████| 938/938 [00:20<00:00, 45.97it/s]\n"
          ]
        },
        {
          "output_type": "stream",
          "name": "stdout",
          "text": [
            "\n",
            "Test set: Average loss: 0.0242, Accuracy: 9921/10000 (99.21%)\n",
            "\n",
            "Epoch : 12\n"
          ]
        },
        {
          "output_type": "stream",
          "name": "stderr",
          "text": [
            "loss=0.0008558155968785286 batch_id=937: 100%|██████████| 938/938 [00:19<00:00, 47.70it/s]\n"
          ]
        },
        {
          "output_type": "stream",
          "name": "stdout",
          "text": [
            "\n",
            "Test set: Average loss: 0.0174, Accuracy: 9943/10000 (99.43%)\n",
            "\n",
            "Epoch : 13\n"
          ]
        },
        {
          "output_type": "stream",
          "name": "stderr",
          "text": [
            "loss=0.002773743122816086 batch_id=937: 100%|██████████| 938/938 [00:19<00:00, 47.25it/s]\n"
          ]
        },
        {
          "output_type": "stream",
          "name": "stdout",
          "text": [
            "\n",
            "Test set: Average loss: 0.0221, Accuracy: 9916/10000 (99.16%)\n",
            "\n",
            "Epoch : 14\n"
          ]
        },
        {
          "output_type": "stream",
          "name": "stderr",
          "text": [
            "loss=0.012122740969061852 batch_id=937: 100%|██████████| 938/938 [00:20<00:00, 44.81it/s]\n"
          ]
        },
        {
          "output_type": "stream",
          "name": "stdout",
          "text": [
            "\n",
            "Test set: Average loss: 0.0177, Accuracy: 9937/10000 (99.37%)\n",
            "\n",
            "Epoch : 15\n"
          ]
        },
        {
          "output_type": "stream",
          "name": "stderr",
          "text": [
            "loss=0.0011852189199998975 batch_id=937: 100%|██████████| 938/938 [00:19<00:00, 47.13it/s]\n"
          ]
        },
        {
          "output_type": "stream",
          "name": "stdout",
          "text": [
            "\n",
            "Test set: Average loss: 0.0234, Accuracy: 9929/10000 (99.29%)\n",
            "\n"
          ]
        }
      ]
    },
    {
      "cell_type": "code",
      "metadata": {
        "id": "So5uk4EkHW6R"
      },
      "source": [],
      "execution_count": 6,
      "outputs": []
    }
  ]
}