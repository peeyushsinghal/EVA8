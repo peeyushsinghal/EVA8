{
  "nbformat": 4,
  "nbformat_minor": 0,
  "metadata": {
    "colab": {
      "provenance": [],
      "toc_visible": true,
      "authorship_tag": "ABX9TyNPEM5r1uMO7cwhG1Gy5FPS",
      "include_colab_link": true
    },
    "kernelspec": {
      "name": "python3",
      "display_name": "Python 3"
    },
    "language_info": {
      "name": "python"
    },
    "accelerator": "GPU",
    "gpuClass": "standard"
  },
  "cells": [
    {
      "cell_type": "markdown",
      "metadata": {
        "id": "view-in-github",
        "colab_type": "text"
      },
      "source": [
        "<a href=\"https://colab.research.google.com/github/peeyushsinghal/EVA8/blob/main/S4-Assignment-Solution/EVA8_S4_Experiment6.ipynb\" target=\"_parent\"><img src=\"https://colab.research.google.com/assets/colab-badge.svg\" alt=\"Open In Colab\"/></a>"
      ]
    },
    {
      "cell_type": "markdown",
      "source": [
        "# Objective / Target of Experiment 6\n",
        "**Objective / Target**\n",
        "* Increase accuracy\n",
        "* Find other ways, may be transformation to prop up the accuarcy, trying transformation \n",
        "\n",
        "**Results**\n",
        "\n",
        "* Parameters: 9,990\n",
        "* Best Train Accuracy: 99.09 %\n",
        "* Best Test Accuracy: 99.40%\n",
        "\n",
        "**Analysis**\n",
        "\n",
        "* Able to hit the accuracy mark\n",
        "* Overfitting (train - test accuracy) < 0 is largely containted, model underfits (Target not achieved)\n",
        "* LR has played its role to move up the accuracy\n",
        "* Number of params < 10K\n",
        "* learning removed drop out and relu near the output block\n",
        "\n",
        "**Next Steps**\n",
        "\n",
        "* submit?\n"
      ],
      "metadata": {
        "id": "y1FTBU_m-bRm"
      }
    },
    {
      "cell_type": "markdown",
      "source": [
        "# Importing Libraries"
      ],
      "metadata": {
        "id": "xcGwRKr5_lZw"
      }
    },
    {
      "cell_type": "code",
      "execution_count": 1,
      "metadata": {
        "colab": {
          "base_uri": "https://localhost:8080/"
        },
        "id": "D6yRS8Pc-GUk",
        "outputId": "3d3cc163-65e9-4ec3-f10d-995d84447b79"
      },
      "outputs": [
        {
          "output_type": "stream",
          "name": "stdout",
          "text": [
            "Looking in indexes: https://pypi.org/simple, https://us-python.pkg.dev/colab-wheels/public/simple/\n",
            "Requirement already satisfied: torchsummary in /usr/local/lib/python3.8/dist-packages (1.5.1)\n"
          ]
        }
      ],
      "source": [
        "import torch\n",
        "from torchvision import datasets,transforms\n",
        "%matplotlib inline\n",
        "import numpy as np\n",
        "import matplotlib.pyplot as plt # for visualizing images\n",
        "import random # for random image index\n",
        "import torch.nn as nn # for network\n",
        "import torch.nn.functional as F # for forward method\n",
        "import torch.optim as optim # for optimizer\n",
        "!pip install torchsummary\n",
        "from torchsummary import summary # for model summary and params\n",
        "from tqdm import tqdm # for beautiful model training updates"
      ]
    },
    {
      "cell_type": "markdown",
      "source": [
        "## Seed and Cuda"
      ],
      "metadata": {
        "id": "S0aDMenbFZMj"
      }
    },
    {
      "cell_type": "code",
      "source": [
        "# check for cuda\n",
        "cuda = torch.cuda.is_available()\n",
        "print (f' Cuda Status : {cuda}')\n",
        "\n",
        "# setting seed\n",
        "SEED = 42 # arbit seed, why 42 - because in hitch hikers guide to galaxy it is answer to everything\n",
        "# torch.cuda.seed(SEED) \n",
        "torch.cuda.manual_seed_all(SEED) if cuda else torch.manual_seed(SEED)"
      ],
      "metadata": {
        "colab": {
          "base_uri": "https://localhost:8080/"
        },
        "id": "Y9TiFsydFcRz",
        "outputId": "35895a75-7745-4557-af9b-3439cc70e798"
      },
      "execution_count": 2,
      "outputs": [
        {
          "output_type": "stream",
          "name": "stdout",
          "text": [
            " Cuda Status : True\n"
          ]
        }
      ]
    },
    {
      "cell_type": "markdown",
      "source": [
        "# Data Transformations"
      ],
      "metadata": {
        "id": "kgga8EeQFB_r"
      }
    },
    {
      "cell_type": "code",
      "source": [
        "# Train Phase transformations\n",
        "train_transforms = transforms.Compose([\n",
        "                                      #  transforms.Resize((28, 28)),\n",
        "                                      #  transforms.ColorJitter(brightness=0.10, contrast=0.1, saturation=0.10, hue=0.1),\n",
        "                                       transforms.RandomRotation((-7.0, 7.0), fill=(1,)),\n",
        "                                       transforms.ToTensor(), # converts to tesnor\n",
        "                                       transforms.Normalize((0.1307,), (0.3081,)) # The mean and std have to be sequences (e.g., tuples), therefore you should add a comma after the values. \n",
        "                                       # Note the difference between (0.1307) and (0.1307,)\n",
        "                                       ])\n",
        "\n",
        "# Test Phase transformations\n",
        "test_transforms = transforms.Compose([\n",
        "                                      #  transforms.Resize((28, 28)),\n",
        "                                      #  transforms.ColorJitter(brightness=0.10, contrast=0.1, saturation=0.10, hue=0.1),\n",
        "                                       transforms.ToTensor(),# converts to tesnor\n",
        "                                       transforms.Normalize((0.1307,), (0.3081,))\n",
        "                                       ])\n"
      ],
      "metadata": {
        "id": "nrRWWXKsFBn7"
      },
      "execution_count": 3,
      "outputs": []
    },
    {
      "cell_type": "markdown",
      "source": [
        "# Dataset and Creating Train / Test Split"
      ],
      "metadata": {
        "id": "YvKkBT1KFIc9"
      }
    },
    {
      "cell_type": "code",
      "source": [
        "train = datasets.MNIST('./data', # directory where data needs to be stored\n",
        "                       train=True, # get the training portion of the dataset\n",
        "                       download=True, # downloads\n",
        "                       transform=train_transforms)\n",
        "test = datasets.MNIST('./data', \n",
        "                      train=False, \n",
        "                      download=True, \n",
        "                      transform=test_transforms)"
      ],
      "metadata": {
        "id": "TdSmKv7XFNAY"
      },
      "execution_count": 4,
      "outputs": []
    },
    {
      "cell_type": "markdown",
      "source": [
        "## Data Loader"
      ],
      "metadata": {
        "id": "b0mo-0V2GBUH"
      }
    },
    {
      "cell_type": "code",
      "source": [
        "dataloader_args = dict(shuffle=True, batch_size=128, num_workers=4, pin_memory = True) if cuda else dict(shuffle=True, batch_size=64)\n",
        "\n",
        "train_loader = torch.utils.data.DataLoader(\n",
        "    dataset=train,# train dataset\n",
        "    **dataloader_args # the dataloader arguments change dependent on cuda is available or not\n",
        "    )\n",
        "\n",
        "test_loader = torch.utils.data.DataLoader(\n",
        "    dataset = test,# test dataset \n",
        "    **dataloader_args # the dataloader arguments change dependent on cuda is available or not\n",
        ")"
      ],
      "metadata": {
        "colab": {
          "base_uri": "https://localhost:8080/"
        },
        "id": "YFW6q5hWGDrb",
        "outputId": "0e01781a-12d3-4d92-a191-d577899a1baa"
      },
      "execution_count": 5,
      "outputs": [
        {
          "output_type": "stream",
          "name": "stderr",
          "text": [
            "/usr/local/lib/python3.8/dist-packages/torch/utils/data/dataloader.py:554: UserWarning: This DataLoader will create 4 worker processes in total. Our suggested max number of worker in current system is 2, which is smaller than what this DataLoader is going to create. Please be aware that excessive worker creation might get DataLoader running slow or even freeze, lower the worker number to avoid potential slowness/freeze if necessary.\n",
            "  warnings.warn(_create_warning_msg(\n"
          ]
        }
      ]
    },
    {
      "cell_type": "markdown",
      "source": [
        "## Checking Dataloader"
      ],
      "metadata": {
        "id": "nR15hQnnGPuD"
      }
    },
    {
      "cell_type": "code",
      "source": [
        "images, labels  = next(iter(train_loader))\n",
        "print(images.shape)\n",
        "print(labels.shape)\n",
        "# printing random image and seeing\n",
        "plt.imshow(images[random.randint(0,len(images))].numpy().squeeze(), cmap='gray_r')"
      ],
      "metadata": {
        "colab": {
          "base_uri": "https://localhost:8080/",
          "height": 317
        },
        "id": "FjuqXyw9GTDv",
        "outputId": "a0540f20-7308-4a3b-ccc7-6e3bb9f25253"
      },
      "execution_count": 6,
      "outputs": [
        {
          "output_type": "stream",
          "name": "stdout",
          "text": [
            "torch.Size([128, 1, 28, 28])\n",
            "torch.Size([128])\n"
          ]
        },
        {
          "output_type": "execute_result",
          "data": {
            "text/plain": [
              "<matplotlib.image.AxesImage at 0x7fe0bea3ad00>"
            ]
          },
          "metadata": {},
          "execution_count": 6
        },
        {
          "output_type": "display_data",
          "data": {
            "text/plain": [
              "<Figure size 432x288 with 1 Axes>"
            ],
            "image/png": "[encoded data removed]"
          },
          "metadata": {
            "needs_background": "light"
          }
        }
      ]
    },
    {
      "cell_type": "code",
      "source": [
        "# Looking at more images\n",
        "figure = plt.figure()\n",
        "for index in range(1, len(images) + 1): # assumption: batch size would be atleast 8\n",
        "    plt.subplot(8, int(len(images)/8), index)\n",
        "    plt.axis('off')\n",
        "    plt.imshow(images[index-1].numpy().squeeze(), cmap='gray_r')"
      ],
      "metadata": {
        "colab": {
          "base_uri": "https://localhost:8080/",
          "height": 243
        },
        "id": "yT5FD4C5Gbc1",
        "outputId": "43eb3689-e097-4b9b-d1e3-a71c6f385d5b"
      },
      "execution_count": 7,
      "outputs": [
        {
          "output_type": "display_data",
          "data": {
            "text/plain": [
              "<Figure size 432x288 with 128 Axes>"
            ],
            "image/png": "[encoded data removed]"
          },
          "metadata": {
            "needs_background": "light"
          }
        }
      ]
    },
    {
      "cell_type": "markdown",
      "source": [
        "# Model"
      ],
      "metadata": {
        "id": "VNOv81RVGrgO"
      }
    },
    {
      "cell_type": "code",
      "source": [
        "class Network(nn.Module):\n",
        "  def __init__(self):\n",
        "    super(Network,self).__init__() # extending super class method\n",
        "    \n",
        "    drop_out_value = 0.1\n",
        "\n",
        "    # Input Block\n",
        "    self.convblock1 = nn.Sequential(\n",
        "        nn.Conv2d(1,18,3 , bias= False ), # In- 1x28x28, Out- 16x26x26, RF- 3x3, Jump_in -1, Jump_out -1\n",
        "        nn.ReLU(),\n",
        "        nn.BatchNorm2d(18),# affine=False),\n",
        "        nn.Dropout(drop_out_value)\n",
        "    ) \n",
        "\n",
        "    # Conv Block 2\n",
        "    self.convblock2 = nn.Sequential(\n",
        "        nn.Conv2d(18,16,3, bias= False ), # In- 16x26x26, Out- 16x24x24, RF- 5x5, Jump_in -1, Jump_out -1\n",
        "        nn.ReLU(),\n",
        "        nn.BatchNorm2d(16),# affine=False),\n",
        "        nn.Dropout(drop_out_value)\n",
        "    ) \n",
        "\n",
        "    # Conv Block 3\n",
        "    self.convblock3 = nn.Sequential(\n",
        "        nn.Conv2d(16,16,3, bias= False ), # In- 16x24x24, Out- 16x22x22, RF- 7x7, Jump_in -1, Jump_out -1\n",
        "        nn.ReLU(),\n",
        "        nn.BatchNorm2d(16),# affine=False),\n",
        "        nn.Dropout(drop_out_value)\n",
        "    ) \n",
        "\n",
        "    # Transition Block 1 (this also includes a conv block)\n",
        "    self.pool1 = nn.MaxPool2d(kernel_size=2, stride=2) # In- 16x22x22, Out- 16x11x11, RF- 8x8, Jump_in -1, Jump_out -2\n",
        "    # self.convblock4 = nn.Sequential(\n",
        "    #     nn.Conv2d(32,16,1), # In- 32x12x12, Out- 16x12x12, RF- 8x8, Jump_in -2, Jump_out -2\n",
        "    #     nn.ReLU(),\n",
        "    #     nn.BatchNorm2d(16),\n",
        "    #     nn.Dropout(drop_out_value)\n",
        "    # ) \n",
        "\n",
        "    # Conv Block 5\n",
        "    self.convblock5 = nn.Sequential(\n",
        "        nn.Conv2d(16,16,3, bias= False ), # In- 16x11x11, Out- 16x9x9, RF- 12x12, Jump_in -2, Jump_out -2\n",
        "        nn.ReLU(),\n",
        "        nn.BatchNorm2d(16),# affine=False),\n",
        "        nn.Dropout(drop_out_value)\n",
        "    ) \n",
        "\n",
        "    # Conv Block 6\n",
        "    self.convblock6 = nn.Sequential(\n",
        "        nn.Conv2d(16,16,3, bias= False ), # In- 16x9x9, Out- 16x7x7, RF- 16x16, Jump_in -2, Jump_out -2\n",
        "        nn.ReLU(),\n",
        "        nn.BatchNorm2d(16),# affine=False),\n",
        "        nn.Dropout(drop_out_value)\n",
        "    ) \n",
        "\n",
        "    # Output Block\n",
        "    self.convblock7 = nn.Sequential(\n",
        "        nn.Conv2d(16,10,1, bias= False ), # In- 16x7x7, Out- 10x7x7, RF- 16x16, Jump_in -2, Jump_out -2\n",
        "        # nn.ReLU()\n",
        "        # ,\n",
        "        # nn.BatchNorm2d(10, affine=True),\n",
        "        # nn.Dropout(drop_out_value)\n",
        "    ) \n",
        "\n",
        "    self.gap = nn.AvgPool2d(7) # In- 10x7x7, Out- 10x1x1, RF- 16x16, Jump_in -2, Jump_out -2\n",
        "\n",
        "  \n",
        "  def forward(self,x):\n",
        "\n",
        "    x = self.convblock1(x)\n",
        "    x = self.convblock2(x)\n",
        "    x = self.convblock3(x)\n",
        "\n",
        "    x = self.pool1(x)\n",
        "    # x = self.convblock4(x)\n",
        "    x = self.convblock5(x)\n",
        "    x = self.convblock6(x)\n",
        "\n",
        "    x = self.convblock7(x)\n",
        "\n",
        "    x = self.gap(x)\n",
        "\n",
        "    # Flattening\n",
        "    x = x.view(-1,10)\n",
        "    return F.log_softmax(x,dim=-1)\n",
        "\n",
        "# model = Network()\n",
        "# print(model)"
      ],
      "metadata": {
        "id": "9_JHChueh7I5"
      },
      "execution_count": 8,
      "outputs": []
    },
    {
      "cell_type": "markdown",
      "source": [
        "## Model Params"
      ],
      "metadata": {
        "id": "1QSCWlFoM5nf"
      }
    },
    {
      "cell_type": "code",
      "source": [
        "device = torch.device(\"cuda\" if cuda else \"cpu\")\n",
        "print(device)\n",
        "model = Network().to(device)\n",
        "# print(model)\n",
        "summary(model, input_size=(1, 28, 28))"
      ],
      "metadata": {
        "colab": {
          "base_uri": "https://localhost:8080/"
        },
        "id": "37ziIa80M8-3",
        "outputId": "d33c0c01-2759-45be-bda9-eb820c89a70e"
      },
      "execution_count": 9,
      "outputs": [
        {
          "output_type": "stream",
          "name": "stdout",
          "text": [
            "cuda\n",
            "----------------------------------------------------------------\n",
            "        Layer (type)               Output Shape         Param #\n",
            "================================================================\n",
            "            Conv2d-1           [-1, 18, 26, 26]             162\n",
            "              ReLU-2           [-1, 18, 26, 26]               0\n",
            "       BatchNorm2d-3           [-1, 18, 26, 26]              36\n",
            "           Dropout-4           [-1, 18, 26, 26]               0\n",
            "            Conv2d-5           [-1, 16, 24, 24]           2,592\n",
            "              ReLU-6           [-1, 16, 24, 24]               0\n",
            "       BatchNorm2d-7           [-1, 16, 24, 24]              32\n",
            "           Dropout-8           [-1, 16, 24, 24]               0\n",
            "            Conv2d-9           [-1, 16, 22, 22]           2,304\n",
            "             ReLU-10           [-1, 16, 22, 22]               0\n",
            "      BatchNorm2d-11           [-1, 16, 22, 22]              32\n",
            "          Dropout-12           [-1, 16, 22, 22]               0\n",
            "        MaxPool2d-13           [-1, 16, 11, 11]               0\n",
            "           Conv2d-14             [-1, 16, 9, 9]           2,304\n",
            "             ReLU-15             [-1, 16, 9, 9]               0\n",
            "      BatchNorm2d-16             [-1, 16, 9, 9]              32\n",
            "          Dropout-17             [-1, 16, 9, 9]               0\n",
            "           Conv2d-18             [-1, 16, 7, 7]           2,304\n",
            "             ReLU-19             [-1, 16, 7, 7]               0\n",
            "      BatchNorm2d-20             [-1, 16, 7, 7]              32\n",
            "          Dropout-21             [-1, 16, 7, 7]               0\n",
            "           Conv2d-22             [-1, 10, 7, 7]             160\n",
            "        AvgPool2d-23             [-1, 10, 1, 1]               0\n",
            "================================================================\n",
            "Total params: 9,990\n",
            "Trainable params: 9,990\n",
            "Non-trainable params: 0\n",
            "----------------------------------------------------------------\n",
            "Input size (MB): 0.00\n",
            "Forward/backward pass size (MB): 0.97\n",
            "Params size (MB): 0.04\n",
            "Estimated Total Size (MB): 1.01\n",
            "----------------------------------------------------------------\n"
          ]
        }
      ]
    },
    {
      "cell_type": "markdown",
      "source": [
        "# Training and Testing"
      ],
      "metadata": {
        "id": "BriahAKX-Qsh"
      }
    },
    {
      "cell_type": "markdown",
      "source": [
        "## Training"
      ],
      "metadata": {
        "id": "dzH_OJiKNOAw"
      }
    },
    {
      "cell_type": "code",
      "source": [
        "# Training Function\n",
        "train_losses = [] # to capture train losses over training epochs\n",
        "train_accuracy = [] # to capture train accuracy over training epochs\n",
        "\n",
        "def train(model,device, train_loader,optimizer,epoch):\n",
        "  model.train() # setting the model in training mode\n",
        "  pbar = tqdm(train_loader) # putting the iterator in pbar\n",
        "  correct = 0 # for accuracy numerator\n",
        "  processed =0 # for accuracy denominator\n",
        "\n",
        "  for batch_idx, (images,labels) in enumerate(pbar):\n",
        "    images, labels = images.to(device),labels.to(device)#sending data to CPU or GPU as per device\n",
        "    optimizer.zero_grad() # setting gradients to zero to avoid accumulation\n",
        "\n",
        "    y_preds = model(images) # forward pass, result captured in y_preds (plural as there are many images in a batch)\n",
        "    # the predictions are in one hot vector\n",
        "\n",
        "    loss = F.nll_loss(y_preds,labels) # capturing loss\n",
        "    train_losses.append(loss) # to capture loss over many epochs\n",
        "\n",
        "    loss.backward() # backpropagation\n",
        "    optimizer.step() # updating the params\n",
        "\n",
        "    preds = y_preds.argmax(dim=1, keepdim=True)  # get the index of the max log-probability\n",
        "    correct += preds.eq(labels.view_as(preds)).sum().item()\n",
        "    processed += len(images)\n",
        "\n",
        "    pbar.set_description(desc= f'Loss={loss.item()} Batch_id={batch_idx} Accuracy={100*correct/processed:0.2f}%')\n",
        "    train_accuracy.append(100*correct/processed)\n"
      ],
      "metadata": {
        "id": "fP5jiQtaNPyB"
      },
      "execution_count": 10,
      "outputs": []
    },
    {
      "cell_type": "markdown",
      "source": [
        "## Test"
      ],
      "metadata": {
        "id": "eGDQpa3ANTZa"
      }
    },
    {
      "cell_type": "code",
      "source": [
        "# Test Function\n",
        "test_losses = [] # to capture test losses \n",
        "test_accuracy = [] # to capture test accuracy \n",
        "\n",
        "def test(model,device, test_loader):\n",
        "  model.eval() # setting the model in evaluation mode\n",
        "  test_loss = 0\n",
        "  avg_epoch_test_loss =[]\n",
        "  correct = 0 # for accuracy numerator\n",
        "\n",
        "  with torch.no_grad():\n",
        "    for (images,labels) in test_loader:\n",
        "      images, labels = images.to(device),labels.to(device)#sending data to CPU or GPU as per device\n",
        "      outputs = model(images) # forward pass, result captured in outputs (plural as there are many images in a batch)\n",
        "      # the outputs are in batch size x one hot vector \n",
        "\n",
        "      test_loss = F.nll_loss(outputs,labels, reduction='sum').item()  # sum up batch loss\n",
        "      preds = outputs.argmax(dim=1, keepdim=True)  # get the index of the max log-probability\n",
        "      correct += preds.eq(labels.view_as(preds)).sum().item()\n",
        "\n",
        "    test_loss /= len(test_loader.dataset) # average test loss\n",
        "    test_losses.append(test_loss) # to capture loss over many batches\n",
        "    avg_epoch_test_loss.append(test_loss)\n",
        "\n",
        "    print('\\nTest set: Average loss: {:.4f}, Accuracy: {}/{} ({:.2f}%)\\n'.format(\n",
        "    test_loss, correct, len(test_loader.dataset),\n",
        "    100. * correct / len(test_loader.dataset)))\n",
        "\n",
        "    test_accuracy.append(100*correct/len(test_loader.dataset))\n",
        "  return float(\"{:.4f}\".format(np.average(avg_epoch_test_loss)))\n"
      ],
      "metadata": {
        "id": "WXtm0lh_NR2H"
      },
      "execution_count": 11,
      "outputs": []
    },
    {
      "cell_type": "markdown",
      "source": [
        "## Execution"
      ],
      "metadata": {
        "id": "YRnRZ72PNbf3"
      }
    },
    {
      "cell_type": "code",
      "source": [
        "\n",
        "## Weight initialization\n",
        "\n",
        "def weights_init(m):\n",
        "    if isinstance(m, nn.Conv1d):\n",
        "      nn.init.xavier_normal_(m.weight)\n"
      ],
      "metadata": {
        "id": "v3XZP8zQ3QlO"
      },
      "execution_count": 12,
      "outputs": []
    },
    {
      "cell_type": "code",
      "source": [
        "model =  Network().to(device)\n",
        "model.apply(weights_init)\n",
        "optimizer = optim.SGD(model.parameters(), lr=0.3, momentum=0.9)\n",
        "# optimizer = optim.Adam(model.parameters(), lr=0.3)\n",
        "# scheduler = torch.optim.lr_scheduler.ReduceLROnPlateau(optimizer, mode='min', factor=0.1, patience=10, threshold=0.0001, threshold_mode='rel', cooldown=0, min_lr=0, eps=1e-08)\n",
        "# LR_GAMMA = 0.5\n",
        "from torch.optim.lr_scheduler import StepLR,ReduceLROnPlateau,ExponentialLR\n",
        "# scheduler = StepLR(optimizer, step_size=4, gamma=0.1)\n",
        "scheduler = ReduceLROnPlateau(optimizer, factor = 0.1, patience = 2, threshold =  0.0002)\n",
        "# scheduler = ExponentialLR (optimizer, gamma =0.3)\n",
        "\n",
        "\n",
        "EPOCHS = 15\n",
        "for epoch in range(EPOCHS):\n",
        "    print(\"EPOCH:\", epoch+1 , \"Current LR : \", optimizer.param_groups[0]['lr'])\n",
        "    train(model, device, train_loader, optimizer, epoch)\n",
        "    curr_lr = optimizer.param_groups[0]['lr']\n",
        "    # print(f'current learning rate :', curr_lr)\n",
        "    val_loss = test(model, device, test_loader)\n",
        "    # print(f'current learning rate :{curr_lr} and val_loss is {val_loss}')\n",
        "    scheduler.step(val_loss)\n",
        "    # if epoch > 5:\n",
        "    #   optimizer = optim.SGD(model.parameters(), lr=curr_lr*LR_GAMMA, momentum=0.9)\n",
        "\n",
        "\n",
        "    "
      ],
      "metadata": {
        "colab": {
          "base_uri": "https://localhost:8080/"
        },
        "id": "mk4SGOYlNYgi",
        "outputId": "bfeea1b6-5694-429f-8fd8-7e0ff0645de8"
      },
      "execution_count": 13,
      "outputs": [
        {
          "output_type": "stream",
          "name": "stdout",
          "text": [
            "EPOCH: 1 Current LR :  0.3\n"
          ]
        },
        {
          "output_type": "stream",
          "name": "stderr",
          "text": [
            "Loss=0.10644754767417908 Batch_id=468 Accuracy=93.64%: 100%|██████████| 469/469 [00:22<00:00, 20.92it/s]\n"
          ]
        },
        {
          "output_type": "stream",
          "name": "stdout",
          "text": [
            "\n",
            "Test set: Average loss: 0.0001, Accuracy: 9766/10000 (97.66%)\n",
            "\n",
            "EPOCH: 2 Current LR :  0.3\n"
          ]
        },
        {
          "output_type": "stream",
          "name": "stderr",
          "text": [
            "Loss=0.14965273439884186 Batch_id=468 Accuracy=97.55%: 100%|██████████| 469/469 [00:19<00:00, 23.99it/s]\n"
          ]
        },
        {
          "output_type": "stream",
          "name": "stdout",
          "text": [
            "\n",
            "Test set: Average loss: 0.0002, Accuracy: 9844/10000 (98.44%)\n",
            "\n",
            "EPOCH: 3 Current LR :  0.3\n"
          ]
        },
        {
          "output_type": "stream",
          "name": "stderr",
          "text": [
            "Loss=0.035614918917417526 Batch_id=468 Accuracy=97.91%: 100%|██████████| 469/469 [00:17<00:00, 26.53it/s]\n"
          ]
        },
        {
          "output_type": "stream",
          "name": "stdout",
          "text": [
            "\n",
            "Test set: Average loss: 0.0000, Accuracy: 9870/10000 (98.70%)\n",
            "\n",
            "EPOCH: 4 Current LR :  0.3\n"
          ]
        },
        {
          "output_type": "stream",
          "name": "stderr",
          "text": [
            "Loss=0.04652277007699013 Batch_id=468 Accuracy=98.30%: 100%|██████████| 469/469 [00:17<00:00, 26.56it/s]\n"
          ]
        },
        {
          "output_type": "stream",
          "name": "stdout",
          "text": [
            "\n",
            "Test set: Average loss: 0.0000, Accuracy: 9897/10000 (98.97%)\n",
            "\n",
            "EPOCH: 5 Current LR :  0.3\n"
          ]
        },
        {
          "output_type": "stream",
          "name": "stderr",
          "text": [
            "Loss=0.01109070610255003 Batch_id=468 Accuracy=98.42%: 100%|██████████| 469/469 [00:17<00:00, 26.28it/s]\n"
          ]
        },
        {
          "output_type": "stream",
          "name": "stdout",
          "text": [
            "\n",
            "Test set: Average loss: 0.0000, Accuracy: 9889/10000 (98.89%)\n",
            "\n",
            "EPOCH: 6 Current LR :  0.3\n"
          ]
        },
        {
          "output_type": "stream",
          "name": "stderr",
          "text": [
            "Loss=0.06665831804275513 Batch_id=468 Accuracy=98.48%: 100%|██████████| 469/469 [00:20<00:00, 23.21it/s]\n"
          ]
        },
        {
          "output_type": "stream",
          "name": "stdout",
          "text": [
            "\n",
            "Test set: Average loss: 0.0000, Accuracy: 9909/10000 (99.09%)\n",
            "\n",
            "EPOCH: 7 Current LR :  0.03\n"
          ]
        },
        {
          "output_type": "stream",
          "name": "stderr",
          "text": [
            "Loss=0.02167128212749958 Batch_id=468 Accuracy=98.93%: 100%|██████████| 469/469 [00:17<00:00, 26.36it/s]\n"
          ]
        },
        {
          "output_type": "stream",
          "name": "stdout",
          "text": [
            "\n",
            "Test set: Average loss: 0.0000, Accuracy: 9935/10000 (99.35%)\n",
            "\n",
            "EPOCH: 8 Current LR :  0.03\n"
          ]
        },
        {
          "output_type": "stream",
          "name": "stderr",
          "text": [
            "Loss=0.013599633239209652 Batch_id=468 Accuracy=99.00%: 100%|██████████| 469/469 [00:18<00:00, 25.99it/s]\n"
          ]
        },
        {
          "output_type": "stream",
          "name": "stdout",
          "text": [
            "\n",
            "Test set: Average loss: 0.0000, Accuracy: 9930/10000 (99.30%)\n",
            "\n",
            "EPOCH: 9 Current LR :  0.03\n"
          ]
        },
        {
          "output_type": "stream",
          "name": "stderr",
          "text": [
            "Loss=0.01501383539289236 Batch_id=468 Accuracy=99.06%: 100%|██████████| 469/469 [00:18<00:00, 25.98it/s]\n"
          ]
        },
        {
          "output_type": "stream",
          "name": "stdout",
          "text": [
            "\n",
            "Test set: Average loss: 0.0000, Accuracy: 9937/10000 (99.37%)\n",
            "\n",
            "EPOCH: 10 Current LR :  0.003\n"
          ]
        },
        {
          "output_type": "stream",
          "name": "stderr",
          "text": [
            "Loss=0.008904797025024891 Batch_id=468 Accuracy=99.07%: 100%|██████████| 469/469 [00:17<00:00, 26.18it/s]\n"
          ]
        },
        {
          "output_type": "stream",
          "name": "stdout",
          "text": [
            "\n",
            "Test set: Average loss: 0.0000, Accuracy: 9937/10000 (99.37%)\n",
            "\n",
            "EPOCH: 11 Current LR :  0.003\n"
          ]
        },
        {
          "output_type": "stream",
          "name": "stderr",
          "text": [
            "Loss=0.08447793126106262 Batch_id=468 Accuracy=99.06%: 100%|██████████| 469/469 [00:22<00:00, 21.29it/s]\n"
          ]
        },
        {
          "output_type": "stream",
          "name": "stdout",
          "text": [
            "\n",
            "Test set: Average loss: 0.0000, Accuracy: 9937/10000 (99.37%)\n",
            "\n",
            "EPOCH: 12 Current LR :  0.003\n"
          ]
        },
        {
          "output_type": "stream",
          "name": "stderr",
          "text": [
            "Loss=0.012359040789306164 Batch_id=468 Accuracy=99.08%: 100%|██████████| 469/469 [00:22<00:00, 20.83it/s]\n"
          ]
        },
        {
          "output_type": "stream",
          "name": "stdout",
          "text": [
            "\n",
            "Test set: Average loss: 0.0000, Accuracy: 9938/10000 (99.38%)\n",
            "\n",
            "EPOCH: 13 Current LR :  0.00030000000000000003\n"
          ]
        },
        {
          "output_type": "stream",
          "name": "stderr",
          "text": [
            "Loss=0.03222749009728432 Batch_id=468 Accuracy=99.09%: 100%|██████████| 469/469 [00:18<00:00, 25.92it/s]\n"
          ]
        },
        {
          "output_type": "stream",
          "name": "stdout",
          "text": [
            "\n",
            "Test set: Average loss: 0.0000, Accuracy: 9934/10000 (99.34%)\n",
            "\n",
            "EPOCH: 14 Current LR :  0.00030000000000000003\n"
          ]
        },
        {
          "output_type": "stream",
          "name": "stderr",
          "text": [
            "Loss=0.02700795978307724 Batch_id=468 Accuracy=99.05%: 100%|██████████| 469/469 [00:18<00:00, 26.04it/s]\n"
          ]
        },
        {
          "output_type": "stream",
          "name": "stdout",
          "text": [
            "\n",
            "Test set: Average loss: 0.0000, Accuracy: 9940/10000 (99.40%)\n",
            "\n",
            "EPOCH: 15 Current LR :  0.00030000000000000003\n"
          ]
        },
        {
          "output_type": "stream",
          "name": "stderr",
          "text": [
            "Loss=0.04552222788333893 Batch_id=468 Accuracy=99.04%: 100%|██████████| 469/469 [00:18<00:00, 25.81it/s]\n"
          ]
        },
        {
          "output_type": "stream",
          "name": "stdout",
          "text": [
            "\n",
            "Test set: Average loss: 0.0000, Accuracy: 9938/10000 (99.38%)\n",
            "\n"
          ]
        }
      ]
    },
    {
      "cell_type": "code",
      "source": [
        "fig, axs = plt.subplots(2,2,figsize=(15,10))\n",
        "# axs[0, 0].plot(train_losses)\n",
        "axs[0, 0].plot([t.cpu().item() for t in train_losses])\n",
        "axs[0, 0].set_title(\"Training Loss\")\n",
        "axs[1, 0].plot(train_accuracy)\n",
        "axs[1, 0].set_title(\"Training Accuracy\")\n",
        "axs[0, 1].plot(test_losses)\n",
        "axs[0, 1].set_title(\"Test Loss\")\n",
        "axs[1, 1].plot(test_accuracy)\n",
        "axs[1, 1].set_title(\"Test Accuracy\")"
      ],
      "metadata": {
        "colab": {
          "base_uri": "https://localhost:8080/",
          "height": 624
        },
        "id": "O7Q7ISLiNfXz",
        "outputId": "887afc71-c83c-44bf-8bb8-11e7f6e09f06"
      },
      "execution_count": 14,
      "outputs": [
        {
          "output_type": "execute_result",
          "data": {
            "text/plain": [
              "Text(0.5, 1.0, 'Test Accuracy')"
            ]
          },
          "metadata": {},
          "execution_count": 14
        },
        {
          "output_type": "display_data",
          "data": {
            "text/plain": [
              "<Figure size 1080x720 with 4 Axes>"
            ],
            "image/png": "[encoded data removed]"
          },
          "metadata": {
            "needs_background": "light"
          }
        }
      ]
    },
    {
      "cell_type": "code",
      "source": [],
      "metadata": {
        "id": "X96_E1N8Pg85"
      },
      "execution_count": 14,
      "outputs": []
    }
  ]
}