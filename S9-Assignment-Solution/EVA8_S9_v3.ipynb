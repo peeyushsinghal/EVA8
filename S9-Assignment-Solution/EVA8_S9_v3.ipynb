{
  "nbformat": 4,
  "nbformat_minor": 0,
  "metadata": {
    "colab": {
      "provenance": [],
      "authorship_tag": "ABX9TyNKEnui2qBwrmWjNuJoY4rf",
      "include_colab_link": true
    },
    "kernelspec": {
      "name": "python3",
      "display_name": "Python 3"
    },
    "language_info": {
      "name": "python"
    },
    "gpuClass": "standard",
    "accelerator": "GPU",
    "widgets": {
      "application/vnd.jupyter.widget-state+json": {
        "1a0b21ea9ba54686ac013232609e8892": {
          "model_module": "@jupyter-widgets/controls",
          "model_name": "HBoxModel",
          "model_module_version": "1.5.0",
          "state": {
            "_dom_classes": [],
            "_model_module": "@jupyter-widgets/controls",
            "_model_module_version": "1.5.0",
            "_model_name": "HBoxModel",
            "_view_count": null,
            "_view_module": "@jupyter-widgets/controls",
            "_view_module_version": "1.5.0",
            "_view_name": "HBoxView",
            "box_style": "",
            "children": [
              "IPY_MODEL_835a96fb74dc428d87a0c1950a6f0e9a",
              "IPY_MODEL_b4d4198d17704261953cc476d5a9b060",
              "IPY_MODEL_a4f99b144311451f9818b036ba1a09d0"
            ],
            "layout": "IPY_MODEL_c658f98d49324c5dafa0a8ea42e2b7f9"
          }
        },
        "835a96fb74dc428d87a0c1950a6f0e9a": {
          "model_module": "@jupyter-widgets/controls",
          "model_name": "HTMLModel",
          "model_module_version": "1.5.0",
          "state": {
            "_dom_classes": [],
            "_model_module": "@jupyter-widgets/controls",
            "_model_module_version": "1.5.0",
            "_model_name": "HTMLModel",
            "_view_count": null,
            "_view_module": "@jupyter-widgets/controls",
            "_view_module_version": "1.5.0",
            "_view_name": "HTMLView",
            "description": "",
            "description_tooltip": null,
            "layout": "IPY_MODEL_176ff9276bd94b9aa1d6f0fbb01206f6",
            "placeholder": "​",
            "style": "IPY_MODEL_5a0fd047af00400d8f68ccc92fe3ffde",
            "value": "100%"
          }
        },
        "b4d4198d17704261953cc476d5a9b060": {
          "model_module": "@jupyter-widgets/controls",
          "model_name": "FloatProgressModel",
          "model_module_version": "1.5.0",
          "state": {
            "_dom_classes": [],
            "_model_module": "@jupyter-widgets/controls",
            "_model_module_version": "1.5.0",
            "_model_name": "FloatProgressModel",
            "_view_count": null,
            "_view_module": "@jupyter-widgets/controls",
            "_view_module_version": "1.5.0",
            "_view_name": "ProgressView",
            "bar_style": "success",
            "description": "",
            "description_tooltip": null,
            "layout": "IPY_MODEL_51cd86faeb6c47998b4b72792e63e0c8",
            "max": 170498071,
            "min": 0,
            "orientation": "horizontal",
            "style": "IPY_MODEL_1c7be0ce8508457c8b75103170b92c54",
            "value": 170498071
          }
        },
        "a4f99b144311451f9818b036ba1a09d0": {
          "model_module": "@jupyter-widgets/controls",
          "model_name": "HTMLModel",
          "model_module_version": "1.5.0",
          "state": {
            "_dom_classes": [],
            "_model_module": "@jupyter-widgets/controls",
            "_model_module_version": "1.5.0",
            "_model_name": "HTMLModel",
            "_view_count": null,
            "_view_module": "@jupyter-widgets/controls",
            "_view_module_version": "1.5.0",
            "_view_name": "HTMLView",
            "description": "",
            "description_tooltip": null,
            "layout": "IPY_MODEL_63b4e23054f94b41ac70c8de5edf0780",
            "placeholder": "​",
            "style": "IPY_MODEL_cdb795472d6f41928e05c2b5228a9e48",
            "value": " 170498071/170498071 [00:02&lt;00:00, 88870641.16it/s]"
          }
        },
        "c658f98d49324c5dafa0a8ea42e2b7f9": {
          "model_module": "@jupyter-widgets/base",
          "model_name": "LayoutModel",
          "model_module_version": "1.2.0",
          "state": {
            "_model_module": "@jupyter-widgets/base",
            "_model_module_version": "1.2.0",
            "_model_name": "LayoutModel",
            "_view_count": null,
            "_view_module": "@jupyter-widgets/base",
            "_view_module_version": "1.2.0",
            "_view_name": "LayoutView",
            "align_content": null,
            "align_items": null,
            "align_self": null,
            "border": null,
            "bottom": null,
            "display": null,
            "flex": null,
            "flex_flow": null,
            "grid_area": null,
            "grid_auto_columns": null,
            "grid_auto_flow": null,
            "grid_auto_rows": null,
            "grid_column": null,
            "grid_gap": null,
            "grid_row": null,
            "grid_template_areas": null,
            "grid_template_columns": null,
            "grid_template_rows": null,
            "height": null,
            "justify_content": null,
            "justify_items": null,
            "left": null,
            "margin": null,
            "max_height": null,
            "max_width": null,
            "min_height": null,
            "min_width": null,
            "object_fit": null,
            "object_position": null,
            "order": null,
            "overflow": null,
            "overflow_x": null,
            "overflow_y": null,
            "padding": null,
            "right": null,
            "top": null,
            "visibility": null,
            "width": null
          }
        },
        "176ff9276bd94b9aa1d6f0fbb01206f6": {
          "model_module": "@jupyter-widgets/base",
          "model_name": "LayoutModel",
          "model_module_version": "1.2.0",
          "state": {
            "_model_module": "@jupyter-widgets/base",
            "_model_module_version": "1.2.0",
            "_model_name": "LayoutModel",
            "_view_count": null,
            "_view_module": "@jupyter-widgets/base",
            "_view_module_version": "1.2.0",
            "_view_name": "LayoutView",
            "align_content": null,
            "align_items": null,
            "align_self": null,
            "border": null,
            "bottom": null,
            "display": null,
            "flex": null,
            "flex_flow": null,
            "grid_area": null,
            "grid_auto_columns": null,
            "grid_auto_flow": null,
            "grid_auto_rows": null,
            "grid_column": null,
            "grid_gap": null,
            "grid_row": null,
            "grid_template_areas": null,
            "grid_template_columns": null,
            "grid_template_rows": null,
            "height": null,
            "justify_content": null,
            "justify_items": null,
            "left": null,
            "margin": null,
            "max_height": null,
            "max_width": null,
            "min_height": null,
            "min_width": null,
            "object_fit": null,
            "object_position": null,
            "order": null,
            "overflow": null,
            "overflow_x": null,
            "overflow_y": null,
            "padding": null,
            "right": null,
            "top": null,
            "visibility": null,
            "width": null
          }
        },
        "5a0fd047af00400d8f68ccc92fe3ffde": {
          "model_module": "@jupyter-widgets/controls",
          "model_name": "DescriptionStyleModel",
          "model_module_version": "1.5.0",
          "state": {
            "_model_module": "@jupyter-widgets/controls",
            "_model_module_version": "1.5.0",
            "_model_name": "DescriptionStyleModel",
            "_view_count": null,
            "_view_module": "@jupyter-widgets/base",
            "_view_module_version": "1.2.0",
            "_view_name": "StyleView",
            "description_width": ""
          }
        },
        "51cd86faeb6c47998b4b72792e63e0c8": {
          "model_module": "@jupyter-widgets/base",
          "model_name": "LayoutModel",
          "model_module_version": "1.2.0",
          "state": {
            "_model_module": "@jupyter-widgets/base",
            "_model_module_version": "1.2.0",
            "_model_name": "LayoutModel",
            "_view_count": null,
            "_view_module": "@jupyter-widgets/base",
            "_view_module_version": "1.2.0",
            "_view_name": "LayoutView",
            "align_content": null,
            "align_items": null,
            "align_self": null,
            "border": null,
            "bottom": null,
            "display": null,
            "flex": null,
            "flex_flow": null,
            "grid_area": null,
            "grid_auto_columns": null,
            "grid_auto_flow": null,
            "grid_auto_rows": null,
            "grid_column": null,
            "grid_gap": null,
            "grid_row": null,
            "grid_template_areas": null,
            "grid_template_columns": null,
            "grid_template_rows": null,
            "height": null,
            "justify_content": null,
            "justify_items": null,
            "left": null,
            "margin": null,
            "max_height": null,
            "max_width": null,
            "min_height": null,
            "min_width": null,
            "object_fit": null,
            "object_position": null,
            "order": null,
            "overflow": null,
            "overflow_x": null,
            "overflow_y": null,
            "padding": null,
            "right": null,
            "top": null,
            "visibility": null,
            "width": null
          }
        },
        "1c7be0ce8508457c8b75103170b92c54": {
          "model_module": "@jupyter-widgets/controls",
          "model_name": "ProgressStyleModel",
          "model_module_version": "1.5.0",
          "state": {
            "_model_module": "@jupyter-widgets/controls",
            "_model_module_version": "1.5.0",
            "_model_name": "ProgressStyleModel",
            "_view_count": null,
            "_view_module": "@jupyter-widgets/base",
            "_view_module_version": "1.2.0",
            "_view_name": "StyleView",
            "bar_color": null,
            "description_width": ""
          }
        },
        "63b4e23054f94b41ac70c8de5edf0780": {
          "model_module": "@jupyter-widgets/base",
          "model_name": "LayoutModel",
          "model_module_version": "1.2.0",
          "state": {
            "_model_module": "@jupyter-widgets/base",
            "_model_module_version": "1.2.0",
            "_model_name": "LayoutModel",
            "_view_count": null,
            "_view_module": "@jupyter-widgets/base",
            "_view_module_version": "1.2.0",
            "_view_name": "LayoutView",
            "align_content": null,
            "align_items": null,
            "align_self": null,
            "border": null,
            "bottom": null,
            "display": null,
            "flex": null,
            "flex_flow": null,
            "grid_area": null,
            "grid_auto_columns": null,
            "grid_auto_flow": null,
            "grid_auto_rows": null,
            "grid_column": null,
            "grid_gap": null,
            "grid_row": null,
            "grid_template_areas": null,
            "grid_template_columns": null,
            "grid_template_rows": null,
            "height": null,
            "justify_content": null,
            "justify_items": null,
            "left": null,
            "margin": null,
            "max_height": null,
            "max_width": null,
            "min_height": null,
            "min_width": null,
            "object_fit": null,
            "object_position": null,
            "order": null,
            "overflow": null,
            "overflow_x": null,
            "overflow_y": null,
            "padding": null,
            "right": null,
            "top": null,
            "visibility": null,
            "width": null
          }
        },
        "cdb795472d6f41928e05c2b5228a9e48": {
          "model_module": "@jupyter-widgets/controls",
          "model_name": "DescriptionStyleModel",
          "model_module_version": "1.5.0",
          "state": {
            "_model_module": "@jupyter-widgets/controls",
            "_model_module_version": "1.5.0",
            "_model_name": "DescriptionStyleModel",
            "_view_count": null,
            "_view_module": "@jupyter-widgets/base",
            "_view_module_version": "1.2.0",
            "_view_name": "StyleView",
            "description_width": ""
          }
        },
        "c6e54fc690804a53a3b10a90fb9fd421": {
          "model_module": "@jupyter-widgets/controls",
          "model_name": "HBoxModel",
          "model_module_version": "1.5.0",
          "state": {
            "_dom_classes": [],
            "_model_module": "@jupyter-widgets/controls",
            "_model_module_version": "1.5.0",
            "_model_name": "HBoxModel",
            "_view_count": null,
            "_view_module": "@jupyter-widgets/controls",
            "_view_module_version": "1.5.0",
            "_view_name": "HBoxView",
            "box_style": "",
            "children": [
              "IPY_MODEL_2f4ed8228add4f0ab3783e6ec7d1a685",
              "IPY_MODEL_9ecb1cba800a4f488d56202805d7ab58",
              "IPY_MODEL_ce31766b08c2468ab3eacfe09c34d811"
            ],
            "layout": "IPY_MODEL_f46e2fd3c04949b8b2cfe96b9898cb9e"
          }
        },
        "2f4ed8228add4f0ab3783e6ec7d1a685": {
          "model_module": "@jupyter-widgets/controls",
          "model_name": "HTMLModel",
          "model_module_version": "1.5.0",
          "state": {
            "_dom_classes": [],
            "_model_module": "@jupyter-widgets/controls",
            "_model_module_version": "1.5.0",
            "_model_name": "HTMLModel",
            "_view_count": null,
            "_view_module": "@jupyter-widgets/controls",
            "_view_module_version": "1.5.0",
            "_view_name": "HTMLView",
            "description": "",
            "description_tooltip": null,
            "layout": "IPY_MODEL_6caca1a0463c41deaa4ea247c8c3d378",
            "placeholder": "​",
            "style": "IPY_MODEL_0cfe7f85f9e84479a2ce24915d308c9b",
            "value": "100%"
          }
        },
        "9ecb1cba800a4f488d56202805d7ab58": {
          "model_module": "@jupyter-widgets/controls",
          "model_name": "FloatProgressModel",
          "model_module_version": "1.5.0",
          "state": {
            "_dom_classes": [],
            "_model_module": "@jupyter-widgets/controls",
            "_model_module_version": "1.5.0",
            "_model_name": "FloatProgressModel",
            "_view_count": null,
            "_view_module": "@jupyter-widgets/controls",
            "_view_module_version": "1.5.0",
            "_view_name": "ProgressView",
            "bar_style": "success",
            "description": "",
            "description_tooltip": null,
            "layout": "IPY_MODEL_8af18512af754313a21845a3908eec22",
            "max": 170498071,
            "min": 0,
            "orientation": "horizontal",
            "style": "IPY_MODEL_f0e546fcfdb84053b12452e2a8d39b5c",
            "value": 170498071
          }
        },
        "ce31766b08c2468ab3eacfe09c34d811": {
          "model_module": "@jupyter-widgets/controls",
          "model_name": "HTMLModel",
          "model_module_version": "1.5.0",
          "state": {
            "_dom_classes": [],
            "_model_module": "@jupyter-widgets/controls",
            "_model_module_version": "1.5.0",
            "_model_name": "HTMLModel",
            "_view_count": null,
            "_view_module": "@jupyter-widgets/controls",
            "_view_module_version": "1.5.0",
            "_view_name": "HTMLView",
            "description": "",
            "description_tooltip": null,
            "layout": "IPY_MODEL_444b7b1ee71a4b5f9407ee3f8ef82393",
            "placeholder": "​",
            "style": "IPY_MODEL_12a9f14fabd54dfdbd4a0342416cbc68",
            "value": " 170498071/170498071 [00:02&lt;00:00, 64824614.02it/s]"
          }
        },
        "f46e2fd3c04949b8b2cfe96b9898cb9e": {
          "model_module": "@jupyter-widgets/base",
          "model_name": "LayoutModel",
          "model_module_version": "1.2.0",
          "state": {
            "_model_module": "@jupyter-widgets/base",
            "_model_module_version": "1.2.0",
            "_model_name": "LayoutModel",
            "_view_count": null,
            "_view_module": "@jupyter-widgets/base",
            "_view_module_version": "1.2.0",
            "_view_name": "LayoutView",
            "align_content": null,
            "align_items": null,
            "align_self": null,
            "border": null,
            "bottom": null,
            "display": null,
            "flex": null,
            "flex_flow": null,
            "grid_area": null,
            "grid_auto_columns": null,
            "grid_auto_flow": null,
            "grid_auto_rows": null,
            "grid_column": null,
            "grid_gap": null,
            "grid_row": null,
            "grid_template_areas": null,
            "grid_template_columns": null,
            "grid_template_rows": null,
            "height": null,
            "justify_content": null,
            "justify_items": null,
            "left": null,
            "margin": null,
            "max_height": null,
            "max_width": null,
            "min_height": null,
            "min_width": null,
            "object_fit": null,
            "object_position": null,
            "order": null,
            "overflow": null,
            "overflow_x": null,
            "overflow_y": null,
            "padding": null,
            "right": null,
            "top": null,
            "visibility": null,
            "width": null
          }
        },
        "6caca1a0463c41deaa4ea247c8c3d378": {
          "model_module": "@jupyter-widgets/base",
          "model_name": "LayoutModel",
          "model_module_version": "1.2.0",
          "state": {
            "_model_module": "@jupyter-widgets/base",
            "_model_module_version": "1.2.0",
            "_model_name": "LayoutModel",
            "_view_count": null,
            "_view_module": "@jupyter-widgets/base",
            "_view_module_version": "1.2.0",
            "_view_name": "LayoutView",
            "align_content": null,
            "align_items": null,
            "align_self": null,
            "border": null,
            "bottom": null,
            "display": null,
            "flex": null,
            "flex_flow": null,
            "grid_area": null,
            "grid_auto_columns": null,
            "grid_auto_flow": null,
            "grid_auto_rows": null,
            "grid_column": null,
            "grid_gap": null,
            "grid_row": null,
            "grid_template_areas": null,
            "grid_template_columns": null,
            "grid_template_rows": null,
            "height": null,
            "justify_content": null,
            "justify_items": null,
            "left": null,
            "margin": null,
            "max_height": null,
            "max_width": null,
            "min_height": null,
            "min_width": null,
            "object_fit": null,
            "object_position": null,
            "order": null,
            "overflow": null,
            "overflow_x": null,
            "overflow_y": null,
            "padding": null,
            "right": null,
            "top": null,
            "visibility": null,
            "width": null
          }
        },
        "0cfe7f85f9e84479a2ce24915d308c9b": {
          "model_module": "@jupyter-widgets/controls",
          "model_name": "DescriptionStyleModel",
          "model_module_version": "1.5.0",
          "state": {
            "_model_module": "@jupyter-widgets/controls",
            "_model_module_version": "1.5.0",
            "_model_name": "DescriptionStyleModel",
            "_view_count": null,
            "_view_module": "@jupyter-widgets/base",
            "_view_module_version": "1.2.0",
            "_view_name": "StyleView",
            "description_width": ""
          }
        },
        "8af18512af754313a21845a3908eec22": {
          "model_module": "@jupyter-widgets/base",
          "model_name": "LayoutModel",
          "model_module_version": "1.2.0",
          "state": {
            "_model_module": "@jupyter-widgets/base",
            "_model_module_version": "1.2.0",
            "_model_name": "LayoutModel",
            "_view_count": null,
            "_view_module": "@jupyter-widgets/base",
            "_view_module_version": "1.2.0",
            "_view_name": "LayoutView",
            "align_content": null,
            "align_items": null,
            "align_self": null,
            "border": null,
            "bottom": null,
            "display": null,
            "flex": null,
            "flex_flow": null,
            "grid_area": null,
            "grid_auto_columns": null,
            "grid_auto_flow": null,
            "grid_auto_rows": null,
            "grid_column": null,
            "grid_gap": null,
            "grid_row": null,
            "grid_template_areas": null,
            "grid_template_columns": null,
            "grid_template_rows": null,
            "height": null,
            "justify_content": null,
            "justify_items": null,
            "left": null,
            "margin": null,
            "max_height": null,
            "max_width": null,
            "min_height": null,
            "min_width": null,
            "object_fit": null,
            "object_position": null,
            "order": null,
            "overflow": null,
            "overflow_x": null,
            "overflow_y": null,
            "padding": null,
            "right": null,
            "top": null,
            "visibility": null,
            "width": null
          }
        },
        "f0e546fcfdb84053b12452e2a8d39b5c": {
          "model_module": "@jupyter-widgets/controls",
          "model_name": "ProgressStyleModel",
          "model_module_version": "1.5.0",
          "state": {
            "_model_module": "@jupyter-widgets/controls",
            "_model_module_version": "1.5.0",
            "_model_name": "ProgressStyleModel",
            "_view_count": null,
            "_view_module": "@jupyter-widgets/base",
            "_view_module_version": "1.2.0",
            "_view_name": "StyleView",
            "bar_color": null,
            "description_width": ""
          }
        },
        "444b7b1ee71a4b5f9407ee3f8ef82393": {
          "model_module": "@jupyter-widgets/base",
          "model_name": "LayoutModel",
          "model_module_version": "1.2.0",
          "state": {
            "_model_module": "@jupyter-widgets/base",
            "_model_module_version": "1.2.0",
            "_model_name": "LayoutModel",
            "_view_count": null,
            "_view_module": "@jupyter-widgets/base",
            "_view_module_version": "1.2.0",
            "_view_name": "LayoutView",
            "align_content": null,
            "align_items": null,
            "align_self": null,
            "border": null,
            "bottom": null,
            "display": null,
            "flex": null,
            "flex_flow": null,
            "grid_area": null,
            "grid_auto_columns": null,
            "grid_auto_flow": null,
            "grid_auto_rows": null,
            "grid_column": null,
            "grid_gap": null,
            "grid_row": null,
            "grid_template_areas": null,
            "grid_template_columns": null,
            "grid_template_rows": null,
            "height": null,
            "justify_content": null,
            "justify_items": null,
            "left": null,
            "margin": null,
            "max_height": null,
            "max_width": null,
            "min_height": null,
            "min_width": null,
            "object_fit": null,
            "object_position": null,
            "order": null,
            "overflow": null,
            "overflow_x": null,
            "overflow_y": null,
            "padding": null,
            "right": null,
            "top": null,
            "visibility": null,
            "width": null
          }
        },
        "12a9f14fabd54dfdbd4a0342416cbc68": {
          "model_module": "@jupyter-widgets/controls",
          "model_name": "DescriptionStyleModel",
          "model_module_version": "1.5.0",
          "state": {
            "_model_module": "@jupyter-widgets/controls",
            "_model_module_version": "1.5.0",
            "_model_name": "DescriptionStyleModel",
            "_view_count": null,
            "_view_module": "@jupyter-widgets/base",
            "_view_module_version": "1.2.0",
            "_view_name": "StyleView",
            "description_width": ""
          }
        },
        "4885268a231d46a5988edaeff67b3f9e": {
          "model_module": "@jupyter-widgets/controls",
          "model_name": "HBoxModel",
          "model_module_version": "1.5.0",
          "state": {
            "_dom_classes": [],
            "_model_module": "@jupyter-widgets/controls",
            "_model_module_version": "1.5.0",
            "_model_name": "HBoxModel",
            "_view_count": null,
            "_view_module": "@jupyter-widgets/controls",
            "_view_module_version": "1.5.0",
            "_view_name": "HBoxView",
            "box_style": "",
            "children": [
              "IPY_MODEL_2d43febc26d74c008496c74636dd1a83",
              "IPY_MODEL_da76d899d0e54b74b3fb225f80b2707e",
              "IPY_MODEL_b39c4198a3994991af16ac4cc545335d"
            ],
            "layout": "IPY_MODEL_bbeb96539f7e468ea42c9724572792ab"
          }
        },
        "2d43febc26d74c008496c74636dd1a83": {
          "model_module": "@jupyter-widgets/controls",
          "model_name": "HTMLModel",
          "model_module_version": "1.5.0",
          "state": {
            "_dom_classes": [],
            "_model_module": "@jupyter-widgets/controls",
            "_model_module_version": "1.5.0",
            "_model_name": "HTMLModel",
            "_view_count": null,
            "_view_module": "@jupyter-widgets/controls",
            "_view_module_version": "1.5.0",
            "_view_name": "HTMLView",
            "description": "",
            "description_tooltip": null,
            "layout": "IPY_MODEL_a119b5d65127470bbc96d839b4c56db9",
            "placeholder": "​",
            "style": "IPY_MODEL_0395a6b6876145ddb29e668642e7750f",
            "value": "100%"
          }
        },
        "da76d899d0e54b74b3fb225f80b2707e": {
          "model_module": "@jupyter-widgets/controls",
          "model_name": "FloatProgressModel",
          "model_module_version": "1.5.0",
          "state": {
            "_dom_classes": [],
            "_model_module": "@jupyter-widgets/controls",
            "_model_module_version": "1.5.0",
            "_model_name": "FloatProgressModel",
            "_view_count": null,
            "_view_module": "@jupyter-widgets/controls",
            "_view_module_version": "1.5.0",
            "_view_name": "ProgressView",
            "bar_style": "success",
            "description": "",
            "description_tooltip": null,
            "layout": "IPY_MODEL_14b753bb1c8d4c33a301714d6ae52ef3",
            "max": 200,
            "min": 0,
            "orientation": "horizontal",
            "style": "IPY_MODEL_acbf224799c8433299989fc2fd08248c",
            "value": 200
          }
        },
        "b39c4198a3994991af16ac4cc545335d": {
          "model_module": "@jupyter-widgets/controls",
          "model_name": "HTMLModel",
          "model_module_version": "1.5.0",
          "state": {
            "_dom_classes": [],
            "_model_module": "@jupyter-widgets/controls",
            "_model_module_version": "1.5.0",
            "_model_name": "HTMLModel",
            "_view_count": null,
            "_view_module": "@jupyter-widgets/controls",
            "_view_module_version": "1.5.0",
            "_view_name": "HTMLView",
            "description": "",
            "description_tooltip": null,
            "layout": "IPY_MODEL_c7173d0bb26146508d8f44ec27a74b20",
            "placeholder": "​",
            "style": "IPY_MODEL_371072716b034080975263b0276e617c",
            "value": " 200/200 [00:07&lt;00:00, 33.50it/s]"
          }
        },
        "bbeb96539f7e468ea42c9724572792ab": {
          "model_module": "@jupyter-widgets/base",
          "model_name": "LayoutModel",
          "model_module_version": "1.2.0",
          "state": {
            "_model_module": "@jupyter-widgets/base",
            "_model_module_version": "1.2.0",
            "_model_name": "LayoutModel",
            "_view_count": null,
            "_view_module": "@jupyter-widgets/base",
            "_view_module_version": "1.2.0",
            "_view_name": "LayoutView",
            "align_content": null,
            "align_items": null,
            "align_self": null,
            "border": null,
            "bottom": null,
            "display": null,
            "flex": null,
            "flex_flow": null,
            "grid_area": null,
            "grid_auto_columns": null,
            "grid_auto_flow": null,
            "grid_auto_rows": null,
            "grid_column": null,
            "grid_gap": null,
            "grid_row": null,
            "grid_template_areas": null,
            "grid_template_columns": null,
            "grid_template_rows": null,
            "height": null,
            "justify_content": null,
            "justify_items": null,
            "left": null,
            "margin": null,
            "max_height": null,
            "max_width": null,
            "min_height": null,
            "min_width": null,
            "object_fit": null,
            "object_position": null,
            "order": null,
            "overflow": null,
            "overflow_x": null,
            "overflow_y": null,
            "padding": null,
            "right": null,
            "top": null,
            "visibility": null,
            "width": null
          }
        },
        "a119b5d65127470bbc96d839b4c56db9": {
          "model_module": "@jupyter-widgets/base",
          "model_name": "LayoutModel",
          "model_module_version": "1.2.0",
          "state": {
            "_model_module": "@jupyter-widgets/base",
            "_model_module_version": "1.2.0",
            "_model_name": "LayoutModel",
            "_view_count": null,
            "_view_module": "@jupyter-widgets/base",
            "_view_module_version": "1.2.0",
            "_view_name": "LayoutView",
            "align_content": null,
            "align_items": null,
            "align_self": null,
            "border": null,
            "bottom": null,
            "display": null,
            "flex": null,
            "flex_flow": null,
            "grid_area": null,
            "grid_auto_columns": null,
            "grid_auto_flow": null,
            "grid_auto_rows": null,
            "grid_column": null,
            "grid_gap": null,
            "grid_row": null,
            "grid_template_areas": null,
            "grid_template_columns": null,
            "grid_template_rows": null,
            "height": null,
            "justify_content": null,
            "justify_items": null,
            "left": null,
            "margin": null,
            "max_height": null,
            "max_width": null,
            "min_height": null,
            "min_width": null,
            "object_fit": null,
            "object_position": null,
            "order": null,
            "overflow": null,
            "overflow_x": null,
            "overflow_y": null,
            "padding": null,
            "right": null,
            "top": null,
            "visibility": null,
            "width": null
          }
        },
        "0395a6b6876145ddb29e668642e7750f": {
          "model_module": "@jupyter-widgets/controls",
          "model_name": "DescriptionStyleModel",
          "model_module_version": "1.5.0",
          "state": {
            "_model_module": "@jupyter-widgets/controls",
            "_model_module_version": "1.5.0",
            "_model_name": "DescriptionStyleModel",
            "_view_count": null,
            "_view_module": "@jupyter-widgets/base",
            "_view_module_version": "1.2.0",
            "_view_name": "StyleView",
            "description_width": ""
          }
        },
        "14b753bb1c8d4c33a301714d6ae52ef3": {
          "model_module": "@jupyter-widgets/base",
          "model_name": "LayoutModel",
          "model_module_version": "1.2.0",
          "state": {
            "_model_module": "@jupyter-widgets/base",
            "_model_module_version": "1.2.0",
            "_model_name": "LayoutModel",
            "_view_count": null,
            "_view_module": "@jupyter-widgets/base",
            "_view_module_version": "1.2.0",
            "_view_name": "LayoutView",
            "align_content": null,
            "align_items": null,
            "align_self": null,
            "border": null,
            "bottom": null,
            "display": null,
            "flex": null,
            "flex_flow": null,
            "grid_area": null,
            "grid_auto_columns": null,
            "grid_auto_flow": null,
            "grid_auto_rows": null,
            "grid_column": null,
            "grid_gap": null,
            "grid_row": null,
            "grid_template_areas": null,
            "grid_template_columns": null,
            "grid_template_rows": null,
            "height": null,
            "justify_content": null,
            "justify_items": null,
            "left": null,
            "margin": null,
            "max_height": null,
            "max_width": null,
            "min_height": null,
            "min_width": null,
            "object_fit": null,
            "object_position": null,
            "order": null,
            "overflow": null,
            "overflow_x": null,
            "overflow_y": null,
            "padding": null,
            "right": null,
            "top": null,
            "visibility": null,
            "width": null
          }
        },
        "acbf224799c8433299989fc2fd08248c": {
          "model_module": "@jupyter-widgets/controls",
          "model_name": "ProgressStyleModel",
          "model_module_version": "1.5.0",
          "state": {
            "_model_module": "@jupyter-widgets/controls",
            "_model_module_version": "1.5.0",
            "_model_name": "ProgressStyleModel",
            "_view_count": null,
            "_view_module": "@jupyter-widgets/base",
            "_view_module_version": "1.2.0",
            "_view_name": "StyleView",
            "bar_color": null,
            "description_width": ""
          }
        },
        "c7173d0bb26146508d8f44ec27a74b20": {
          "model_module": "@jupyter-widgets/base",
          "model_name": "LayoutModel",
          "model_module_version": "1.2.0",
          "state": {
            "_model_module": "@jupyter-widgets/base",
            "_model_module_version": "1.2.0",
            "_model_name": "LayoutModel",
            "_view_count": null,
            "_view_module": "@jupyter-widgets/base",
            "_view_module_version": "1.2.0",
            "_view_name": "LayoutView",
            "align_content": null,
            "align_items": null,
            "align_self": null,
            "border": null,
            "bottom": null,
            "display": null,
            "flex": null,
            "flex_flow": null,
            "grid_area": null,
            "grid_auto_columns": null,
            "grid_auto_flow": null,
            "grid_auto_rows": null,
            "grid_column": null,
            "grid_gap": null,
            "grid_row": null,
            "grid_template_areas": null,
            "grid_template_columns": null,
            "grid_template_rows": null,
            "height": null,
            "justify_content": null,
            "justify_items": null,
            "left": null,
            "margin": null,
            "max_height": null,
            "max_width": null,
            "min_height": null,
            "min_width": null,
            "object_fit": null,
            "object_position": null,
            "order": null,
            "overflow": null,
            "overflow_x": null,
            "overflow_y": null,
            "padding": null,
            "right": null,
            "top": null,
            "visibility": null,
            "width": null
          }
        },
        "371072716b034080975263b0276e617c": {
          "model_module": "@jupyter-widgets/controls",
          "model_name": "DescriptionStyleModel",
          "model_module_version": "1.5.0",
          "state": {
            "_model_module": "@jupyter-widgets/controls",
            "_model_module_version": "1.5.0",
            "_model_name": "DescriptionStyleModel",
            "_view_count": null,
            "_view_module": "@jupyter-widgets/base",
            "_view_module_version": "1.2.0",
            "_view_name": "StyleView",
            "description_width": ""
          }
        }
      }
    }
  },
  "cells": [
    {
      "cell_type": "markdown",
      "metadata": {
        "id": "view-in-github",
        "colab_type": "text"
      },
      "source": [
        "<a href=\"https://colab.research.google.com/github/peeyushsinghal/EVA8/blob/main/S9-Assignment-Solution/EVA8_S9_v3.ipynb\" target=\"_parent\"><img src=\"https://colab.research.google.com/assets/colab-badge.svg\" alt=\"Open In Colab\"/></a>"
      ]
    },
    {
      "cell_type": "markdown",
      "source": [
        "## Assignment 9:\n",
        "Build the following network\n",
        "\n",
        "1. That takes a CIFAR10 image (32x32x3)\n",
        "2. Add 3 Convolutions to arrive at AxAx48 dimensions (e.g. 32x32x3 | 3x3x3x16 >> 3x3x16x32 >> 3x3x32x48)\n",
        "3. Apply GAP and get 1x1x48, call this X\n",
        "4. Create a block called ULTIMUS that:\n",
        "  - Creates 3 FC layers called K, Q and V such that:\n",
        "    - X\\*K = 48*48x8 > 8\n",
        "    - X\\*Q = 48*48x8 > 8 \n",
        "    - X\\*V = 48*48x8 > 8 \n",
        "  - then create AM = SoftMax(QTK)/(8^0.5) = 8*8 = 8\n",
        "  - then Z = V\\*AM = 8*8 > 8\n",
        "  - then another FC layer called Out that:\n",
        "    - Z\\*Out = 8*8x48 > 48\n",
        "5. Repeat this Ultimus block 4 times\n",
        "6. Then add final FC layer that converts 48 to 10 and sends it to the loss function.\n",
        "7. Model would look like this C>C>C>U>U>U>U>FFC>Loss\n",
        "8. Train the model for 24 epochs using the OCP that I wrote in class. Use ADAM as an optimizer. \n",
        "9. Submit the link and answer the questions on the assignment page:\n",
        "  - Share the link to the main repo (must have Assignment 7/8/9 model7/8/9.py files (or similarly named))\n",
        "  - Share the code of model9.py\n",
        "  - Copy and paste the Training Log\n",
        "  - Copy and paste the training and validation loss chart"
      ],
      "metadata": {
        "id": "MbfVcW8nE0U2"
      }
    },
    {
      "cell_type": "code",
      "source": [
        "!pip install torchinfo -q --quiet\n",
        "!pip install torch_lr_finder -q --quiet"
      ],
      "metadata": {
        "id": "DIUH-BNRFsFf"
      },
      "execution_count": 1,
      "outputs": []
    },
    {
      "cell_type": "code",
      "source": [
        "import warnings\n",
        "warnings.filterwarnings('ignore')"
      ],
      "metadata": {
        "id": "Z2Hx9G50EqPk"
      },
      "execution_count": 2,
      "outputs": []
    },
    {
      "cell_type": "code",
      "execution_count": 3,
      "metadata": {
        "colab": {
          "base_uri": "https://localhost:8080/"
        },
        "id": "-nnrK9jmFxJg",
        "outputId": "8a5ad252-0140-4778-8558-901907e1ee93"
      },
      "outputs": [
        {
          "output_type": "stream",
          "name": "stdout",
          "text": [
            "Cloning into 'pytorch-models-utils'...\n",
            "remote: Enumerating objects: 118, done.\u001b[K\n",
            "remote: Counting objects:   2% (1/40)\u001b[K\rremote: Counting objects:   5% (2/40)\u001b[K\rremote: Counting objects:   7% (3/40)\u001b[K\rremote: Counting objects:  10% (4/40)\u001b[K\rremote: Counting objects:  12% (5/40)\u001b[K\rremote: Counting objects:  15% (6/40)\u001b[K\rremote: Counting objects:  17% (7/40)\u001b[K\rremote: Counting objects:  20% (8/40)\u001b[K\rremote: Counting objects:  22% (9/40)\u001b[K\rremote: Counting objects:  25% (10/40)\u001b[K\rremote: Counting objects:  27% (11/40)\u001b[K\rremote: Counting objects:  30% (12/40)\u001b[K\rremote: Counting objects:  32% (13/40)\u001b[K\rremote: Counting objects:  35% (14/40)\u001b[K\rremote: Counting objects:  37% (15/40)\u001b[K\rremote: Counting objects:  40% (16/40)\u001b[K\rremote: Counting objects:  42% (17/40)\u001b[K\rremote: Counting objects:  45% (18/40)\u001b[K\rremote: Counting objects:  47% (19/40)\u001b[K\rremote: Counting objects:  50% (20/40)\u001b[K\rremote: Counting objects:  52% (21/40)\u001b[K\rremote: Counting objects:  55% (22/40)\u001b[K\rremote: Counting objects:  57% (23/40)\u001b[K\rremote: Counting objects:  60% (24/40)\u001b[K\rremote: Counting objects:  62% (25/40)\u001b[K\rremote: Counting objects:  65% (26/40)\u001b[K\rremote: Counting objects:  67% (27/40)\u001b[K\rremote: Counting objects:  70% (28/40)\u001b[K\rremote: Counting objects:  72% (29/40)\u001b[K\rremote: Counting objects:  75% (30/40)\u001b[K\rremote: Counting objects:  77% (31/40)\u001b[K\rremote: Counting objects:  80% (32/40)\u001b[K\rremote: Counting objects:  82% (33/40)\u001b[K\rremote: Counting objects:  85% (34/40)\u001b[K\rremote: Counting objects:  87% (35/40)\u001b[K\rremote: Counting objects:  90% (36/40)\u001b[K\rremote: Counting objects:  92% (37/40)\u001b[K\rremote: Counting objects:  95% (38/40)\u001b[K\rremote: Counting objects:  97% (39/40)\u001b[K\rremote: Counting objects: 100% (40/40)\u001b[K\rremote: Counting objects: 100% (40/40), done.\u001b[K\n",
            "remote: Compressing objects: 100% (40/40), done.\u001b[K\n",
            "remote: Total 118 (delta 21), reused 0 (delta 0), pack-reused 78\u001b[K\n",
            "Receiving objects: 100% (118/118), 36.65 KiB | 1.36 MiB/s, done.\n",
            "Resolving deltas: 100% (56/56), done.\n"
          ]
        }
      ],
      "source": [
        "#@title importing model, mains, utils\n",
        "!rm -rf ./*\n",
        "!git clone https://github.com/peeyushsinghal/pytorch-models-utils.git\n",
        "!mv pytorch-models-utils/* ./\n",
        "!rm -rf pytorch-models-utils"
      ]
    },
    {
      "cell_type": "code",
      "source": [
        "#@title setting seed and device\n",
        "\n",
        "# loading helper functions\n",
        "from utils.helper import seed_all, get_device, get_mean_std_dev\n",
        "\n",
        "# check for default device\n",
        "\n",
        "device = get_device()\n",
        "print (f' device Status : {device}')"
      ],
      "metadata": {
        "colab": {
          "base_uri": "https://localhost:8080/"
        },
        "id": "nZp6IB4GGbHl",
        "outputId": "a58dd3d0-7b57-4359-84ab-ce2ac0e1094e"
      },
      "execution_count": 4,
      "outputs": [
        {
          "output_type": "stream",
          "name": "stdout",
          "text": [
            " device Status : cuda\n"
          ]
        }
      ]
    },
    {
      "cell_type": "code",
      "source": [
        "## setting seed for reproducibility\n",
        "SEED = 42 # arbit seed, why 42 - because in hitch hikers guide to galaxy it is answer to everything\n",
        "seed_all(SEED)"
      ],
      "metadata": {
        "id": "hDynGDuBGl1q"
      },
      "execution_count": 5,
      "outputs": []
    },
    {
      "cell_type": "code",
      "source": [
        "#@title Preparing Data\n",
        "\n",
        "from utils.helper import get_mean_std_dev\n",
        "\n",
        "# getting mean and standard deviation of CIFAR 10\n",
        "mean,std = get_mean_std_dev('CIFAR10')\n",
        "print (mean, std)"
      ],
      "metadata": {
        "colab": {
          "base_uri": "https://localhost:8080/",
          "height": 101,
          "referenced_widgets": [
            "1a0b21ea9ba54686ac013232609e8892",
            "835a96fb74dc428d87a0c1950a6f0e9a",
            "b4d4198d17704261953cc476d5a9b060",
            "a4f99b144311451f9818b036ba1a09d0",
            "c658f98d49324c5dafa0a8ea42e2b7f9",
            "176ff9276bd94b9aa1d6f0fbb01206f6",
            "5a0fd047af00400d8f68ccc92fe3ffde",
            "51cd86faeb6c47998b4b72792e63e0c8",
            "1c7be0ce8508457c8b75103170b92c54",
            "63b4e23054f94b41ac70c8de5edf0780",
            "cdb795472d6f41928e05c2b5228a9e48"
          ]
        },
        "id": "cTo93IlgGpCq",
        "outputId": "e51ad02e-1a6c-47db-b962-c5130411c25c"
      },
      "execution_count": 6,
      "outputs": [
        {
          "output_type": "stream",
          "name": "stdout",
          "text": [
            "Downloading https://www.cs.toronto.edu/~kriz/cifar-10-python.tar.gz to ./cifar-10-python.tar.gz\n"
          ]
        },
        {
          "output_type": "display_data",
          "data": {
            "text/plain": [
              "  0%|          | 0/170498071 [00:00<?, ?it/s]"
            ],
            "application/vnd.jupyter.widget-view+json": {
              "version_major": 2,
              "version_minor": 0,
              "model_id": "1a0b21ea9ba54686ac013232609e8892"
            }
          },
          "metadata": {}
        },
        {
          "output_type": "stream",
          "name": "stdout",
          "text": [
            "Extracting ./cifar-10-python.tar.gz to ./\n",
            "(0.4913996786152028, 0.4821584083946074, 0.4465309144454644) (0.24703223246328238, 0.2434851280000556, 0.26158784172796423)\n"
          ]
        }
      ]
    },
    {
      "cell_type": "code",
      "source": [
        "#@title applying transformations\n",
        "from utils.transforms import apply_transforms_resnet\n",
        "\n",
        "# reusing the resnet transforms for this too\n",
        "train_transforms, test_transforms = apply_transforms_resnet(mean,std)"
      ],
      "metadata": {
        "id": "4qwcsZIQGsQy"
      },
      "execution_count": 7,
      "outputs": []
    },
    {
      "cell_type": "code",
      "source": [
        "#@title Train and Test Data\n",
        "\n",
        "from torchvision import datasets\n",
        "\n",
        "trainset = datasets.CIFAR10(root='./data', train=True,\n",
        "                                        download=True, transform=train_transforms)\n",
        "\n",
        "testset = datasets.CIFAR10(root='./data', train=False,\n",
        "                                       download=True, transform=test_transforms)\n"
      ],
      "metadata": {
        "colab": {
          "base_uri": "https://localhost:8080/",
          "height": 101,
          "referenced_widgets": [
            "c6e54fc690804a53a3b10a90fb9fd421",
            "2f4ed8228add4f0ab3783e6ec7d1a685",
            "9ecb1cba800a4f488d56202805d7ab58",
            "ce31766b08c2468ab3eacfe09c34d811",
            "f46e2fd3c04949b8b2cfe96b9898cb9e",
            "6caca1a0463c41deaa4ea247c8c3d378",
            "0cfe7f85f9e84479a2ce24915d308c9b",
            "8af18512af754313a21845a3908eec22",
            "f0e546fcfdb84053b12452e2a8d39b5c",
            "444b7b1ee71a4b5f9407ee3f8ef82393",
            "12a9f14fabd54dfdbd4a0342416cbc68"
          ]
        },
        "id": "Zv94-JRV3gex",
        "outputId": "689a8c00-87e5-4bef-b549-36d06b079c4f"
      },
      "execution_count": 8,
      "outputs": [
        {
          "output_type": "stream",
          "name": "stdout",
          "text": [
            "Downloading https://www.cs.toronto.edu/~kriz/cifar-10-python.tar.gz to ./data/cifar-10-python.tar.gz\n"
          ]
        },
        {
          "output_type": "display_data",
          "data": {
            "text/plain": [
              "  0%|          | 0/170498071 [00:00<?, ?it/s]"
            ],
            "application/vnd.jupyter.widget-view+json": {
              "version_major": 2,
              "version_minor": 0,
              "model_id": "c6e54fc690804a53a3b10a90fb9fd421"
            }
          },
          "metadata": {}
        },
        {
          "output_type": "stream",
          "name": "stdout",
          "text": [
            "Extracting ./data/cifar-10-python.tar.gz to ./data\n",
            "Files already downloaded and verified\n"
          ]
        }
      ]
    },
    {
      "cell_type": "code",
      "source": [
        "#@title Labels\n",
        "labels = trainset.classes\n",
        "labels"
      ],
      "metadata": {
        "colab": {
          "base_uri": "https://localhost:8080/"
        },
        "id": "vSRTjqdkHVEw",
        "outputId": "6605e659-4c93-4d4a-9b44-279cafa6fe65"
      },
      "execution_count": 9,
      "outputs": [
        {
          "output_type": "execute_result",
          "data": {
            "text/plain": [
              "['airplane',\n",
              " 'automobile',\n",
              " 'bird',\n",
              " 'cat',\n",
              " 'deer',\n",
              " 'dog',\n",
              " 'frog',\n",
              " 'horse',\n",
              " 'ship',\n",
              " 'truck']"
            ]
          },
          "metadata": {},
          "execution_count": 9
        }
      ]
    },
    {
      "cell_type": "code",
      "source": [
        "#@title Train and Test set Dataloader\n",
        "\n",
        "import torch\n",
        "batch_size = 128\n",
        "\n",
        "train_loader = torch.utils.data.DataLoader(trainset, batch_size=batch_size,\n",
        "                                          shuffle=True, num_workers=2)\n",
        "\n",
        "test_loader = torch.utils.data.DataLoader(testset, batch_size=batch_size,\n",
        "                                         shuffle=False, num_workers=2)"
      ],
      "metadata": {
        "id": "IHA0bQY4HW8f"
      },
      "execution_count": 10,
      "outputs": []
    },
    {
      "cell_type": "code",
      "source": [
        "#@title Visualizing Images\n",
        "\n",
        "from utils.plot_utils import show_batch\n",
        "show_batch(train_loader,labels,num_images=10) # for visualizing images"
      ],
      "metadata": {
        "colab": {
          "base_uri": "https://localhost:8080/",
          "height": 502
        },
        "id": "I-78513XHXqy",
        "outputId": "1e640316-62c3-44cc-ce19-fea810808681"
      },
      "execution_count": 11,
      "outputs": [
        {
          "output_type": "stream",
          "name": "stderr",
          "text": [
            "WARNING:matplotlib.image:Clipping input data to the valid range for imshow with RGB data ([0..1] for floats or [0..255] for integers).\n",
            "WARNING:matplotlib.image:Clipping input data to the valid range for imshow with RGB data ([0..1] for floats or [0..255] for integers).\n",
            "WARNING:matplotlib.image:Clipping input data to the valid range for imshow with RGB data ([0..1] for floats or [0..255] for integers).\n",
            "WARNING:matplotlib.image:Clipping input data to the valid range for imshow with RGB data ([0..1] for floats or [0..255] for integers).\n",
            "WARNING:matplotlib.image:Clipping input data to the valid range for imshow with RGB data ([0..1] for floats or [0..255] for integers).\n",
            "WARNING:matplotlib.image:Clipping input data to the valid range for imshow with RGB data ([0..1] for floats or [0..255] for integers).\n",
            "WARNING:matplotlib.image:Clipping input data to the valid range for imshow with RGB data ([0..1] for floats or [0..255] for integers).\n",
            "WARNING:matplotlib.image:Clipping input data to the valid range for imshow with RGB data ([0..1] for floats or [0..255] for integers).\n",
            "WARNING:matplotlib.image:Clipping input data to the valid range for imshow with RGB data ([0..1] for floats or [0..255] for integers).\n",
            "WARNING:matplotlib.image:Clipping input data to the valid range for imshow with RGB data ([0..1] for floats or [0..255] for integers).\n"
          ]
        },
        {
          "output_type": "display_data",
          "data": {
            "text/plain": [
              "<Figure size 1152x576 with 10 Axes>"
            ],
            "image/png": "[encoded data removed]"
          },
          "metadata": {
            "needs_background": "light"
          }
        }
      ]
    },
    {
      "cell_type": "code",
      "source": [
        "#@ Network : Loading Model and understand params, summary\n",
        "from models.model9 import TransformerUltimus # Model\n",
        "from utils.summary import print_summary\n",
        "# from utils.helper import model_summary\n",
        "\n",
        "net = TransformerUltimus().to(device)\n",
        "\n",
        "# model_summary(model, input_size =(3, 32, 32))\n",
        "print_summary(net, input_size =(3, 32, 32), device = device )"
      ],
      "metadata": {
        "colab": {
          "base_uri": "https://localhost:8080/"
        },
        "id": "6AbIiz7dHcdI",
        "outputId": "4052193a-8300-400e-9acc-32cb4a2cf67d"
      },
      "execution_count": 12,
      "outputs": [
        {
          "output_type": "stream",
          "name": "stdout",
          "text": [
            "============================================================================================================================================\n",
            "Layer (type (var_name))                  Param #                   Kernel Shape              Input Shape               Output Shape\n",
            "============================================================================================================================================\n",
            "TransformerUltimus (TransformerUltimus)  --                        --                        [8, 3, 32, 32]            [8, 10]\n",
            "├─Sequential (conv)                      --                        --                        [8, 3, 32, 32]            [8, 48, 32, 32]\n",
            "│    └─Conv2d (0)                        432                       [3, 3]                    [8, 3, 32, 32]            [8, 16, 32, 32]\n",
            "│    └─ReLU (1)                          --                        --                        [8, 16, 32, 32]           [8, 16, 32, 32]\n",
            "│    └─BatchNorm2d (2)                   32                        --                        [8, 16, 32, 32]           [8, 16, 32, 32]\n",
            "│    └─Conv2d (3)                        4,608                     [3, 3]                    [8, 16, 32, 32]           [8, 32, 32, 32]\n",
            "│    └─ReLU (4)                          --                        --                        [8, 32, 32, 32]           [8, 32, 32, 32]\n",
            "│    └─BatchNorm2d (5)                   64                        --                        [8, 32, 32, 32]           [8, 32, 32, 32]\n",
            "│    └─Conv2d (6)                        13,824                    [3, 3]                    [8, 32, 32, 32]           [8, 48, 32, 32]\n",
            "│    └─ReLU (7)                          --                        --                        [8, 48, 32, 32]           [8, 48, 32, 32]\n",
            "│    └─BatchNorm2d (8)                   96                        --                        [8, 48, 32, 32]           [8, 48, 32, 32]\n",
            "├─AdaptiveAvgPool2d (gap)                --                        --                        [8, 48, 32, 32]           [8, 48, 1, 1]\n",
            "├─Sequential (ultimus_blocks)            --                        --                        [8, 48]                   [8, 48]\n",
            "│    └─Ultimus (0)                       --                        --                        [8, 48]                   [8, 48]\n",
            "│    │    └─Linear (layer_Q)             384                       --                        [8, 48]                   [8, 8]\n",
            "│    │    └─Linear (layer_K)             384                       --                        [8, 48]                   [8, 8]\n",
            "│    │    └─Linear (layer_V)             384                       --                        [8, 48]                   [8, 8]\n",
            "│    │    └─Linear (out)                 384                       --                        [8, 8]                    [8, 48]\n",
            "│    └─Ultimus (1)                       --                        --                        [8, 48]                   [8, 48]\n",
            "│    │    └─Linear (layer_Q)             384                       --                        [8, 48]                   [8, 8]\n",
            "│    │    └─Linear (layer_K)             384                       --                        [8, 48]                   [8, 8]\n",
            "│    │    └─Linear (layer_V)             384                       --                        [8, 48]                   [8, 8]\n",
            "│    │    └─Linear (out)                 384                       --                        [8, 8]                    [8, 48]\n",
            "│    └─Ultimus (2)                       --                        --                        [8, 48]                   [8, 48]\n",
            "│    │    └─Linear (layer_Q)             384                       --                        [8, 48]                   [8, 8]\n",
            "│    │    └─Linear (layer_K)             384                       --                        [8, 48]                   [8, 8]\n",
            "│    │    └─Linear (layer_V)             384                       --                        [8, 48]                   [8, 8]\n",
            "│    │    └─Linear (out)                 384                       --                        [8, 8]                    [8, 48]\n",
            "│    └─Ultimus (3)                       --                        --                        [8, 48]                   [8, 48]\n",
            "│    │    └─Linear (layer_Q)             384                       --                        [8, 48]                   [8, 8]\n",
            "│    │    └─Linear (layer_K)             384                       --                        [8, 48]                   [8, 8]\n",
            "│    │    └─Linear (layer_V)             384                       --                        [8, 48]                   [8, 8]\n",
            "│    │    └─Linear (out)                 384                       --                        [8, 8]                    [8, 48]\n",
            "├─Linear (ffc)                           480                       --                        [8, 48]                   [8, 10]\n",
            "============================================================================================================================================\n",
            "Total params: 25,680\n",
            "Trainable params: 25,680\n",
            "Non-trainable params: 0\n",
            "Total mult-adds (M): 154.59\n",
            "============================================================================================================================================\n",
            "Input size (MB): 0.10\n",
            "Forward/backward pass size (MB): 12.60\n",
            "Params size (MB): 0.10\n",
            "Estimated Total Size (MB): 12.80\n",
            "============================================================================================================================================\n"
          ]
        }
      ]
    },
    {
      "cell_type": "code",
      "source": [
        "#@title One Cycle Policy - Finding max and min learning rates\n",
        "from torch_lr_finder import LRFinder\n",
        "from utils.lr_utils import find_lr\n",
        "import torch.optim as optim # for optimizer\n",
        "import torch.nn as nn # for network, criterion\n",
        "import copy\n",
        "\n",
        "\n",
        "criterion = nn.CrossEntropyLoss()\n",
        "optimizer = optim.Adam(net.parameters(), lr=0.0001, weight_decay=1e-2)\n",
        "# optimizer = optim.SGD(model.parameters(), lr=1., momentum=0.9)\n",
        "\n",
        "## make a deep copy of the model ..otherwise this would impact original model\n",
        "model_copy=copy.deepcopy(net)\n",
        "\n",
        "max_lr = find_lr(model_copy,optimizer,criterion,test_loader) # sending test set as it does not have augmentations\n",
        "# max_lr = find_lr(model_copy,optimizer,criterion,train_loader) \n",
        "\n"
      ],
      "metadata": {
        "colab": {
          "base_uri": "https://localhost:8080/",
          "height": 395,
          "referenced_widgets": [
            "4885268a231d46a5988edaeff67b3f9e",
            "2d43febc26d74c008496c74636dd1a83",
            "da76d899d0e54b74b3fb225f80b2707e",
            "b39c4198a3994991af16ac4cc545335d",
            "bbeb96539f7e468ea42c9724572792ab",
            "a119b5d65127470bbc96d839b4c56db9",
            "0395a6b6876145ddb29e668642e7750f",
            "14b753bb1c8d4c33a301714d6ae52ef3",
            "acbf224799c8433299989fc2fd08248c",
            "c7173d0bb26146508d8f44ec27a74b20",
            "371072716b034080975263b0276e617c"
          ]
        },
        "id": "E1yRsOuWH7O9",
        "outputId": "24840807-638a-439c-89c5-9b2915636a94"
      },
      "execution_count": 13,
      "outputs": [
        {
          "output_type": "display_data",
          "data": {
            "text/plain": [
              "  0%|          | 0/200 [00:00<?, ?it/s]"
            ],
            "application/vnd.jupyter.widget-view+json": {
              "version_major": 2,
              "version_minor": 0,
              "model_id": "4885268a231d46a5988edaeff67b3f9e"
            }
          },
          "metadata": {}
        },
        {
          "output_type": "stream",
          "name": "stdout",
          "text": [
            "Learning rate search finished. See the graph with {finder_name}.plot()\n",
            "LR suggestion: steepest gradient\n",
            "Suggested LR: 2.83E-04\n"
          ]
        },
        {
          "output_type": "display_data",
          "data": {
            "text/plain": [
              "<Figure size 432x288 with 1 Axes>"
            ],
            "image/png": "[encoded data removed]"
          },
          "metadata": {
            "needs_background": "light"
          }
        },
        {
          "output_type": "stream",
          "name": "stdout",
          "text": [
            "LR at lowest Loss is 0.830994194935339\n"
          ]
        }
      ]
    },
    {
      "cell_type": "code",
      "source": [
        "#@title Training and Testing loop\n",
        "\n",
        "import torch.optim as optim # for optimizer\n",
        "import torch.nn as nn # for network, criterion\n",
        "import torch.nn.functional as F \n",
        "\n",
        "\n",
        "criterion = nn.CrossEntropyLoss()\n",
        "\n",
        "# epochs = 40\n",
        "epochs = 24\n",
        "lr = 0.1\n",
        "\n",
        "optimizer = optim.Adam(net.parameters(), lr=0.01, weight_decay=1e-2)\n",
        "# optimizer = optim.SGD(model.parameters(), lr=0.01)\n",
        "# scheduler = optim.lr_scheduler.ReduceLROnPlateau(optimizer, mode='min',\\\n",
        "#                                                  factor=0.1, patience=3, threshold=0.0001, threshold_mode='abs')\n",
        "\n",
        "scheduler = torch.optim.lr_scheduler.OneCycleLR(optimizer, \n",
        "                                                max_lr=float(max_lr),\n",
        "                                                steps_per_epoch=len(train_loader), \n",
        "                                                epochs=24,\n",
        "                                                pct_start=0.2,## how much percent of cycle to use for building up, this gives 5\n",
        "                                                div_factor=10,## initial lr max/div_factor\n",
        "                                                three_phase=False, ## no annihilation \n",
        "                                                final_div_factor=50,## min lr max/div_factor\n",
        "                                                anneal_strategy='linear'\n",
        "                                                ) \n",
        "\n"
      ],
      "metadata": {
        "id": "fDWOIWvHIN7F"
      },
      "execution_count": 14,
      "outputs": []
    },
    {
      "cell_type": "code",
      "source": [
        "from main import trainer, train, test # including wrapper function of train and test\n",
        "train_accuracy, train_losses, test_accuracy, test_losses = trainer(net,device, train_loader, test_loader, optimizer,epochs,criterion,scheduler)\n"
      ],
      "metadata": {
        "colab": {
          "base_uri": "https://localhost:8080/"
        },
        "id": "7vgvtg-EIOxF",
        "outputId": "41871835-5977-4992-feec-3bc5bccee14e"
      },
      "execution_count": 21,
      "outputs": [
        {
          "output_type": "stream",
          "name": "stdout",
          "text": [
            "EPOCH: 1\n"
          ]
        },
        {
          "output_type": "stream",
          "name": "stderr",
          "text": [
            "Loss=2.302584171295166 Batch_id=390 Accuracy=10.01: 100%|██████████| 391/391 [00:18<00:00, 21.62it/s]\n"
          ]
        },
        {
          "output_type": "stream",
          "name": "stdout",
          "text": [
            "\n",
            "Test set: Average loss: 0.0002, Accuracy: 1000/10000 (10.00%)\n",
            "\n",
            "EPOCH: 2\n"
          ]
        },
        {
          "output_type": "stream",
          "name": "stderr",
          "text": [
            "Loss=2.302584171295166 Batch_id=390 Accuracy=10.00: 100%|██████████| 391/391 [00:18<00:00, 20.75it/s]\n"
          ]
        },
        {
          "output_type": "stream",
          "name": "stdout",
          "text": [
            "\n",
            "Test set: Average loss: 0.0002, Accuracy: 1000/10000 (10.00%)\n",
            "\n",
            "EPOCH: 3\n"
          ]
        },
        {
          "output_type": "stream",
          "name": "stderr",
          "text": [
            "Loss=2.302584171295166 Batch_id=390 Accuracy=10.00: 100%|██████████| 391/391 [00:18<00:00, 21.27it/s]\n"
          ]
        },
        {
          "output_type": "stream",
          "name": "stdout",
          "text": [
            "\n",
            "Test set: Average loss: 0.0002, Accuracy: 1000/10000 (10.00%)\n",
            "\n",
            "EPOCH: 4\n"
          ]
        },
        {
          "output_type": "stream",
          "name": "stderr",
          "text": [
            "Loss=2.302584171295166 Batch_id=390 Accuracy=10.00: 100%|██████████| 391/391 [00:18<00:00, 21.19it/s]\n"
          ]
        },
        {
          "output_type": "stream",
          "name": "stdout",
          "text": [
            "\n",
            "Test set: Average loss: 0.0002, Accuracy: 1000/10000 (10.00%)\n",
            "\n",
            "EPOCH: 5\n"
          ]
        },
        {
          "output_type": "stream",
          "name": "stderr",
          "text": [
            "Loss=2.302584171295166 Batch_id=390 Accuracy=10.00: 100%|██████████| 391/391 [00:19<00:00, 20.36it/s]\n"
          ]
        },
        {
          "output_type": "stream",
          "name": "stdout",
          "text": [
            "\n",
            "Test set: Average loss: 0.0002, Accuracy: 1000/10000 (10.00%)\n",
            "\n",
            "EPOCH: 6\n"
          ]
        },
        {
          "output_type": "stream",
          "name": "stderr",
          "text": [
            "Loss=2.302584171295166 Batch_id=390 Accuracy=10.00: 100%|██████████| 391/391 [00:19<00:00, 20.35it/s]\n"
          ]
        },
        {
          "output_type": "stream",
          "name": "stdout",
          "text": [
            "\n",
            "Test set: Average loss: 0.0002, Accuracy: 1000/10000 (10.00%)\n",
            "\n",
            "EPOCH: 7\n"
          ]
        },
        {
          "output_type": "stream",
          "name": "stderr",
          "text": [
            "Loss=2.302584171295166 Batch_id=390 Accuracy=10.00: 100%|██████████| 391/391 [00:19<00:00, 20.01it/s]\n"
          ]
        },
        {
          "output_type": "stream",
          "name": "stdout",
          "text": [
            "\n",
            "Test set: Average loss: 0.0002, Accuracy: 1000/10000 (10.00%)\n",
            "\n",
            "EPOCH: 8\n"
          ]
        },
        {
          "output_type": "stream",
          "name": "stderr",
          "text": [
            "Loss=2.302584171295166 Batch_id=390 Accuracy=10.00: 100%|██████████| 391/391 [00:18<00:00, 21.33it/s]\n"
          ]
        },
        {
          "output_type": "stream",
          "name": "stdout",
          "text": [
            "\n",
            "Test set: Average loss: 0.0002, Accuracy: 1000/10000 (10.00%)\n",
            "\n",
            "EPOCH: 9\n"
          ]
        },
        {
          "output_type": "stream",
          "name": "stderr",
          "text": [
            "Loss=2.302584171295166 Batch_id=390 Accuracy=10.00: 100%|██████████| 391/391 [00:18<00:00, 21.67it/s]\n"
          ]
        },
        {
          "output_type": "stream",
          "name": "stdout",
          "text": [
            "\n",
            "Test set: Average loss: 0.0002, Accuracy: 1000/10000 (10.00%)\n",
            "\n",
            "EPOCH: 10\n"
          ]
        },
        {
          "output_type": "stream",
          "name": "stderr",
          "text": [
            "Loss=2.302584171295166 Batch_id=390 Accuracy=10.00: 100%|██████████| 391/391 [00:19<00:00, 20.14it/s]\n"
          ]
        },
        {
          "output_type": "stream",
          "name": "stdout",
          "text": [
            "\n",
            "Test set: Average loss: 0.0002, Accuracy: 1000/10000 (10.00%)\n",
            "\n",
            "EPOCH: 11\n"
          ]
        },
        {
          "output_type": "stream",
          "name": "stderr",
          "text": [
            "Loss=2.302584171295166 Batch_id=390 Accuracy=10.00: 100%|██████████| 391/391 [00:18<00:00, 21.38it/s]\n"
          ]
        },
        {
          "output_type": "stream",
          "name": "stdout",
          "text": [
            "\n",
            "Test set: Average loss: 0.0002, Accuracy: 1000/10000 (10.00%)\n",
            "\n",
            "EPOCH: 12\n"
          ]
        },
        {
          "output_type": "stream",
          "name": "stderr",
          "text": [
            "Loss=2.302584171295166 Batch_id=390 Accuracy=10.00: 100%|██████████| 391/391 [00:19<00:00, 20.54it/s]\n"
          ]
        },
        {
          "output_type": "stream",
          "name": "stdout",
          "text": [
            "\n",
            "Test set: Average loss: 0.0002, Accuracy: 1000/10000 (10.00%)\n",
            "\n",
            "EPOCH: 13\n"
          ]
        },
        {
          "output_type": "stream",
          "name": "stderr",
          "text": [
            "Loss=2.302584171295166 Batch_id=390 Accuracy=10.00: 100%|██████████| 391/391 [00:18<00:00, 21.02it/s]\n"
          ]
        },
        {
          "output_type": "stream",
          "name": "stdout",
          "text": [
            "\n",
            "Test set: Average loss: 0.0002, Accuracy: 1000/10000 (10.00%)\n",
            "\n",
            "EPOCH: 14\n"
          ]
        },
        {
          "output_type": "stream",
          "name": "stderr",
          "text": [
            "Loss=2.302584171295166 Batch_id=390 Accuracy=10.00: 100%|██████████| 391/391 [00:18<00:00, 21.38it/s]\n"
          ]
        },
        {
          "output_type": "stream",
          "name": "stdout",
          "text": [
            "\n",
            "Test set: Average loss: 0.0002, Accuracy: 1000/10000 (10.00%)\n",
            "\n",
            "EPOCH: 15\n"
          ]
        },
        {
          "output_type": "stream",
          "name": "stderr",
          "text": [
            "Loss=2.302584171295166 Batch_id=390 Accuracy=10.00: 100%|██████████| 391/391 [00:19<00:00, 20.01it/s]\n"
          ]
        },
        {
          "output_type": "stream",
          "name": "stdout",
          "text": [
            "\n",
            "Test set: Average loss: 0.0002, Accuracy: 1000/10000 (10.00%)\n",
            "\n",
            "EPOCH: 16\n"
          ]
        },
        {
          "output_type": "stream",
          "name": "stderr",
          "text": [
            "Loss=2.302584171295166 Batch_id=390 Accuracy=10.00: 100%|██████████| 391/391 [00:18<00:00, 21.26it/s]\n"
          ]
        },
        {
          "output_type": "stream",
          "name": "stdout",
          "text": [
            "\n",
            "Test set: Average loss: 0.0002, Accuracy: 1000/10000 (10.00%)\n",
            "\n",
            "EPOCH: 17\n"
          ]
        },
        {
          "output_type": "stream",
          "name": "stderr",
          "text": [
            "Loss=2.302584171295166 Batch_id=390 Accuracy=10.00: 100%|██████████| 391/391 [00:19<00:00, 20.47it/s]\n"
          ]
        },
        {
          "output_type": "stream",
          "name": "stdout",
          "text": [
            "\n",
            "Test set: Average loss: 0.0002, Accuracy: 1000/10000 (10.00%)\n",
            "\n",
            "EPOCH: 18\n"
          ]
        },
        {
          "output_type": "stream",
          "name": "stderr",
          "text": [
            "Loss=2.302584171295166 Batch_id=390 Accuracy=10.00: 100%|██████████| 391/391 [00:23<00:00, 16.95it/s]\n"
          ]
        },
        {
          "output_type": "stream",
          "name": "stdout",
          "text": [
            "\n",
            "Test set: Average loss: 0.0002, Accuracy: 1000/10000 (10.00%)\n",
            "\n",
            "EPOCH: 19\n"
          ]
        },
        {
          "output_type": "stream",
          "name": "stderr",
          "text": [
            "Loss=2.302584171295166 Batch_id=390 Accuracy=10.00: 100%|██████████| 391/391 [00:18<00:00, 21.06it/s]\n"
          ]
        },
        {
          "output_type": "stream",
          "name": "stdout",
          "text": [
            "\n",
            "Test set: Average loss: 0.0002, Accuracy: 1000/10000 (10.00%)\n",
            "\n",
            "EPOCH: 20\n"
          ]
        },
        {
          "output_type": "stream",
          "name": "stderr",
          "text": [
            "Loss=2.302584171295166 Batch_id=390 Accuracy=10.00: 100%|██████████| 391/391 [00:19<00:00, 20.03it/s]\n"
          ]
        },
        {
          "output_type": "stream",
          "name": "stdout",
          "text": [
            "\n",
            "Test set: Average loss: 0.0002, Accuracy: 1000/10000 (10.00%)\n",
            "\n",
            "EPOCH: 21\n"
          ]
        },
        {
          "output_type": "stream",
          "name": "stderr",
          "text": [
            "Loss=2.302584171295166 Batch_id=390 Accuracy=10.00: 100%|██████████| 391/391 [00:18<00:00, 21.05it/s]\n"
          ]
        },
        {
          "output_type": "stream",
          "name": "stdout",
          "text": [
            "\n",
            "Test set: Average loss: 0.0002, Accuracy: 1000/10000 (10.00%)\n",
            "\n",
            "EPOCH: 22\n"
          ]
        },
        {
          "output_type": "stream",
          "name": "stderr",
          "text": [
            "Loss=2.302584171295166 Batch_id=390 Accuracy=10.00: 100%|██████████| 391/391 [00:18<00:00, 21.54it/s]\n"
          ]
        },
        {
          "output_type": "stream",
          "name": "stdout",
          "text": [
            "\n",
            "Test set: Average loss: 0.0002, Accuracy: 1000/10000 (10.00%)\n",
            "\n",
            "EPOCH: 23\n"
          ]
        },
        {
          "output_type": "stream",
          "name": "stderr",
          "text": [
            "Loss=2.302584171295166 Batch_id=390 Accuracy=10.00: 100%|██████████| 391/391 [00:19<00:00, 19.76it/s]\n"
          ]
        },
        {
          "output_type": "stream",
          "name": "stdout",
          "text": [
            "\n",
            "Test set: Average loss: 0.0002, Accuracy: 1000/10000 (10.00%)\n",
            "\n",
            "EPOCH: 24\n"
          ]
        },
        {
          "output_type": "stream",
          "name": "stderr",
          "text": [
            "Loss=2.302584171295166 Batch_id=390 Accuracy=10.00: 100%|██████████| 391/391 [00:18<00:00, 21.10it/s]\n"
          ]
        },
        {
          "output_type": "stream",
          "name": "stdout",
          "text": [
            "\n",
            "Test set: Average loss: 0.0002, Accuracy: 1000/10000 (10.00%)\n",
            "\n"
          ]
        }
      ]
    },
    {
      "cell_type": "code",
      "source": [
        "#@title checking results\n",
        "from utils.plot_utils import plot_metrics\n",
        "\n",
        "plot_metrics(train_accuracy, [x.cpu().detach().numpy() for x in train_losses], test_accuracy, test_losses)"
      ],
      "metadata": {
        "colab": {
          "base_uri": "https://localhost:8080/",
          "height": 701
        },
        "id": "o8mhYTr9IQw6",
        "outputId": "998b3926-210c-4992-c929-ae97bb0fe201"
      },
      "execution_count": 22,
      "outputs": [
        {
          "output_type": "display_data",
          "data": {
            "text/plain": [
              "<Figure size 1800x432 with 2 Axes>"
            ],
            "image/png": "[encoded data removed]"
          },
          "metadata": {}
        },
        {
          "output_type": "display_data",
          "data": {
            "text/plain": [
              "<Figure size 1800x432 with 2 Axes>"
            ],
            "image/png": "[encoded data removed]"
          },
          "metadata": {}
        }
      ]
    },
    {
      "cell_type": "code",
      "source": [
        "#@title Checking class level accuracy\n",
        "from utils.helper import evaluate_classwise_accuracy\n",
        "evaluate_classwise_accuracy(net, device, labels, test_loader)"
      ],
      "metadata": {
        "colab": {
          "base_uri": "https://localhost:8080/"
        },
        "id": "50ykSQXeIWUd",
        "outputId": "31ee6bb9-08ca-4493-9680-7204746b6694"
      },
      "execution_count": 24,
      "outputs": [
        {
          "output_type": "stream",
          "name": "stdout",
          "text": [
            "Accuracy of airplane : 100 %\n",
            "Accuracy of automobile :  0 %\n",
            "Accuracy of  bird :  0 %\n",
            "Accuracy of   cat :  0 %\n",
            "Accuracy of  deer :  0 %\n",
            "Accuracy of   dog :  0 %\n",
            "Accuracy of  frog :  0 %\n",
            "Accuracy of horse :  0 %\n",
            "Accuracy of  ship :  0 %\n",
            "Accuracy of truck :  0 %\n"
          ]
        }
      ]
    },
    {
      "cell_type": "code",
      "source": [
        "#@title Misclassified Images\n",
        "from utils.plot_utils import misclassified_images\n",
        "\n",
        "images_misclassified = misclassified_images(net, test_loader, device, mean, std)"
      ],
      "metadata": {
        "colab": {
          "base_uri": "https://localhost:8080/",
          "height": 673
        },
        "id": "K9dxBSILIYOI",
        "outputId": "488f2363-230a-4168-f290-991dd4b9ec39"
      },
      "execution_count": 25,
      "outputs": [
        {
          "output_type": "stream",
          "name": "stderr",
          "text": [
            "WARNING:matplotlib.image:Clipping input data to the valid range for imshow with RGB data ([0..1] for floats or [0..255] for integers).\n"
          ]
        },
        {
          "output_type": "stream",
          "name": "stdout",
          "text": [
            "Total wrong predictions are 9000\n"
          ]
        },
        {
          "output_type": "stream",
          "name": "stderr",
          "text": [
            "WARNING:matplotlib.image:Clipping input data to the valid range for imshow with RGB data ([0..1] for floats or [0..255] for integers).\n",
            "WARNING:matplotlib.image:Clipping input data to the valid range for imshow with RGB data ([0..1] for floats or [0..255] for integers).\n",
            "WARNING:matplotlib.image:Clipping input data to the valid range for imshow with RGB data ([0..1] for floats or [0..255] for integers).\n",
            "WARNING:matplotlib.image:Clipping input data to the valid range for imshow with RGB data ([0..1] for floats or [0..255] for integers).\n"
          ]
        },
        {
          "output_type": "display_data",
          "data": {
            "text/plain": [
              "<Figure size 720x864 with 20 Axes>"
            ],
            "image/png": "[encoded data removed]"
          },
          "metadata": {}
        }
      ]
    }
  ]
}