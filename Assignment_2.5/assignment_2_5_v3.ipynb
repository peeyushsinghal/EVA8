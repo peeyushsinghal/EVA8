{
  "nbformat": 4,
  "nbformat_minor": 0,
  "metadata": {
    "colab": {
      "name": "assignment_2_5_v3.ipynb",
      "provenance": [],
      "authorship_tag": "ABX9TyNeWMKyyIhEj6o5ZTGJMzaE",
      "include_colab_link": true
    },
    "kernelspec": {
      "name": "python3",
      "display_name": "Python 3"
    },
    "language_info": {
      "name": "python"
    },
    "accelerator": "GPU",
    "widgets": {
      "application/vnd.jupyter.widget-state+json": {
        "1de44e7c29dc4bb9b36011162abe65dc": {
          "model_module": "@jupyter-widgets/controls",
          "model_name": "HBoxModel",
          "model_module_version": "1.5.0",
          "state": {
            "_dom_classes": [],
            "_model_module": "@jupyter-widgets/controls",
            "_model_module_version": "1.5.0",
            "_model_name": "HBoxModel",
            "_view_count": null,
            "_view_module": "@jupyter-widgets/controls",
            "_view_module_version": "1.5.0",
            "_view_name": "HBoxView",
            "box_style": "",
            "children": [
              "IPY_MODEL_b10334d922684e738bb41ac9694782ae",
              "IPY_MODEL_40823161e6e947f68665a63018855bc3",
              "IPY_MODEL_cd09ecbcc7a04668a61ae64c295fc8b5"
            ],
            "layout": "IPY_MODEL_03a469b435c248f59db3bf63dd2c66e4"
          }
        },
        "b10334d922684e738bb41ac9694782ae": {
          "model_module": "@jupyter-widgets/controls",
          "model_name": "HTMLModel",
          "model_module_version": "1.5.0",
          "state": {
            "_dom_classes": [],
            "_model_module": "@jupyter-widgets/controls",
            "_model_module_version": "1.5.0",
            "_model_name": "HTMLModel",
            "_view_count": null,
            "_view_module": "@jupyter-widgets/controls",
            "_view_module_version": "1.5.0",
            "_view_name": "HTMLView",
            "description": "",
            "description_tooltip": null,
            "layout": "IPY_MODEL_4ec30d44efba4106942be3d97b839e20",
            "placeholder": "​",
            "style": "IPY_MODEL_3e05df88a82c4c66aa4541efd674509f",
            "value": "100%"
          }
        },
        "40823161e6e947f68665a63018855bc3": {
          "model_module": "@jupyter-widgets/controls",
          "model_name": "FloatProgressModel",
          "model_module_version": "1.5.0",
          "state": {
            "_dom_classes": [],
            "_model_module": "@jupyter-widgets/controls",
            "_model_module_version": "1.5.0",
            "_model_name": "FloatProgressModel",
            "_view_count": null,
            "_view_module": "@jupyter-widgets/controls",
            "_view_module_version": "1.5.0",
            "_view_name": "ProgressView",
            "bar_style": "success",
            "description": "",
            "description_tooltip": null,
            "layout": "IPY_MODEL_e1f706d87064471797f36756205dcb25",
            "max": 9912422,
            "min": 0,
            "orientation": "horizontal",
            "style": "IPY_MODEL_f13b387ad4304a3f841f21bf01131c79",
            "value": 9912422
          }
        },
        "cd09ecbcc7a04668a61ae64c295fc8b5": {
          "model_module": "@jupyter-widgets/controls",
          "model_name": "HTMLModel",
          "model_module_version": "1.5.0",
          "state": {
            "_dom_classes": [],
            "_model_module": "@jupyter-widgets/controls",
            "_model_module_version": "1.5.0",
            "_model_name": "HTMLModel",
            "_view_count": null,
            "_view_module": "@jupyter-widgets/controls",
            "_view_module_version": "1.5.0",
            "_view_name": "HTMLView",
            "description": "",
            "description_tooltip": null,
            "layout": "IPY_MODEL_65b38eb03aa0467c893ba81ac5ac5b75",
            "placeholder": "​",
            "style": "IPY_MODEL_51bbf27d8daa4e329a19978c58c8d72a",
            "value": " 9912422/9912422 [00:00&lt;00:00, 148223174.99it/s]"
          }
        },
        "03a469b435c248f59db3bf63dd2c66e4": {
          "model_module": "@jupyter-widgets/base",
          "model_name": "LayoutModel",
          "model_module_version": "1.2.0",
          "state": {
            "_model_module": "@jupyter-widgets/base",
            "_model_module_version": "1.2.0",
            "_model_name": "LayoutModel",
            "_view_count": null,
            "_view_module": "@jupyter-widgets/base",
            "_view_module_version": "1.2.0",
            "_view_name": "LayoutView",
            "align_content": null,
            "align_items": null,
            "align_self": null,
            "border": null,
            "bottom": null,
            "display": null,
            "flex": null,
            "flex_flow": null,
            "grid_area": null,
            "grid_auto_columns": null,
            "grid_auto_flow": null,
            "grid_auto_rows": null,
            "grid_column": null,
            "grid_gap": null,
            "grid_row": null,
            "grid_template_areas": null,
            "grid_template_columns": null,
            "grid_template_rows": null,
            "height": null,
            "justify_content": null,
            "justify_items": null,
            "left": null,
            "margin": null,
            "max_height": null,
            "max_width": null,
            "min_height": null,
            "min_width": null,
            "object_fit": null,
            "object_position": null,
            "order": null,
            "overflow": null,
            "overflow_x": null,
            "overflow_y": null,
            "padding": null,
            "right": null,
            "top": null,
            "visibility": null,
            "width": null
          }
        },
        "4ec30d44efba4106942be3d97b839e20": {
          "model_module": "@jupyter-widgets/base",
          "model_name": "LayoutModel",
          "model_module_version": "1.2.0",
          "state": {
            "_model_module": "@jupyter-widgets/base",
            "_model_module_version": "1.2.0",
            "_model_name": "LayoutModel",
            "_view_count": null,
            "_view_module": "@jupyter-widgets/base",
            "_view_module_version": "1.2.0",
            "_view_name": "LayoutView",
            "align_content": null,
            "align_items": null,
            "align_self": null,
            "border": null,
            "bottom": null,
            "display": null,
            "flex": null,
            "flex_flow": null,
            "grid_area": null,
            "grid_auto_columns": null,
            "grid_auto_flow": null,
            "grid_auto_rows": null,
            "grid_column": null,
            "grid_gap": null,
            "grid_row": null,
            "grid_template_areas": null,
            "grid_template_columns": null,
            "grid_template_rows": null,
            "height": null,
            "justify_content": null,
            "justify_items": null,
            "left": null,
            "margin": null,
            "max_height": null,
            "max_width": null,
            "min_height": null,
            "min_width": null,
            "object_fit": null,
            "object_position": null,
            "order": null,
            "overflow": null,
            "overflow_x": null,
            "overflow_y": null,
            "padding": null,
            "right": null,
            "top": null,
            "visibility": null,
            "width": null
          }
        },
        "3e05df88a82c4c66aa4541efd674509f": {
          "model_module": "@jupyter-widgets/controls",
          "model_name": "DescriptionStyleModel",
          "model_module_version": "1.5.0",
          "state": {
            "_model_module": "@jupyter-widgets/controls",
            "_model_module_version": "1.5.0",
            "_model_name": "DescriptionStyleModel",
            "_view_count": null,
            "_view_module": "@jupyter-widgets/base",
            "_view_module_version": "1.2.0",
            "_view_name": "StyleView",
            "description_width": ""
          }
        },
        "e1f706d87064471797f36756205dcb25": {
          "model_module": "@jupyter-widgets/base",
          "model_name": "LayoutModel",
          "model_module_version": "1.2.0",
          "state": {
            "_model_module": "@jupyter-widgets/base",
            "_model_module_version": "1.2.0",
            "_model_name": "LayoutModel",
            "_view_count": null,
            "_view_module": "@jupyter-widgets/base",
            "_view_module_version": "1.2.0",
            "_view_name": "LayoutView",
            "align_content": null,
            "align_items": null,
            "align_self": null,
            "border": null,
            "bottom": null,
            "display": null,
            "flex": null,
            "flex_flow": null,
            "grid_area": null,
            "grid_auto_columns": null,
            "grid_auto_flow": null,
            "grid_auto_rows": null,
            "grid_column": null,
            "grid_gap": null,
            "grid_row": null,
            "grid_template_areas": null,
            "grid_template_columns": null,
            "grid_template_rows": null,
            "height": null,
            "justify_content": null,
            "justify_items": null,
            "left": null,
            "margin": null,
            "max_height": null,
            "max_width": null,
            "min_height": null,
            "min_width": null,
            "object_fit": null,
            "object_position": null,
            "order": null,
            "overflow": null,
            "overflow_x": null,
            "overflow_y": null,
            "padding": null,
            "right": null,
            "top": null,
            "visibility": null,
            "width": null
          }
        },
        "f13b387ad4304a3f841f21bf01131c79": {
          "model_module": "@jupyter-widgets/controls",
          "model_name": "ProgressStyleModel",
          "model_module_version": "1.5.0",
          "state": {
            "_model_module": "@jupyter-widgets/controls",
            "_model_module_version": "1.5.0",
            "_model_name": "ProgressStyleModel",
            "_view_count": null,
            "_view_module": "@jupyter-widgets/base",
            "_view_module_version": "1.2.0",
            "_view_name": "StyleView",
            "bar_color": null,
            "description_width": ""
          }
        },
        "65b38eb03aa0467c893ba81ac5ac5b75": {
          "model_module": "@jupyter-widgets/base",
          "model_name": "LayoutModel",
          "model_module_version": "1.2.0",
          "state": {
            "_model_module": "@jupyter-widgets/base",
            "_model_module_version": "1.2.0",
            "_model_name": "LayoutModel",
            "_view_count": null,
            "_view_module": "@jupyter-widgets/base",
            "_view_module_version": "1.2.0",
            "_view_name": "LayoutView",
            "align_content": null,
            "align_items": null,
            "align_self": null,
            "border": null,
            "bottom": null,
            "display": null,
            "flex": null,
            "flex_flow": null,
            "grid_area": null,
            "grid_auto_columns": null,
            "grid_auto_flow": null,
            "grid_auto_rows": null,
            "grid_column": null,
            "grid_gap": null,
            "grid_row": null,
            "grid_template_areas": null,
            "grid_template_columns": null,
            "grid_template_rows": null,
            "height": null,
            "justify_content": null,
            "justify_items": null,
            "left": null,
            "margin": null,
            "max_height": null,
            "max_width": null,
            "min_height": null,
            "min_width": null,
            "object_fit": null,
            "object_position": null,
            "order": null,
            "overflow": null,
            "overflow_x": null,
            "overflow_y": null,
            "padding": null,
            "right": null,
            "top": null,
            "visibility": null,
            "width": null
          }
        },
        "51bbf27d8daa4e329a19978c58c8d72a": {
          "model_module": "@jupyter-widgets/controls",
          "model_name": "DescriptionStyleModel",
          "model_module_version": "1.5.0",
          "state": {
            "_model_module": "@jupyter-widgets/controls",
            "_model_module_version": "1.5.0",
            "_model_name": "DescriptionStyleModel",
            "_view_count": null,
            "_view_module": "@jupyter-widgets/base",
            "_view_module_version": "1.2.0",
            "_view_name": "StyleView",
            "description_width": ""
          }
        },
        "8e9d9a54e5824b4b90bcf62d333b77e4": {
          "model_module": "@jupyter-widgets/controls",
          "model_name": "HBoxModel",
          "model_module_version": "1.5.0",
          "state": {
            "_dom_classes": [],
            "_model_module": "@jupyter-widgets/controls",
            "_model_module_version": "1.5.0",
            "_model_name": "HBoxModel",
            "_view_count": null,
            "_view_module": "@jupyter-widgets/controls",
            "_view_module_version": "1.5.0",
            "_view_name": "HBoxView",
            "box_style": "",
            "children": [
              "IPY_MODEL_230ba0fc581e449d8492bbc100200fcc",
              "IPY_MODEL_ecafa60e80ab489481c5aacda556bdd0",
              "IPY_MODEL_7b3de56af66344989a1a9852abbf952e"
            ],
            "layout": "IPY_MODEL_2d225ae4b10946e0a4a62e54c29604be"
          }
        },
        "230ba0fc581e449d8492bbc100200fcc": {
          "model_module": "@jupyter-widgets/controls",
          "model_name": "HTMLModel",
          "model_module_version": "1.5.0",
          "state": {
            "_dom_classes": [],
            "_model_module": "@jupyter-widgets/controls",
            "_model_module_version": "1.5.0",
            "_model_name": "HTMLModel",
            "_view_count": null,
            "_view_module": "@jupyter-widgets/controls",
            "_view_module_version": "1.5.0",
            "_view_name": "HTMLView",
            "description": "",
            "description_tooltip": null,
            "layout": "IPY_MODEL_84a52e4d350c4d0c9aca68b358abd68f",
            "placeholder": "​",
            "style": "IPY_MODEL_bcd76de1f6d2480eba4f577973700265",
            "value": "100%"
          }
        },
        "ecafa60e80ab489481c5aacda556bdd0": {
          "model_module": "@jupyter-widgets/controls",
          "model_name": "FloatProgressModel",
          "model_module_version": "1.5.0",
          "state": {
            "_dom_classes": [],
            "_model_module": "@jupyter-widgets/controls",
            "_model_module_version": "1.5.0",
            "_model_name": "FloatProgressModel",
            "_view_count": null,
            "_view_module": "@jupyter-widgets/controls",
            "_view_module_version": "1.5.0",
            "_view_name": "ProgressView",
            "bar_style": "success",
            "description": "",
            "description_tooltip": null,
            "layout": "IPY_MODEL_297b387182c546b6b3128d8cbbd67e58",
            "max": 28881,
            "min": 0,
            "orientation": "horizontal",
            "style": "IPY_MODEL_c5ec58a7659b40e38af0691b2c21767e",
            "value": 28881
          }
        },
        "7b3de56af66344989a1a9852abbf952e": {
          "model_module": "@jupyter-widgets/controls",
          "model_name": "HTMLModel",
          "model_module_version": "1.5.0",
          "state": {
            "_dom_classes": [],
            "_model_module": "@jupyter-widgets/controls",
            "_model_module_version": "1.5.0",
            "_model_name": "HTMLModel",
            "_view_count": null,
            "_view_module": "@jupyter-widgets/controls",
            "_view_module_version": "1.5.0",
            "_view_name": "HTMLView",
            "description": "",
            "description_tooltip": null,
            "layout": "IPY_MODEL_bdcf8e13569c408aa31923dee2102637",
            "placeholder": "​",
            "style": "IPY_MODEL_3e1f72c5e85f4a78a0e05044270a5071",
            "value": " 28881/28881 [00:00&lt;00:00, 1502831.01it/s]"
          }
        },
        "2d225ae4b10946e0a4a62e54c29604be": {
          "model_module": "@jupyter-widgets/base",
          "model_name": "LayoutModel",
          "model_module_version": "1.2.0",
          "state": {
            "_model_module": "@jupyter-widgets/base",
            "_model_module_version": "1.2.0",
            "_model_name": "LayoutModel",
            "_view_count": null,
            "_view_module": "@jupyter-widgets/base",
            "_view_module_version": "1.2.0",
            "_view_name": "LayoutView",
            "align_content": null,
            "align_items": null,
            "align_self": null,
            "border": null,
            "bottom": null,
            "display": null,
            "flex": null,
            "flex_flow": null,
            "grid_area": null,
            "grid_auto_columns": null,
            "grid_auto_flow": null,
            "grid_auto_rows": null,
            "grid_column": null,
            "grid_gap": null,
            "grid_row": null,
            "grid_template_areas": null,
            "grid_template_columns": null,
            "grid_template_rows": null,
            "height": null,
            "justify_content": null,
            "justify_items": null,
            "left": null,
            "margin": null,
            "max_height": null,
            "max_width": null,
            "min_height": null,
            "min_width": null,
            "object_fit": null,
            "object_position": null,
            "order": null,
            "overflow": null,
            "overflow_x": null,
            "overflow_y": null,
            "padding": null,
            "right": null,
            "top": null,
            "visibility": null,
            "width": null
          }
        },
        "84a52e4d350c4d0c9aca68b358abd68f": {
          "model_module": "@jupyter-widgets/base",
          "model_name": "LayoutModel",
          "model_module_version": "1.2.0",
          "state": {
            "_model_module": "@jupyter-widgets/base",
            "_model_module_version": "1.2.0",
            "_model_name": "LayoutModel",
            "_view_count": null,
            "_view_module": "@jupyter-widgets/base",
            "_view_module_version": "1.2.0",
            "_view_name": "LayoutView",
            "align_content": null,
            "align_items": null,
            "align_self": null,
            "border": null,
            "bottom": null,
            "display": null,
            "flex": null,
            "flex_flow": null,
            "grid_area": null,
            "grid_auto_columns": null,
            "grid_auto_flow": null,
            "grid_auto_rows": null,
            "grid_column": null,
            "grid_gap": null,
            "grid_row": null,
            "grid_template_areas": null,
            "grid_template_columns": null,
            "grid_template_rows": null,
            "height": null,
            "justify_content": null,
            "justify_items": null,
            "left": null,
            "margin": null,
            "max_height": null,
            "max_width": null,
            "min_height": null,
            "min_width": null,
            "object_fit": null,
            "object_position": null,
            "order": null,
            "overflow": null,
            "overflow_x": null,
            "overflow_y": null,
            "padding": null,
            "right": null,
            "top": null,
            "visibility": null,
            "width": null
          }
        },
        "bcd76de1f6d2480eba4f577973700265": {
          "model_module": "@jupyter-widgets/controls",
          "model_name": "DescriptionStyleModel",
          "model_module_version": "1.5.0",
          "state": {
            "_model_module": "@jupyter-widgets/controls",
            "_model_module_version": "1.5.0",
            "_model_name": "DescriptionStyleModel",
            "_view_count": null,
            "_view_module": "@jupyter-widgets/base",
            "_view_module_version": "1.2.0",
            "_view_name": "StyleView",
            "description_width": ""
          }
        },
        "297b387182c546b6b3128d8cbbd67e58": {
          "model_module": "@jupyter-widgets/base",
          "model_name": "LayoutModel",
          "model_module_version": "1.2.0",
          "state": {
            "_model_module": "@jupyter-widgets/base",
            "_model_module_version": "1.2.0",
            "_model_name": "LayoutModel",
            "_view_count": null,
            "_view_module": "@jupyter-widgets/base",
            "_view_module_version": "1.2.0",
            "_view_name": "LayoutView",
            "align_content": null,
            "align_items": null,
            "align_self": null,
            "border": null,
            "bottom": null,
            "display": null,
            "flex": null,
            "flex_flow": null,
            "grid_area": null,
            "grid_auto_columns": null,
            "grid_auto_flow": null,
            "grid_auto_rows": null,
            "grid_column": null,
            "grid_gap": null,
            "grid_row": null,
            "grid_template_areas": null,
            "grid_template_columns": null,
            "grid_template_rows": null,
            "height": null,
            "justify_content": null,
            "justify_items": null,
            "left": null,
            "margin": null,
            "max_height": null,
            "max_width": null,
            "min_height": null,
            "min_width": null,
            "object_fit": null,
            "object_position": null,
            "order": null,
            "overflow": null,
            "overflow_x": null,
            "overflow_y": null,
            "padding": null,
            "right": null,
            "top": null,
            "visibility": null,
            "width": null
          }
        },
        "c5ec58a7659b40e38af0691b2c21767e": {
          "model_module": "@jupyter-widgets/controls",
          "model_name": "ProgressStyleModel",
          "model_module_version": "1.5.0",
          "state": {
            "_model_module": "@jupyter-widgets/controls",
            "_model_module_version": "1.5.0",
            "_model_name": "ProgressStyleModel",
            "_view_count": null,
            "_view_module": "@jupyter-widgets/base",
            "_view_module_version": "1.2.0",
            "_view_name": "StyleView",
            "bar_color": null,
            "description_width": ""
          }
        },
        "bdcf8e13569c408aa31923dee2102637": {
          "model_module": "@jupyter-widgets/base",
          "model_name": "LayoutModel",
          "model_module_version": "1.2.0",
          "state": {
            "_model_module": "@jupyter-widgets/base",
            "_model_module_version": "1.2.0",
            "_model_name": "LayoutModel",
            "_view_count": null,
            "_view_module": "@jupyter-widgets/base",
            "_view_module_version": "1.2.0",
            "_view_name": "LayoutView",
            "align_content": null,
            "align_items": null,
            "align_self": null,
            "border": null,
            "bottom": null,
            "display": null,
            "flex": null,
            "flex_flow": null,
            "grid_area": null,
            "grid_auto_columns": null,
            "grid_auto_flow": null,
            "grid_auto_rows": null,
            "grid_column": null,
            "grid_gap": null,
            "grid_row": null,
            "grid_template_areas": null,
            "grid_template_columns": null,
            "grid_template_rows": null,
            "height": null,
            "justify_content": null,
            "justify_items": null,
            "left": null,
            "margin": null,
            "max_height": null,
            "max_width": null,
            "min_height": null,
            "min_width": null,
            "object_fit": null,
            "object_position": null,
            "order": null,
            "overflow": null,
            "overflow_x": null,
            "overflow_y": null,
            "padding": null,
            "right": null,
            "top": null,
            "visibility": null,
            "width": null
          }
        },
        "3e1f72c5e85f4a78a0e05044270a5071": {
          "model_module": "@jupyter-widgets/controls",
          "model_name": "DescriptionStyleModel",
          "model_module_version": "1.5.0",
          "state": {
            "_model_module": "@jupyter-widgets/controls",
            "_model_module_version": "1.5.0",
            "_model_name": "DescriptionStyleModel",
            "_view_count": null,
            "_view_module": "@jupyter-widgets/base",
            "_view_module_version": "1.2.0",
            "_view_name": "StyleView",
            "description_width": ""
          }
        },
        "1e8043821c574af597ee8e6ce5ecff8c": {
          "model_module": "@jupyter-widgets/controls",
          "model_name": "HBoxModel",
          "model_module_version": "1.5.0",
          "state": {
            "_dom_classes": [],
            "_model_module": "@jupyter-widgets/controls",
            "_model_module_version": "1.5.0",
            "_model_name": "HBoxModel",
            "_view_count": null,
            "_view_module": "@jupyter-widgets/controls",
            "_view_module_version": "1.5.0",
            "_view_name": "HBoxView",
            "box_style": "",
            "children": [
              "IPY_MODEL_eeb02715473b43769d358ea01bf61749",
              "IPY_MODEL_33bb73d3bff84cf6be67044d584f3ec6",
              "IPY_MODEL_78adc28b67704666824c016478fd63c2"
            ],
            "layout": "IPY_MODEL_4a137c5bab6e4c2fbef7abae0d820845"
          }
        },
        "eeb02715473b43769d358ea01bf61749": {
          "model_module": "@jupyter-widgets/controls",
          "model_name": "HTMLModel",
          "model_module_version": "1.5.0",
          "state": {
            "_dom_classes": [],
            "_model_module": "@jupyter-widgets/controls",
            "_model_module_version": "1.5.0",
            "_model_name": "HTMLModel",
            "_view_count": null,
            "_view_module": "@jupyter-widgets/controls",
            "_view_module_version": "1.5.0",
            "_view_name": "HTMLView",
            "description": "",
            "description_tooltip": null,
            "layout": "IPY_MODEL_9bff38ed3de241d2b7d5691682cbd3c8",
            "placeholder": "​",
            "style": "IPY_MODEL_1e3f3b39b70d43438be109611ba3cb2e",
            "value": "100%"
          }
        },
        "33bb73d3bff84cf6be67044d584f3ec6": {
          "model_module": "@jupyter-widgets/controls",
          "model_name": "FloatProgressModel",
          "model_module_version": "1.5.0",
          "state": {
            "_dom_classes": [],
            "_model_module": "@jupyter-widgets/controls",
            "_model_module_version": "1.5.0",
            "_model_name": "FloatProgressModel",
            "_view_count": null,
            "_view_module": "@jupyter-widgets/controls",
            "_view_module_version": "1.5.0",
            "_view_name": "ProgressView",
            "bar_style": "success",
            "description": "",
            "description_tooltip": null,
            "layout": "IPY_MODEL_1956dd98378441a88f70938a9a7ab33e",
            "max": 1648877,
            "min": 0,
            "orientation": "horizontal",
            "style": "IPY_MODEL_f5cda7121a2e4b0ba2f5632b475b834e",
            "value": 1648877
          }
        },
        "78adc28b67704666824c016478fd63c2": {
          "model_module": "@jupyter-widgets/controls",
          "model_name": "HTMLModel",
          "model_module_version": "1.5.0",
          "state": {
            "_dom_classes": [],
            "_model_module": "@jupyter-widgets/controls",
            "_model_module_version": "1.5.0",
            "_model_name": "HTMLModel",
            "_view_count": null,
            "_view_module": "@jupyter-widgets/controls",
            "_view_module_version": "1.5.0",
            "_view_name": "HTMLView",
            "description": "",
            "description_tooltip": null,
            "layout": "IPY_MODEL_ceb69280ed4f4d9c943f43c4043b789f",
            "placeholder": "​",
            "style": "IPY_MODEL_45ba028788694718b5c04dd398c46ef4",
            "value": " 1648877/1648877 [00:00&lt;00:00, 48760805.99it/s]"
          }
        },
        "4a137c5bab6e4c2fbef7abae0d820845": {
          "model_module": "@jupyter-widgets/base",
          "model_name": "LayoutModel",
          "model_module_version": "1.2.0",
          "state": {
            "_model_module": "@jupyter-widgets/base",
            "_model_module_version": "1.2.0",
            "_model_name": "LayoutModel",
            "_view_count": null,
            "_view_module": "@jupyter-widgets/base",
            "_view_module_version": "1.2.0",
            "_view_name": "LayoutView",
            "align_content": null,
            "align_items": null,
            "align_self": null,
            "border": null,
            "bottom": null,
            "display": null,
            "flex": null,
            "flex_flow": null,
            "grid_area": null,
            "grid_auto_columns": null,
            "grid_auto_flow": null,
            "grid_auto_rows": null,
            "grid_column": null,
            "grid_gap": null,
            "grid_row": null,
            "grid_template_areas": null,
            "grid_template_columns": null,
            "grid_template_rows": null,
            "height": null,
            "justify_content": null,
            "justify_items": null,
            "left": null,
            "margin": null,
            "max_height": null,
            "max_width": null,
            "min_height": null,
            "min_width": null,
            "object_fit": null,
            "object_position": null,
            "order": null,
            "overflow": null,
            "overflow_x": null,
            "overflow_y": null,
            "padding": null,
            "right": null,
            "top": null,
            "visibility": null,
            "width": null
          }
        },
        "9bff38ed3de241d2b7d5691682cbd3c8": {
          "model_module": "@jupyter-widgets/base",
          "model_name": "LayoutModel",
          "model_module_version": "1.2.0",
          "state": {
            "_model_module": "@jupyter-widgets/base",
            "_model_module_version": "1.2.0",
            "_model_name": "LayoutModel",
            "_view_count": null,
            "_view_module": "@jupyter-widgets/base",
            "_view_module_version": "1.2.0",
            "_view_name": "LayoutView",
            "align_content": null,
            "align_items": null,
            "align_self": null,
            "border": null,
            "bottom": null,
            "display": null,
            "flex": null,
            "flex_flow": null,
            "grid_area": null,
            "grid_auto_columns": null,
            "grid_auto_flow": null,
            "grid_auto_rows": null,
            "grid_column": null,
            "grid_gap": null,
            "grid_row": null,
            "grid_template_areas": null,
            "grid_template_columns": null,
            "grid_template_rows": null,
            "height": null,
            "justify_content": null,
            "justify_items": null,
            "left": null,
            "margin": null,
            "max_height": null,
            "max_width": null,
            "min_height": null,
            "min_width": null,
            "object_fit": null,
            "object_position": null,
            "order": null,
            "overflow": null,
            "overflow_x": null,
            "overflow_y": null,
            "padding": null,
            "right": null,
            "top": null,
            "visibility": null,
            "width": null
          }
        },
        "1e3f3b39b70d43438be109611ba3cb2e": {
          "model_module": "@jupyter-widgets/controls",
          "model_name": "DescriptionStyleModel",
          "model_module_version": "1.5.0",
          "state": {
            "_model_module": "@jupyter-widgets/controls",
            "_model_module_version": "1.5.0",
            "_model_name": "DescriptionStyleModel",
            "_view_count": null,
            "_view_module": "@jupyter-widgets/base",
            "_view_module_version": "1.2.0",
            "_view_name": "StyleView",
            "description_width": ""
          }
        },
        "1956dd98378441a88f70938a9a7ab33e": {
          "model_module": "@jupyter-widgets/base",
          "model_name": "LayoutModel",
          "model_module_version": "1.2.0",
          "state": {
            "_model_module": "@jupyter-widgets/base",
            "_model_module_version": "1.2.0",
            "_model_name": "LayoutModel",
            "_view_count": null,
            "_view_module": "@jupyter-widgets/base",
            "_view_module_version": "1.2.0",
            "_view_name": "LayoutView",
            "align_content": null,
            "align_items": null,
            "align_self": null,
            "border": null,
            "bottom": null,
            "display": null,
            "flex": null,
            "flex_flow": null,
            "grid_area": null,
            "grid_auto_columns": null,
            "grid_auto_flow": null,
            "grid_auto_rows": null,
            "grid_column": null,
            "grid_gap": null,
            "grid_row": null,
            "grid_template_areas": null,
            "grid_template_columns": null,
            "grid_template_rows": null,
            "height": null,
            "justify_content": null,
            "justify_items": null,
            "left": null,
            "margin": null,
            "max_height": null,
            "max_width": null,
            "min_height": null,
            "min_width": null,
            "object_fit": null,
            "object_position": null,
            "order": null,
            "overflow": null,
            "overflow_x": null,
            "overflow_y": null,
            "padding": null,
            "right": null,
            "top": null,
            "visibility": null,
            "width": null
          }
        },
        "f5cda7121a2e4b0ba2f5632b475b834e": {
          "model_module": "@jupyter-widgets/controls",
          "model_name": "ProgressStyleModel",
          "model_module_version": "1.5.0",
          "state": {
            "_model_module": "@jupyter-widgets/controls",
            "_model_module_version": "1.5.0",
            "_model_name": "ProgressStyleModel",
            "_view_count": null,
            "_view_module": "@jupyter-widgets/base",
            "_view_module_version": "1.2.0",
            "_view_name": "StyleView",
            "bar_color": null,
            "description_width": ""
          }
        },
        "ceb69280ed4f4d9c943f43c4043b789f": {
          "model_module": "@jupyter-widgets/base",
          "model_name": "LayoutModel",
          "model_module_version": "1.2.0",
          "state": {
            "_model_module": "@jupyter-widgets/base",
            "_model_module_version": "1.2.0",
            "_model_name": "LayoutModel",
            "_view_count": null,
            "_view_module": "@jupyter-widgets/base",
            "_view_module_version": "1.2.0",
            "_view_name": "LayoutView",
            "align_content": null,
            "align_items": null,
            "align_self": null,
            "border": null,
            "bottom": null,
            "display": null,
            "flex": null,
            "flex_flow": null,
            "grid_area": null,
            "grid_auto_columns": null,
            "grid_auto_flow": null,
            "grid_auto_rows": null,
            "grid_column": null,
            "grid_gap": null,
            "grid_row": null,
            "grid_template_areas": null,
            "grid_template_columns": null,
            "grid_template_rows": null,
            "height": null,
            "justify_content": null,
            "justify_items": null,
            "left": null,
            "margin": null,
            "max_height": null,
            "max_width": null,
            "min_height": null,
            "min_width": null,
            "object_fit": null,
            "object_position": null,
            "order": null,
            "overflow": null,
            "overflow_x": null,
            "overflow_y": null,
            "padding": null,
            "right": null,
            "top": null,
            "visibility": null,
            "width": null
          }
        },
        "45ba028788694718b5c04dd398c46ef4": {
          "model_module": "@jupyter-widgets/controls",
          "model_name": "DescriptionStyleModel",
          "model_module_version": "1.5.0",
          "state": {
            "_model_module": "@jupyter-widgets/controls",
            "_model_module_version": "1.5.0",
            "_model_name": "DescriptionStyleModel",
            "_view_count": null,
            "_view_module": "@jupyter-widgets/base",
            "_view_module_version": "1.2.0",
            "_view_name": "StyleView",
            "description_width": ""
          }
        },
        "8ebaf96cb45a4ab697058f1b6c5621b1": {
          "model_module": "@jupyter-widgets/controls",
          "model_name": "HBoxModel",
          "model_module_version": "1.5.0",
          "state": {
            "_dom_classes": [],
            "_model_module": "@jupyter-widgets/controls",
            "_model_module_version": "1.5.0",
            "_model_name": "HBoxModel",
            "_view_count": null,
            "_view_module": "@jupyter-widgets/controls",
            "_view_module_version": "1.5.0",
            "_view_name": "HBoxView",
            "box_style": "",
            "children": [
              "IPY_MODEL_7f2c8e09ffcf4257a9707e3a2d340335",
              "IPY_MODEL_bd6f4e55beaf4fe0a8502df225de9b6f",
              "IPY_MODEL_5555a30300384db288f02bc97c5e8547"
            ],
            "layout": "IPY_MODEL_ae76e8769f4946f6b51bc30fad243e2f"
          }
        },
        "7f2c8e09ffcf4257a9707e3a2d340335": {
          "model_module": "@jupyter-widgets/controls",
          "model_name": "HTMLModel",
          "model_module_version": "1.5.0",
          "state": {
            "_dom_classes": [],
            "_model_module": "@jupyter-widgets/controls",
            "_model_module_version": "1.5.0",
            "_model_name": "HTMLModel",
            "_view_count": null,
            "_view_module": "@jupyter-widgets/controls",
            "_view_module_version": "1.5.0",
            "_view_name": "HTMLView",
            "description": "",
            "description_tooltip": null,
            "layout": "IPY_MODEL_3e5be690a95a42d0857e7d888ec02e0b",
            "placeholder": "​",
            "style": "IPY_MODEL_40a797ea53fe4b1d94d7fc9914256b6b",
            "value": "100%"
          }
        },
        "bd6f4e55beaf4fe0a8502df225de9b6f": {
          "model_module": "@jupyter-widgets/controls",
          "model_name": "FloatProgressModel",
          "model_module_version": "1.5.0",
          "state": {
            "_dom_classes": [],
            "_model_module": "@jupyter-widgets/controls",
            "_model_module_version": "1.5.0",
            "_model_name": "FloatProgressModel",
            "_view_count": null,
            "_view_module": "@jupyter-widgets/controls",
            "_view_module_version": "1.5.0",
            "_view_name": "ProgressView",
            "bar_style": "success",
            "description": "",
            "description_tooltip": null,
            "layout": "IPY_MODEL_250a10a33bc1475885c0116ee982cf24",
            "max": 4542,
            "min": 0,
            "orientation": "horizontal",
            "style": "IPY_MODEL_44883690a92e4585b0f37b008b3de44e",
            "value": 4542
          }
        },
        "5555a30300384db288f02bc97c5e8547": {
          "model_module": "@jupyter-widgets/controls",
          "model_name": "HTMLModel",
          "model_module_version": "1.5.0",
          "state": {
            "_dom_classes": [],
            "_model_module": "@jupyter-widgets/controls",
            "_model_module_version": "1.5.0",
            "_model_name": "HTMLModel",
            "_view_count": null,
            "_view_module": "@jupyter-widgets/controls",
            "_view_module_version": "1.5.0",
            "_view_name": "HTMLView",
            "description": "",
            "description_tooltip": null,
            "layout": "IPY_MODEL_bf287cf6202244de8a75de5577c8d1c5",
            "placeholder": "​",
            "style": "IPY_MODEL_46b577371f7049e7a1e728e8b61e5c0d",
            "value": " 4542/4542 [00:00&lt;00:00, 282330.44it/s]"
          }
        },
        "ae76e8769f4946f6b51bc30fad243e2f": {
          "model_module": "@jupyter-widgets/base",
          "model_name": "LayoutModel",
          "model_module_version": "1.2.0",
          "state": {
            "_model_module": "@jupyter-widgets/base",
            "_model_module_version": "1.2.0",
            "_model_name": "LayoutModel",
            "_view_count": null,
            "_view_module": "@jupyter-widgets/base",
            "_view_module_version": "1.2.0",
            "_view_name": "LayoutView",
            "align_content": null,
            "align_items": null,
            "align_self": null,
            "border": null,
            "bottom": null,
            "display": null,
            "flex": null,
            "flex_flow": null,
            "grid_area": null,
            "grid_auto_columns": null,
            "grid_auto_flow": null,
            "grid_auto_rows": null,
            "grid_column": null,
            "grid_gap": null,
            "grid_row": null,
            "grid_template_areas": null,
            "grid_template_columns": null,
            "grid_template_rows": null,
            "height": null,
            "justify_content": null,
            "justify_items": null,
            "left": null,
            "margin": null,
            "max_height": null,
            "max_width": null,
            "min_height": null,
            "min_width": null,
            "object_fit": null,
            "object_position": null,
            "order": null,
            "overflow": null,
            "overflow_x": null,
            "overflow_y": null,
            "padding": null,
            "right": null,
            "top": null,
            "visibility": null,
            "width": null
          }
        },
        "3e5be690a95a42d0857e7d888ec02e0b": {
          "model_module": "@jupyter-widgets/base",
          "model_name": "LayoutModel",
          "model_module_version": "1.2.0",
          "state": {
            "_model_module": "@jupyter-widgets/base",
            "_model_module_version": "1.2.0",
            "_model_name": "LayoutModel",
            "_view_count": null,
            "_view_module": "@jupyter-widgets/base",
            "_view_module_version": "1.2.0",
            "_view_name": "LayoutView",
            "align_content": null,
            "align_items": null,
            "align_self": null,
            "border": null,
            "bottom": null,
            "display": null,
            "flex": null,
            "flex_flow": null,
            "grid_area": null,
            "grid_auto_columns": null,
            "grid_auto_flow": null,
            "grid_auto_rows": null,
            "grid_column": null,
            "grid_gap": null,
            "grid_row": null,
            "grid_template_areas": null,
            "grid_template_columns": null,
            "grid_template_rows": null,
            "height": null,
            "justify_content": null,
            "justify_items": null,
            "left": null,
            "margin": null,
            "max_height": null,
            "max_width": null,
            "min_height": null,
            "min_width": null,
            "object_fit": null,
            "object_position": null,
            "order": null,
            "overflow": null,
            "overflow_x": null,
            "overflow_y": null,
            "padding": null,
            "right": null,
            "top": null,
            "visibility": null,
            "width": null
          }
        },
        "40a797ea53fe4b1d94d7fc9914256b6b": {
          "model_module": "@jupyter-widgets/controls",
          "model_name": "DescriptionStyleModel",
          "model_module_version": "1.5.0",
          "state": {
            "_model_module": "@jupyter-widgets/controls",
            "_model_module_version": "1.5.0",
            "_model_name": "DescriptionStyleModel",
            "_view_count": null,
            "_view_module": "@jupyter-widgets/base",
            "_view_module_version": "1.2.0",
            "_view_name": "StyleView",
            "description_width": ""
          }
        },
        "250a10a33bc1475885c0116ee982cf24": {
          "model_module": "@jupyter-widgets/base",
          "model_name": "LayoutModel",
          "model_module_version": "1.2.0",
          "state": {
            "_model_module": "@jupyter-widgets/base",
            "_model_module_version": "1.2.0",
            "_model_name": "LayoutModel",
            "_view_count": null,
            "_view_module": "@jupyter-widgets/base",
            "_view_module_version": "1.2.0",
            "_view_name": "LayoutView",
            "align_content": null,
            "align_items": null,
            "align_self": null,
            "border": null,
            "bottom": null,
            "display": null,
            "flex": null,
            "flex_flow": null,
            "grid_area": null,
            "grid_auto_columns": null,
            "grid_auto_flow": null,
            "grid_auto_rows": null,
            "grid_column": null,
            "grid_gap": null,
            "grid_row": null,
            "grid_template_areas": null,
            "grid_template_columns": null,
            "grid_template_rows": null,
            "height": null,
            "justify_content": null,
            "justify_items": null,
            "left": null,
            "margin": null,
            "max_height": null,
            "max_width": null,
            "min_height": null,
            "min_width": null,
            "object_fit": null,
            "object_position": null,
            "order": null,
            "overflow": null,
            "overflow_x": null,
            "overflow_y": null,
            "padding": null,
            "right": null,
            "top": null,
            "visibility": null,
            "width": null
          }
        },
        "44883690a92e4585b0f37b008b3de44e": {
          "model_module": "@jupyter-widgets/controls",
          "model_name": "ProgressStyleModel",
          "model_module_version": "1.5.0",
          "state": {
            "_model_module": "@jupyter-widgets/controls",
            "_model_module_version": "1.5.0",
            "_model_name": "ProgressStyleModel",
            "_view_count": null,
            "_view_module": "@jupyter-widgets/base",
            "_view_module_version": "1.2.0",
            "_view_name": "StyleView",
            "bar_color": null,
            "description_width": ""
          }
        },
        "bf287cf6202244de8a75de5577c8d1c5": {
          "model_module": "@jupyter-widgets/base",
          "model_name": "LayoutModel",
          "model_module_version": "1.2.0",
          "state": {
            "_model_module": "@jupyter-widgets/base",
            "_model_module_version": "1.2.0",
            "_model_name": "LayoutModel",
            "_view_count": null,
            "_view_module": "@jupyter-widgets/base",
            "_view_module_version": "1.2.0",
            "_view_name": "LayoutView",
            "align_content": null,
            "align_items": null,
            "align_self": null,
            "border": null,
            "bottom": null,
            "display": null,
            "flex": null,
            "flex_flow": null,
            "grid_area": null,
            "grid_auto_columns": null,
            "grid_auto_flow": null,
            "grid_auto_rows": null,
            "grid_column": null,
            "grid_gap": null,
            "grid_row": null,
            "grid_template_areas": null,
            "grid_template_columns": null,
            "grid_template_rows": null,
            "height": null,
            "justify_content": null,
            "justify_items": null,
            "left": null,
            "margin": null,
            "max_height": null,
            "max_width": null,
            "min_height": null,
            "min_width": null,
            "object_fit": null,
            "object_position": null,
            "order": null,
            "overflow": null,
            "overflow_x": null,
            "overflow_y": null,
            "padding": null,
            "right": null,
            "top": null,
            "visibility": null,
            "width": null
          }
        },
        "46b577371f7049e7a1e728e8b61e5c0d": {
          "model_module": "@jupyter-widgets/controls",
          "model_name": "DescriptionStyleModel",
          "model_module_version": "1.5.0",
          "state": {
            "_model_module": "@jupyter-widgets/controls",
            "_model_module_version": "1.5.0",
            "_model_name": "DescriptionStyleModel",
            "_view_count": null,
            "_view_module": "@jupyter-widgets/base",
            "_view_module_version": "1.2.0",
            "_view_name": "StyleView",
            "description_width": ""
          }
        }
      }
    }
  },
  "cells": [
    {
      "cell_type": "markdown",
      "metadata": {
        "id": "view-in-github",
        "colab_type": "text"
      },
      "source": [
        "<a href=\"https://colab.research.google.com/github/peeyushsinghal/EVA8/blob/main/Assignment_2.5/assignment_2_5_v3.ipynb\" target=\"_parent\"><img src=\"https://colab.research.google.com/assets/colab-badge.svg\" alt=\"Open In Colab\"/></a>"
      ]
    },
    {
      "cell_type": "markdown",
      "metadata": {
        "id": "AbRlM4mUoqUP"
      },
      "source": [
        "###Importing Libraries"
      ]
    },
    {
      "cell_type": "code",
      "metadata": {
        "id": "Ku8UAkCO6hi0"
      },
      "source": [
        "import torch\n",
        "from torch.utils.data import Dataset # extending Dataset class for custom dataset\n",
        "from torchvision import datasets # downloading MNIST\n",
        "from torchvision.utils import make_grid # for vizualizing dataset loader\n",
        "import torchvision.transforms  # to convert to tensor, normalization etc\n",
        "import matplotlib.pyplot as plt # to plot pictures and check\n",
        "import random # to generate random numbers\n",
        "import torch.optim as optim # optimizer\n",
        "import torch.nn as nn # to create network\n",
        "import torch.nn.functional as F # to use in network to not include params\n",
        "import numpy as np # for image plotting funtions"
      ],
      "execution_count": 1,
      "outputs": []
    },
    {
      "cell_type": "code",
      "metadata": {
        "id": "Ei8K-nlEGKA7"
      },
      "source": [
        "use_cuda = torch.cuda.is_available() # checking GPU\n",
        "device = torch.device(\"cuda\" if use_cuda else \"cpu\") # selecting GPU or CPU as per availability"
      ],
      "execution_count": 2,
      "outputs": []
    },
    {
      "cell_type": "markdown",
      "metadata": {
        "id": "AIyauPRmBccJ"
      },
      "source": [
        "###Dataset and Dataloader\n",
        "\n",
        "- The dataset is based on MNIST: a new dataset class inherited from MNIST is created which not only includes the MNIST image but also a random number between 0 to 9. Further the dataset includes not only the MNIST label but also the sum of the label and the random number (integer).\n",
        "\n",
        "- Dataloaders - both test and train is created based on the new dataset class created "
      ]
    },
    {
      "cell_type": "code",
      "metadata": {
        "id": "dW5StUisRpWQ"
      },
      "source": [
        "class MNISTCombined(datasets.MNIST):\n",
        "  '''\n",
        "  The dataset object MNISTCombined extends MNIST\n",
        "  It would return MNIST Image, random number, MNIST Label and Sum of MNIST Label and Random Number as output\n",
        "  '''\n",
        "  # def __init__(self):\n",
        "  #  no change from super, it is ok not to write this here also\n",
        "\n",
        "  def __getitem__(self,index):\n",
        "    image,label  = super(MNISTCombined,self).__getitem__(index) # this gets super class' get item \n",
        "    random_number = torch.tensor(random.randint(0,9)) # random number between 0 and 9\n",
        "    return (image, random_number, label, label+ random_number) # outputs image, random number, label, sum of label and random number\n",
        "  \n",
        "  # def __len__(self):\n",
        "  # no change from super, it is ok not to write this here also"
      ],
      "execution_count": 4,
      "outputs": []
    },
    {
      "cell_type": "code",
      "metadata": {
        "id": "oZEYsqCK0veM",
        "colab": {
          "base_uri": "https://localhost:8080/",
          "height": 423,
          "referenced_widgets": [
            "1de44e7c29dc4bb9b36011162abe65dc",
            "b10334d922684e738bb41ac9694782ae",
            "40823161e6e947f68665a63018855bc3",
            "cd09ecbcc7a04668a61ae64c295fc8b5",
            "03a469b435c248f59db3bf63dd2c66e4",
            "4ec30d44efba4106942be3d97b839e20",
            "3e05df88a82c4c66aa4541efd674509f",
            "e1f706d87064471797f36756205dcb25",
            "f13b387ad4304a3f841f21bf01131c79",
            "65b38eb03aa0467c893ba81ac5ac5b75",
            "51bbf27d8daa4e329a19978c58c8d72a",
            "8e9d9a54e5824b4b90bcf62d333b77e4",
            "230ba0fc581e449d8492bbc100200fcc",
            "ecafa60e80ab489481c5aacda556bdd0",
            "7b3de56af66344989a1a9852abbf952e",
            "2d225ae4b10946e0a4a62e54c29604be",
            "84a52e4d350c4d0c9aca68b358abd68f",
            "bcd76de1f6d2480eba4f577973700265",
            "297b387182c546b6b3128d8cbbd67e58",
            "c5ec58a7659b40e38af0691b2c21767e",
            "bdcf8e13569c408aa31923dee2102637",
            "3e1f72c5e85f4a78a0e05044270a5071",
            "1e8043821c574af597ee8e6ce5ecff8c",
            "eeb02715473b43769d358ea01bf61749",
            "33bb73d3bff84cf6be67044d584f3ec6",
            "78adc28b67704666824c016478fd63c2",
            "4a137c5bab6e4c2fbef7abae0d820845",
            "9bff38ed3de241d2b7d5691682cbd3c8",
            "1e3f3b39b70d43438be109611ba3cb2e",
            "1956dd98378441a88f70938a9a7ab33e",
            "f5cda7121a2e4b0ba2f5632b475b834e",
            "ceb69280ed4f4d9c943f43c4043b789f",
            "45ba028788694718b5c04dd398c46ef4",
            "8ebaf96cb45a4ab697058f1b6c5621b1",
            "7f2c8e09ffcf4257a9707e3a2d340335",
            "bd6f4e55beaf4fe0a8502df225de9b6f",
            "5555a30300384db288f02bc97c5e8547",
            "ae76e8769f4946f6b51bc30fad243e2f",
            "3e5be690a95a42d0857e7d888ec02e0b",
            "40a797ea53fe4b1d94d7fc9914256b6b",
            "250a10a33bc1475885c0116ee982cf24",
            "44883690a92e4585b0f37b008b3de44e",
            "bf287cf6202244de8a75de5577c8d1c5",
            "46b577371f7049e7a1e728e8b61e5c0d"
          ]
        },
        "outputId": "2fcd7e39-8cda-445a-c24e-a49027225717"
      },
      "source": [
        "# creating training and test loaders\n",
        "\n",
        "batch_size_train = 32\n",
        "batch_size_test = 1000 # this can be high as we just need the forward pass here\n",
        "\n",
        "train_loader = torch.utils.data.DataLoader(\n",
        "    MNISTCombined(\n",
        "        root ='./', #arbit directory\n",
        "        train=True, #train\n",
        "        download=True,\n",
        "        transform=torchvision.transforms.Compose([\n",
        "                                       torchvision.transforms.ToTensor(),#changing to tensor\n",
        "                                       torchvision.transforms.Normalize(\n",
        "                                           (0.1307,), (0.3081,))#normalizing\n",
        "                                   ])),\n",
        "                                   batch_size=batch_size_train, \n",
        "                                   shuffle=True# shuffling the dataset\n",
        "                                   )\n",
        "\n",
        "test_loader = torch.utils.data.DataLoader(\n",
        "    MNISTCombined(\n",
        "        root ='./', #arbit directory\n",
        "        train=True, #train\n",
        "        download=True,\n",
        "        transform=torchvision.transforms.Compose([\n",
        "                                       torchvision.transforms.ToTensor(),#changing to tensor\n",
        "                                       torchvision.transforms.Normalize(\n",
        "                                           (0.1307,), (0.3081,))#normalizing\n",
        "                                   ])),\n",
        "                                   batch_size=batch_size_test, \n",
        "                                   shuffle=True# shuffling the dataset\n",
        "                                   )"
      ],
      "execution_count": 5,
      "outputs": [
        {
          "output_type": "stream",
          "name": "stdout",
          "text": [
            "Downloading http://yann.lecun.com/exdb/mnist/train-images-idx3-ubyte.gz\n",
            "Downloading http://yann.lecun.com/exdb/mnist/train-images-idx3-ubyte.gz to ./MNISTCombined/raw/train-images-idx3-ubyte.gz\n"
          ]
        },
        {
          "output_type": "display_data",
          "data": {
            "text/plain": [
              "  0%|          | 0/9912422 [00:00<?, ?it/s]"
            ],
            "application/vnd.jupyter.widget-view+json": {
              "version_major": 2,
              "version_minor": 0,
              "model_id": "1de44e7c29dc4bb9b36011162abe65dc"
            }
          },
          "metadata": {}
        },
        {
          "output_type": "stream",
          "name": "stdout",
          "text": [
            "Extracting ./MNISTCombined/raw/train-images-idx3-ubyte.gz to ./MNISTCombined/raw\n",
            "\n",
            "Downloading http://yann.lecun.com/exdb/mnist/train-labels-idx1-ubyte.gz\n",
            "Downloading http://yann.lecun.com/exdb/mnist/train-labels-idx1-ubyte.gz to ./MNISTCombined/raw/train-labels-idx1-ubyte.gz\n"
          ]
        },
        {
          "output_type": "display_data",
          "data": {
            "text/plain": [
              "  0%|          | 0/28881 [00:00<?, ?it/s]"
            ],
            "application/vnd.jupyter.widget-view+json": {
              "version_major": 2,
              "version_minor": 0,
              "model_id": "8e9d9a54e5824b4b90bcf62d333b77e4"
            }
          },
          "metadata": {}
        },
        {
          "output_type": "stream",
          "name": "stdout",
          "text": [
            "Extracting ./MNISTCombined/raw/train-labels-idx1-ubyte.gz to ./MNISTCombined/raw\n",
            "\n",
            "Downloading http://yann.lecun.com/exdb/mnist/t10k-images-idx3-ubyte.gz\n",
            "Downloading http://yann.lecun.com/exdb/mnist/t10k-images-idx3-ubyte.gz to ./MNISTCombined/raw/t10k-images-idx3-ubyte.gz\n"
          ]
        },
        {
          "output_type": "display_data",
          "data": {
            "text/plain": [
              "  0%|          | 0/1648877 [00:00<?, ?it/s]"
            ],
            "application/vnd.jupyter.widget-view+json": {
              "version_major": 2,
              "version_minor": 0,
              "model_id": "1e8043821c574af597ee8e6ce5ecff8c"
            }
          },
          "metadata": {}
        },
        {
          "output_type": "stream",
          "name": "stdout",
          "text": [
            "Extracting ./MNISTCombined/raw/t10k-images-idx3-ubyte.gz to ./MNISTCombined/raw\n",
            "\n",
            "Downloading http://yann.lecun.com/exdb/mnist/t10k-labels-idx1-ubyte.gz\n",
            "Downloading http://yann.lecun.com/exdb/mnist/t10k-labels-idx1-ubyte.gz to ./MNISTCombined/raw/t10k-labels-idx1-ubyte.gz\n"
          ]
        },
        {
          "output_type": "display_data",
          "data": {
            "text/plain": [
              "  0%|          | 0/4542 [00:00<?, ?it/s]"
            ],
            "application/vnd.jupyter.widget-view+json": {
              "version_major": 2,
              "version_minor": 0,
              "model_id": "8ebaf96cb45a4ab697058f1b6c5621b1"
            }
          },
          "metadata": {}
        },
        {
          "output_type": "stream",
          "name": "stdout",
          "text": [
            "Extracting ./MNISTCombined/raw/t10k-labels-idx1-ubyte.gz to ./MNISTCombined/raw\n",
            "\n"
          ]
        }
      ]
    },
    {
      "cell_type": "code",
      "metadata": {
        "colab": {
          "base_uri": "https://localhost:8080/",
          "height": 510
        },
        "id": "LTrfgra7yLGi",
        "outputId": "8d7886e2-daa3-4365-9984-bbbbf8bc65ca"
      },
      "source": [
        "# visualizing the data set batch\n",
        "img, number, label, sum_label_number = next(iter(train_loader))\n",
        "grid = make_grid(img, nrow=10)\n",
        "plt.figure(figsize=(15,15))\n",
        "plt.imshow(np.transpose(grid, (1,2,0)))\n",
        "print (f'label:  {label}, \\nrandom number: {number}, \\nsum of label and random number: {sum_label_number}')"
      ],
      "execution_count": 6,
      "outputs": [
        {
          "output_type": "stream",
          "name": "stderr",
          "text": [
            "WARNING:matplotlib.image:Clipping input data to the valid range for imshow with RGB data ([0..1] for floats or [0..255] for integers).\n"
          ]
        },
        {
          "output_type": "stream",
          "name": "stdout",
          "text": [
            "label:  tensor([9, 6, 8, 6, 8, 0, 3, 8, 7, 1, 5, 2, 7, 1, 2, 4, 6, 1, 1, 3, 7, 7, 5, 3,\n",
            "        7, 0, 0, 2, 8, 4, 2, 8]), \n",
            "random number: tensor([3, 0, 2, 3, 5, 3, 2, 7, 8, 4, 2, 7, 5, 0, 0, 1, 5, 9, 2, 7, 6, 2, 5, 8,\n",
            "        6, 3, 2, 1, 3, 9, 2, 7]), \n",
            "sum of label and random number: tensor([12,  6, 10,  9, 13,  3,  5, 15, 15,  5,  7,  9, 12,  1,  2,  5, 11, 10,\n",
            "         3, 10, 13,  9, 10, 11, 13,  3,  2,  3, 11, 13,  4, 15])\n"
          ]
        },
        {
          "output_type": "display_data",
          "data": {
            "text/plain": [
              "<Figure size 1080x1080 with 1 Axes>"
            ],
            "image/png": "[encoded data removed]"
          },
          "metadata": {
            "needs_background": "light"
          }
        }
      ]
    },
    {
      "cell_type": "code",
      "metadata": {
        "colab": {
          "base_uri": "https://localhost:8080/"
        },
        "id": "_L1LsTxruw6T",
        "outputId": "638b5f0b-dea5-46a9-f73c-552488bcabdc"
      },
      "source": [
        "img, number, label, sum_label_number = next(iter(train_loader))\n",
        "print(img.shape,number.shape,label.shape,sum_label_number.shape)\n"
      ],
      "execution_count": 7,
      "outputs": [
        {
          "output_type": "stream",
          "name": "stdout",
          "text": [
            "torch.Size([32, 1, 28, 28]) torch.Size([32]) torch.Size([32]) torch.Size([32])\n"
          ]
        }
      ]
    },
    {
      "cell_type": "code",
      "metadata": {
        "colab": {
          "base_uri": "https://localhost:8080/"
        },
        "id": "HuaVdHokrM-I",
        "outputId": "f42073ec-863a-438b-acf8-018dd4543ec1"
      },
      "source": [
        "number_one_hot = F.one_hot(number, num_classes=10) # checking how would one hot encoding would look like, actual encoding is done in NN forward function\n",
        "print (f'number : {number} \\n number_one_hot\\n{number_one_hot}')"
      ],
      "execution_count": 10,
      "outputs": [
        {
          "output_type": "stream",
          "name": "stdout",
          "text": [
            "number : tensor([2, 4, 5, 9, 7, 0, 7, 7, 0, 5, 7, 7, 8, 2, 2, 7, 8, 8, 2, 5, 3, 3, 2, 6,\n",
            "        5, 0, 1, 6, 0, 6, 7, 7]) \n",
            " number_one_hot\n",
            "tensor([[0, 0, 1, 0, 0, 0, 0, 0, 0, 0],\n",
            "        [0, 0, 0, 0, 1, 0, 0, 0, 0, 0],\n",
            "        [0, 0, 0, 0, 0, 1, 0, 0, 0, 0],\n",
            "        [0, 0, 0, 0, 0, 0, 0, 0, 0, 1],\n",
            "        [0, 0, 0, 0, 0, 0, 0, 1, 0, 0],\n",
            "        [1, 0, 0, 0, 0, 0, 0, 0, 0, 0],\n",
            "        [0, 0, 0, 0, 0, 0, 0, 1, 0, 0],\n",
            "        [0, 0, 0, 0, 0, 0, 0, 1, 0, 0],\n",
            "        [1, 0, 0, 0, 0, 0, 0, 0, 0, 0],\n",
            "        [0, 0, 0, 0, 0, 1, 0, 0, 0, 0],\n",
            "        [0, 0, 0, 0, 0, 0, 0, 1, 0, 0],\n",
            "        [0, 0, 0, 0, 0, 0, 0, 1, 0, 0],\n",
            "        [0, 0, 0, 0, 0, 0, 0, 0, 1, 0],\n",
            "        [0, 0, 1, 0, 0, 0, 0, 0, 0, 0],\n",
            "        [0, 0, 1, 0, 0, 0, 0, 0, 0, 0],\n",
            "        [0, 0, 0, 0, 0, 0, 0, 1, 0, 0],\n",
            "        [0, 0, 0, 0, 0, 0, 0, 0, 1, 0],\n",
            "        [0, 0, 0, 0, 0, 0, 0, 0, 1, 0],\n",
            "        [0, 0, 1, 0, 0, 0, 0, 0, 0, 0],\n",
            "        [0, 0, 0, 0, 0, 1, 0, 0, 0, 0],\n",
            "        [0, 0, 0, 1, 0, 0, 0, 0, 0, 0],\n",
            "        [0, 0, 0, 1, 0, 0, 0, 0, 0, 0],\n",
            "        [0, 0, 1, 0, 0, 0, 0, 0, 0, 0],\n",
            "        [0, 0, 0, 0, 0, 0, 1, 0, 0, 0],\n",
            "        [0, 0, 0, 0, 0, 1, 0, 0, 0, 0],\n",
            "        [1, 0, 0, 0, 0, 0, 0, 0, 0, 0],\n",
            "        [0, 1, 0, 0, 0, 0, 0, 0, 0, 0],\n",
            "        [0, 0, 0, 0, 0, 0, 1, 0, 0, 0],\n",
            "        [1, 0, 0, 0, 0, 0, 0, 0, 0, 0],\n",
            "        [0, 0, 0, 0, 0, 0, 1, 0, 0, 0],\n",
            "        [0, 0, 0, 0, 0, 0, 0, 1, 0, 0],\n",
            "        [0, 0, 0, 0, 0, 0, 0, 1, 0, 0]])\n"
          ]
        }
      ]
    },
    {
      "cell_type": "markdown",
      "metadata": {
        "id": "fT8SRITkifsn"
      },
      "source": [
        "### Network\n",
        "\n",
        "- It uses CNN to understand the image representation\n",
        "- The image representation and one hot encoding of random number is concatenated\n",
        "- Two separate heads are used - one for label prediction (classes 10) and one for sum prediction (classes 19), both taking the conctenated tensor"
      ]
    },
    {
      "cell_type": "code",
      "metadata": {
        "id": "9i8nMQzngvML",
        "colab": {
          "base_uri": "https://localhost:8080/"
        },
        "outputId": "cdb938a7-84c0-4eda-a3b0-81929b8e782b"
      },
      "source": [
        "class Network(nn.Module):\n",
        "  def __init__(self):\n",
        "    super(Network,self).__init__()\n",
        "    \n",
        "    # self.conv1= nn.Conv2d(in_channels=1,out_channels=6,kernel_size=5) # Input- 1x28x28 Output-6x24x24, \n",
        "    # self.conv2= nn.Conv2d(in_channels=6,out_channels=12,kernel_size=5) # Input- 6x24x24 Output-12x20x20\n",
        "\n",
        "    self.conv1= nn.Conv2d(in_channels=1,out_channels=3,kernel_size=3) \n",
        "    self.conv2= nn.Conv2d(in_channels=3,out_channels=6,kernel_size=3) \n",
        "    self.conv3= nn.Conv2d(in_channels=6,out_channels=12,kernel_size=3) \n",
        "    self.conv4= nn.Conv2d(in_channels=12,out_channels=24,kernel_size=3)\n",
        "\n",
        "    # A dense network head for label understanding\n",
        "    self.label_fc1 = nn.Linear(in_features=((24*4*4)+10), out_features=120) # input features to include flattened image and random number on hot encoding\n",
        "    self.label_fc2 = nn.Linear(in_features=120, out_features=60) \n",
        "    self.label_out = nn.Linear(in_features=60, out_features=10) # output would include one hot encoding for image label\n",
        "\n",
        "    # A dense network head for sum of image label and random number understanding\n",
        "    self.sum_fc1 = nn.Linear(in_features=((24*4*4)+10), out_features=120) # input features to include flattened image and random number on hot encoding\n",
        "    self.sum_fc2 = nn.Linear(in_features=120, out_features=60) \n",
        "    self.sum_out = nn.Linear(in_features=60, out_features=19) # output would include one hot encoding for sum of image label and random number\n",
        "\n",
        "  def forward(self,img,random_number):\n",
        "    # The network takes in two inputs - image and random number\n",
        "    x = img\n",
        "    one_hot_random_number= F.one_hot(random_number.long(),num_classes=10) # TODO : .long is used as per stackoverflow, read about this\n",
        "\n",
        "    # conv1 layer\n",
        "    x = F.relu(self.conv1(x)) # Input- 1x28x28 Output-3x26x26\n",
        "\n",
        "    # conv2 layer\n",
        "    x = F.relu(self.conv2(x)) # Input- 3x26x26 Output-6x24x24\n",
        "    x = F.max_pool2d(x,kernel_size=2, stride= 2) # Input- 6x24x24 Output-6x12x12\n",
        "\n",
        "    # conv3 layer\n",
        "    x = F.relu(self.conv3(x)) # Input- 6x12x12 Output-12x10x10\n",
        "\n",
        "    # conv4 layer\n",
        "    x = F.relu(self.conv4(x)) # Input- 12x10x10 Output-24x8x8\n",
        "    x = F.max_pool2d(x,kernel_size=2, stride= 2) # Input- 24x8x8 Output-24x4x4\n",
        "\n",
        "    # reshape\n",
        "    x = x.reshape(-1, 24 * 4 * 4) # representation of image, flattened\n",
        "\n",
        "    # concatenating image representation and one hot random number\n",
        "    x_combined = torch.cat((x,one_hot_random_number),dim=1)\n",
        "\n",
        "    # label fc1 layer\n",
        "    img_label = F.relu(self.label_fc1(x_combined))\n",
        "    # label fc2 layer\n",
        "    img_label = F.relu(self.label_fc2(img_label))\n",
        "    # label fc out layer\n",
        "    img_label = self.label_out(img_label)\n",
        "\n",
        "    # sum fc1 layer\n",
        "    sum_label_number = F.relu(self.sum_fc1(x_combined))\n",
        "    # sum fc2 layer\n",
        "    sum_label_number = F.relu(self.sum_fc2(sum_label_number))\n",
        "    # sum fc out layer\n",
        "    sum_label_number = self.sum_out(sum_label_number)\n",
        "\n",
        "    pred_label_one_hot = F.log_softmax(img_label, dim=1)\n",
        "    pred_sum_label_number_one_hot = F.log_softmax(sum_label_number, dim=1)\n",
        "\n",
        "    return pred_label_one_hot,pred_sum_label_number_one_hot\n",
        "\n",
        "model = Network()\n",
        "print(model)"
      ],
      "execution_count": 11,
      "outputs": [
        {
          "output_type": "stream",
          "name": "stdout",
          "text": [
            "Network(\n",
            "  (conv1): Conv2d(1, 3, kernel_size=(3, 3), stride=(1, 1))\n",
            "  (conv2): Conv2d(3, 6, kernel_size=(3, 3), stride=(1, 1))\n",
            "  (conv3): Conv2d(6, 12, kernel_size=(3, 3), stride=(1, 1))\n",
            "  (conv4): Conv2d(12, 24, kernel_size=(3, 3), stride=(1, 1))\n",
            "  (label_fc1): Linear(in_features=394, out_features=120, bias=True)\n",
            "  (label_fc2): Linear(in_features=120, out_features=60, bias=True)\n",
            "  (label_out): Linear(in_features=60, out_features=10, bias=True)\n",
            "  (sum_fc1): Linear(in_features=394, out_features=120, bias=True)\n",
            "  (sum_fc2): Linear(in_features=120, out_features=60, bias=True)\n",
            "  (sum_out): Linear(in_features=60, out_features=19, bias=True)\n",
            ")\n"
          ]
        }
      ]
    },
    {
      "cell_type": "markdown",
      "metadata": {
        "id": "4zIzbWpADEyK"
      },
      "source": [
        "## Training and Testing"
      ]
    },
    {
      "cell_type": "code",
      "metadata": {
        "id": "dPIf32s724O3"
      },
      "source": [
        "optimizer = optim.Adam(model.parameters(), lr=0.001)\n",
        "loss_func = F.nll_loss #F.cross_entropy # global"
      ],
      "execution_count": 12,
      "outputs": []
    },
    {
      "cell_type": "code",
      "metadata": {
        "id": "vrIFxRaxvk-m"
      },
      "source": [
        "def train(model, device, train_loader, optimizer, epoch):\n",
        "  '''\n",
        "  Train function takes in model, train_loader (data), optimizer and epoch and then trains the model\n",
        "  This is a single epoch train function, it is expected that it would be inside a loop\n",
        "    model - network\n",
        "    device - GPU or CPU\n",
        "    train_loader - custom train loader\n",
        "    optimizer - optimizer object\n",
        "    epoch - epoch number, in a loop typically executed\n",
        "  '''\n",
        "  model.train() # training mode on, enables gradient\n",
        "\n",
        "\n",
        "  for batch_idx,(images, numbers, labels, sums_label_number) in enumerate(train_loader):\n",
        "    optimizer.zero_grad() # setting gradients to zero, to remove accumulated gradients\n",
        "    images, numbers, labels, sums_label_number = images.to(device), numbers.to(device), labels.to(device), sums_label_number.to(device) # sending tensors to GPU\n",
        "\n",
        "    pred_labels, pred_sums_label_numbers= model(images,numbers) # Pass Batch, model takes two inputs and provides two outputs\n",
        "\n",
        "    loss_label = loss_func(pred_labels,labels) # image label related loss calculation\n",
        "    loss_sum = loss_func(pred_sums_label_numbers,sums_label_number) # sum of image label and random number loss calculation\n",
        "    loss = 0.5*(loss_label + loss_sum) # overall loss \n",
        "\n",
        "    loss.backward() # Calculate Gradients\n",
        "    optimizer.step() # Update Weights\n",
        "\n",
        "    # print for some batches\n",
        "    if (batch_idx % 500 == 0):\n",
        "      print (f'Inside Training epoch - {epoch}, processing step {(batch_idx+1)*len(images[0])} , Training loss: {loss.item()} \\n')\n",
        "\n",
        "  # print for each epoch\n",
        "  print(\n",
        "    \"After completion of epoch\", epoch, \n",
        "    \"  Training loss:\", loss.item()\n",
        "    )"
      ],
      "execution_count": 15,
      "outputs": []
    },
    {
      "cell_type": "code",
      "metadata": {
        "id": "QHVYbt4fClk8"
      },
      "source": [
        "def test(model, device, test_loader):\n",
        "  '''\n",
        "  Test function takes in model, test_loader (data), and evaluates the model\n",
        "    model - network\n",
        "    device - GPU or CPU\n",
        "    test_loader - custom test data loader\n",
        "  '''\n",
        "\n",
        "  model.eval() # evaluation mode on, no updates to params\n",
        "  total_loss = 0\n",
        "  total_correct_label = 0\n",
        "  total_correct_sum = 0\n",
        "  with torch.no_grad():\n",
        "    for (images, numbers, labels, sums_label_number) in (test_loader):\n",
        "      images, numbers, labels, sums_label_number = images.to(device), numbers.to(device), labels.to(device), sums_label_number.to(device) # sending tensors to GPU\n",
        "      pred_labels, pred_sums_label_numbers= model(images,numbers) # Pass Batch, model takes two inputs and provides two outputs in one hot encoding\n",
        "\n",
        "      # predictions are in one hot encoding and ground truth are not\n",
        "      loss_label = loss_func(pred_labels,labels) # image label related loss calculation\n",
        "      loss_sum = loss_func(pred_sums_label_numbers,sums_label_number) # sum of image label and random number loss calculation\n",
        "      loss= 0.5*(loss_label + loss_sum) # overall loss \n",
        "\n",
        "      total_loss += loss.item() # aggregating loss\n",
        "\n",
        "      # converting predictions to numbers from one hot encoding and checking the correct label\n",
        "\n",
        "      total_correct_label +=  pred_labels.argmax(dim=1).eq(labels).sum().item() # checking correct label \n",
        "      total_correct_sum += pred_sums_label_numbers.argmax(dim=1).eq(sums_label_number).sum().item() # checking correct sum \n",
        "\n",
        "  # print for each epoch\n",
        "  print(\n",
        "    \"Testing...\\n\"\n",
        "    \"Test loss:\", total_loss,\n",
        "    \"total_correct_label:\", total_correct_label, \n",
        "    \"accuracy_labels:\", round(100.*total_correct_label/len(train_loader.dataset),3), \"% \",\n",
        "    \"total_correct_sum:\",total_correct_sum,\n",
        "    \"accuracy_correct_sum:\",  round(100.*total_correct_sum/len(train_loader.dataset),3),\"% \"\n",
        "    )"
      ],
      "execution_count": 14,
      "outputs": []
    },
    {
      "cell_type": "code",
      "metadata": {
        "colab": {
          "base_uri": "https://localhost:8080/"
        },
        "id": "zQLgG-gx8Fmv",
        "outputId": "75248ea7-0452-4a11-86ed-14fb1a26ec5a"
      },
      "source": [
        "n_epochs = 5\n",
        "model = model.to(device)\n",
        "\n",
        "for epoch in range(1, n_epochs + 1):\n",
        "    train(model, device, train_loader, optimizer, epoch)\n",
        "    test(model,device,test_loader)"
      ],
      "execution_count": 16,
      "outputs": [
        {
          "output_type": "stream",
          "name": "stdout",
          "text": [
            "Inside Training epoch - 1, processing step 1 , Training loss: 2.6222634315490723\n",
            "Inside Training epoch - 1, processing step 501 , Training loss: 1.1648956537246704\n",
            "Inside Training epoch - 1, processing step 1001 , Training loss: 0.7958481907844543\n",
            "Inside Training epoch - 1, processing step 1501 , Training loss: 0.7049594521522522\n",
            "After completion of epoch 1   Training loss: 0.7129550576210022\n",
            "Testing...\n",
            "Test loss: 36.376513838768005 total_correct_label: 58928 accuracy_labels: 98.213 %  total_correct_sum: 34738 accuracy_correct_sum: 57.897 % \n",
            "Inside Training epoch - 2, processing step 1 , Training loss: 0.6237501502037048\n",
            "Inside Training epoch - 2, processing step 501 , Training loss: 0.3853496313095093\n",
            "Inside Training epoch - 2, processing step 1001 , Training loss: 0.15507294237613678\n",
            "Inside Training epoch - 2, processing step 1501 , Training loss: 0.20194187760353088\n",
            "After completion of epoch 2   Training loss: 0.10701191425323486\n",
            "Testing...\n",
            "Test loss: 7.575702026486397 total_correct_label: 59216 accuracy_labels: 98.693 %  total_correct_sum: 57215 accuracy_correct_sum: 95.358 % \n",
            "Inside Training epoch - 3, processing step 1 , Training loss: 0.05682281032204628\n",
            "Inside Training epoch - 3, processing step 501 , Training loss: 0.05732327699661255\n",
            "Inside Training epoch - 3, processing step 1001 , Training loss: 0.06491690874099731\n",
            "Inside Training epoch - 3, processing step 1501 , Training loss: 0.012780263088643551\n",
            "After completion of epoch 3   Training loss: 0.016423340886831284\n",
            "Testing...\n",
            "Test loss: 4.79213584959507 total_correct_label: 59246 accuracy_labels: 98.743 %  total_correct_sum: 58191 accuracy_correct_sum: 96.985 % \n",
            "Inside Training epoch - 4, processing step 1 , Training loss: 0.03952173516154289\n",
            "Inside Training epoch - 4, processing step 501 , Training loss: 0.03701169043779373\n",
            "Inside Training epoch - 4, processing step 1001 , Training loss: 0.022090056911110878\n",
            "Inside Training epoch - 4, processing step 1501 , Training loss: 0.02581946738064289\n",
            "After completion of epoch 4   Training loss: 0.2428630143404007\n",
            "Testing...\n",
            "Test loss: 3.3275577016174793 total_correct_label: 59633 accuracy_labels: 99.388 %  total_correct_sum: 58539 accuracy_correct_sum: 97.565 % \n",
            "Inside Training epoch - 5, processing step 1 , Training loss: 0.09834140539169312\n",
            "Inside Training epoch - 5, processing step 501 , Training loss: 0.0070363543927669525\n",
            "Inside Training epoch - 5, processing step 1001 , Training loss: 0.02909870631992817\n",
            "Inside Training epoch - 5, processing step 1501 , Training loss: 0.0795339047908783\n",
            "After completion of epoch 5   Training loss: 0.27176910638809204\n",
            "Testing...\n",
            "Test loss: 2.732940660789609 total_correct_label: 59654 accuracy_labels: 99.423 %  total_correct_sum: 58847 accuracy_correct_sum: 98.078 % \n"
          ]
        }
      ]
    },
    {
      "cell_type": "markdown",
      "metadata": {
        "id": "KAnto4LUGZBt"
      },
      "source": [
        "### Sample Prediction"
      ]
    },
    {
      "cell_type": "code",
      "metadata": {
        "id": "3E3GPBbyEvFd"
      },
      "source": [
        "def sample_results(model, device, test_loader, num_samples = 1):\n",
        "  for i in range(num_samples):\n",
        "    images, numbers, labels, sums_label_number = next(iter(test_loader))\n",
        "    images, numbers, labels, sums_label_number = images.to(device), numbers.to(device), labels.to(device), sums_label_number.to(device) # sending tensors to GPU\n",
        "    output, output_sum = model(images[i].unsqueeze(dim=0), numbers[i].unsqueeze(dim=0))\n",
        "    print(f\"Image Predicted:{torch.argmax(output.squeeze()).item()}, Image Actual:{labels[i].item()},Random Input Number:{numbers[i].item()},Sum Precicted:{torch.argmax(output_sum.squeeze()).item()}, Sum Actual:{sums_label_number[i]}\")"
      ],
      "execution_count": 17,
      "outputs": []
    },
    {
      "cell_type": "code",
      "metadata": {
        "colab": {
          "base_uri": "https://localhost:8080/"
        },
        "id": "TfM4YX1OF8P4",
        "outputId": "1475cb48-52c1-43b9-9dc2-110d8ef91efc"
      },
      "source": [
        "sample_results(model, device, test_loader, num_samples = 1)"
      ],
      "execution_count": 18,
      "outputs": [
        {
          "output_type": "stream",
          "name": "stdout",
          "text": [
            "Image Predicted:3, Image Actual:3,Random Input Number:7,Sum Precicted:10, Sum Actual:10\n"
          ]
        }
      ]
    }
  ]
}