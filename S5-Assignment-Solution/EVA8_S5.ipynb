{
  "nbformat": 4,
  "nbformat_minor": 0,
  "metadata": {
    "colab": {
      "provenance": [],
      "authorship_tag": "ABX9TyMG0xMjTt7WTCDmuaUQi0ii",
      "include_colab_link": true
    },
    "kernelspec": {
      "name": "python3",
      "display_name": "Python 3"
    },
    "language_info": {
      "name": "python"
    },
    "accelerator": "GPU",
    "gpuClass": "standard"
  },
  "cells": [
    {
      "cell_type": "markdown",
      "metadata": {
        "id": "view-in-github",
        "colab_type": "text"
      },
      "source": [
        "<a href=\"https://colab.research.google.com/github/peeyushsinghal/EVA8/blob/main/S5-Assignment-Solution/EVA8_S5.ipynb\" target=\"_parent\"><img src=\"https://colab.research.google.com/assets/colab-badge.svg\" alt=\"Open In Colab\"/></a>"
      ]
    },
    {
      "cell_type": "markdown",
      "source": [
        "# Objective / Target \n",
        "\n",
        "* Write a single model.py file that includes GN/LN/BN and takes an argument to decide which normalization to include\n",
        "* Write a single notebook file to run all the 3 models above for 20 epochs each\n",
        "* Create these graphs:\n",
        "  * Graph 1: Test/Validation Loss for all 3 models together\n",
        "  * Graph 2: Test/Validation Accuracy for 3 models together\n",
        "  * graphs must have proper annotation\n",
        "* Find 10 misclassified images for each of the 3 models, and show them as a 5x2 image matrix in 3 separately annotated images. \n"
      ],
      "metadata": {
        "id": "y1FTBU_m-bRm"
      }
    },
    {
      "cell_type": "markdown",
      "source": [
        "# Importing Libraries"
      ],
      "metadata": {
        "id": "xcGwRKr5_lZw"
      }
    },
    {
      "cell_type": "code",
      "execution_count": 1,
      "metadata": {
        "colab": {
          "base_uri": "https://localhost:8080/"
        },
        "id": "D6yRS8Pc-GUk",
        "outputId": "0143c665-676d-4477-8506-fa4b2c779643"
      },
      "outputs": [
        {
          "output_type": "stream",
          "name": "stdout",
          "text": [
            "Looking in indexes: https://pypi.org/simple, https://us-python.pkg.dev/colab-wheels/public/simple/\n",
            "Requirement already satisfied: torchsummary in /usr/local/lib/python3.8/dist-packages (1.5.1)\n"
          ]
        }
      ],
      "source": [
        "import torch\n",
        "from torchvision import datasets,transforms\n",
        "%matplotlib inline\n",
        "import numpy as np\n",
        "import matplotlib.pyplot as plt # for visualizing images\n",
        "import random # for random image index\n",
        "import torch.nn as nn # for network\n",
        "import torch.nn.functional as F # for forward method\n",
        "import torch.optim as optim # for optimizer\n",
        "!pip install torchsummary\n",
        "from torchsummary import summary # for model summary and params\n",
        "from tqdm import tqdm # for beautiful model training updates\n",
        "\n",
        "from torch.optim.lr_scheduler import StepLR,ReduceLROnPlateau,ExponentialLR #scheduler"
      ]
    },
    {
      "cell_type": "markdown",
      "source": [
        "## Seed and Cuda"
      ],
      "metadata": {
        "id": "S0aDMenbFZMj"
      }
    },
    {
      "cell_type": "code",
      "source": [
        "# check for cuda\n",
        "cuda = torch.cuda.is_available()\n",
        "print (f' Cuda Status : {cuda}')\n",
        "\n",
        "# setting seed\n",
        "SEED = 42 # arbit seed, why 42 - because in hitch hikers guide to galaxy it is answer to everything\n",
        "# torch.cuda.seed(SEED) \n",
        "torch.cuda.manual_seed_all(SEED) if cuda else torch.manual_seed(SEED)"
      ],
      "metadata": {
        "colab": {
          "base_uri": "https://localhost:8080/"
        },
        "id": "Y9TiFsydFcRz",
        "outputId": "1c17c306-c080-4492-e7ad-a181991bcde0"
      },
      "execution_count": 2,
      "outputs": [
        {
          "output_type": "stream",
          "name": "stdout",
          "text": [
            " Cuda Status : True\n"
          ]
        }
      ]
    },
    {
      "cell_type": "markdown",
      "source": [
        "# Data Transformations"
      ],
      "metadata": {
        "id": "kgga8EeQFB_r"
      }
    },
    {
      "cell_type": "code",
      "source": [
        "# Train Phase transformations\n",
        "train_transforms = transforms.Compose([\n",
        "                                      #  transforms.Resize((28, 28)),\n",
        "                                      #  transforms.ColorJitter(brightness=0.10, contrast=0.1, saturation=0.10, hue=0.1),\n",
        "                                       transforms.RandomRotation((-7.0, 7.0), fill=(1,)),\n",
        "                                       transforms.ToTensor(), # converts to tesnor\n",
        "                                       transforms.Normalize((0.1307,), (0.3081,)) # The mean and std have to be sequences (e.g., tuples), therefore you should add a comma after the values. \n",
        "                                       # Note the difference between (0.1307) and (0.1307,)\n",
        "                                       ])\n",
        "\n",
        "# Test Phase transformations\n",
        "test_transforms = transforms.Compose([\n",
        "                                      #  transforms.Resize((28, 28)),\n",
        "                                      #  transforms.ColorJitter(brightness=0.10, contrast=0.1, saturation=0.10, hue=0.1),\n",
        "                                       transforms.ToTensor(),# converts to tesnor\n",
        "                                       transforms.Normalize((0.1307,), (0.3081,))\n",
        "                                       ])\n"
      ],
      "metadata": {
        "id": "nrRWWXKsFBn7"
      },
      "execution_count": 3,
      "outputs": []
    },
    {
      "cell_type": "markdown",
      "source": [
        "# Dataset and Creating Train / Test Split"
      ],
      "metadata": {
        "id": "YvKkBT1KFIc9"
      }
    },
    {
      "cell_type": "code",
      "source": [
        "train = datasets.MNIST('./data', # directory where data needs to be stored\n",
        "                       train=True, # get the training portion of the dataset\n",
        "                       download=True, # downloads\n",
        "                       transform=train_transforms)\n",
        "test = datasets.MNIST('./data', \n",
        "                      train=False, \n",
        "                      download=True, \n",
        "                      transform=test_transforms)"
      ],
      "metadata": {
        "id": "TdSmKv7XFNAY"
      },
      "execution_count": 4,
      "outputs": []
    },
    {
      "cell_type": "markdown",
      "source": [
        "## Data Loader"
      ],
      "metadata": {
        "id": "b0mo-0V2GBUH"
      }
    },
    {
      "cell_type": "code",
      "source": [
        "dataloader_args = dict(shuffle=True, batch_size=128, num_workers=4, pin_memory = True) if cuda else dict(shuffle=True, batch_size=64)\n",
        "\n",
        "train_loader = torch.utils.data.DataLoader(\n",
        "    dataset=train,# train dataset\n",
        "    **dataloader_args # the dataloader arguments change dependent on cuda is available or not\n",
        "    )\n",
        "\n",
        "test_loader = torch.utils.data.DataLoader(\n",
        "    dataset = test,# test dataset \n",
        "    **dataloader_args # the dataloader arguments change dependent on cuda is available or not\n",
        ")"
      ],
      "metadata": {
        "id": "YFW6q5hWGDrb",
        "colab": {
          "base_uri": "https://localhost:8080/"
        },
        "outputId": "8e7814a3-30ac-4766-d850-2ebe28c49ded"
      },
      "execution_count": 5,
      "outputs": [
        {
          "output_type": "stream",
          "name": "stderr",
          "text": [
            "/usr/local/lib/python3.8/dist-packages/torch/utils/data/dataloader.py:554: UserWarning: This DataLoader will create 4 worker processes in total. Our suggested max number of worker in current system is 2, which is smaller than what this DataLoader is going to create. Please be aware that excessive worker creation might get DataLoader running slow or even freeze, lower the worker number to avoid potential slowness/freeze if necessary.\n",
            "  warnings.warn(_create_warning_msg(\n"
          ]
        }
      ]
    },
    {
      "cell_type": "markdown",
      "source": [
        "## Checking Dataloader"
      ],
      "metadata": {
        "id": "nR15hQnnGPuD"
      }
    },
    {
      "cell_type": "code",
      "source": [
        "images, labels  = next(iter(train_loader))\n",
        "print(images.shape)\n",
        "print(labels.shape)\n",
        "# printing random image and seeing\n",
        "plt.imshow(images[random.randint(0,len(images))].numpy().squeeze(), cmap='gray_r')"
      ],
      "metadata": {
        "colab": {
          "base_uri": "https://localhost:8080/",
          "height": 320
        },
        "id": "FjuqXyw9GTDv",
        "outputId": "cd8cd7ec-917f-4414-9cbe-217800965afd"
      },
      "execution_count": 6,
      "outputs": [
        {
          "output_type": "stream",
          "name": "stdout",
          "text": [
            "torch.Size([128, 1, 28, 28])\n",
            "torch.Size([128])\n"
          ]
        },
        {
          "output_type": "execute_result",
          "data": {
            "text/plain": [
              "<matplotlib.image.AxesImage at 0x7f5d28dc5a30>"
            ]
          },
          "metadata": {},
          "execution_count": 6
        },
        {
          "output_type": "display_data",
          "data": {
            "text/plain": [
              "<Figure size 432x288 with 1 Axes>"
            ],
            "image/png": "[encoded data removed]"
          },
          "metadata": {
            "needs_background": "light"
          }
        }
      ]
    },
    {
      "cell_type": "code",
      "source": [
        "# Looking at more images\n",
        "figure = plt.figure()\n",
        "for index in range(1, len(images) + 1): # assumption: batch size would be atleast 8\n",
        "    plt.subplot(8, int(len(images)/8), index)\n",
        "    plt.axis('off')\n",
        "    plt.imshow(images[index-1].numpy().squeeze(), cmap='gray_r')"
      ],
      "metadata": {
        "colab": {
          "base_uri": "https://localhost:8080/",
          "height": 243
        },
        "id": "yT5FD4C5Gbc1",
        "outputId": "8e420f44-ff29-4f0f-fb74-7181d8e6b8f9"
      },
      "execution_count": 7,
      "outputs": [
        {
          "output_type": "display_data",
          "data": {
            "text/plain": [
              "<Figure size 432x288 with 128 Axes>"
            ],
            "image/png": "[encoded data removed]"
          },
          "metadata": {
            "needs_background": "light"
          }
        }
      ]
    },
    {
      "cell_type": "markdown",
      "source": [
        "# Model"
      ],
      "metadata": {
        "id": "VNOv81RVGrgO"
      }
    },
    {
      "cell_type": "code",
      "source": [
        "class Network(nn.Module):\n",
        "  def __init__(self, norm = 'bn'):\n",
        "    super(Network,self).__init__() # extending super class method\n",
        "    \n",
        "    drop_out_value = 0.1\n",
        "    self.norm = norm\n",
        "\n",
        "    # Input Block\n",
        "    self.convblock1 = nn.Sequential(\n",
        "        nn.Conv2d(1,18,3 , bias= False ), # In- 1x28x28, Out- 16x26x26, RF- 3x3, Jump_in -1, Jump_out -1\n",
        "        nn.ReLU()\n",
        "        # ,\n",
        "        # nn.BatchNorm2d(18), # affine=False),\n",
        "        # nn.Dropout(drop_out_value)\n",
        "    ) \n",
        "    \n",
        "    if self.norm == 'bn': self.normlayer1 = nn.BatchNorm2d(18)\n",
        "    if self.norm == 'ln': self.normlayer1 = nn.LayerNorm([18,26,26]) \n",
        "    if self.norm == 'gn' : self.normlayer1 = nn.GroupNorm(2,18) # 2 groups of 9 channels each\n",
        "    self.dropout1 = nn.Dropout(drop_out_value)\n",
        "\n",
        "    # Conv Block 2\n",
        "    self.convblock2 = nn.Sequential(\n",
        "        nn.Conv2d(18,16,3, bias= False ), # In- 16x26x26, Out- 16x24x24, RF- 5x5, Jump_in -1, Jump_out -1\n",
        "        nn.ReLU()\n",
        "        # ,\n",
        "        # nn.BatchNorm2d(16),# affine=False),\n",
        "        # nn.Dropout(drop_out_value)\n",
        "    ) \n",
        "\n",
        "    if self.norm == 'bn': self.normlayer2 = nn.BatchNorm2d(16)\n",
        "    if self.norm == 'ln': self.normlayer2 = nn.LayerNorm([16,24,24]) \n",
        "    if self.norm == 'gn' : self.normlayer2 = nn.GroupNorm(2,16) # 2 groups of 8 channels each\n",
        "    self.dropout2 = nn.Dropout(drop_out_value)\n",
        "\n",
        "\n",
        "    # Conv Block 3\n",
        "    self.convblock3 = nn.Sequential(\n",
        "        nn.Conv2d(16,16,3, bias= False ), # In- 16x24x24, Out- 16x22x22, RF- 7x7, Jump_in -1, Jump_out -1\n",
        "        nn.ReLU()\n",
        "        # ,\n",
        "        # nn.BatchNorm2d(16),# affine=False),\n",
        "        # nn.Dropout(drop_out_value)\n",
        "    ) \n",
        "\n",
        "    if self.norm == 'bn': self.normlayer3 = nn.BatchNorm2d(16)\n",
        "    if self.norm == 'ln': self.normlayer3 = nn.LayerNorm([16,22,22]) \n",
        "    if self.norm == 'gn' : self.normlayer3 = nn.GroupNorm(2,16) # 2 groups of 8 channels each\n",
        "    self.dropout3 = nn.Dropout(drop_out_value)\n",
        "\n",
        "    # Transition Block 1 (this also includes a conv block)\n",
        "    self.pool1 = nn.MaxPool2d(kernel_size=2, stride=2) # In- 16x22x22, Out- 16x11x11, RF- 8x8, Jump_in -1, Jump_out -2\n",
        "    # self.convblock4 = nn.Sequential(\n",
        "    #     nn.Conv2d(32,16,1), # In- 32x12x12, Out- 16x12x12, RF- 8x8, Jump_in -2, Jump_out -2\n",
        "    #     nn.ReLU(),\n",
        "    #     nn.BatchNorm2d(16),\n",
        "    #     nn.Dropout(drop_out_value)\n",
        "    # ) \n",
        "\n",
        "    # Conv Block 5\n",
        "    self.convblock5 = nn.Sequential(\n",
        "        nn.Conv2d(16,16,3, bias= False ), # In- 16x11x11, Out- 16x9x9, RF- 12x12, Jump_in -2, Jump_out -2\n",
        "        nn.ReLU()\n",
        "        # ,\n",
        "        # nn.BatchNorm2d(16),# affine=False),\n",
        "        # nn.Dropout(drop_out_value)\n",
        "    ) \n",
        "\n",
        "    if self.norm == 'bn': self.normlayer5 = nn.BatchNorm2d(16)\n",
        "    if self.norm == 'ln': self.normlayer5 = nn.LayerNorm([16,9,9]) \n",
        "    if self.norm == 'gn' : self.normlayer5 = nn.GroupNorm(2,16) # 2 groups of 8 channels each\n",
        "    self.dropout5 = nn.Dropout(drop_out_value)\n",
        "\n",
        "    # Conv Block 6\n",
        "    self.convblock6 = nn.Sequential(\n",
        "        nn.Conv2d(16,16,3, bias= False ), # In- 16x9x9, Out- 16x7x7, RF- 16x16, Jump_in -2, Jump_out -2\n",
        "        nn.ReLU()\n",
        "        # ,\n",
        "        # nn.BatchNorm2d(16),# affine=False),\n",
        "        # nn.Dropout(drop_out_value)\n",
        "    ) \n",
        "\n",
        "    if self.norm == 'bn': self.normlayer6 = nn.BatchNorm2d(16)\n",
        "    if self.norm == 'ln': self.normlayer6 = nn.LayerNorm([16,7,7]) \n",
        "    if self.norm == 'gn' : self.normlayer6 = nn.GroupNorm(2,16) # 2 groups of 8 channels each\n",
        "    self.dropout6 = nn.Dropout(drop_out_value)\n",
        "\n",
        "    # Output Block\n",
        "    self.convblock7 = nn.Sequential(\n",
        "        nn.Conv2d(16,10,1, bias= False ), # In- 16x7x7, Out- 10x7x7, RF- 16x16, Jump_in -2, Jump_out -2\n",
        "        # nn.ReLU()\n",
        "        # ,\n",
        "        # nn.BatchNorm2d(10, affine=True),\n",
        "        # nn.Dropout(drop_out_value)\n",
        "    ) \n",
        "\n",
        "    self.gap = nn.AvgPool2d(7) # In- 10x7x7, Out- 10x1x1, RF- 16x16, Jump_in -2, Jump_out -2\n",
        "\n",
        "\n",
        "  def forward(self,x):\n",
        "\n",
        "    x = self.convblock1(x)\n",
        "    x = self.dropout1(self.normlayer1(x))\n",
        "    x = self.convblock2(x)\n",
        "    x = self.dropout2(self.normlayer2(x))\n",
        "    x = self.convblock3(x)\n",
        "    x = self.dropout3(self.normlayer3(x))\n",
        "\n",
        "    x = self.pool1(x)\n",
        "    # x = self.convblock4(x)\n",
        "    x = self.convblock5(x)\n",
        "    x = self.dropout5(self.normlayer5(x))\n",
        "    x = self.convblock6(x)\n",
        "    x = self.dropout6(self.normlayer6(x))\n",
        "\n",
        "    x = self.convblock7(x)\n",
        "\n",
        "    x = self.gap(x)\n",
        "\n",
        "    # Flattening\n",
        "    x = x.view(-1,10)\n",
        "    return F.log_softmax(x,dim=-1)\n",
        "\n",
        "# model = Network()\n",
        "# print(model)"
      ],
      "metadata": {
        "id": "9_JHChueh7I5"
      },
      "execution_count": 8,
      "outputs": []
    },
    {
      "cell_type": "markdown",
      "source": [
        "## Model Params"
      ],
      "metadata": {
        "id": "1QSCWlFoM5nf"
      }
    },
    {
      "cell_type": "code",
      "source": [
        "device = torch.device(\"cuda\" if cuda else \"cpu\")\n",
        "print(device)\n",
        "model = Network(norm='gn').to(device)\n",
        "# print(model)\n",
        "summary(model, input_size=(1, 28, 28))"
      ],
      "metadata": {
        "colab": {
          "base_uri": "https://localhost:8080/"
        },
        "id": "37ziIa80M8-3",
        "outputId": "9cfd1d01-ad50-41ec-9e35-2583f2f0390b"
      },
      "execution_count": 9,
      "outputs": [
        {
          "output_type": "stream",
          "name": "stdout",
          "text": [
            "cuda\n",
            "----------------------------------------------------------------\n",
            "        Layer (type)               Output Shape         Param #\n",
            "================================================================\n",
            "            Conv2d-1           [-1, 18, 26, 26]             162\n",
            "              ReLU-2           [-1, 18, 26, 26]               0\n",
            "         GroupNorm-3           [-1, 18, 26, 26]              36\n",
            "           Dropout-4           [-1, 18, 26, 26]               0\n",
            "            Conv2d-5           [-1, 16, 24, 24]           2,592\n",
            "              ReLU-6           [-1, 16, 24, 24]               0\n",
            "         GroupNorm-7           [-1, 16, 24, 24]              32\n",
            "           Dropout-8           [-1, 16, 24, 24]               0\n",
            "            Conv2d-9           [-1, 16, 22, 22]           2,304\n",
            "             ReLU-10           [-1, 16, 22, 22]               0\n",
            "        GroupNorm-11           [-1, 16, 22, 22]              32\n",
            "          Dropout-12           [-1, 16, 22, 22]               0\n",
            "        MaxPool2d-13           [-1, 16, 11, 11]               0\n",
            "           Conv2d-14             [-1, 16, 9, 9]           2,304\n",
            "             ReLU-15             [-1, 16, 9, 9]               0\n",
            "        GroupNorm-16             [-1, 16, 9, 9]              32\n",
            "          Dropout-17             [-1, 16, 9, 9]               0\n",
            "           Conv2d-18             [-1, 16, 7, 7]           2,304\n",
            "             ReLU-19             [-1, 16, 7, 7]               0\n",
            "        GroupNorm-20             [-1, 16, 7, 7]              32\n",
            "          Dropout-21             [-1, 16, 7, 7]               0\n",
            "           Conv2d-22             [-1, 10, 7, 7]             160\n",
            "        AvgPool2d-23             [-1, 10, 1, 1]               0\n",
            "================================================================\n",
            "Total params: 9,990\n",
            "Trainable params: 9,990\n",
            "Non-trainable params: 0\n",
            "----------------------------------------------------------------\n",
            "Input size (MB): 0.00\n",
            "Forward/backward pass size (MB): 0.97\n",
            "Params size (MB): 0.04\n",
            "Estimated Total Size (MB): 1.01\n",
            "----------------------------------------------------------------\n"
          ]
        }
      ]
    },
    {
      "cell_type": "markdown",
      "source": [
        "# Training and Testing"
      ],
      "metadata": {
        "id": "BriahAKX-Qsh"
      }
    },
    {
      "cell_type": "code",
      "source": [
        "mapping_dict = {'bn':'Batch Normalization', 'ln': 'Layer Normalization', 'gn': 'Group Normalization'}\n",
        "list_norm = ['bn','ln']\n",
        "EPOCHS = 2"
      ],
      "metadata": {
        "id": "t_bWJWRlHt2k"
      },
      "execution_count": 42,
      "outputs": []
    },
    {
      "cell_type": "markdown",
      "source": [
        "## Training"
      ],
      "metadata": {
        "id": "dzH_OJiKNOAw"
      }
    },
    {
      "cell_type": "code",
      "source": [
        "# Training Function\n",
        "# train_losses = [] # to capture train losses over training epochs\n",
        "# train_accuracy = [] # to capture train accuracy over training epochs\n",
        "\n",
        "def train(model,device, train_loader,optimizer,epoch,norm = None, lambda_l1 = 0.01):\n",
        "  model.train() # setting the model in training mode\n",
        "  pbar = tqdm(train_loader) # putting the iterator in pbar\n",
        "  correct = 0 # for accuracy numerator\n",
        "  processed = 0 # for accuracy denominator\n",
        "  avg_epoch_train_loss =[]\n",
        "\n",
        "  count = 0\n",
        "  for batch_idx, (images,labels) in enumerate(pbar):\n",
        "\n",
        "    images, labels = images.to(device),labels.to(device)#sending data to CPU or GPU as per device\n",
        "    optimizer.zero_grad() # setting gradients to zero to avoid accumulation\n",
        "\n",
        "    y_preds = model(images) # forward pass, result captured in y_preds (plural as there are many images in a batch)\n",
        "    # the predictions are in one hot vector\n",
        "\n",
        "    loss = F.nll_loss(y_preds,labels) # capturing loss\n",
        "    # train_losses.append(loss) # to capture loss over many epochs\n",
        "\n",
        "    if norm == 'bn':\n",
        "      l1=0.0\n",
        "      for p in model.parameters():\n",
        "        l1 = l1 + p.abs().sum()\n",
        "      loss = loss + lambda_l1*l1\n",
        "    \n",
        "    # print(\"loss type\", type(loss))\n",
        "    avg_epoch_train_loss.append(loss.item())\n",
        "    # print(\"avg epoch train type\", avg_epoch_train_loss, type(avg_epoch_train_loss))\n",
        "    \n",
        "    loss.backward() # backpropagation\n",
        "    optimizer.step() # updating the params\n",
        "\n",
        "    preds = y_preds.argmax(dim=1, keepdim=True)  # get the index of the max log-probability\n",
        "    correct += preds.eq(labels.view_as(preds)).sum().item()\n",
        "    processed += len(images)\n",
        "\n",
        "    pbar.set_description(desc= f'Loss={loss.item()} Batch_id={batch_idx} Accuracy={100*correct/processed:0.2f}%')\n",
        "    train_accuracy = (100*correct/processed)\n",
        "    \n",
        "  # return np.average(avg_epoch_train_loss)\n",
        "  return float(\"{:.4f}\".format(np.average(avg_epoch_train_loss))),float(\"{:.4f}\".format(np.average(train_accuracy)))\n",
        "\n"
      ],
      "metadata": {
        "id": "fP5jiQtaNPyB"
      },
      "execution_count": 10,
      "outputs": []
    },
    {
      "cell_type": "markdown",
      "source": [
        "## Test"
      ],
      "metadata": {
        "id": "eGDQpa3ANTZa"
      }
    },
    {
      "cell_type": "code",
      "source": [
        "# Test Function\n",
        "# test_losses = [] # to capture test losses \n",
        "# test_accuracy = [] # to capture test accuracy \n",
        "\n",
        "def test(model,device, test_loader):\n",
        "  model.eval() # setting the model in evaluation mode\n",
        "  test_loss = 0\n",
        "  avg_epoch_test_loss =[]\n",
        "  correct = 0 # for accuracy numerator\n",
        "\n",
        "  with torch.no_grad():\n",
        "    for (images,labels) in test_loader:\n",
        "      images, labels = images.to(device),labels.to(device)#sending data to CPU or GPU as per device\n",
        "      outputs = model(images) # forward pass, result captured in outputs (plural as there are many images in a batch)\n",
        "      # the outputs are in batch size x one hot vector \n",
        "\n",
        "      test_loss = F.nll_loss(outputs,labels, reduction='sum').item()  # sum up batch loss\n",
        "      preds = outputs.argmax(dim=1, keepdim=True)  # get the index of the max log-probability\n",
        "      correct += preds.eq(labels.view_as(preds)).sum().item()\n",
        "\n",
        "    test_loss /= len(test_loader.dataset) # average test loss\n",
        "    # test_losses.append(test_loss) # to capture loss over many batches\n",
        "    avg_epoch_test_loss.append(test_loss)\n",
        "\n",
        "    print('\\nTest set: Average loss: {:.4f}, Accuracy: {}/{} ({:.2f}%)\\n'.format(\n",
        "    test_loss, correct, len(test_loader.dataset),\n",
        "    100. * correct / len(test_loader.dataset)))\n",
        "\n",
        "  return float(\"{:.4f}\".format(np.average(avg_epoch_test_loss))),float(\"{:.4f}\".format(correct/len(test_loader.dataset)))\n",
        "    # test_accuracy.append(100*correct/len(test_loader.dataset))\n",
        "  # return float(\"{:.4f}\".format(np.average(avg_epoch_test_loss))),float(\"{:.4f}\".format(np.average(test_accuracy)))\n"
      ],
      "metadata": {
        "id": "WXtm0lh_NR2H"
      },
      "execution_count": 11,
      "outputs": []
    },
    {
      "cell_type": "markdown",
      "source": [
        "## Execution"
      ],
      "metadata": {
        "id": "YRnRZ72PNbf3"
      }
    },
    {
      "cell_type": "code",
      "source": [
        "\n",
        "## Weight initialization\n",
        "\n",
        "def weights_init(m):\n",
        "    if isinstance(m, nn.Conv1d):\n",
        "      nn.init.xavier_normal_(m.weight)\n"
      ],
      "metadata": {
        "id": "v3XZP8zQ3QlO"
      },
      "execution_count": 12,
      "outputs": []
    },
    {
      "cell_type": "code",
      "source": [
        "# # list_norm = ['bn','ln','gn']\n",
        "# list_norm = ['bn']\n",
        "\n",
        "# dict_train_loss ={}\n",
        "# dict_val_loss ={}\n",
        "# dict_train_accuarcy ={}\n",
        "# dict_val_accuracy= {}\n",
        "\n",
        "# for norm in list_norm:\n",
        "  \n",
        "#   print(f'----------NORM {norm}-------')\n",
        "#   model =  Network(norm=norm).to(device)\n",
        "#   model.apply(weights_init)\n",
        "#   optimizer = optim.SGD(model.parameters(), lr=0.3, momentum=0.9)\n",
        "#   # optimizer = optim.Adam(model.parameters(), lr=0.3)\n",
        "#   # scheduler = torch.optim.lr_scheduler.ReduceLROnPlateau(optimizer, mode='min', factor=0.1, patience=10, threshold=0.0001, threshold_mode='rel', cooldown=0, min_lr=0, eps=1e-08)\n",
        "#   # LR_GAMMA = 0.5\n",
        "#   from torch.optim.lr_scheduler import StepLR,ReduceLROnPlateau,ExponentialLR\n",
        "#   # scheduler = StepLR(optimizer, step_size=4, gamma=0.1)\n",
        "#   scheduler = ReduceLROnPlateau(optimizer, factor = 0.1, patience = 2, threshold =  0.0002)\n",
        "#   # scheduler = ExponentialLR (optimizer, gamma =0.3)\n",
        "\n",
        "\n",
        "#   # EPOCHS = 15\n",
        "#   EPOCHS = 2\n",
        "\n",
        "#   list_train_loss_temp = []\n",
        "#   list_train_accuracy_temp = []\n",
        "#   list_val_loss_temp =[]\n",
        "#   list_val_accuracy_temp =[]\n",
        "\n",
        "#   for epoch in range(EPOCHS):\n",
        "#       print(\"EPOCH:\", epoch+1 , \"Current LR : \", optimizer.param_groups[0]['lr'])\n",
        "#       if norm == 'bn':\n",
        "#         train_loss, train_accuracy = train(model, device, train_loader, optimizer, epoch, norm = 'bn', lambda_l1 = 0.001)\n",
        "#         # train_loss = train(model, device, train_loader, optimizer, epoch, norm = 'bn', lambda_l1 = 0.001)\n",
        "#         # train(model, device, train_loader, optimizer, epoch, norm = 'bn', lambda_l1 = 0.001)\n",
        "#       else:\n",
        "#         train_loss, train_accuracy = train(model, device, train_loader, optimizer, epoch)\n",
        "#         # train_loss = train(model, device, train_loader, optimizer, epoch)\n",
        "#         # train(model, device, train_loader, optimizer, epoch)\n",
        "\n",
        "#       list_train_loss_temp.append(train_loss)\n",
        "#       list_train_accuracy_temp.append(train_accuracy)\n",
        "\n",
        "#       scheduler.step(train_loss) \n",
        "\n",
        "\n",
        "#       curr_lr = optimizer.param_groups[0]['lr']\n",
        "#       val_loss,val_accuracy = test(model, device, test_loader) \n",
        "\n",
        "#       list_val_loss_temp.append(val_loss)\n",
        "#       list_val_accuracy_temp.append(val_accuracy)\n",
        "\n",
        "#   dict_train_loss[norm]= list_train_loss_temp\n",
        "#   dict_val_loss[norm] = list_val_loss_temp\n",
        "#   dict_train_accuarcy [norm]=list_train_accuracy_temp\n",
        "#   dict_val_accuracy[norm]= list_val_accuracy_temp\n",
        "      \n",
        "\n",
        "\n",
        "    "
      ],
      "metadata": {
        "id": "mk4SGOYlNYgi"
      },
      "execution_count": 13,
      "outputs": []
    },
    {
      "cell_type": "code",
      "source": [
        "#@title Executing Training Function\n",
        "\n",
        "def execute_training(list_norm = ['bn'], Network = Network, epochs = 2 ):\n",
        "\n",
        "  # dict_train_loss ={}\n",
        "  # dict_val_loss ={}\n",
        "  # dict_train_accuarcy ={}\n",
        "  # dict_val_accuracy= {}\n",
        "  # dict_model ={}\n",
        "  dict_return ={}\n",
        "\n",
        "  for norm in list_norm:\n",
        "    print(f'=========training started for norm {norm}.========')\n",
        "    model =  Network(norm=norm).to(device)\n",
        "    model.apply(weights_init)\n",
        "    optimizer = optim.SGD(model.parameters(), lr=0.3, momentum=0.9)\n",
        "    scheduler = ReduceLROnPlateau(optimizer, factor = 0.1, patience = 2, threshold =  0.0002)\n",
        "\n",
        "    list_train_loss_temp = []\n",
        "    list_train_accuracy_temp = []\n",
        "    list_val_loss_temp =[]\n",
        "    list_val_accuracy_temp =[]\n",
        "\n",
        "    for epoch in range(epochs):\n",
        "        print(\"EPOCH:\", epoch+1)\n",
        "        train_loss, train_accuracy = train(model, device, train_loader, optimizer, epoch, norm = norm, lambda_l1 = 0.001)\n",
        "        \n",
        "        list_train_loss_temp.append(train_loss)\n",
        "        list_train_accuracy_temp.append(train_accuracy)\n",
        "        scheduler.step(train_loss) \n",
        "\n",
        "        val_loss,val_accuracy = test(model, device, test_loader) \n",
        "\n",
        "        list_val_loss_temp.append(val_loss)\n",
        "        list_val_accuracy_temp.append(val_accuracy)\n",
        "         \n",
        "    print(f'=========training finished for norm {norm}.========')\n",
        "\n",
        "    # dict_train_loss[norm]= list_train_loss_temp\n",
        "    # dict_val_loss[norm] = list_val_loss_temp\n",
        "    # dict_train_accuarcy [norm]=list_train_accuracy_temp\n",
        "    # dict_val_accuracy[norm]= list_val_accuracy_temp\n",
        "    # dict_model[norm] = model\n",
        "\n",
        "    dict_return[norm] = {'model': model,\n",
        "                         'train_loss':list_train_loss_temp,\n",
        "                         'val_loss': list_val_loss_temp,\n",
        "                         'train_accuracy':list_train_accuracy_temp,\n",
        "                         'val_accuracy':list_val_accuracy_temp}\n",
        "            \n",
        "  return dict_return"
      ],
      "metadata": {
        "id": "vLsLVH_C6e8m"
      },
      "execution_count": 27,
      "outputs": []
    },
    {
      "cell_type": "code",
      "source": [
        "#@title Execution of Training and Test\n",
        "dict_training_output = {}\n",
        "dict_training_output = execute_training(list_norm = list_norm, Network = Network, epochs = EPOCHS )\n"
      ],
      "metadata": {
        "colab": {
          "base_uri": "https://localhost:8080/"
        },
        "id": "7DF-4g0Y_AQH",
        "outputId": "3e95866e-2896-4154-fa37-83940d48eabb"
      },
      "execution_count": 28,
      "outputs": [
        {
          "output_type": "stream",
          "name": "stdout",
          "text": [
            "=========training started for norm bn.========\n",
            "EPOCH: 1\n"
          ]
        },
        {
          "output_type": "stream",
          "name": "stderr",
          "text": [
            "\r  0%|          | 0/469 [00:00<?, ?it/s]/usr/local/lib/python3.8/dist-packages/torch/utils/data/dataloader.py:554: UserWarning: This DataLoader will create 4 worker processes in total. Our suggested max number of worker in current system is 2, which is smaller than what this DataLoader is going to create. Please be aware that excessive worker creation might get DataLoader running slow or even freeze, lower the worker number to avoid potential slowness/freeze if necessary.\n",
            "  warnings.warn(_create_warning_msg(\n",
            "Loss=0.6798670887947083 Batch_id=468 Accuracy=90.45%: 100%|██████████| 469/469 [00:17<00:00, 26.25it/s]\n"
          ]
        },
        {
          "output_type": "stream",
          "name": "stdout",
          "text": [
            "\n",
            "Test set: Average loss: 0.0003, Accuracy: 8929/10000 (89.29%)\n",
            "\n",
            "EPOCH: 2\n"
          ]
        },
        {
          "output_type": "stream",
          "name": "stderr",
          "text": [
            "Loss=0.7449647784233093 Batch_id=468 Accuracy=93.78%: 100%|██████████| 469/469 [00:22<00:00, 21.22it/s]\n"
          ]
        },
        {
          "output_type": "stream",
          "name": "stdout",
          "text": [
            "\n",
            "Test set: Average loss: 0.0020, Accuracy: 7945/10000 (79.45%)\n",
            "\n",
            "=========training finished for norm bn.========\n",
            "=========training started for norm ln.========\n",
            "EPOCH: 1\n"
          ]
        },
        {
          "output_type": "stream",
          "name": "stderr",
          "text": [
            "Loss=0.1808674931526184 Batch_id=468 Accuracy=84.25%: 100%|██████████| 469/469 [00:17<00:00, 26.84it/s]\n"
          ]
        },
        {
          "output_type": "stream",
          "name": "stdout",
          "text": [
            "\n",
            "Test set: Average loss: 0.0007, Accuracy: 9659/10000 (96.59%)\n",
            "\n",
            "EPOCH: 2\n"
          ]
        },
        {
          "output_type": "stream",
          "name": "stderr",
          "text": [
            "Loss=0.10289758443832397 Batch_id=468 Accuracy=96.70%: 100%|██████████| 469/469 [00:17<00:00, 26.73it/s]\n"
          ]
        },
        {
          "output_type": "stream",
          "name": "stdout",
          "text": [
            "\n",
            "Test set: Average loss: 0.0000, Accuracy: 9785/10000 (97.85%)\n",
            "\n",
            "=========training finished for norm ln.========\n"
          ]
        }
      ]
    },
    {
      "cell_type": "code",
      "source": [
        "# for norm in list_norm:\n",
        "#   print (dict_training_output[norm]['train_loss'],dict_training_output[norm]['val_loss'],dict_training_output[norm]['train_accuracy'],dict_training_output[norm]['val_accuracy'])"
      ],
      "metadata": {
        "id": "GEMQGIeBE8sn"
      },
      "execution_count": 34,
      "outputs": []
    },
    {
      "cell_type": "code",
      "source": [
        "# print (dict_train_loss,dict_val_loss,dict_train_accuarcy,dict_val_accuracy)"
      ],
      "metadata": {
        "id": "hsf6PrbxwCkC"
      },
      "execution_count": 33,
      "outputs": []
    },
    {
      "cell_type": "code",
      "source": [
        "#@title Plot Images\n",
        "mapping_dict = {'bn':'Batch Normalization', 'ln': 'Layer Normalization', 'gn': 'Group Normalization'}\n",
        "fig, axs = plt.subplots(2,2,figsize=(15,10))\n",
        "for norm in list_norm:\n",
        "  axs[0, 0].plot(dict_training_output[norm]['train_loss'], label = mapping_dict[norm])\n",
        "  axs[0, 0].set_title(\"Training Loss\")\n",
        "  axs[0, 0].set_xlabel('number of epochs', fontsize=10)\n",
        "  axs[0, 0].set_ylabel('NLL Loss', fontsize=10)\n",
        "  axs[0, 0].legend()\n",
        "  axs[1, 0].plot(dict_training_output[norm]['train_accuracy'], label = mapping_dict[norm])\n",
        "  axs[1, 0].set_title(\"Training Accuracy\")\n",
        "  axs[1, 0].set_xlabel('number of epochs', fontsize=10)\n",
        "  axs[1, 0].set_ylabel('Accuracy in %', fontsize=10)\n",
        "  axs[1, 0].legend()\n",
        "  axs[0, 1].plot(dict_training_output[norm]['val_loss'], label = mapping_dict[norm])\n",
        "  axs[0, 1].set_title(\"Test Loss\")\n",
        "  axs[0, 1].set_xlabel('number of epochs', fontsize=10)\n",
        "  axs[0, 1].set_ylabel('NLL Loss', fontsize=10)\n",
        "  axs[0, 1].legend()\n",
        "  axs[1, 1].plot(dict_training_output[norm]['val_accuracy'], label = mapping_dict[norm])\n",
        "  axs[1, 1].set_title(\"Test Accuracy\")\n",
        "  axs[1, 1].set_xlabel('number of epochs', fontsize=10)\n",
        "  axs[1, 1].set_ylabel('Accuracy in %', fontsize=10)\n",
        "  axs[1, 1].legend()\n",
        "plt.plot()"
      ],
      "metadata": {
        "colab": {
          "base_uri": "https://localhost:8080/",
          "height": 639
        },
        "id": "_LBA4lPoFqG3",
        "outputId": "f1fb6dbe-0a84-4849-9bd2-c7a7088a8abb"
      },
      "execution_count": 31,
      "outputs": [
        {
          "output_type": "execute_result",
          "data": {
            "text/plain": [
              "[]"
            ]
          },
          "metadata": {},
          "execution_count": 31
        },
        {
          "output_type": "display_data",
          "data": {
            "text/plain": [
              "<Figure size 1080x720 with 4 Axes>"
            ],
            "image/png": "[encoded data removed]"
          },
          "metadata": {
            "needs_background": "light"
          }
        }
      ]
    },
    {
      "cell_type": "code",
      "source": [
        "#@title Misclassified images\n",
        "\n",
        "def get_misclassified_images(model, device, test_loader, num_image = 10):\n",
        "  model.eval() # setting the model in evaluation mode\n",
        "  list_misclassified_images = []\n",
        "  with torch.no_grad():\n",
        "    for (images,labels) in test_loader:\n",
        "      images, labels = images.to(device),labels.to(device)#sending data to CPU or GPU as per device\n",
        "      outputs = model(images) # forward pass, result captured in outputs (plural as there are many images in a batch)\n",
        "      # the outputs are in batch size x one hot vector \n",
        "      preds = outputs.argmax(dim=1, keepdim=True)  # get the index of the max log-probability\n",
        "      output_match_list = preds.eq(labels.view_as(preds)).squeeze().tolist()\n",
        "      labels_list = labels.squeeze().tolist()\n",
        "      preds_list = preds.squeeze().tolist()\n",
        "      # print(preds.eq(labels.view_as(preds)))\n",
        "      # print(preds.eq(labels.view_as(preds)).size())\n",
        "      # print (torch.squeeze(preds.eq(labels.view_as(preds))))\n",
        "      # print( labels[8])\n",
        "      # print( images[8])\n",
        "      # print(output_match_list)\n",
        "      for index, bool_value in enumerate(output_match_list):\n",
        "        if not bool_value:\n",
        "          # print(index)\n",
        "          list_misclassified_images.append((images[index],labels[index],preds[index]))\n",
        "          if len(list_misclassified_images) == num_image: break\n",
        "      if len(list_misclassified_images) == num_image: break\n",
        "  return list_misclassified_images"
      ],
      "metadata": {
        "id": "bng5hYqC0TyJ"
      },
      "execution_count": 38,
      "outputs": []
    },
    {
      "cell_type": "code",
      "source": [
        "# list_misclassified_images = get_misclassified_images(model,device, test_loader,num_image = 10)"
      ],
      "metadata": {
        "id": "K9d-Dq3W6VLH"
      },
      "execution_count": null,
      "outputs": []
    },
    {
      "cell_type": "code",
      "source": [
        "dict_misclassified_images ={}\n",
        "for norm in list_norm:\n",
        "  dict_misclassified_images[norm] = get_misclassified_images(dict_training_output[norm]['model'],device, test_loader,num_image = 10)"
      ],
      "metadata": {
        "id": "mic2UD7lGmrx"
      },
      "execution_count": 39,
      "outputs": []
    },
    {
      "cell_type": "code",
      "source": [
        "# t = 4\n",
        "# print(list_misclassified_images[t][1].cpu().item(),list_misclassified_images[t][2].cpu().item() )"
      ],
      "metadata": {
        "colab": {
          "base_uri": "https://localhost:8080/"
        },
        "id": "6-ppf9PU3t7Z",
        "outputId": "867ebe07-f6bd-4740-dd84-b5000bc63982"
      },
      "execution_count": 17,
      "outputs": [
        {
          "output_type": "execute_result",
          "data": {
            "text/plain": [
              "10"
            ]
          },
          "metadata": {},
          "execution_count": 17
        }
      ]
    },
    {
      "cell_type": "code",
      "source": [
        "# Plotting misclassified images function\n",
        "def plot_misclassified_images (list_misclassified_images):\n",
        "  figure = plt.figure(figsize = (10,5))\n",
        "  for index in range(1, len(list_misclassified_images) + 1): \n",
        "      plt.subplot(2, int(len(list_misclassified_images)/2), index)\n",
        "      plt.axis('off')\n",
        "      plt.imshow(list_misclassified_images[index-1][0].cpu().numpy().squeeze(), cmap='gray_r')\n",
        "      plt.title(f'Actual - {list_misclassified_images[index-1][1]} \\nPredicted - {list_misclassified_images[index-1][2].cpu().item()}')\n",
        "\n"
      ],
      "metadata": {
        "id": "QMZVaMU8LsBK"
      },
      "execution_count": 40,
      "outputs": []
    },
    {
      "cell_type": "code",
      "source": [
        "#@title Plot Misclassified Images\n",
        "for norm in list_norm:\n",
        "  print(f'=========Misclassified Images for {mapping_dict[norm]}.========')\n",
        "  plot_misclassified_images(dict_misclassified_images[norm])"
      ],
      "metadata": {
        "colab": {
          "base_uri": "https://localhost:8080/",
          "height": 632
        },
        "id": "l18LPUrn42oJ",
        "outputId": "efd40d80-f010-4a7f-bf0a-5f61d3a1596b"
      },
      "execution_count": 41,
      "outputs": [
        {
          "output_type": "stream",
          "name": "stdout",
          "text": [
            "=========Misclassified Images for norm Batch Normalization.========\n",
            "=========Misclassified Images for norm Layer Normalization.========\n"
          ]
        },
        {
          "output_type": "display_data",
          "data": {
            "text/plain": [
              "<Figure size 720x360 with 10 Axes>"
            ],
            "image/png": "[encoded data removed]"
          },
          "metadata": {
            "needs_background": "light"
          }
        },
        {
          "output_type": "display_data",
          "data": {
            "text/plain": [
              "<Figure size 720x360 with 10 Axes>"
            ],
            "image/png": "[encoded data removed]"
          },
          "metadata": {
            "needs_background": "light"
          }
        }
      ]
    },
    {
      "cell_type": "code",
      "source": [],
      "metadata": {
        "id": "96ggmVA6HcXM"
      },
      "execution_count": null,
      "outputs": []
    }
  ]
}