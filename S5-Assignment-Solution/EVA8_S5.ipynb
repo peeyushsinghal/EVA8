{
  "nbformat": 4,
  "nbformat_minor": 0,
  "metadata": {
    "colab": {
      "provenance": [],
      "authorship_tag": "ABX9TyNFZdUfSzUYkhz7rb8wRvr6",
      "include_colab_link": true
    },
    "kernelspec": {
      "name": "python3",
      "display_name": "Python 3"
    },
    "language_info": {
      "name": "python"
    },
    "accelerator": "GPU",
    "gpuClass": "standard",
    "widgets": {
      "application/vnd.jupyter.widget-state+json": {
        "cf9c48f3514d465aa02b242ae5ebf87b": {
          "model_module": "@jupyter-widgets/controls",
          "model_name": "HBoxModel",
          "model_module_version": "1.5.0",
          "state": {
            "_dom_classes": [],
            "_model_module": "@jupyter-widgets/controls",
            "_model_module_version": "1.5.0",
            "_model_name": "HBoxModel",
            "_view_count": null,
            "_view_module": "@jupyter-widgets/controls",
            "_view_module_version": "1.5.0",
            "_view_name": "HBoxView",
            "box_style": "",
            "children": [
              "IPY_MODEL_68bc9173407842aca69941c06cf32cc8",
              "IPY_MODEL_fe35b8a8fd794bf49be435d8272d1eb6",
              "IPY_MODEL_074fbbb467ba4fd78b8896e5e58c10f7"
            ],
            "layout": "IPY_MODEL_3d935a1f54e94db994777c19d5dc7279"
          }
        },
        "68bc9173407842aca69941c06cf32cc8": {
          "model_module": "@jupyter-widgets/controls",
          "model_name": "HTMLModel",
          "model_module_version": "1.5.0",
          "state": {
            "_dom_classes": [],
            "_model_module": "@jupyter-widgets/controls",
            "_model_module_version": "1.5.0",
            "_model_name": "HTMLModel",
            "_view_count": null,
            "_view_module": "@jupyter-widgets/controls",
            "_view_module_version": "1.5.0",
            "_view_name": "HTMLView",
            "description": "",
            "description_tooltip": null,
            "layout": "IPY_MODEL_4d650e8eaac84ba78094a06a68906f6d",
            "placeholder": "​",
            "style": "IPY_MODEL_59208317f034471793baba0443369f99",
            "value": "100%"
          }
        },
        "fe35b8a8fd794bf49be435d8272d1eb6": {
          "model_module": "@jupyter-widgets/controls",
          "model_name": "FloatProgressModel",
          "model_module_version": "1.5.0",
          "state": {
            "_dom_classes": [],
            "_model_module": "@jupyter-widgets/controls",
            "_model_module_version": "1.5.0",
            "_model_name": "FloatProgressModel",
            "_view_count": null,
            "_view_module": "@jupyter-widgets/controls",
            "_view_module_version": "1.5.0",
            "_view_name": "ProgressView",
            "bar_style": "success",
            "description": "",
            "description_tooltip": null,
            "layout": "IPY_MODEL_c34e7dc1a4814c99956adee7eebc454d",
            "max": 9912422,
            "min": 0,
            "orientation": "horizontal",
            "style": "IPY_MODEL_8ceb0a32b07c45c4ada7724c0155f775",
            "value": 9912422
          }
        },
        "074fbbb467ba4fd78b8896e5e58c10f7": {
          "model_module": "@jupyter-widgets/controls",
          "model_name": "HTMLModel",
          "model_module_version": "1.5.0",
          "state": {
            "_dom_classes": [],
            "_model_module": "@jupyter-widgets/controls",
            "_model_module_version": "1.5.0",
            "_model_name": "HTMLModel",
            "_view_count": null,
            "_view_module": "@jupyter-widgets/controls",
            "_view_module_version": "1.5.0",
            "_view_name": "HTMLView",
            "description": "",
            "description_tooltip": null,
            "layout": "IPY_MODEL_5da8de1c1ed34af0a1c4b022f5a9432e",
            "placeholder": "​",
            "style": "IPY_MODEL_d9f6652f083f46a6b2464bc5c436d2d5",
            "value": " 9912422/9912422 [00:00&lt;00:00, 155724772.62it/s]"
          }
        },
        "3d935a1f54e94db994777c19d5dc7279": {
          "model_module": "@jupyter-widgets/base",
          "model_name": "LayoutModel",
          "model_module_version": "1.2.0",
          "state": {
            "_model_module": "@jupyter-widgets/base",
            "_model_module_version": "1.2.0",
            "_model_name": "LayoutModel",
            "_view_count": null,
            "_view_module": "@jupyter-widgets/base",
            "_view_module_version": "1.2.0",
            "_view_name": "LayoutView",
            "align_content": null,
            "align_items": null,
            "align_self": null,
            "border": null,
            "bottom": null,
            "display": null,
            "flex": null,
            "flex_flow": null,
            "grid_area": null,
            "grid_auto_columns": null,
            "grid_auto_flow": null,
            "grid_auto_rows": null,
            "grid_column": null,
            "grid_gap": null,
            "grid_row": null,
            "grid_template_areas": null,
            "grid_template_columns": null,
            "grid_template_rows": null,
            "height": null,
            "justify_content": null,
            "justify_items": null,
            "left": null,
            "margin": null,
            "max_height": null,
            "max_width": null,
            "min_height": null,
            "min_width": null,
            "object_fit": null,
            "object_position": null,
            "order": null,
            "overflow": null,
            "overflow_x": null,
            "overflow_y": null,
            "padding": null,
            "right": null,
            "top": null,
            "visibility": null,
            "width": null
          }
        },
        "4d650e8eaac84ba78094a06a68906f6d": {
          "model_module": "@jupyter-widgets/base",
          "model_name": "LayoutModel",
          "model_module_version": "1.2.0",
          "state": {
            "_model_module": "@jupyter-widgets/base",
            "_model_module_version": "1.2.0",
            "_model_name": "LayoutModel",
            "_view_count": null,
            "_view_module": "@jupyter-widgets/base",
            "_view_module_version": "1.2.0",
            "_view_name": "LayoutView",
            "align_content": null,
            "align_items": null,
            "align_self": null,
            "border": null,
            "bottom": null,
            "display": null,
            "flex": null,
            "flex_flow": null,
            "grid_area": null,
            "grid_auto_columns": null,
            "grid_auto_flow": null,
            "grid_auto_rows": null,
            "grid_column": null,
            "grid_gap": null,
            "grid_row": null,
            "grid_template_areas": null,
            "grid_template_columns": null,
            "grid_template_rows": null,
            "height": null,
            "justify_content": null,
            "justify_items": null,
            "left": null,
            "margin": null,
            "max_height": null,
            "max_width": null,
            "min_height": null,
            "min_width": null,
            "object_fit": null,
            "object_position": null,
            "order": null,
            "overflow": null,
            "overflow_x": null,
            "overflow_y": null,
            "padding": null,
            "right": null,
            "top": null,
            "visibility": null,
            "width": null
          }
        },
        "59208317f034471793baba0443369f99": {
          "model_module": "@jupyter-widgets/controls",
          "model_name": "DescriptionStyleModel",
          "model_module_version": "1.5.0",
          "state": {
            "_model_module": "@jupyter-widgets/controls",
            "_model_module_version": "1.5.0",
            "_model_name": "DescriptionStyleModel",
            "_view_count": null,
            "_view_module": "@jupyter-widgets/base",
            "_view_module_version": "1.2.0",
            "_view_name": "StyleView",
            "description_width": ""
          }
        },
        "c34e7dc1a4814c99956adee7eebc454d": {
          "model_module": "@jupyter-widgets/base",
          "model_name": "LayoutModel",
          "model_module_version": "1.2.0",
          "state": {
            "_model_module": "@jupyter-widgets/base",
            "_model_module_version": "1.2.0",
            "_model_name": "LayoutModel",
            "_view_count": null,
            "_view_module": "@jupyter-widgets/base",
            "_view_module_version": "1.2.0",
            "_view_name": "LayoutView",
            "align_content": null,
            "align_items": null,
            "align_self": null,
            "border": null,
            "bottom": null,
            "display": null,
            "flex": null,
            "flex_flow": null,
            "grid_area": null,
            "grid_auto_columns": null,
            "grid_auto_flow": null,
            "grid_auto_rows": null,
            "grid_column": null,
            "grid_gap": null,
            "grid_row": null,
            "grid_template_areas": null,
            "grid_template_columns": null,
            "grid_template_rows": null,
            "height": null,
            "justify_content": null,
            "justify_items": null,
            "left": null,
            "margin": null,
            "max_height": null,
            "max_width": null,
            "min_height": null,
            "min_width": null,
            "object_fit": null,
            "object_position": null,
            "order": null,
            "overflow": null,
            "overflow_x": null,
            "overflow_y": null,
            "padding": null,
            "right": null,
            "top": null,
            "visibility": null,
            "width": null
          }
        },
        "8ceb0a32b07c45c4ada7724c0155f775": {
          "model_module": "@jupyter-widgets/controls",
          "model_name": "ProgressStyleModel",
          "model_module_version": "1.5.0",
          "state": {
            "_model_module": "@jupyter-widgets/controls",
            "_model_module_version": "1.5.0",
            "_model_name": "ProgressStyleModel",
            "_view_count": null,
            "_view_module": "@jupyter-widgets/base",
            "_view_module_version": "1.2.0",
            "_view_name": "StyleView",
            "bar_color": null,
            "description_width": ""
          }
        },
        "5da8de1c1ed34af0a1c4b022f5a9432e": {
          "model_module": "@jupyter-widgets/base",
          "model_name": "LayoutModel",
          "model_module_version": "1.2.0",
          "state": {
            "_model_module": "@jupyter-widgets/base",
            "_model_module_version": "1.2.0",
            "_model_name": "LayoutModel",
            "_view_count": null,
            "_view_module": "@jupyter-widgets/base",
            "_view_module_version": "1.2.0",
            "_view_name": "LayoutView",
            "align_content": null,
            "align_items": null,
            "align_self": null,
            "border": null,
            "bottom": null,
            "display": null,
            "flex": null,
            "flex_flow": null,
            "grid_area": null,
            "grid_auto_columns": null,
            "grid_auto_flow": null,
            "grid_auto_rows": null,
            "grid_column": null,
            "grid_gap": null,
            "grid_row": null,
            "grid_template_areas": null,
            "grid_template_columns": null,
            "grid_template_rows": null,
            "height": null,
            "justify_content": null,
            "justify_items": null,
            "left": null,
            "margin": null,
            "max_height": null,
            "max_width": null,
            "min_height": null,
            "min_width": null,
            "object_fit": null,
            "object_position": null,
            "order": null,
            "overflow": null,
            "overflow_x": null,
            "overflow_y": null,
            "padding": null,
            "right": null,
            "top": null,
            "visibility": null,
            "width": null
          }
        },
        "d9f6652f083f46a6b2464bc5c436d2d5": {
          "model_module": "@jupyter-widgets/controls",
          "model_name": "DescriptionStyleModel",
          "model_module_version": "1.5.0",
          "state": {
            "_model_module": "@jupyter-widgets/controls",
            "_model_module_version": "1.5.0",
            "_model_name": "DescriptionStyleModel",
            "_view_count": null,
            "_view_module": "@jupyter-widgets/base",
            "_view_module_version": "1.2.0",
            "_view_name": "StyleView",
            "description_width": ""
          }
        },
        "cd5425d48a924ac68e25c7cd9829c627": {
          "model_module": "@jupyter-widgets/controls",
          "model_name": "HBoxModel",
          "model_module_version": "1.5.0",
          "state": {
            "_dom_classes": [],
            "_model_module": "@jupyter-widgets/controls",
            "_model_module_version": "1.5.0",
            "_model_name": "HBoxModel",
            "_view_count": null,
            "_view_module": "@jupyter-widgets/controls",
            "_view_module_version": "1.5.0",
            "_view_name": "HBoxView",
            "box_style": "",
            "children": [
              "IPY_MODEL_673c9dda1ea146a9976ce8cb7ff9b362",
              "IPY_MODEL_d70448fef9054584a35824eb63bb7230",
              "IPY_MODEL_a0a5613d593242e688227f57e6d15e5c"
            ],
            "layout": "IPY_MODEL_d09c5749768f4881b1e78e5d5adf9c24"
          }
        },
        "673c9dda1ea146a9976ce8cb7ff9b362": {
          "model_module": "@jupyter-widgets/controls",
          "model_name": "HTMLModel",
          "model_module_version": "1.5.0",
          "state": {
            "_dom_classes": [],
            "_model_module": "@jupyter-widgets/controls",
            "_model_module_version": "1.5.0",
            "_model_name": "HTMLModel",
            "_view_count": null,
            "_view_module": "@jupyter-widgets/controls",
            "_view_module_version": "1.5.0",
            "_view_name": "HTMLView",
            "description": "",
            "description_tooltip": null,
            "layout": "IPY_MODEL_a0857c0b890b4754ac53e13474df70fe",
            "placeholder": "​",
            "style": "IPY_MODEL_9ddf9028ea2e4f79b0b3fc5cb93c7496",
            "value": "100%"
          }
        },
        "d70448fef9054584a35824eb63bb7230": {
          "model_module": "@jupyter-widgets/controls",
          "model_name": "FloatProgressModel",
          "model_module_version": "1.5.0",
          "state": {
            "_dom_classes": [],
            "_model_module": "@jupyter-widgets/controls",
            "_model_module_version": "1.5.0",
            "_model_name": "FloatProgressModel",
            "_view_count": null,
            "_view_module": "@jupyter-widgets/controls",
            "_view_module_version": "1.5.0",
            "_view_name": "ProgressView",
            "bar_style": "success",
            "description": "",
            "description_tooltip": null,
            "layout": "IPY_MODEL_b16258b30c6d4527962f78c073807126",
            "max": 28881,
            "min": 0,
            "orientation": "horizontal",
            "style": "IPY_MODEL_95857816f55c4521b3a5404a9f4e1af6",
            "value": 28881
          }
        },
        "a0a5613d593242e688227f57e6d15e5c": {
          "model_module": "@jupyter-widgets/controls",
          "model_name": "HTMLModel",
          "model_module_version": "1.5.0",
          "state": {
            "_dom_classes": [],
            "_model_module": "@jupyter-widgets/controls",
            "_model_module_version": "1.5.0",
            "_model_name": "HTMLModel",
            "_view_count": null,
            "_view_module": "@jupyter-widgets/controls",
            "_view_module_version": "1.5.0",
            "_view_name": "HTMLView",
            "description": "",
            "description_tooltip": null,
            "layout": "IPY_MODEL_7d4e4d87f1344da7a3186bee4155c77e",
            "placeholder": "​",
            "style": "IPY_MODEL_e006fa0e82ee42d0b6f573b5daf7423b",
            "value": " 28881/28881 [00:00&lt;00:00, 2124293.17it/s]"
          }
        },
        "d09c5749768f4881b1e78e5d5adf9c24": {
          "model_module": "@jupyter-widgets/base",
          "model_name": "LayoutModel",
          "model_module_version": "1.2.0",
          "state": {
            "_model_module": "@jupyter-widgets/base",
            "_model_module_version": "1.2.0",
            "_model_name": "LayoutModel",
            "_view_count": null,
            "_view_module": "@jupyter-widgets/base",
            "_view_module_version": "1.2.0",
            "_view_name": "LayoutView",
            "align_content": null,
            "align_items": null,
            "align_self": null,
            "border": null,
            "bottom": null,
            "display": null,
            "flex": null,
            "flex_flow": null,
            "grid_area": null,
            "grid_auto_columns": null,
            "grid_auto_flow": null,
            "grid_auto_rows": null,
            "grid_column": null,
            "grid_gap": null,
            "grid_row": null,
            "grid_template_areas": null,
            "grid_template_columns": null,
            "grid_template_rows": null,
            "height": null,
            "justify_content": null,
            "justify_items": null,
            "left": null,
            "margin": null,
            "max_height": null,
            "max_width": null,
            "min_height": null,
            "min_width": null,
            "object_fit": null,
            "object_position": null,
            "order": null,
            "overflow": null,
            "overflow_x": null,
            "overflow_y": null,
            "padding": null,
            "right": null,
            "top": null,
            "visibility": null,
            "width": null
          }
        },
        "a0857c0b890b4754ac53e13474df70fe": {
          "model_module": "@jupyter-widgets/base",
          "model_name": "LayoutModel",
          "model_module_version": "1.2.0",
          "state": {
            "_model_module": "@jupyter-widgets/base",
            "_model_module_version": "1.2.0",
            "_model_name": "LayoutModel",
            "_view_count": null,
            "_view_module": "@jupyter-widgets/base",
            "_view_module_version": "1.2.0",
            "_view_name": "LayoutView",
            "align_content": null,
            "align_items": null,
            "align_self": null,
            "border": null,
            "bottom": null,
            "display": null,
            "flex": null,
            "flex_flow": null,
            "grid_area": null,
            "grid_auto_columns": null,
            "grid_auto_flow": null,
            "grid_auto_rows": null,
            "grid_column": null,
            "grid_gap": null,
            "grid_row": null,
            "grid_template_areas": null,
            "grid_template_columns": null,
            "grid_template_rows": null,
            "height": null,
            "justify_content": null,
            "justify_items": null,
            "left": null,
            "margin": null,
            "max_height": null,
            "max_width": null,
            "min_height": null,
            "min_width": null,
            "object_fit": null,
            "object_position": null,
            "order": null,
            "overflow": null,
            "overflow_x": null,
            "overflow_y": null,
            "padding": null,
            "right": null,
            "top": null,
            "visibility": null,
            "width": null
          }
        },
        "9ddf9028ea2e4f79b0b3fc5cb93c7496": {
          "model_module": "@jupyter-widgets/controls",
          "model_name": "DescriptionStyleModel",
          "model_module_version": "1.5.0",
          "state": {
            "_model_module": "@jupyter-widgets/controls",
            "_model_module_version": "1.5.0",
            "_model_name": "DescriptionStyleModel",
            "_view_count": null,
            "_view_module": "@jupyter-widgets/base",
            "_view_module_version": "1.2.0",
            "_view_name": "StyleView",
            "description_width": ""
          }
        },
        "b16258b30c6d4527962f78c073807126": {
          "model_module": "@jupyter-widgets/base",
          "model_name": "LayoutModel",
          "model_module_version": "1.2.0",
          "state": {
            "_model_module": "@jupyter-widgets/base",
            "_model_module_version": "1.2.0",
            "_model_name": "LayoutModel",
            "_view_count": null,
            "_view_module": "@jupyter-widgets/base",
            "_view_module_version": "1.2.0",
            "_view_name": "LayoutView",
            "align_content": null,
            "align_items": null,
            "align_self": null,
            "border": null,
            "bottom": null,
            "display": null,
            "flex": null,
            "flex_flow": null,
            "grid_area": null,
            "grid_auto_columns": null,
            "grid_auto_flow": null,
            "grid_auto_rows": null,
            "grid_column": null,
            "grid_gap": null,
            "grid_row": null,
            "grid_template_areas": null,
            "grid_template_columns": null,
            "grid_template_rows": null,
            "height": null,
            "justify_content": null,
            "justify_items": null,
            "left": null,
            "margin": null,
            "max_height": null,
            "max_width": null,
            "min_height": null,
            "min_width": null,
            "object_fit": null,
            "object_position": null,
            "order": null,
            "overflow": null,
            "overflow_x": null,
            "overflow_y": null,
            "padding": null,
            "right": null,
            "top": null,
            "visibility": null,
            "width": null
          }
        },
        "95857816f55c4521b3a5404a9f4e1af6": {
          "model_module": "@jupyter-widgets/controls",
          "model_name": "ProgressStyleModel",
          "model_module_version": "1.5.0",
          "state": {
            "_model_module": "@jupyter-widgets/controls",
            "_model_module_version": "1.5.0",
            "_model_name": "ProgressStyleModel",
            "_view_count": null,
            "_view_module": "@jupyter-widgets/base",
            "_view_module_version": "1.2.0",
            "_view_name": "StyleView",
            "bar_color": null,
            "description_width": ""
          }
        },
        "7d4e4d87f1344da7a3186bee4155c77e": {
          "model_module": "@jupyter-widgets/base",
          "model_name": "LayoutModel",
          "model_module_version": "1.2.0",
          "state": {
            "_model_module": "@jupyter-widgets/base",
            "_model_module_version": "1.2.0",
            "_model_name": "LayoutModel",
            "_view_count": null,
            "_view_module": "@jupyter-widgets/base",
            "_view_module_version": "1.2.0",
            "_view_name": "LayoutView",
            "align_content": null,
            "align_items": null,
            "align_self": null,
            "border": null,
            "bottom": null,
            "display": null,
            "flex": null,
            "flex_flow": null,
            "grid_area": null,
            "grid_auto_columns": null,
            "grid_auto_flow": null,
            "grid_auto_rows": null,
            "grid_column": null,
            "grid_gap": null,
            "grid_row": null,
            "grid_template_areas": null,
            "grid_template_columns": null,
            "grid_template_rows": null,
            "height": null,
            "justify_content": null,
            "justify_items": null,
            "left": null,
            "margin": null,
            "max_height": null,
            "max_width": null,
            "min_height": null,
            "min_width": null,
            "object_fit": null,
            "object_position": null,
            "order": null,
            "overflow": null,
            "overflow_x": null,
            "overflow_y": null,
            "padding": null,
            "right": null,
            "top": null,
            "visibility": null,
            "width": null
          }
        },
        "e006fa0e82ee42d0b6f573b5daf7423b": {
          "model_module": "@jupyter-widgets/controls",
          "model_name": "DescriptionStyleModel",
          "model_module_version": "1.5.0",
          "state": {
            "_model_module": "@jupyter-widgets/controls",
            "_model_module_version": "1.5.0",
            "_model_name": "DescriptionStyleModel",
            "_view_count": null,
            "_view_module": "@jupyter-widgets/base",
            "_view_module_version": "1.2.0",
            "_view_name": "StyleView",
            "description_width": ""
          }
        },
        "2cc1fa0711694c90a5d3e32d9e806be0": {
          "model_module": "@jupyter-widgets/controls",
          "model_name": "HBoxModel",
          "model_module_version": "1.5.0",
          "state": {
            "_dom_classes": [],
            "_model_module": "@jupyter-widgets/controls",
            "_model_module_version": "1.5.0",
            "_model_name": "HBoxModel",
            "_view_count": null,
            "_view_module": "@jupyter-widgets/controls",
            "_view_module_version": "1.5.0",
            "_view_name": "HBoxView",
            "box_style": "",
            "children": [
              "IPY_MODEL_8f9887a3e3bb4dbcb5d76d90e499c723",
              "IPY_MODEL_0b5d0cae104c44e6a57b3337198fc7ef",
              "IPY_MODEL_ae97e93191464277b8f1980aa5f6bf54"
            ],
            "layout": "IPY_MODEL_7b37f0da609e4351b49a08e9cc06d341"
          }
        },
        "8f9887a3e3bb4dbcb5d76d90e499c723": {
          "model_module": "@jupyter-widgets/controls",
          "model_name": "HTMLModel",
          "model_module_version": "1.5.0",
          "state": {
            "_dom_classes": [],
            "_model_module": "@jupyter-widgets/controls",
            "_model_module_version": "1.5.0",
            "_model_name": "HTMLModel",
            "_view_count": null,
            "_view_module": "@jupyter-widgets/controls",
            "_view_module_version": "1.5.0",
            "_view_name": "HTMLView",
            "description": "",
            "description_tooltip": null,
            "layout": "IPY_MODEL_0dc0d73ade1b4501a1c667213a1d4154",
            "placeholder": "​",
            "style": "IPY_MODEL_4bd27db7f9af4de7b3dbf9d29401c019",
            "value": "100%"
          }
        },
        "0b5d0cae104c44e6a57b3337198fc7ef": {
          "model_module": "@jupyter-widgets/controls",
          "model_name": "FloatProgressModel",
          "model_module_version": "1.5.0",
          "state": {
            "_dom_classes": [],
            "_model_module": "@jupyter-widgets/controls",
            "_model_module_version": "1.5.0",
            "_model_name": "FloatProgressModel",
            "_view_count": null,
            "_view_module": "@jupyter-widgets/controls",
            "_view_module_version": "1.5.0",
            "_view_name": "ProgressView",
            "bar_style": "success",
            "description": "",
            "description_tooltip": null,
            "layout": "IPY_MODEL_ae2b962dbeb14674ac1b08f60c9c197c",
            "max": 1648877,
            "min": 0,
            "orientation": "horizontal",
            "style": "IPY_MODEL_249e6080ea4447fcb96f20bac7d13bba",
            "value": 1648877
          }
        },
        "ae97e93191464277b8f1980aa5f6bf54": {
          "model_module": "@jupyter-widgets/controls",
          "model_name": "HTMLModel",
          "model_module_version": "1.5.0",
          "state": {
            "_dom_classes": [],
            "_model_module": "@jupyter-widgets/controls",
            "_model_module_version": "1.5.0",
            "_model_name": "HTMLModel",
            "_view_count": null,
            "_view_module": "@jupyter-widgets/controls",
            "_view_module_version": "1.5.0",
            "_view_name": "HTMLView",
            "description": "",
            "description_tooltip": null,
            "layout": "IPY_MODEL_8d858a4c836b4994924907422e14f962",
            "placeholder": "​",
            "style": "IPY_MODEL_94291269fc7d48dc8f49131b3b3efb06",
            "value": " 1648877/1648877 [00:00&lt;00:00, 36813875.13it/s]"
          }
        },
        "7b37f0da609e4351b49a08e9cc06d341": {
          "model_module": "@jupyter-widgets/base",
          "model_name": "LayoutModel",
          "model_module_version": "1.2.0",
          "state": {
            "_model_module": "@jupyter-widgets/base",
            "_model_module_version": "1.2.0",
            "_model_name": "LayoutModel",
            "_view_count": null,
            "_view_module": "@jupyter-widgets/base",
            "_view_module_version": "1.2.0",
            "_view_name": "LayoutView",
            "align_content": null,
            "align_items": null,
            "align_self": null,
            "border": null,
            "bottom": null,
            "display": null,
            "flex": null,
            "flex_flow": null,
            "grid_area": null,
            "grid_auto_columns": null,
            "grid_auto_flow": null,
            "grid_auto_rows": null,
            "grid_column": null,
            "grid_gap": null,
            "grid_row": null,
            "grid_template_areas": null,
            "grid_template_columns": null,
            "grid_template_rows": null,
            "height": null,
            "justify_content": null,
            "justify_items": null,
            "left": null,
            "margin": null,
            "max_height": null,
            "max_width": null,
            "min_height": null,
            "min_width": null,
            "object_fit": null,
            "object_position": null,
            "order": null,
            "overflow": null,
            "overflow_x": null,
            "overflow_y": null,
            "padding": null,
            "right": null,
            "top": null,
            "visibility": null,
            "width": null
          }
        },
        "0dc0d73ade1b4501a1c667213a1d4154": {
          "model_module": "@jupyter-widgets/base",
          "model_name": "LayoutModel",
          "model_module_version": "1.2.0",
          "state": {
            "_model_module": "@jupyter-widgets/base",
            "_model_module_version": "1.2.0",
            "_model_name": "LayoutModel",
            "_view_count": null,
            "_view_module": "@jupyter-widgets/base",
            "_view_module_version": "1.2.0",
            "_view_name": "LayoutView",
            "align_content": null,
            "align_items": null,
            "align_self": null,
            "border": null,
            "bottom": null,
            "display": null,
            "flex": null,
            "flex_flow": null,
            "grid_area": null,
            "grid_auto_columns": null,
            "grid_auto_flow": null,
            "grid_auto_rows": null,
            "grid_column": null,
            "grid_gap": null,
            "grid_row": null,
            "grid_template_areas": null,
            "grid_template_columns": null,
            "grid_template_rows": null,
            "height": null,
            "justify_content": null,
            "justify_items": null,
            "left": null,
            "margin": null,
            "max_height": null,
            "max_width": null,
            "min_height": null,
            "min_width": null,
            "object_fit": null,
            "object_position": null,
            "order": null,
            "overflow": null,
            "overflow_x": null,
            "overflow_y": null,
            "padding": null,
            "right": null,
            "top": null,
            "visibility": null,
            "width": null
          }
        },
        "4bd27db7f9af4de7b3dbf9d29401c019": {
          "model_module": "@jupyter-widgets/controls",
          "model_name": "DescriptionStyleModel",
          "model_module_version": "1.5.0",
          "state": {
            "_model_module": "@jupyter-widgets/controls",
            "_model_module_version": "1.5.0",
            "_model_name": "DescriptionStyleModel",
            "_view_count": null,
            "_view_module": "@jupyter-widgets/base",
            "_view_module_version": "1.2.0",
            "_view_name": "StyleView",
            "description_width": ""
          }
        },
        "ae2b962dbeb14674ac1b08f60c9c197c": {
          "model_module": "@jupyter-widgets/base",
          "model_name": "LayoutModel",
          "model_module_version": "1.2.0",
          "state": {
            "_model_module": "@jupyter-widgets/base",
            "_model_module_version": "1.2.0",
            "_model_name": "LayoutModel",
            "_view_count": null,
            "_view_module": "@jupyter-widgets/base",
            "_view_module_version": "1.2.0",
            "_view_name": "LayoutView",
            "align_content": null,
            "align_items": null,
            "align_self": null,
            "border": null,
            "bottom": null,
            "display": null,
            "flex": null,
            "flex_flow": null,
            "grid_area": null,
            "grid_auto_columns": null,
            "grid_auto_flow": null,
            "grid_auto_rows": null,
            "grid_column": null,
            "grid_gap": null,
            "grid_row": null,
            "grid_template_areas": null,
            "grid_template_columns": null,
            "grid_template_rows": null,
            "height": null,
            "justify_content": null,
            "justify_items": null,
            "left": null,
            "margin": null,
            "max_height": null,
            "max_width": null,
            "min_height": null,
            "min_width": null,
            "object_fit": null,
            "object_position": null,
            "order": null,
            "overflow": null,
            "overflow_x": null,
            "overflow_y": null,
            "padding": null,
            "right": null,
            "top": null,
            "visibility": null,
            "width": null
          }
        },
        "249e6080ea4447fcb96f20bac7d13bba": {
          "model_module": "@jupyter-widgets/controls",
          "model_name": "ProgressStyleModel",
          "model_module_version": "1.5.0",
          "state": {
            "_model_module": "@jupyter-widgets/controls",
            "_model_module_version": "1.5.0",
            "_model_name": "ProgressStyleModel",
            "_view_count": null,
            "_view_module": "@jupyter-widgets/base",
            "_view_module_version": "1.2.0",
            "_view_name": "StyleView",
            "bar_color": null,
            "description_width": ""
          }
        },
        "8d858a4c836b4994924907422e14f962": {
          "model_module": "@jupyter-widgets/base",
          "model_name": "LayoutModel",
          "model_module_version": "1.2.0",
          "state": {
            "_model_module": "@jupyter-widgets/base",
            "_model_module_version": "1.2.0",
            "_model_name": "LayoutModel",
            "_view_count": null,
            "_view_module": "@jupyter-widgets/base",
            "_view_module_version": "1.2.0",
            "_view_name": "LayoutView",
            "align_content": null,
            "align_items": null,
            "align_self": null,
            "border": null,
            "bottom": null,
            "display": null,
            "flex": null,
            "flex_flow": null,
            "grid_area": null,
            "grid_auto_columns": null,
            "grid_auto_flow": null,
            "grid_auto_rows": null,
            "grid_column": null,
            "grid_gap": null,
            "grid_row": null,
            "grid_template_areas": null,
            "grid_template_columns": null,
            "grid_template_rows": null,
            "height": null,
            "justify_content": null,
            "justify_items": null,
            "left": null,
            "margin": null,
            "max_height": null,
            "max_width": null,
            "min_height": null,
            "min_width": null,
            "object_fit": null,
            "object_position": null,
            "order": null,
            "overflow": null,
            "overflow_x": null,
            "overflow_y": null,
            "padding": null,
            "right": null,
            "top": null,
            "visibility": null,
            "width": null
          }
        },
        "94291269fc7d48dc8f49131b3b3efb06": {
          "model_module": "@jupyter-widgets/controls",
          "model_name": "DescriptionStyleModel",
          "model_module_version": "1.5.0",
          "state": {
            "_model_module": "@jupyter-widgets/controls",
            "_model_module_version": "1.5.0",
            "_model_name": "DescriptionStyleModel",
            "_view_count": null,
            "_view_module": "@jupyter-widgets/base",
            "_view_module_version": "1.2.0",
            "_view_name": "StyleView",
            "description_width": ""
          }
        },
        "3ffe916987e04d9b8646aef7854c153d": {
          "model_module": "@jupyter-widgets/controls",
          "model_name": "HBoxModel",
          "model_module_version": "1.5.0",
          "state": {
            "_dom_classes": [],
            "_model_module": "@jupyter-widgets/controls",
            "_model_module_version": "1.5.0",
            "_model_name": "HBoxModel",
            "_view_count": null,
            "_view_module": "@jupyter-widgets/controls",
            "_view_module_version": "1.5.0",
            "_view_name": "HBoxView",
            "box_style": "",
            "children": [
              "IPY_MODEL_db375c9cadb446b7bc01bbae6f8976a7",
              "IPY_MODEL_df1ea4b61c364bdf84cb5d85ae599cbc",
              "IPY_MODEL_a03aa79444b648868a5f5c77cc632234"
            ],
            "layout": "IPY_MODEL_89033026a27748c782ae547117b9f10e"
          }
        },
        "db375c9cadb446b7bc01bbae6f8976a7": {
          "model_module": "@jupyter-widgets/controls",
          "model_name": "HTMLModel",
          "model_module_version": "1.5.0",
          "state": {
            "_dom_classes": [],
            "_model_module": "@jupyter-widgets/controls",
            "_model_module_version": "1.5.0",
            "_model_name": "HTMLModel",
            "_view_count": null,
            "_view_module": "@jupyter-widgets/controls",
            "_view_module_version": "1.5.0",
            "_view_name": "HTMLView",
            "description": "",
            "description_tooltip": null,
            "layout": "IPY_MODEL_c05e1d46234648a3b066102c5a93b63f",
            "placeholder": "​",
            "style": "IPY_MODEL_b488ef9330bb4b1e861df9cafe6b63b7",
            "value": "100%"
          }
        },
        "df1ea4b61c364bdf84cb5d85ae599cbc": {
          "model_module": "@jupyter-widgets/controls",
          "model_name": "FloatProgressModel",
          "model_module_version": "1.5.0",
          "state": {
            "_dom_classes": [],
            "_model_module": "@jupyter-widgets/controls",
            "_model_module_version": "1.5.0",
            "_model_name": "FloatProgressModel",
            "_view_count": null,
            "_view_module": "@jupyter-widgets/controls",
            "_view_module_version": "1.5.0",
            "_view_name": "ProgressView",
            "bar_style": "success",
            "description": "",
            "description_tooltip": null,
            "layout": "IPY_MODEL_3fc0370d6557438b813deaa4102e9416",
            "max": 4542,
            "min": 0,
            "orientation": "horizontal",
            "style": "IPY_MODEL_411a83255d5549d6881e882b42a4085f",
            "value": 4542
          }
        },
        "a03aa79444b648868a5f5c77cc632234": {
          "model_module": "@jupyter-widgets/controls",
          "model_name": "HTMLModel",
          "model_module_version": "1.5.0",
          "state": {
            "_dom_classes": [],
            "_model_module": "@jupyter-widgets/controls",
            "_model_module_version": "1.5.0",
            "_model_name": "HTMLModel",
            "_view_count": null,
            "_view_module": "@jupyter-widgets/controls",
            "_view_module_version": "1.5.0",
            "_view_name": "HTMLView",
            "description": "",
            "description_tooltip": null,
            "layout": "IPY_MODEL_941e1a11423745f9a8b2009ee9b5230d",
            "placeholder": "​",
            "style": "IPY_MODEL_09d6d7f3881f4c758f9e0bfcfa1fad98",
            "value": " 4542/4542 [00:00&lt;00:00, 216569.42it/s]"
          }
        },
        "89033026a27748c782ae547117b9f10e": {
          "model_module": "@jupyter-widgets/base",
          "model_name": "LayoutModel",
          "model_module_version": "1.2.0",
          "state": {
            "_model_module": "@jupyter-widgets/base",
            "_model_module_version": "1.2.0",
            "_model_name": "LayoutModel",
            "_view_count": null,
            "_view_module": "@jupyter-widgets/base",
            "_view_module_version": "1.2.0",
            "_view_name": "LayoutView",
            "align_content": null,
            "align_items": null,
            "align_self": null,
            "border": null,
            "bottom": null,
            "display": null,
            "flex": null,
            "flex_flow": null,
            "grid_area": null,
            "grid_auto_columns": null,
            "grid_auto_flow": null,
            "grid_auto_rows": null,
            "grid_column": null,
            "grid_gap": null,
            "grid_row": null,
            "grid_template_areas": null,
            "grid_template_columns": null,
            "grid_template_rows": null,
            "height": null,
            "justify_content": null,
            "justify_items": null,
            "left": null,
            "margin": null,
            "max_height": null,
            "max_width": null,
            "min_height": null,
            "min_width": null,
            "object_fit": null,
            "object_position": null,
            "order": null,
            "overflow": null,
            "overflow_x": null,
            "overflow_y": null,
            "padding": null,
            "right": null,
            "top": null,
            "visibility": null,
            "width": null
          }
        },
        "c05e1d46234648a3b066102c5a93b63f": {
          "model_module": "@jupyter-widgets/base",
          "model_name": "LayoutModel",
          "model_module_version": "1.2.0",
          "state": {
            "_model_module": "@jupyter-widgets/base",
            "_model_module_version": "1.2.0",
            "_model_name": "LayoutModel",
            "_view_count": null,
            "_view_module": "@jupyter-widgets/base",
            "_view_module_version": "1.2.0",
            "_view_name": "LayoutView",
            "align_content": null,
            "align_items": null,
            "align_self": null,
            "border": null,
            "bottom": null,
            "display": null,
            "flex": null,
            "flex_flow": null,
            "grid_area": null,
            "grid_auto_columns": null,
            "grid_auto_flow": null,
            "grid_auto_rows": null,
            "grid_column": null,
            "grid_gap": null,
            "grid_row": null,
            "grid_template_areas": null,
            "grid_template_columns": null,
            "grid_template_rows": null,
            "height": null,
            "justify_content": null,
            "justify_items": null,
            "left": null,
            "margin": null,
            "max_height": null,
            "max_width": null,
            "min_height": null,
            "min_width": null,
            "object_fit": null,
            "object_position": null,
            "order": null,
            "overflow": null,
            "overflow_x": null,
            "overflow_y": null,
            "padding": null,
            "right": null,
            "top": null,
            "visibility": null,
            "width": null
          }
        },
        "b488ef9330bb4b1e861df9cafe6b63b7": {
          "model_module": "@jupyter-widgets/controls",
          "model_name": "DescriptionStyleModel",
          "model_module_version": "1.5.0",
          "state": {
            "_model_module": "@jupyter-widgets/controls",
            "_model_module_version": "1.5.0",
            "_model_name": "DescriptionStyleModel",
            "_view_count": null,
            "_view_module": "@jupyter-widgets/base",
            "_view_module_version": "1.2.0",
            "_view_name": "StyleView",
            "description_width": ""
          }
        },
        "3fc0370d6557438b813deaa4102e9416": {
          "model_module": "@jupyter-widgets/base",
          "model_name": "LayoutModel",
          "model_module_version": "1.2.0",
          "state": {
            "_model_module": "@jupyter-widgets/base",
            "_model_module_version": "1.2.0",
            "_model_name": "LayoutModel",
            "_view_count": null,
            "_view_module": "@jupyter-widgets/base",
            "_view_module_version": "1.2.0",
            "_view_name": "LayoutView",
            "align_content": null,
            "align_items": null,
            "align_self": null,
            "border": null,
            "bottom": null,
            "display": null,
            "flex": null,
            "flex_flow": null,
            "grid_area": null,
            "grid_auto_columns": null,
            "grid_auto_flow": null,
            "grid_auto_rows": null,
            "grid_column": null,
            "grid_gap": null,
            "grid_row": null,
            "grid_template_areas": null,
            "grid_template_columns": null,
            "grid_template_rows": null,
            "height": null,
            "justify_content": null,
            "justify_items": null,
            "left": null,
            "margin": null,
            "max_height": null,
            "max_width": null,
            "min_height": null,
            "min_width": null,
            "object_fit": null,
            "object_position": null,
            "order": null,
            "overflow": null,
            "overflow_x": null,
            "overflow_y": null,
            "padding": null,
            "right": null,
            "top": null,
            "visibility": null,
            "width": null
          }
        },
        "411a83255d5549d6881e882b42a4085f": {
          "model_module": "@jupyter-widgets/controls",
          "model_name": "ProgressStyleModel",
          "model_module_version": "1.5.0",
          "state": {
            "_model_module": "@jupyter-widgets/controls",
            "_model_module_version": "1.5.0",
            "_model_name": "ProgressStyleModel",
            "_view_count": null,
            "_view_module": "@jupyter-widgets/base",
            "_view_module_version": "1.2.0",
            "_view_name": "StyleView",
            "bar_color": null,
            "description_width": ""
          }
        },
        "941e1a11423745f9a8b2009ee9b5230d": {
          "model_module": "@jupyter-widgets/base",
          "model_name": "LayoutModel",
          "model_module_version": "1.2.0",
          "state": {
            "_model_module": "@jupyter-widgets/base",
            "_model_module_version": "1.2.0",
            "_model_name": "LayoutModel",
            "_view_count": null,
            "_view_module": "@jupyter-widgets/base",
            "_view_module_version": "1.2.0",
            "_view_name": "LayoutView",
            "align_content": null,
            "align_items": null,
            "align_self": null,
            "border": null,
            "bottom": null,
            "display": null,
            "flex": null,
            "flex_flow": null,
            "grid_area": null,
            "grid_auto_columns": null,
            "grid_auto_flow": null,
            "grid_auto_rows": null,
            "grid_column": null,
            "grid_gap": null,
            "grid_row": null,
            "grid_template_areas": null,
            "grid_template_columns": null,
            "grid_template_rows": null,
            "height": null,
            "justify_content": null,
            "justify_items": null,
            "left": null,
            "margin": null,
            "max_height": null,
            "max_width": null,
            "min_height": null,
            "min_width": null,
            "object_fit": null,
            "object_position": null,
            "order": null,
            "overflow": null,
            "overflow_x": null,
            "overflow_y": null,
            "padding": null,
            "right": null,
            "top": null,
            "visibility": null,
            "width": null
          }
        },
        "09d6d7f3881f4c758f9e0bfcfa1fad98": {
          "model_module": "@jupyter-widgets/controls",
          "model_name": "DescriptionStyleModel",
          "model_module_version": "1.5.0",
          "state": {
            "_model_module": "@jupyter-widgets/controls",
            "_model_module_version": "1.5.0",
            "_model_name": "DescriptionStyleModel",
            "_view_count": null,
            "_view_module": "@jupyter-widgets/base",
            "_view_module_version": "1.2.0",
            "_view_name": "StyleView",
            "description_width": ""
          }
        }
      }
    }
  },
  "cells": [
    {
      "cell_type": "markdown",
      "metadata": {
        "id": "view-in-github",
        "colab_type": "text"
      },
      "source": [
        "<a href=\"https://colab.research.google.com/github/peeyushsinghal/EVA8/blob/main/S5-Assignment-Solution/EVA8_S5.ipynb\" target=\"_parent\"><img src=\"https://colab.research.google.com/assets/colab-badge.svg\" alt=\"Open In Colab\"/></a>"
      ]
    },
    {
      "cell_type": "markdown",
      "source": [
        "# Objective / Target \n",
        "\n",
        "* Write a single model.py file that includes GN/LN/BN and takes an argument to decide which normalization to include\n",
        "* Write a single notebook file to run all the 3 models above for 20 epochs each\n",
        "* Create these graphs:\n",
        "  * Graph 1: Test/Validation Loss for all 3 models together\n",
        "  * Graph 2: Test/Validation Accuracy for 3 models together\n",
        "  * graphs must have proper annotation\n",
        "* Find 10 misclassified images for each of the 3 models, and show them as a 5x2 image matrix in 3 separately annotated images. \n"
      ],
      "metadata": {
        "id": "y1FTBU_m-bRm"
      }
    },
    {
      "cell_type": "markdown",
      "source": [
        "# Importing Libraries"
      ],
      "metadata": {
        "id": "xcGwRKr5_lZw"
      }
    },
    {
      "cell_type": "code",
      "execution_count": 1,
      "metadata": {
        "colab": {
          "base_uri": "https://localhost:8080/"
        },
        "id": "D6yRS8Pc-GUk",
        "outputId": "0d1c488e-bdda-4abe-e701-724635fe77a7"
      },
      "outputs": [
        {
          "output_type": "stream",
          "name": "stdout",
          "text": [
            "Looking in indexes: https://pypi.org/simple, https://us-python.pkg.dev/colab-wheels/public/simple/\n",
            "Requirement already satisfied: torchsummary in /usr/local/lib/python3.8/dist-packages (1.5.1)\n"
          ]
        }
      ],
      "source": [
        "import torch\n",
        "from torchvision import datasets,transforms\n",
        "%matplotlib inline\n",
        "import numpy as np\n",
        "import matplotlib.pyplot as plt # for visualizing images\n",
        "import random # for random image index\n",
        "import torch.nn as nn # for network\n",
        "import torch.nn.functional as F # for forward method\n",
        "import torch.optim as optim # for optimizer\n",
        "!pip install torchsummary\n",
        "from torchsummary import summary # for model summary and params\n",
        "from tqdm import tqdm # for beautiful model training updates"
      ]
    },
    {
      "cell_type": "markdown",
      "source": [
        "## Seed and Cuda"
      ],
      "metadata": {
        "id": "S0aDMenbFZMj"
      }
    },
    {
      "cell_type": "code",
      "source": [
        "# check for cuda\n",
        "cuda = torch.cuda.is_available()\n",
        "print (f' Cuda Status : {cuda}')\n",
        "\n",
        "# setting seed\n",
        "SEED = 42 # arbit seed, why 42 - because in hitch hikers guide to galaxy it is answer to everything\n",
        "# torch.cuda.seed(SEED) \n",
        "torch.cuda.manual_seed_all(SEED) if cuda else torch.manual_seed(SEED)"
      ],
      "metadata": {
        "colab": {
          "base_uri": "https://localhost:8080/"
        },
        "id": "Y9TiFsydFcRz",
        "outputId": "cfa9c039-b2aa-41e0-b0ca-61c759dfb29a"
      },
      "execution_count": 2,
      "outputs": [
        {
          "output_type": "stream",
          "name": "stdout",
          "text": [
            " Cuda Status : True\n"
          ]
        }
      ]
    },
    {
      "cell_type": "markdown",
      "source": [
        "# Data Transformations"
      ],
      "metadata": {
        "id": "kgga8EeQFB_r"
      }
    },
    {
      "cell_type": "code",
      "source": [
        "# Train Phase transformations\n",
        "train_transforms = transforms.Compose([\n",
        "                                      #  transforms.Resize((28, 28)),\n",
        "                                      #  transforms.ColorJitter(brightness=0.10, contrast=0.1, saturation=0.10, hue=0.1),\n",
        "                                       transforms.RandomRotation((-7.0, 7.0), fill=(1,)),\n",
        "                                       transforms.ToTensor(), # converts to tesnor\n",
        "                                       transforms.Normalize((0.1307,), (0.3081,)) # The mean and std have to be sequences (e.g., tuples), therefore you should add a comma after the values. \n",
        "                                       # Note the difference between (0.1307) and (0.1307,)\n",
        "                                       ])\n",
        "\n",
        "# Test Phase transformations\n",
        "test_transforms = transforms.Compose([\n",
        "                                      #  transforms.Resize((28, 28)),\n",
        "                                      #  transforms.ColorJitter(brightness=0.10, contrast=0.1, saturation=0.10, hue=0.1),\n",
        "                                       transforms.ToTensor(),# converts to tesnor\n",
        "                                       transforms.Normalize((0.1307,), (0.3081,))\n",
        "                                       ])\n"
      ],
      "metadata": {
        "id": "nrRWWXKsFBn7"
      },
      "execution_count": 3,
      "outputs": []
    },
    {
      "cell_type": "markdown",
      "source": [
        "# Dataset and Creating Train / Test Split"
      ],
      "metadata": {
        "id": "YvKkBT1KFIc9"
      }
    },
    {
      "cell_type": "code",
      "source": [
        "train = datasets.MNIST('./data', # directory where data needs to be stored\n",
        "                       train=True, # get the training portion of the dataset\n",
        "                       download=True, # downloads\n",
        "                       transform=train_transforms)\n",
        "test = datasets.MNIST('./data', \n",
        "                      train=False, \n",
        "                      download=True, \n",
        "                      transform=test_transforms)"
      ],
      "metadata": {
        "id": "TdSmKv7XFNAY",
        "colab": {
          "base_uri": "https://localhost:8080/",
          "height": 437,
          "referenced_widgets": [
            "cf9c48f3514d465aa02b242ae5ebf87b",
            "68bc9173407842aca69941c06cf32cc8",
            "fe35b8a8fd794bf49be435d8272d1eb6",
            "074fbbb467ba4fd78b8896e5e58c10f7",
            "3d935a1f54e94db994777c19d5dc7279",
            "4d650e8eaac84ba78094a06a68906f6d",
            "59208317f034471793baba0443369f99",
            "c34e7dc1a4814c99956adee7eebc454d",
            "8ceb0a32b07c45c4ada7724c0155f775",
            "5da8de1c1ed34af0a1c4b022f5a9432e",
            "d9f6652f083f46a6b2464bc5c436d2d5",
            "cd5425d48a924ac68e25c7cd9829c627",
            "673c9dda1ea146a9976ce8cb7ff9b362",
            "d70448fef9054584a35824eb63bb7230",
            "a0a5613d593242e688227f57e6d15e5c",
            "d09c5749768f4881b1e78e5d5adf9c24",
            "a0857c0b890b4754ac53e13474df70fe",
            "9ddf9028ea2e4f79b0b3fc5cb93c7496",
            "b16258b30c6d4527962f78c073807126",
            "95857816f55c4521b3a5404a9f4e1af6",
            "7d4e4d87f1344da7a3186bee4155c77e",
            "e006fa0e82ee42d0b6f573b5daf7423b",
            "2cc1fa0711694c90a5d3e32d9e806be0",
            "8f9887a3e3bb4dbcb5d76d90e499c723",
            "0b5d0cae104c44e6a57b3337198fc7ef",
            "ae97e93191464277b8f1980aa5f6bf54",
            "7b37f0da609e4351b49a08e9cc06d341",
            "0dc0d73ade1b4501a1c667213a1d4154",
            "4bd27db7f9af4de7b3dbf9d29401c019",
            "ae2b962dbeb14674ac1b08f60c9c197c",
            "249e6080ea4447fcb96f20bac7d13bba",
            "8d858a4c836b4994924907422e14f962",
            "94291269fc7d48dc8f49131b3b3efb06",
            "3ffe916987e04d9b8646aef7854c153d",
            "db375c9cadb446b7bc01bbae6f8976a7",
            "df1ea4b61c364bdf84cb5d85ae599cbc",
            "a03aa79444b648868a5f5c77cc632234",
            "89033026a27748c782ae547117b9f10e",
            "c05e1d46234648a3b066102c5a93b63f",
            "b488ef9330bb4b1e861df9cafe6b63b7",
            "3fc0370d6557438b813deaa4102e9416",
            "411a83255d5549d6881e882b42a4085f",
            "941e1a11423745f9a8b2009ee9b5230d",
            "09d6d7f3881f4c758f9e0bfcfa1fad98"
          ]
        },
        "outputId": "8af7f323-b01e-4532-9267-63d83c43ba86"
      },
      "execution_count": 4,
      "outputs": [
        {
          "output_type": "stream",
          "name": "stdout",
          "text": [
            "Downloading http://yann.lecun.com/exdb/mnist/train-images-idx3-ubyte.gz\n",
            "Downloading http://yann.lecun.com/exdb/mnist/train-images-idx3-ubyte.gz to ./data/MNIST/raw/train-images-idx3-ubyte.gz\n"
          ]
        },
        {
          "output_type": "display_data",
          "data": {
            "text/plain": [
              "  0%|          | 0/9912422 [00:00<?, ?it/s]"
            ],
            "application/vnd.jupyter.widget-view+json": {
              "version_major": 2,
              "version_minor": 0,
              "model_id": "cf9c48f3514d465aa02b242ae5ebf87b"
            }
          },
          "metadata": {}
        },
        {
          "output_type": "stream",
          "name": "stdout",
          "text": [
            "Extracting ./data/MNIST/raw/train-images-idx3-ubyte.gz to ./data/MNIST/raw\n",
            "\n",
            "Downloading http://yann.lecun.com/exdb/mnist/train-labels-idx1-ubyte.gz\n",
            "Downloading http://yann.lecun.com/exdb/mnist/train-labels-idx1-ubyte.gz to ./data/MNIST/raw/train-labels-idx1-ubyte.gz\n"
          ]
        },
        {
          "output_type": "display_data",
          "data": {
            "text/plain": [
              "  0%|          | 0/28881 [00:00<?, ?it/s]"
            ],
            "application/vnd.jupyter.widget-view+json": {
              "version_major": 2,
              "version_minor": 0,
              "model_id": "cd5425d48a924ac68e25c7cd9829c627"
            }
          },
          "metadata": {}
        },
        {
          "output_type": "stream",
          "name": "stdout",
          "text": [
            "Extracting ./data/MNIST/raw/train-labels-idx1-ubyte.gz to ./data/MNIST/raw\n",
            "\n",
            "Downloading http://yann.lecun.com/exdb/mnist/t10k-images-idx3-ubyte.gz\n",
            "Downloading http://yann.lecun.com/exdb/mnist/t10k-images-idx3-ubyte.gz to ./data/MNIST/raw/t10k-images-idx3-ubyte.gz\n"
          ]
        },
        {
          "output_type": "display_data",
          "data": {
            "text/plain": [
              "  0%|          | 0/1648877 [00:00<?, ?it/s]"
            ],
            "application/vnd.jupyter.widget-view+json": {
              "version_major": 2,
              "version_minor": 0,
              "model_id": "2cc1fa0711694c90a5d3e32d9e806be0"
            }
          },
          "metadata": {}
        },
        {
          "output_type": "stream",
          "name": "stdout",
          "text": [
            "Extracting ./data/MNIST/raw/t10k-images-idx3-ubyte.gz to ./data/MNIST/raw\n",
            "\n",
            "Downloading http://yann.lecun.com/exdb/mnist/t10k-labels-idx1-ubyte.gz\n",
            "Downloading http://yann.lecun.com/exdb/mnist/t10k-labels-idx1-ubyte.gz to ./data/MNIST/raw/t10k-labels-idx1-ubyte.gz\n"
          ]
        },
        {
          "output_type": "display_data",
          "data": {
            "text/plain": [
              "  0%|          | 0/4542 [00:00<?, ?it/s]"
            ],
            "application/vnd.jupyter.widget-view+json": {
              "version_major": 2,
              "version_minor": 0,
              "model_id": "3ffe916987e04d9b8646aef7854c153d"
            }
          },
          "metadata": {}
        },
        {
          "output_type": "stream",
          "name": "stdout",
          "text": [
            "Extracting ./data/MNIST/raw/t10k-labels-idx1-ubyte.gz to ./data/MNIST/raw\n",
            "\n"
          ]
        }
      ]
    },
    {
      "cell_type": "markdown",
      "source": [
        "## Data Loader"
      ],
      "metadata": {
        "id": "b0mo-0V2GBUH"
      }
    },
    {
      "cell_type": "code",
      "source": [
        "dataloader_args = dict(shuffle=True, batch_size=128, num_workers=4, pin_memory = True) if cuda else dict(shuffle=True, batch_size=64)\n",
        "\n",
        "train_loader = torch.utils.data.DataLoader(\n",
        "    dataset=train,# train dataset\n",
        "    **dataloader_args # the dataloader arguments change dependent on cuda is available or not\n",
        "    )\n",
        "\n",
        "test_loader = torch.utils.data.DataLoader(\n",
        "    dataset = test,# test dataset \n",
        "    **dataloader_args # the dataloader arguments change dependent on cuda is available or not\n",
        ")"
      ],
      "metadata": {
        "id": "YFW6q5hWGDrb",
        "colab": {
          "base_uri": "https://localhost:8080/"
        },
        "outputId": "0c8fe1a3-0330-407a-cc5f-6a769f2ed9bf"
      },
      "execution_count": 5,
      "outputs": [
        {
          "output_type": "stream",
          "name": "stderr",
          "text": [
            "/usr/local/lib/python3.8/dist-packages/torch/utils/data/dataloader.py:554: UserWarning: This DataLoader will create 4 worker processes in total. Our suggested max number of worker in current system is 2, which is smaller than what this DataLoader is going to create. Please be aware that excessive worker creation might get DataLoader running slow or even freeze, lower the worker number to avoid potential slowness/freeze if necessary.\n",
            "  warnings.warn(_create_warning_msg(\n"
          ]
        }
      ]
    },
    {
      "cell_type": "markdown",
      "source": [
        "## Checking Dataloader"
      ],
      "metadata": {
        "id": "nR15hQnnGPuD"
      }
    },
    {
      "cell_type": "code",
      "source": [
        "images, labels  = next(iter(train_loader))\n",
        "print(images.shape)\n",
        "print(labels.shape)\n",
        "# printing random image and seeing\n",
        "plt.imshow(images[random.randint(0,len(images))].numpy().squeeze(), cmap='gray_r')"
      ],
      "metadata": {
        "colab": {
          "base_uri": "https://localhost:8080/",
          "height": 320
        },
        "id": "FjuqXyw9GTDv",
        "outputId": "514355a7-7990-4488-a039-d2b7293e6671"
      },
      "execution_count": 6,
      "outputs": [
        {
          "output_type": "stream",
          "name": "stdout",
          "text": [
            "torch.Size([128, 1, 28, 28])\n",
            "torch.Size([128])\n"
          ]
        },
        {
          "output_type": "execute_result",
          "data": {
            "text/plain": [
              "<matplotlib.image.AxesImage at 0x7f05c9019940>"
            ]
          },
          "metadata": {},
          "execution_count": 6
        },
        {
          "output_type": "display_data",
          "data": {
            "text/plain": [
              "<Figure size 432x288 with 1 Axes>"
            ],
            "image/png": "[encoded data removed]"
          },
          "metadata": {
            "needs_background": "light"
          }
        }
      ]
    },
    {
      "cell_type": "code",
      "source": [
        "# Looking at more images\n",
        "figure = plt.figure()\n",
        "for index in range(1, len(images) + 1): # assumption: batch size would be atleast 8\n",
        "    plt.subplot(8, int(len(images)/8), index)\n",
        "    plt.axis('off')\n",
        "    plt.imshow(images[index-1].numpy().squeeze(), cmap='gray_r')"
      ],
      "metadata": {
        "colab": {
          "base_uri": "https://localhost:8080/",
          "height": 243
        },
        "id": "yT5FD4C5Gbc1",
        "outputId": "421f99bc-26ee-4a8f-ab0a-ae59d2af8fc1"
      },
      "execution_count": 7,
      "outputs": [
        {
          "output_type": "display_data",
          "data": {
            "text/plain": [
              "<Figure size 432x288 with 128 Axes>"
            ],
            "image/png": "[encoded data removed]"
          },
          "metadata": {
            "needs_background": "light"
          }
        }
      ]
    },
    {
      "cell_type": "markdown",
      "source": [
        "# Model"
      ],
      "metadata": {
        "id": "VNOv81RVGrgO"
      }
    },
    {
      "cell_type": "code",
      "source": [
        "class Network(nn.Module):\n",
        "  def __init__(self, norm = 'bn'):\n",
        "    super(Network,self).__init__() # extending super class method\n",
        "    \n",
        "    drop_out_value = 0.1\n",
        "    self.norm = norm\n",
        "\n",
        "    # Input Block\n",
        "    self.convblock1 = nn.Sequential(\n",
        "        nn.Conv2d(1,18,3 , bias= False ), # In- 1x28x28, Out- 16x26x26, RF- 3x3, Jump_in -1, Jump_out -1\n",
        "        nn.ReLU()\n",
        "        # ,\n",
        "        # nn.BatchNorm2d(18), # affine=False),\n",
        "        # nn.Dropout(drop_out_value)\n",
        "    ) \n",
        "    \n",
        "    if self.norm == 'bn': self.normlayer1 = nn.BatchNorm2d(18)\n",
        "    if self.norm == 'ln': self.normlayer1 = nn.LayerNorm([18,26,26]) \n",
        "    if self.norm == 'gn' : self.normlayer1 = nn.GroupNorm(2,18) # 2 groups of 9 channels each\n",
        "    self.dropout1 = nn.Dropout(drop_out_value)\n",
        "\n",
        "    # Conv Block 2\n",
        "    self.convblock2 = nn.Sequential(\n",
        "        nn.Conv2d(18,16,3, bias= False ), # In- 16x26x26, Out- 16x24x24, RF- 5x5, Jump_in -1, Jump_out -1\n",
        "        nn.ReLU()\n",
        "        # ,\n",
        "        # nn.BatchNorm2d(16),# affine=False),\n",
        "        # nn.Dropout(drop_out_value)\n",
        "    ) \n",
        "\n",
        "    if self.norm == 'bn': self.normlayer2 = nn.BatchNorm2d(16)\n",
        "    if self.norm == 'ln': self.normlayer2 = nn.LayerNorm([16,24,24]) \n",
        "    if self.norm == 'gn' : self.normlayer2 = nn.GroupNorm(2,16) # 2 groups of 8 channels each\n",
        "    self.dropout2 = nn.Dropout(drop_out_value)\n",
        "\n",
        "\n",
        "    # Conv Block 3\n",
        "    self.convblock3 = nn.Sequential(\n",
        "        nn.Conv2d(16,16,3, bias= False ), # In- 16x24x24, Out- 16x22x22, RF- 7x7, Jump_in -1, Jump_out -1\n",
        "        nn.ReLU()\n",
        "        # ,\n",
        "        # nn.BatchNorm2d(16),# affine=False),\n",
        "        # nn.Dropout(drop_out_value)\n",
        "    ) \n",
        "\n",
        "    if self.norm == 'bn': self.normlayer3 = nn.BatchNorm2d(16)\n",
        "    if self.norm == 'ln': self.normlayer3 = nn.LayerNorm([16,22,22]) \n",
        "    if self.norm == 'gn' : self.normlayer3 = nn.GroupNorm(2,16) # 2 groups of 8 channels each\n",
        "    self.dropout3 = nn.Dropout(drop_out_value)\n",
        "\n",
        "    # Transition Block 1 (this also includes a conv block)\n",
        "    self.pool1 = nn.MaxPool2d(kernel_size=2, stride=2) # In- 16x22x22, Out- 16x11x11, RF- 8x8, Jump_in -1, Jump_out -2\n",
        "    # self.convblock4 = nn.Sequential(\n",
        "    #     nn.Conv2d(32,16,1), # In- 32x12x12, Out- 16x12x12, RF- 8x8, Jump_in -2, Jump_out -2\n",
        "    #     nn.ReLU(),\n",
        "    #     nn.BatchNorm2d(16),\n",
        "    #     nn.Dropout(drop_out_value)\n",
        "    # ) \n",
        "\n",
        "    # Conv Block 5\n",
        "    self.convblock5 = nn.Sequential(\n",
        "        nn.Conv2d(16,16,3, bias= False ), # In- 16x11x11, Out- 16x9x9, RF- 12x12, Jump_in -2, Jump_out -2\n",
        "        nn.ReLU()\n",
        "        # ,\n",
        "        # nn.BatchNorm2d(16),# affine=False),\n",
        "        # nn.Dropout(drop_out_value)\n",
        "    ) \n",
        "\n",
        "    if self.norm == 'bn': self.normlayer5 = nn.BatchNorm2d(16)\n",
        "    if self.norm == 'ln': self.normlayer5 = nn.LayerNorm([16,9,9]) \n",
        "    if self.norm == 'gn' : self.normlayer5 = nn.GroupNorm(2,16) # 2 groups of 8 channels each\n",
        "    self.dropout5 = nn.Dropout(drop_out_value)\n",
        "\n",
        "    # Conv Block 6\n",
        "    self.convblock6 = nn.Sequential(\n",
        "        nn.Conv2d(16,16,3, bias= False ), # In- 16x9x9, Out- 16x7x7, RF- 16x16, Jump_in -2, Jump_out -2\n",
        "        nn.ReLU()\n",
        "        # ,\n",
        "        # nn.BatchNorm2d(16),# affine=False),\n",
        "        # nn.Dropout(drop_out_value)\n",
        "    ) \n",
        "\n",
        "    if self.norm == 'bn': self.normlayer6 = nn.BatchNorm2d(16)\n",
        "    if self.norm == 'ln': self.normlayer6 = nn.LayerNorm([16,7,7]) \n",
        "    if self.norm == 'gn' : self.normlayer6 = nn.GroupNorm(2,16) # 2 groups of 8 channels each\n",
        "    self.dropout6 = nn.Dropout(drop_out_value)\n",
        "\n",
        "    # Output Block\n",
        "    self.convblock7 = nn.Sequential(\n",
        "        nn.Conv2d(16,10,1, bias= False ), # In- 16x7x7, Out- 10x7x7, RF- 16x16, Jump_in -2, Jump_out -2\n",
        "        # nn.ReLU()\n",
        "        # ,\n",
        "        # nn.BatchNorm2d(10, affine=True),\n",
        "        # nn.Dropout(drop_out_value)\n",
        "    ) \n",
        "\n",
        "    self.gap = nn.AvgPool2d(7) # In- 10x7x7, Out- 10x1x1, RF- 16x16, Jump_in -2, Jump_out -2\n",
        "\n",
        "\n",
        "  def forward(self,x):\n",
        "\n",
        "    x = self.convblock1(x)\n",
        "    x = self.dropout1(self.normlayer1(x))\n",
        "    x = self.convblock2(x)\n",
        "    x = self.dropout2(self.normlayer2(x))\n",
        "    x = self.convblock3(x)\n",
        "    x = self.dropout3(self.normlayer3(x))\n",
        "\n",
        "    x = self.pool1(x)\n",
        "    # x = self.convblock4(x)\n",
        "    x = self.convblock5(x)\n",
        "    x = self.dropout5(self.normlayer5(x))\n",
        "    x = self.convblock6(x)\n",
        "    x = self.dropout6(self.normlayer6(x))\n",
        "\n",
        "    x = self.convblock7(x)\n",
        "\n",
        "    x = self.gap(x)\n",
        "\n",
        "    # Flattening\n",
        "    x = x.view(-1,10)\n",
        "    return F.log_softmax(x,dim=-1)\n",
        "\n",
        "# model = Network()\n",
        "# print(model)"
      ],
      "metadata": {
        "id": "9_JHChueh7I5"
      },
      "execution_count": 8,
      "outputs": []
    },
    {
      "cell_type": "markdown",
      "source": [
        "## Model Params"
      ],
      "metadata": {
        "id": "1QSCWlFoM5nf"
      }
    },
    {
      "cell_type": "code",
      "source": [
        "device = torch.device(\"cuda\" if cuda else \"cpu\")\n",
        "print(device)\n",
        "model = Network(norm='gn').to(device)\n",
        "# print(model)\n",
        "summary(model, input_size=(1, 28, 28))"
      ],
      "metadata": {
        "colab": {
          "base_uri": "https://localhost:8080/"
        },
        "id": "37ziIa80M8-3",
        "outputId": "47adffd8-fe36-4e1a-a767-729dc82b7fce"
      },
      "execution_count": 9,
      "outputs": [
        {
          "output_type": "stream",
          "name": "stdout",
          "text": [
            "cuda\n",
            "----------------------------------------------------------------\n",
            "        Layer (type)               Output Shape         Param #\n",
            "================================================================\n",
            "            Conv2d-1           [-1, 18, 26, 26]             162\n",
            "              ReLU-2           [-1, 18, 26, 26]               0\n",
            "         GroupNorm-3           [-1, 18, 26, 26]              36\n",
            "           Dropout-4           [-1, 18, 26, 26]               0\n",
            "            Conv2d-5           [-1, 16, 24, 24]           2,592\n",
            "              ReLU-6           [-1, 16, 24, 24]               0\n",
            "         GroupNorm-7           [-1, 16, 24, 24]              32\n",
            "           Dropout-8           [-1, 16, 24, 24]               0\n",
            "            Conv2d-9           [-1, 16, 22, 22]           2,304\n",
            "             ReLU-10           [-1, 16, 22, 22]               0\n",
            "        GroupNorm-11           [-1, 16, 22, 22]              32\n",
            "          Dropout-12           [-1, 16, 22, 22]               0\n",
            "        MaxPool2d-13           [-1, 16, 11, 11]               0\n",
            "           Conv2d-14             [-1, 16, 9, 9]           2,304\n",
            "             ReLU-15             [-1, 16, 9, 9]               0\n",
            "        GroupNorm-16             [-1, 16, 9, 9]              32\n",
            "          Dropout-17             [-1, 16, 9, 9]               0\n",
            "           Conv2d-18             [-1, 16, 7, 7]           2,304\n",
            "             ReLU-19             [-1, 16, 7, 7]               0\n",
            "        GroupNorm-20             [-1, 16, 7, 7]              32\n",
            "          Dropout-21             [-1, 16, 7, 7]               0\n",
            "           Conv2d-22             [-1, 10, 7, 7]             160\n",
            "        AvgPool2d-23             [-1, 10, 1, 1]               0\n",
            "================================================================\n",
            "Total params: 9,990\n",
            "Trainable params: 9,990\n",
            "Non-trainable params: 0\n",
            "----------------------------------------------------------------\n",
            "Input size (MB): 0.00\n",
            "Forward/backward pass size (MB): 0.97\n",
            "Params size (MB): 0.04\n",
            "Estimated Total Size (MB): 1.01\n",
            "----------------------------------------------------------------\n"
          ]
        }
      ]
    },
    {
      "cell_type": "markdown",
      "source": [
        "# Training and Testing"
      ],
      "metadata": {
        "id": "BriahAKX-Qsh"
      }
    },
    {
      "cell_type": "markdown",
      "source": [
        "## Training"
      ],
      "metadata": {
        "id": "dzH_OJiKNOAw"
      }
    },
    {
      "cell_type": "code",
      "source": [
        "# Training Function\n",
        "# train_losses = [] # to capture train losses over training epochs\n",
        "# train_accuracy = [] # to capture train accuracy over training epochs\n",
        "\n",
        "def train(model,device, train_loader,optimizer,epoch,norm = None, lambda_l1 = 0.01):\n",
        "  model.train() # setting the model in training mode\n",
        "  pbar = tqdm(train_loader) # putting the iterator in pbar\n",
        "  correct = 0 # for accuracy numerator\n",
        "  processed = 0 # for accuracy denominator\n",
        "  avg_epoch_train_loss =[]\n",
        "\n",
        "  count = 0\n",
        "  for batch_idx, (images,labels) in enumerate(pbar):\n",
        "\n",
        "    images, labels = images.to(device),labels.to(device)#sending data to CPU or GPU as per device\n",
        "    optimizer.zero_grad() # setting gradients to zero to avoid accumulation\n",
        "\n",
        "    y_preds = model(images) # forward pass, result captured in y_preds (plural as there are many images in a batch)\n",
        "    # the predictions are in one hot vector\n",
        "\n",
        "    loss = F.nll_loss(y_preds,labels) # capturing loss\n",
        "    # train_losses.append(loss) # to capture loss over many epochs\n",
        "\n",
        "    if norm == 'bn':\n",
        "      l1=0.0\n",
        "      for p in model.parameters():\n",
        "        l1 = l1 + p.abs().sum()\n",
        "      loss = loss + lambda_l1*l1\n",
        "    \n",
        "    # print(\"loss type\", type(loss))\n",
        "    avg_epoch_train_loss.append(loss.item())\n",
        "    # print(\"avg epoch train type\", avg_epoch_train_loss, type(avg_epoch_train_loss))\n",
        "    \n",
        "    loss.backward() # backpropagation\n",
        "    optimizer.step() # updating the params\n",
        "\n",
        "    preds = y_preds.argmax(dim=1, keepdim=True)  # get the index of the max log-probability\n",
        "    correct += preds.eq(labels.view_as(preds)).sum().item()\n",
        "    processed += len(images)\n",
        "\n",
        "    pbar.set_description(desc= f'Loss={loss.item()} Batch_id={batch_idx} Accuracy={100*correct/processed:0.2f}%')\n",
        "    train_accuracy = (100*correct/processed)\n",
        "    \n",
        "  # return np.average(avg_epoch_train_loss)\n",
        "  return float(\"{:.4f}\".format(np.average(avg_epoch_train_loss))),float(\"{:.4f}\".format(np.average(train_accuracy)))\n",
        "\n"
      ],
      "metadata": {
        "id": "fP5jiQtaNPyB"
      },
      "execution_count": 10,
      "outputs": []
    },
    {
      "cell_type": "markdown",
      "source": [
        "## Test"
      ],
      "metadata": {
        "id": "eGDQpa3ANTZa"
      }
    },
    {
      "cell_type": "code",
      "source": [
        "# Test Function\n",
        "# test_losses = [] # to capture test losses \n",
        "# test_accuracy = [] # to capture test accuracy \n",
        "\n",
        "def test(model,device, test_loader):\n",
        "  model.eval() # setting the model in evaluation mode\n",
        "  test_loss = 0\n",
        "  avg_epoch_test_loss =[]\n",
        "  correct = 0 # for accuracy numerator\n",
        "\n",
        "  with torch.no_grad():\n",
        "    for (images,labels) in test_loader:\n",
        "      images, labels = images.to(device),labels.to(device)#sending data to CPU or GPU as per device\n",
        "      outputs = model(images) # forward pass, result captured in outputs (plural as there are many images in a batch)\n",
        "      # the outputs are in batch size x one hot vector \n",
        "\n",
        "      test_loss = F.nll_loss(outputs,labels, reduction='sum').item()  # sum up batch loss\n",
        "      preds = outputs.argmax(dim=1, keepdim=True)  # get the index of the max log-probability\n",
        "      correct += preds.eq(labels.view_as(preds)).sum().item()\n",
        "\n",
        "    test_loss /= len(test_loader.dataset) # average test loss\n",
        "    # test_losses.append(test_loss) # to capture loss over many batches\n",
        "    avg_epoch_test_loss.append(test_loss)\n",
        "\n",
        "    print('\\nTest set: Average loss: {:.4f}, Accuracy: {}/{} ({:.2f}%)\\n'.format(\n",
        "    test_loss, correct, len(test_loader.dataset),\n",
        "    100. * correct / len(test_loader.dataset)))\n",
        "\n",
        "  return float(\"{:.4f}\".format(np.average(avg_epoch_test_loss))),float(\"{:.4f}\".format(correct/len(test_loader.dataset)))\n",
        "    # test_accuracy.append(100*correct/len(test_loader.dataset))\n",
        "  # return float(\"{:.4f}\".format(np.average(avg_epoch_test_loss))),float(\"{:.4f}\".format(np.average(test_accuracy)))\n"
      ],
      "metadata": {
        "id": "WXtm0lh_NR2H"
      },
      "execution_count": 11,
      "outputs": []
    },
    {
      "cell_type": "markdown",
      "source": [
        "## Execution"
      ],
      "metadata": {
        "id": "YRnRZ72PNbf3"
      }
    },
    {
      "cell_type": "code",
      "source": [
        "\n",
        "## Weight initialization\n",
        "\n",
        "def weights_init(m):\n",
        "    if isinstance(m, nn.Conv1d):\n",
        "      nn.init.xavier_normal_(m.weight)\n"
      ],
      "metadata": {
        "id": "v3XZP8zQ3QlO"
      },
      "execution_count": 12,
      "outputs": []
    },
    {
      "cell_type": "code",
      "source": [
        "# # list_norm = ['bn','ln','gn']\n",
        "# list_norm = ['bn']\n",
        "\n",
        "# dict_train_loss ={}\n",
        "# dict_val_loss ={}\n",
        "# dict_train_accuarcy ={}\n",
        "# dict_val_accuracy= {}\n",
        "\n",
        "# for norm in list_norm:\n",
        "  \n",
        "#   print(f'----------NORM {norm}-------')\n",
        "#   model =  Network(norm=norm).to(device)\n",
        "#   model.apply(weights_init)\n",
        "#   optimizer = optim.SGD(model.parameters(), lr=0.3, momentum=0.9)\n",
        "#   # optimizer = optim.Adam(model.parameters(), lr=0.3)\n",
        "#   # scheduler = torch.optim.lr_scheduler.ReduceLROnPlateau(optimizer, mode='min', factor=0.1, patience=10, threshold=0.0001, threshold_mode='rel', cooldown=0, min_lr=0, eps=1e-08)\n",
        "#   # LR_GAMMA = 0.5\n",
        "#   from torch.optim.lr_scheduler import StepLR,ReduceLROnPlateau,ExponentialLR\n",
        "#   # scheduler = StepLR(optimizer, step_size=4, gamma=0.1)\n",
        "#   scheduler = ReduceLROnPlateau(optimizer, factor = 0.1, patience = 2, threshold =  0.0002)\n",
        "#   # scheduler = ExponentialLR (optimizer, gamma =0.3)\n",
        "\n",
        "\n",
        "#   # EPOCHS = 15\n",
        "#   EPOCHS = 2\n",
        "\n",
        "#   list_train_loss_temp = []\n",
        "#   list_train_accuracy_temp = []\n",
        "#   list_val_loss_temp =[]\n",
        "#   list_val_accuracy_temp =[]\n",
        "\n",
        "#   for epoch in range(EPOCHS):\n",
        "#       print(\"EPOCH:\", epoch+1 , \"Current LR : \", optimizer.param_groups[0]['lr'])\n",
        "#       if norm == 'bn':\n",
        "#         train_loss, train_accuracy = train(model, device, train_loader, optimizer, epoch, norm = 'bn', lambda_l1 = 0.001)\n",
        "#         # train_loss = train(model, device, train_loader, optimizer, epoch, norm = 'bn', lambda_l1 = 0.001)\n",
        "#         # train(model, device, train_loader, optimizer, epoch, norm = 'bn', lambda_l1 = 0.001)\n",
        "#       else:\n",
        "#         train_loss, train_accuracy = train(model, device, train_loader, optimizer, epoch)\n",
        "#         # train_loss = train(model, device, train_loader, optimizer, epoch)\n",
        "#         # train(model, device, train_loader, optimizer, epoch)\n",
        "\n",
        "#       list_train_loss_temp.append(train_loss)\n",
        "#       list_train_accuracy_temp.append(train_accuracy)\n",
        "\n",
        "#       scheduler.step(train_loss) \n",
        "\n",
        "\n",
        "#       curr_lr = optimizer.param_groups[0]['lr']\n",
        "#       val_loss,val_accuracy = test(model, device, test_loader) \n",
        "\n",
        "#       list_val_loss_temp.append(val_loss)\n",
        "#       list_val_accuracy_temp.append(val_accuracy)\n",
        "\n",
        "#   dict_train_loss[norm]= list_train_loss_temp\n",
        "#   dict_val_loss[norm] = list_val_loss_temp\n",
        "#   dict_train_accuarcy [norm]=list_train_accuracy_temp\n",
        "#   dict_val_accuracy[norm]= list_val_accuracy_temp\n",
        "      \n",
        "\n",
        "\n",
        "    "
      ],
      "metadata": {
        "colab": {
          "base_uri": "https://localhost:8080/"
        },
        "id": "mk4SGOYlNYgi",
        "outputId": "c01f3a66-439d-442a-9c0a-fe5c615aedf0"
      },
      "execution_count": 13,
      "outputs": [
        {
          "output_type": "stream",
          "name": "stdout",
          "text": [
            "----------NORM bn-------\n",
            "EPOCH: 1 Current LR :  0.3\n"
          ]
        },
        {
          "output_type": "stream",
          "name": "stderr",
          "text": [
            "Loss=0.6473569273948669 Batch_id=468 Accuracy=89.90%: 100%|██████████| 469/469 [00:22<00:00, 20.59it/s]\n"
          ]
        },
        {
          "output_type": "stream",
          "name": "stdout",
          "text": [
            "\n",
            "Test set: Average loss: 0.0002, Accuracy: 8913/10000 (89.13%)\n",
            "\n",
            "EPOCH: 2 Current LR :  0.3\n"
          ]
        },
        {
          "output_type": "stream",
          "name": "stderr",
          "text": [
            "Loss=0.6720405220985413 Batch_id=468 Accuracy=93.44%: 100%|██████████| 469/469 [00:22<00:00, 20.55it/s]\n"
          ]
        },
        {
          "output_type": "stream",
          "name": "stdout",
          "text": [
            "\n",
            "Test set: Average loss: 0.0001, Accuracy: 9316/10000 (93.16%)\n",
            "\n"
          ]
        }
      ]
    },
    {
      "cell_type": "code",
      "source": [
        "#@title Executing Training\n",
        "\n",
        "from torch.optim.lr_scheduler import StepLR,ReduceLROnPlateau,ExponentialLR\n",
        "EPOCHS = 2\n",
        "\n",
        "# list_norm = ['bn','ln','gn']\n",
        "list_norm = ['bn']\n",
        "\n",
        "\n",
        "def execute_training(list_norm = list_norm, Network = Network, epochs = EPOCHS ):\n",
        "\n",
        "  # dict_train_loss ={}\n",
        "  # dict_val_loss ={}\n",
        "  # dict_train_accuarcy ={}\n",
        "  # dict_val_accuracy= {}\n",
        "  # dict_model ={}\n",
        "  dict_return ={}\n",
        "\n",
        "  for norm in list_norm:\n",
        "    print(f'----------NORM {norm}-------')\n",
        "    model =  Network(norm=norm).to(device)\n",
        "    model.apply(weights_init)\n",
        "    optimizer = optim.SGD(model.parameters(), lr=0.3, momentum=0.9)\n",
        "    scheduler = ReduceLROnPlateau(optimizer, factor = 0.1, patience = 2, threshold =  0.0002)\n",
        "\n",
        "    list_train_loss_temp = []\n",
        "    list_train_accuracy_temp = []\n",
        "    list_val_loss_temp =[]\n",
        "    list_val_accuracy_temp =[]\n",
        "\n",
        "    for epoch in range(epochs):\n",
        "        print(\"EPOCH:\", epochs+1 , \"Current LR : \", optimizer.param_groups[0]['lr'])\n",
        "        train_loss, train_accuracy = train(model, device, train_loader, optimizer, epoch, norm = norm, lambda_l1 = 0.001)\n",
        "        \n",
        "        list_train_loss_temp.append(train_loss)\n",
        "        list_train_accuracy_temp.append(train_accuracy)\n",
        "        scheduler.step(train_loss) \n",
        "\n",
        "        val_loss,val_accuracy = test(model, device, test_loader) \n",
        "\n",
        "        list_val_loss_temp.append(val_loss)\n",
        "        list_val_accuracy_temp.append(val_accuracy)\n",
        "\n",
        "    # dict_train_loss[norm]= list_train_loss_temp\n",
        "    # dict_val_loss[norm] = list_val_loss_temp\n",
        "    # dict_train_accuarcy [norm]=list_train_accuracy_temp\n",
        "    # dict_val_accuracy[norm]= list_val_accuracy_temp\n",
        "    # dict_model[norm] = model\n",
        "\n",
        "    dict_return[norm] = {'model': model,\n",
        "                         'train_loss':list_train_loss_temp,\n",
        "                         'val_loss': list_val_loss_temp,\n",
        "                         'train_accuracy':list_train_accuracy_temp,\n",
        "                         'val_accuracy':list_val_accuracy_temp\n",
        "                         }\n",
        "  return dict_return"
      ],
      "metadata": {
        "id": "vLsLVH_C6e8m"
      },
      "execution_count": 32,
      "outputs": []
    },
    {
      "cell_type": "code",
      "source": [
        "print (dict_train_loss,dict_val_loss,dict_train_accuarcy,dict_val_accuracy)"
      ],
      "metadata": {
        "colab": {
          "base_uri": "https://localhost:8080/"
        },
        "id": "hsf6PrbxwCkC",
        "outputId": "7494a3b6-fd61-4d41-cf10-d1d7c676fc50"
      },
      "execution_count": 14,
      "outputs": [
        {
          "output_type": "stream",
          "name": "stdout",
          "text": [
            "{'bn': [0.9362, 0.6977]} {'bn': [0.0002, 0.0001]} {'bn': [89.9017, 93.4417]} {'bn': [89.13, 91.145]}\n"
          ]
        }
      ]
    },
    {
      "cell_type": "code",
      "source": [
        "mapping_dict = {'bn':'Batch Normalization', 'ln': 'Layer Normalization', 'gn': 'Group Normalization'}\n",
        "fig, axs = plt.subplots(2,2,figsize=(15,10))\n",
        "for norm in list_norm:\n",
        "  axs[0, 0].plot(dict_train_loss[norm], label = mapping_dict[norm])\n",
        "  # axs[0, 0].plot(train_losses)\n",
        "  # axs[0, 0].plot([t.cpu().item() for t in train_losses])\n",
        "  axs[0, 0].set_title(\"Training Loss\")\n",
        "  axs[0, 0].set_xlabel('number of epochs', fontsize=10)\n",
        "  axs[0, 0].set_ylabel('NLL Loss', fontsize=10)\n",
        "  axs[0, 0].legend()\n",
        "  axs[1, 0].plot(dict_train_accuarcy[norm], label = mapping_dict[norm])\n",
        "  axs[1, 0].set_title(\"Training Accuracy\")\n",
        "  axs[1, 0].set_xlabel('number of epochs', fontsize=10)\n",
        "  axs[1, 0].set_ylabel('Accuracy in %', fontsize=10)\n",
        "  axs[1, 0].legend()\n",
        "  axs[0, 1].plot(dict_val_loss[norm], label = mapping_dict[norm])\n",
        "  axs[0, 1].set_title(\"Test Loss\")\n",
        "  axs[0, 1].set_xlabel('number of epochs', fontsize=10)\n",
        "  axs[0, 1].set_ylabel('NLL Loss', fontsize=10)\n",
        "  axs[0, 1].legend()\n",
        "  axs[1, 1].plot(dict_val_accuracy[norm], label = mapping_dict[norm])\n",
        "  axs[1, 1].set_title(\"Test Accuracy\")\n",
        "  axs[1, 1].set_xlabel('number of epochs', fontsize=10)\n",
        "  axs[1, 1].set_ylabel('Accuracy in %', fontsize=10)\n",
        "  axs[1, 1].legend()\n",
        "# plt.legend()\n",
        "# plt.show()"
      ],
      "metadata": {
        "id": "O7Q7ISLiNfXz",
        "colab": {
          "base_uri": "https://localhost:8080/",
          "height": 621
        },
        "outputId": "7c8a9bc6-a25b-41e1-b7ff-a9929648ef4f"
      },
      "execution_count": 15,
      "outputs": [
        {
          "output_type": "display_data",
          "data": {
            "text/plain": [
              "<Figure size 1080x720 with 4 Axes>"
            ],
            "image/png": "[encoded data removed]"
          },
          "metadata": {
            "needs_background": "light"
          }
        }
      ]
    },
    {
      "cell_type": "code",
      "source": [
        "def get_misclassified_images(model, device, test_loader,num_image = 10):\n",
        "  model.eval() # setting the model in evaluation mode\n",
        "  list_misclassified_images = []\n",
        "  with torch.no_grad():\n",
        "    for (images,labels) in test_loader:\n",
        "      images, labels = images.to(device),labels.to(device)#sending data to CPU or GPU as per device\n",
        "      outputs = model(images) # forward pass, result captured in outputs (plural as there are many images in a batch)\n",
        "      # the outputs are in batch size x one hot vector \n",
        "      preds = outputs.argmax(dim=1, keepdim=True)  # get the index of the max log-probability\n",
        "      output_match_list = preds.eq(labels.view_as(preds)).squeeze().tolist()\n",
        "      labels_list = labels.squeeze().tolist()\n",
        "      preds_list = preds.squeeze().tolist()\n",
        "      # print(preds.eq(labels.view_as(preds)))\n",
        "      # print(preds.eq(labels.view_as(preds)).size())\n",
        "      # print (torch.squeeze(preds.eq(labels.view_as(preds))))\n",
        "      # print( labels[8])\n",
        "      # print( images[8])\n",
        "      # print(output_match_list)\n",
        "      for index, bool_value in enumerate(output_match_list):\n",
        "        if not bool_value:\n",
        "          print(index)\n",
        "          list_misclassified_images.append((images[index],labels[index],preds[index]))\n",
        "          if len(list_misclassified_images) == num_image: break\n",
        "      if len(list_misclassified_images) == num_image: break\n",
        "  return list_misclassified_images"
      ],
      "metadata": {
        "id": "bng5hYqC0TyJ"
      },
      "execution_count": 30,
      "outputs": []
    },
    {
      "cell_type": "code",
      "source": [
        "list_misclassified_images = get_misclassified_images(model,device, test_loader,num_image = 10)"
      ],
      "metadata": {
        "id": "K9d-Dq3W6VLH"
      },
      "execution_count": null,
      "outputs": []
    },
    {
      "cell_type": "code",
      "source": [
        "t = 4\n",
        "print(list_misclassified_images[t][1].cpu().item(),list_misclassified_images[t][2].cpu().item() )"
      ],
      "metadata": {
        "colab": {
          "base_uri": "https://localhost:8080/"
        },
        "id": "6-ppf9PU3t7Z",
        "outputId": "867ebe07-f6bd-4740-dd84-b5000bc63982"
      },
      "execution_count": 17,
      "outputs": [
        {
          "output_type": "execute_result",
          "data": {
            "text/plain": [
              "10"
            ]
          },
          "metadata": {},
          "execution_count": 17
        }
      ]
    },
    {
      "cell_type": "code",
      "source": [
        "# Plotting misclassified images\n",
        "def plot_misclassified_images (list_misclassified_images):\n",
        "  figure = plt.figure(figsize = (10,5))\n",
        "  for index in range(1, len(list_misclassified_images) + 1): \n",
        "      plt.subplot(2, int(len(list_misclassified_images)/2), index)\n",
        "      plt.axis('off')\n",
        "      plt.imshow(list_misclassified_images[index-1][0].cpu().numpy().squeeze(), cmap='gray_r')\n",
        "      plt.title(f'Actual - {list_misclassified_images[index-1][1]} \\nPredicted - {list_misclassified_images[index-1][2].cpu().item()}')\n",
        "\n",
        "plot_misclassified_images(list_misclassified_images)"
      ],
      "metadata": {
        "id": "QMZVaMU8LsBK",
        "colab": {
          "base_uri": "https://localhost:8080/",
          "height": 306
        },
        "outputId": "d1503cf0-ae5a-4710-8b73-417a9c610e7e"
      },
      "execution_count": 29,
      "outputs": [
        {
          "output_type": "display_data",
          "data": {
            "text/plain": [
              "<Figure size 720x360 with 10 Axes>"
            ],
            "image/png": "[encoded data removed]"
          },
          "metadata": {
            "needs_background": "light"
          }
        }
      ]
    },
    {
      "cell_type": "code",
      "source": [],
      "metadata": {
        "id": "l18LPUrn42oJ"
      },
      "execution_count": null,
      "outputs": []
    }
  ]
}