{
  "nbformat": 4,
  "nbformat_minor": 0,
  "metadata": {
    "kernelspec": {
      "name": "python3",
      "display_name": "Python 3"
    },
    "language_info": {
      "codemirror_mode": {
        "name": "ipython",
        "version": 3
      },
      "file_extension": ".py",
      "mimetype": "text/x-python",
      "name": "python",
      "nbconvert_exporter": "python",
      "pygments_lexer": "ipython3",
      "version": "3.6.6"
    },
    "colab": {
      "name": "EVA_S7.ipynb",
      "provenance": [],
      "collapsed_sections": [],
      "include_colab_link": true
    },
    "accelerator": "GPU",
    "widgets": {
      "application/vnd.jupyter.widget-state+json": {
        "42939afd120d45b192b51ed23c10f13f": {
          "model_module": "@jupyter-widgets/controls",
          "model_name": "HBoxModel",
          "model_module_version": "1.5.0",
          "state": {
            "_view_name": "HBoxView",
            "_dom_classes": [],
            "_model_name": "HBoxModel",
            "_view_module": "@jupyter-widgets/controls",
            "_model_module_version": "1.5.0",
            "_view_count": null,
            "_view_module_version": "1.5.0",
            "box_style": "",
            "layout": "IPY_MODEL_eae52f7772cf4be9ac716f073cdbae2f",
            "_model_module": "@jupyter-widgets/controls",
            "children": [
              "IPY_MODEL_698f81d1cc4a437eb3d822800f520b45",
              "IPY_MODEL_9e3a8dd0f4de49398b7e9bb4123d9228",
              "IPY_MODEL_403400d3f8314af98790e3960b5dd8da"
            ]
          }
        },
        "eae52f7772cf4be9ac716f073cdbae2f": {
          "model_module": "@jupyter-widgets/base",
          "model_name": "LayoutModel",
          "model_module_version": "1.2.0",
          "state": {
            "_view_name": "LayoutView",
            "grid_template_rows": null,
            "right": null,
            "justify_content": null,
            "_view_module": "@jupyter-widgets/base",
            "overflow": null,
            "_model_module_version": "1.2.0",
            "_view_count": null,
            "flex_flow": null,
            "width": null,
            "min_width": null,
            "border": null,
            "align_items": null,
            "bottom": null,
            "_model_module": "@jupyter-widgets/base",
            "top": null,
            "grid_column": null,
            "overflow_y": null,
            "overflow_x": null,
            "grid_auto_flow": null,
            "grid_area": null,
            "grid_template_columns": null,
            "flex": null,
            "_model_name": "LayoutModel",
            "justify_items": null,
            "grid_row": null,
            "max_height": null,
            "align_content": null,
            "visibility": null,
            "align_self": null,
            "height": null,
            "min_height": null,
            "padding": null,
            "grid_auto_rows": null,
            "grid_gap": null,
            "max_width": null,
            "order": null,
            "_view_module_version": "1.2.0",
            "grid_template_areas": null,
            "object_position": null,
            "object_fit": null,
            "grid_auto_columns": null,
            "margin": null,
            "display": null,
            "left": null
          }
        },
        "698f81d1cc4a437eb3d822800f520b45": {
          "model_module": "@jupyter-widgets/controls",
          "model_name": "HTMLModel",
          "model_module_version": "1.5.0",
          "state": {
            "_view_name": "HTMLView",
            "style": "IPY_MODEL_e916b5bc6e4d49e6b4f03bf96eb0ecce",
            "_dom_classes": [],
            "description": "",
            "_model_name": "HTMLModel",
            "placeholder": "​",
            "_view_module": "@jupyter-widgets/controls",
            "_model_module_version": "1.5.0",
            "value": "",
            "_view_count": null,
            "_view_module_version": "1.5.0",
            "description_tooltip": null,
            "_model_module": "@jupyter-widgets/controls",
            "layout": "IPY_MODEL_225bb39f70ef4b6fb2ef4d26cb19b4db"
          }
        },
        "9e3a8dd0f4de49398b7e9bb4123d9228": {
          "model_module": "@jupyter-widgets/controls",
          "model_name": "FloatProgressModel",
          "model_module_version": "1.5.0",
          "state": {
            "_view_name": "ProgressView",
            "style": "IPY_MODEL_7f15362b7a8c454c8891cc7446b98305",
            "_dom_classes": [],
            "description": "",
            "_model_name": "FloatProgressModel",
            "bar_style": "success",
            "max": 170498071,
            "_view_module": "@jupyter-widgets/controls",
            "_model_module_version": "1.5.0",
            "value": 170498071,
            "_view_count": null,
            "_view_module_version": "1.5.0",
            "orientation": "horizontal",
            "min": 0,
            "description_tooltip": null,
            "_model_module": "@jupyter-widgets/controls",
            "layout": "IPY_MODEL_e3cfdc5f38ff488c84ae6eb8a6816fd2"
          }
        },
        "403400d3f8314af98790e3960b5dd8da": {
          "model_module": "@jupyter-widgets/controls",
          "model_name": "HTMLModel",
          "model_module_version": "1.5.0",
          "state": {
            "_view_name": "HTMLView",
            "style": "IPY_MODEL_0e2b4e5aeddc49fb9ed57a2661eaf0c7",
            "_dom_classes": [],
            "description": "",
            "_model_name": "HTMLModel",
            "placeholder": "​",
            "_view_module": "@jupyter-widgets/controls",
            "_model_module_version": "1.5.0",
            "value": " 170499072/? [00:06&lt;00:00, 54612967.03it/s]",
            "_view_count": null,
            "_view_module_version": "1.5.0",
            "description_tooltip": null,
            "_model_module": "@jupyter-widgets/controls",
            "layout": "IPY_MODEL_7df009ed31e9456dbe09453d50168ae2"
          }
        },
        "e916b5bc6e4d49e6b4f03bf96eb0ecce": {
          "model_module": "@jupyter-widgets/controls",
          "model_name": "DescriptionStyleModel",
          "model_module_version": "1.5.0",
          "state": {
            "_view_name": "StyleView",
            "_model_name": "DescriptionStyleModel",
            "description_width": "",
            "_view_module": "@jupyter-widgets/base",
            "_model_module_version": "1.5.0",
            "_view_count": null,
            "_view_module_version": "1.2.0",
            "_model_module": "@jupyter-widgets/controls"
          }
        },
        "225bb39f70ef4b6fb2ef4d26cb19b4db": {
          "model_module": "@jupyter-widgets/base",
          "model_name": "LayoutModel",
          "model_module_version": "1.2.0",
          "state": {
            "_view_name": "LayoutView",
            "grid_template_rows": null,
            "right": null,
            "justify_content": null,
            "_view_module": "@jupyter-widgets/base",
            "overflow": null,
            "_model_module_version": "1.2.0",
            "_view_count": null,
            "flex_flow": null,
            "width": null,
            "min_width": null,
            "border": null,
            "align_items": null,
            "bottom": null,
            "_model_module": "@jupyter-widgets/base",
            "top": null,
            "grid_column": null,
            "overflow_y": null,
            "overflow_x": null,
            "grid_auto_flow": null,
            "grid_area": null,
            "grid_template_columns": null,
            "flex": null,
            "_model_name": "LayoutModel",
            "justify_items": null,
            "grid_row": null,
            "max_height": null,
            "align_content": null,
            "visibility": null,
            "align_self": null,
            "height": null,
            "min_height": null,
            "padding": null,
            "grid_auto_rows": null,
            "grid_gap": null,
            "max_width": null,
            "order": null,
            "_view_module_version": "1.2.0",
            "grid_template_areas": null,
            "object_position": null,
            "object_fit": null,
            "grid_auto_columns": null,
            "margin": null,
            "display": null,
            "left": null
          }
        },
        "7f15362b7a8c454c8891cc7446b98305": {
          "model_module": "@jupyter-widgets/controls",
          "model_name": "ProgressStyleModel",
          "model_module_version": "1.5.0",
          "state": {
            "_view_name": "StyleView",
            "_model_name": "ProgressStyleModel",
            "description_width": "",
            "_view_module": "@jupyter-widgets/base",
            "_model_module_version": "1.5.0",
            "_view_count": null,
            "_view_module_version": "1.2.0",
            "bar_color": null,
            "_model_module": "@jupyter-widgets/controls"
          }
        },
        "e3cfdc5f38ff488c84ae6eb8a6816fd2": {
          "model_module": "@jupyter-widgets/base",
          "model_name": "LayoutModel",
          "model_module_version": "1.2.0",
          "state": {
            "_view_name": "LayoutView",
            "grid_template_rows": null,
            "right": null,
            "justify_content": null,
            "_view_module": "@jupyter-widgets/base",
            "overflow": null,
            "_model_module_version": "1.2.0",
            "_view_count": null,
            "flex_flow": null,
            "width": null,
            "min_width": null,
            "border": null,
            "align_items": null,
            "bottom": null,
            "_model_module": "@jupyter-widgets/base",
            "top": null,
            "grid_column": null,
            "overflow_y": null,
            "overflow_x": null,
            "grid_auto_flow": null,
            "grid_area": null,
            "grid_template_columns": null,
            "flex": null,
            "_model_name": "LayoutModel",
            "justify_items": null,
            "grid_row": null,
            "max_height": null,
            "align_content": null,
            "visibility": null,
            "align_self": null,
            "height": null,
            "min_height": null,
            "padding": null,
            "grid_auto_rows": null,
            "grid_gap": null,
            "max_width": null,
            "order": null,
            "_view_module_version": "1.2.0",
            "grid_template_areas": null,
            "object_position": null,
            "object_fit": null,
            "grid_auto_columns": null,
            "margin": null,
            "display": null,
            "left": null
          }
        },
        "0e2b4e5aeddc49fb9ed57a2661eaf0c7": {
          "model_module": "@jupyter-widgets/controls",
          "model_name": "DescriptionStyleModel",
          "model_module_version": "1.5.0",
          "state": {
            "_view_name": "StyleView",
            "_model_name": "DescriptionStyleModel",
            "description_width": "",
            "_view_module": "@jupyter-widgets/base",
            "_model_module_version": "1.5.0",
            "_view_count": null,
            "_view_module_version": "1.2.0",
            "_model_module": "@jupyter-widgets/controls"
          }
        },
        "7df009ed31e9456dbe09453d50168ae2": {
          "model_module": "@jupyter-widgets/base",
          "model_name": "LayoutModel",
          "model_module_version": "1.2.0",
          "state": {
            "_view_name": "LayoutView",
            "grid_template_rows": null,
            "right": null,
            "justify_content": null,
            "_view_module": "@jupyter-widgets/base",
            "overflow": null,
            "_model_module_version": "1.2.0",
            "_view_count": null,
            "flex_flow": null,
            "width": null,
            "min_width": null,
            "border": null,
            "align_items": null,
            "bottom": null,
            "_model_module": "@jupyter-widgets/base",
            "top": null,
            "grid_column": null,
            "overflow_y": null,
            "overflow_x": null,
            "grid_auto_flow": null,
            "grid_area": null,
            "grid_template_columns": null,
            "flex": null,
            "_model_name": "LayoutModel",
            "justify_items": null,
            "grid_row": null,
            "max_height": null,
            "align_content": null,
            "visibility": null,
            "align_self": null,
            "height": null,
            "min_height": null,
            "padding": null,
            "grid_auto_rows": null,
            "grid_gap": null,
            "max_width": null,
            "order": null,
            "_view_module_version": "1.2.0",
            "grid_template_areas": null,
            "object_position": null,
            "object_fit": null,
            "grid_auto_columns": null,
            "margin": null,
            "display": null,
            "left": null
          }
        },
        "86eb3fa3014648ce9098f4b6f265ea00": {
          "model_module": "@jupyter-widgets/controls",
          "model_name": "HBoxModel",
          "model_module_version": "1.5.0",
          "state": {
            "_view_name": "HBoxView",
            "_dom_classes": [],
            "_model_name": "HBoxModel",
            "_view_module": "@jupyter-widgets/controls",
            "_model_module_version": "1.5.0",
            "_view_count": null,
            "_view_module_version": "1.5.0",
            "box_style": "",
            "layout": "IPY_MODEL_e69cb90696624524b46668ed7151115a",
            "_model_module": "@jupyter-widgets/controls",
            "children": [
              "IPY_MODEL_7161fc61c45d47f7ab01c4b1f354b420",
              "IPY_MODEL_96651fb6bd3e4edaab166082f592afef",
              "IPY_MODEL_b4711423708148a1ad5b7126780a3fab"
            ]
          }
        },
        "e69cb90696624524b46668ed7151115a": {
          "model_module": "@jupyter-widgets/base",
          "model_name": "LayoutModel",
          "model_module_version": "1.2.0",
          "state": {
            "_view_name": "LayoutView",
            "grid_template_rows": null,
            "right": null,
            "justify_content": null,
            "_view_module": "@jupyter-widgets/base",
            "overflow": null,
            "_model_module_version": "1.2.0",
            "_view_count": null,
            "flex_flow": null,
            "width": null,
            "min_width": null,
            "border": null,
            "align_items": null,
            "bottom": null,
            "_model_module": "@jupyter-widgets/base",
            "top": null,
            "grid_column": null,
            "overflow_y": null,
            "overflow_x": null,
            "grid_auto_flow": null,
            "grid_area": null,
            "grid_template_columns": null,
            "flex": null,
            "_model_name": "LayoutModel",
            "justify_items": null,
            "grid_row": null,
            "max_height": null,
            "align_content": null,
            "visibility": null,
            "align_self": null,
            "height": null,
            "min_height": null,
            "padding": null,
            "grid_auto_rows": null,
            "grid_gap": null,
            "max_width": null,
            "order": null,
            "_view_module_version": "1.2.0",
            "grid_template_areas": null,
            "object_position": null,
            "object_fit": null,
            "grid_auto_columns": null,
            "margin": null,
            "display": null,
            "left": null
          }
        },
        "7161fc61c45d47f7ab01c4b1f354b420": {
          "model_module": "@jupyter-widgets/controls",
          "model_name": "HTMLModel",
          "model_module_version": "1.5.0",
          "state": {
            "_view_name": "HTMLView",
            "style": "IPY_MODEL_8f3d960931fd48769490cdc9620004c0",
            "_dom_classes": [],
            "description": "",
            "_model_name": "HTMLModel",
            "placeholder": "​",
            "_view_module": "@jupyter-widgets/controls",
            "_model_module_version": "1.5.0",
            "value": "",
            "_view_count": null,
            "_view_module_version": "1.5.0",
            "description_tooltip": null,
            "_model_module": "@jupyter-widgets/controls",
            "layout": "IPY_MODEL_232336d74f66447e96c9a06b8b0a1e58"
          }
        },
        "96651fb6bd3e4edaab166082f592afef": {
          "model_module": "@jupyter-widgets/controls",
          "model_name": "FloatProgressModel",
          "model_module_version": "1.5.0",
          "state": {
            "_view_name": "ProgressView",
            "style": "IPY_MODEL_36c9dd35106742dbb8d7f3c09c30bb16",
            "_dom_classes": [],
            "description": "",
            "_model_name": "FloatProgressModel",
            "bar_style": "success",
            "max": 170498071,
            "_view_module": "@jupyter-widgets/controls",
            "_model_module_version": "1.5.0",
            "value": 170498071,
            "_view_count": null,
            "_view_module_version": "1.5.0",
            "orientation": "horizontal",
            "min": 0,
            "description_tooltip": null,
            "_model_module": "@jupyter-widgets/controls",
            "layout": "IPY_MODEL_3041bca987ee403e9efd2cdab77e297e"
          }
        },
        "b4711423708148a1ad5b7126780a3fab": {
          "model_module": "@jupyter-widgets/controls",
          "model_name": "HTMLModel",
          "model_module_version": "1.5.0",
          "state": {
            "_view_name": "HTMLView",
            "style": "IPY_MODEL_5c5b1052d0924e6493b25fb732bbd99f",
            "_dom_classes": [],
            "description": "",
            "_model_name": "HTMLModel",
            "placeholder": "​",
            "_view_module": "@jupyter-widgets/controls",
            "_model_module_version": "1.5.0",
            "value": " 170499072/? [00:03&lt;00:00, 55708909.09it/s]",
            "_view_count": null,
            "_view_module_version": "1.5.0",
            "description_tooltip": null,
            "_model_module": "@jupyter-widgets/controls",
            "layout": "IPY_MODEL_5204285249d543fe99dc967a822031fb"
          }
        },
        "8f3d960931fd48769490cdc9620004c0": {
          "model_module": "@jupyter-widgets/controls",
          "model_name": "DescriptionStyleModel",
          "model_module_version": "1.5.0",
          "state": {
            "_view_name": "StyleView",
            "_model_name": "DescriptionStyleModel",
            "description_width": "",
            "_view_module": "@jupyter-widgets/base",
            "_model_module_version": "1.5.0",
            "_view_count": null,
            "_view_module_version": "1.2.0",
            "_model_module": "@jupyter-widgets/controls"
          }
        },
        "232336d74f66447e96c9a06b8b0a1e58": {
          "model_module": "@jupyter-widgets/base",
          "model_name": "LayoutModel",
          "model_module_version": "1.2.0",
          "state": {
            "_view_name": "LayoutView",
            "grid_template_rows": null,
            "right": null,
            "justify_content": null,
            "_view_module": "@jupyter-widgets/base",
            "overflow": null,
            "_model_module_version": "1.2.0",
            "_view_count": null,
            "flex_flow": null,
            "width": null,
            "min_width": null,
            "border": null,
            "align_items": null,
            "bottom": null,
            "_model_module": "@jupyter-widgets/base",
            "top": null,
            "grid_column": null,
            "overflow_y": null,
            "overflow_x": null,
            "grid_auto_flow": null,
            "grid_area": null,
            "grid_template_columns": null,
            "flex": null,
            "_model_name": "LayoutModel",
            "justify_items": null,
            "grid_row": null,
            "max_height": null,
            "align_content": null,
            "visibility": null,
            "align_self": null,
            "height": null,
            "min_height": null,
            "padding": null,
            "grid_auto_rows": null,
            "grid_gap": null,
            "max_width": null,
            "order": null,
            "_view_module_version": "1.2.0",
            "grid_template_areas": null,
            "object_position": null,
            "object_fit": null,
            "grid_auto_columns": null,
            "margin": null,
            "display": null,
            "left": null
          }
        },
        "36c9dd35106742dbb8d7f3c09c30bb16": {
          "model_module": "@jupyter-widgets/controls",
          "model_name": "ProgressStyleModel",
          "model_module_version": "1.5.0",
          "state": {
            "_view_name": "StyleView",
            "_model_name": "ProgressStyleModel",
            "description_width": "",
            "_view_module": "@jupyter-widgets/base",
            "_model_module_version": "1.5.0",
            "_view_count": null,
            "_view_module_version": "1.2.0",
            "bar_color": null,
            "_model_module": "@jupyter-widgets/controls"
          }
        },
        "3041bca987ee403e9efd2cdab77e297e": {
          "model_module": "@jupyter-widgets/base",
          "model_name": "LayoutModel",
          "model_module_version": "1.2.0",
          "state": {
            "_view_name": "LayoutView",
            "grid_template_rows": null,
            "right": null,
            "justify_content": null,
            "_view_module": "@jupyter-widgets/base",
            "overflow": null,
            "_model_module_version": "1.2.0",
            "_view_count": null,
            "flex_flow": null,
            "width": null,
            "min_width": null,
            "border": null,
            "align_items": null,
            "bottom": null,
            "_model_module": "@jupyter-widgets/base",
            "top": null,
            "grid_column": null,
            "overflow_y": null,
            "overflow_x": null,
            "grid_auto_flow": null,
            "grid_area": null,
            "grid_template_columns": null,
            "flex": null,
            "_model_name": "LayoutModel",
            "justify_items": null,
            "grid_row": null,
            "max_height": null,
            "align_content": null,
            "visibility": null,
            "align_self": null,
            "height": null,
            "min_height": null,
            "padding": null,
            "grid_auto_rows": null,
            "grid_gap": null,
            "max_width": null,
            "order": null,
            "_view_module_version": "1.2.0",
            "grid_template_areas": null,
            "object_position": null,
            "object_fit": null,
            "grid_auto_columns": null,
            "margin": null,
            "display": null,
            "left": null
          }
        },
        "5c5b1052d0924e6493b25fb732bbd99f": {
          "model_module": "@jupyter-widgets/controls",
          "model_name": "DescriptionStyleModel",
          "model_module_version": "1.5.0",
          "state": {
            "_view_name": "StyleView",
            "_model_name": "DescriptionStyleModel",
            "description_width": "",
            "_view_module": "@jupyter-widgets/base",
            "_model_module_version": "1.5.0",
            "_view_count": null,
            "_view_module_version": "1.2.0",
            "_model_module": "@jupyter-widgets/controls"
          }
        },
        "5204285249d543fe99dc967a822031fb": {
          "model_module": "@jupyter-widgets/base",
          "model_name": "LayoutModel",
          "model_module_version": "1.2.0",
          "state": {
            "_view_name": "LayoutView",
            "grid_template_rows": null,
            "right": null,
            "justify_content": null,
            "_view_module": "@jupyter-widgets/base",
            "overflow": null,
            "_model_module_version": "1.2.0",
            "_view_count": null,
            "flex_flow": null,
            "width": null,
            "min_width": null,
            "border": null,
            "align_items": null,
            "bottom": null,
            "_model_module": "@jupyter-widgets/base",
            "top": null,
            "grid_column": null,
            "overflow_y": null,
            "overflow_x": null,
            "grid_auto_flow": null,
            "grid_area": null,
            "grid_template_columns": null,
            "flex": null,
            "_model_name": "LayoutModel",
            "justify_items": null,
            "grid_row": null,
            "max_height": null,
            "align_content": null,
            "visibility": null,
            "align_self": null,
            "height": null,
            "min_height": null,
            "padding": null,
            "grid_auto_rows": null,
            "grid_gap": null,
            "max_width": null,
            "order": null,
            "_view_module_version": "1.2.0",
            "grid_template_areas": null,
            "object_position": null,
            "object_fit": null,
            "grid_auto_columns": null,
            "margin": null,
            "display": null,
            "left": null
          }
        }
      }
    }
  },
  "cells": [
    {
      "cell_type": "markdown",
      "metadata": {
        "id": "view-in-github",
        "colab_type": "text"
      },
      "source": [
        "<a href=\"https://colab.research.google.com/github/peeyushsinghal/EVA/blob/main/S7-Assignment/EVA_S7.ipynb\" target=\"_parent\"><img src=\"https://colab.research.google.com/assets/colab-badge.svg\" alt=\"Open In Colab\"/></a>"
      ]
    },
    {
      "cell_type": "markdown",
      "metadata": {
        "id": "GXOC69GsUZkq"
      },
      "source": [
        "### Importing Libraries"
      ]
    },
    {
      "cell_type": "code",
      "metadata": {
        "id": "E2Xio-9hUR86"
      },
      "source": [
        "import torch\n",
        "from torchvision import datasets\n",
        "import torchvision.transforms as transforms\n",
        "%matplotlib inline\n",
        "import random # for random image index\n",
        "import torch.nn as nn # for network\n",
        "\n",
        "\n",
        "from tqdm import tqdm # for beautiful model training updates\n",
        "from model import Network"
      ],
      "execution_count": 1,
      "outputs": []
    },
    {
      "cell_type": "markdown",
      "metadata": {
        "id": "s9mvNH-5U3BW"
      },
      "source": [
        "Seed and Cuda"
      ]
    },
    {
      "cell_type": "code",
      "metadata": {
        "colab": {
          "base_uri": "https://localhost:8080/"
        },
        "id": "X0RJmA3OU2SK",
        "outputId": "a471dc32-a564-4799-9034-99c70a62f8a8"
      },
      "source": [
        "# check for cuda\n",
        "cuda = torch.cuda.is_available()\n",
        "print (f' Cuda Status : {cuda}')\n",
        "\n",
        "# setting seed\n",
        "SEED = 42 # arbit seed, why 42 - because in hitch hikers guide to galaxy it is answer to everything\n",
        "# torch.cuda.seed(SEED) \n",
        "torch.cuda.manual_seed_all(SEED) if cuda else torch.manual_seed(SEED)"
      ],
      "execution_count": 2,
      "outputs": [
        {
          "output_type": "stream",
          "name": "stdout",
          "text": [
            " Cuda Status : True\n"
          ]
        }
      ]
    },
    {
      "cell_type": "markdown",
      "metadata": {
        "id": "5kjt4e2TpoCk"
      },
      "source": [
        "### 1. Loading Data\n",
        "\n"
      ]
    },
    {
      "cell_type": "code",
      "metadata": {
        "colab": {
          "base_uri": "https://localhost:8080/",
          "height": 82,
          "referenced_widgets": [
            "42939afd120d45b192b51ed23c10f13f",
            "eae52f7772cf4be9ac716f073cdbae2f",
            "698f81d1cc4a437eb3d822800f520b45",
            "9e3a8dd0f4de49398b7e9bb4123d9228",
            "403400d3f8314af98790e3960b5dd8da",
            "e916b5bc6e4d49e6b4f03bf96eb0ecce",
            "225bb39f70ef4b6fb2ef4d26cb19b4db",
            "7f15362b7a8c454c8891cc7446b98305",
            "e3cfdc5f38ff488c84ae6eb8a6816fd2",
            "0e2b4e5aeddc49fb9ed57a2661eaf0c7",
            "7df009ed31e9456dbe09453d50168ae2"
          ]
        },
        "id": "wz2K8hEXXjeg",
        "outputId": "0317297c-c4f2-451d-ab94-1d9683620bdf"
      },
      "source": [
        "## downloading training data, using this to calculate mean and standard deviation \n",
        "\n",
        "train_mean_std_dev = datasets.CIFAR10(\n",
        "    root = './',# directory where data needs to be stored\n",
        "    train = True, # get the training portion of the dataset\n",
        "    download = True, # downloads\n",
        "    transform = transforms.ToTensor()# converts to tesnor\n",
        "    )"
      ],
      "execution_count": 3,
      "outputs": [
        {
          "output_type": "stream",
          "name": "stdout",
          "text": [
            "Downloading https://www.cs.toronto.edu/~kriz/cifar-10-python.tar.gz to ./cifar-10-python.tar.gz\n"
          ]
        },
        {
          "output_type": "display_data",
          "data": {
            "application/vnd.jupyter.widget-view+json": {
              "model_id": "42939afd120d45b192b51ed23c10f13f",
              "version_minor": 0,
              "version_major": 2
            },
            "text/plain": [
              "  0%|          | 0/170498071 [00:00<?, ?it/s]"
            ]
          },
          "metadata": {}
        },
        {
          "output_type": "stream",
          "name": "stdout",
          "text": [
            "Extracting ./cifar-10-python.tar.gz to ./\n"
          ]
        }
      ]
    },
    {
      "cell_type": "code",
      "metadata": {
        "colab": {
          "base_uri": "https://localhost:8080/"
        },
        "id": "KdvqRmaWeVkq",
        "outputId": "f92b88fd-f5af-4816-91c3-41f1ad321896"
      },
      "source": [
        "train_mean_std_dev.data.shape  ## looking at the shape of the data"
      ],
      "execution_count": 4,
      "outputs": [
        {
          "output_type": "execute_result",
          "data": {
            "text/plain": [
              "(50000, 32, 32, 3)"
            ]
          },
          "metadata": {},
          "execution_count": 4
        }
      ]
    },
    {
      "cell_type": "code",
      "metadata": {
        "colab": {
          "base_uri": "https://localhost:8080/"
        },
        "id": "qRpTvepFWm4n",
        "outputId": "9e3c4fde-c115-4e54-8168-abeb9287586d"
      },
      "source": [
        "# Getting Mean and Standard Deviation of CIFAR 10 dataset\n",
        "def get_mean_std_dev(dataset):\n",
        "  '''\n",
        "  reference : https://stackoverflow.com/questions/66678052/how-to-calculate-the-mean-and-the-std-of-cifar10-data\n",
        "  '''\n",
        "\n",
        "  data = dataset.data / 255 # data is numpy array\n",
        "\n",
        "  mean = data.mean(axis = (0,1,2)) \n",
        "  std = data.std(axis = (0,1,2))\n",
        "  # print(f\"Mean : {mean}   STD: {std}\") #Mean : [0.491 0.482 0.446]   STD: [0.247 0.243 0.261]\n",
        "  return tuple(mean), tuple(std)\n",
        "\n",
        "\n",
        "\n",
        "mean, std_dev = get_mean_std_dev(train_mean_std_dev)\n",
        "print(f\"Mean : {mean}   STD: {std_dev}\") #Mean : [0.491 0.482 0.446]   STD: [0.247 0.243 0.261]\n"
      ],
      "execution_count": 5,
      "outputs": [
        {
          "output_type": "stream",
          "name": "stdout",
          "text": [
            "Mean : (0.4913996786152028, 0.4821584083946074, 0.4465309144454644)   STD: (0.24703223246328238, 0.2434851280000556, 0.26158784172796423)\n"
          ]
        }
      ]
    },
    {
      "cell_type": "code",
      "metadata": {
        "colab": {
          "base_uri": "https://localhost:8080/"
        },
        "id": "UlNWYKqMdjPS",
        "outputId": "2531e2b8-c65b-4b85-888e-0fd16777a2d3"
      },
      "source": [
        "!pip install -U albumentations\n",
        "\n",
        "import albumentations as A\n",
        "\n",
        "from albumentations.pytorch.transforms import ToTensorV2\n",
        "\n",
        "def apply_transforms(mean,std_dev):\n",
        "    train_transforms = A.Compose([\n",
        "        A.HorizontalFlip(p=0.2),\n",
        "        A.ShiftScaleRotate(shift_limit=0.1, scale_limit=0.1, rotate_limit=10, p=0.2),\n",
        "        A.CoarseDropout(\n",
        "            max_holes=1, max_height=16, max_width=16, min_holes=1, min_height=16, min_width=16, fill_value=tuple((x * 255.0 for x in mean)), p=0.2,\n",
        "        ),\n",
        "        A.ToGray(p=0.15),\n",
        "        A.Normalize(mean=mean, std=std_dev, always_apply=True),\n",
        "        ToTensorV2(),\n",
        "    ])\n",
        "\n",
        "    test_transforms = A.Compose([\n",
        "        A.Normalize(mean=mean, std=std_dev, always_apply=True),\n",
        "        ToTensorV2(),\n",
        "    ])\n",
        "\n",
        "    return lambda img: train_transforms(image=np.array(img))[\"image\"], lambda img: test_transforms(image=np.array(img))[\"image\"]\n",
        "\n",
        "\n",
        "train_transforms, test_transforms = apply_transforms(mean,std_dev)"
      ],
      "execution_count": 6,
      "outputs": [
        {
          "output_type": "stream",
          "name": "stdout",
          "text": [
            "Requirement already satisfied: albumentations in /usr/local/lib/python3.7/dist-packages (0.1.12)\n",
            "Collecting albumentations\n",
            "  Downloading albumentations-1.1.0-py3-none-any.whl (102 kB)\n",
            "\u001b[K     |████████████████████████████████| 102 kB 5.4 MB/s \n",
            "\u001b[?25hCollecting qudida>=0.0.4\n",
            "  Downloading qudida-0.0.4-py3-none-any.whl (3.5 kB)\n",
            "Requirement already satisfied: PyYAML in /usr/local/lib/python3.7/dist-packages (from albumentations) (3.13)\n",
            "Requirement already satisfied: scipy in /usr/local/lib/python3.7/dist-packages (from albumentations) (1.4.1)\n",
            "Collecting opencv-python-headless>=4.1.1\n",
            "  Downloading opencv_python_headless-4.5.4.58-cp37-cp37m-manylinux2014_x86_64.whl (47.6 MB)\n",
            "\u001b[K     |████████████████████████████████| 47.6 MB 25 kB/s \n",
            "\u001b[?25hRequirement already satisfied: numpy>=1.11.1 in /usr/local/lib/python3.7/dist-packages (from albumentations) (1.19.5)\n",
            "Requirement already satisfied: scikit-image>=0.16.1 in /usr/local/lib/python3.7/dist-packages (from albumentations) (0.18.3)\n",
            "Requirement already satisfied: scikit-learn>=0.19.1 in /usr/local/lib/python3.7/dist-packages (from qudida>=0.0.4->albumentations) (1.0.1)\n",
            "Requirement already satisfied: typing-extensions in /usr/local/lib/python3.7/dist-packages (from qudida>=0.0.4->albumentations) (3.10.0.2)\n",
            "Requirement already satisfied: networkx>=2.0 in /usr/local/lib/python3.7/dist-packages (from scikit-image>=0.16.1->albumentations) (2.6.3)\n",
            "Requirement already satisfied: tifffile>=2019.7.26 in /usr/local/lib/python3.7/dist-packages (from scikit-image>=0.16.1->albumentations) (2021.11.2)\n",
            "Requirement already satisfied: PyWavelets>=1.1.1 in /usr/local/lib/python3.7/dist-packages (from scikit-image>=0.16.1->albumentations) (1.2.0)\n",
            "Requirement already satisfied: pillow!=7.1.0,!=7.1.1,>=4.3.0 in /usr/local/lib/python3.7/dist-packages (from scikit-image>=0.16.1->albumentations) (7.1.2)\n",
            "Requirement already satisfied: imageio>=2.3.0 in /usr/local/lib/python3.7/dist-packages (from scikit-image>=0.16.1->albumentations) (2.4.1)\n",
            "Requirement already satisfied: matplotlib!=3.0.0,>=2.0.0 in /usr/local/lib/python3.7/dist-packages (from scikit-image>=0.16.1->albumentations) (3.2.2)\n",
            "Requirement already satisfied: cycler>=0.10 in /usr/local/lib/python3.7/dist-packages (from matplotlib!=3.0.0,>=2.0.0->scikit-image>=0.16.1->albumentations) (0.11.0)\n",
            "Requirement already satisfied: python-dateutil>=2.1 in /usr/local/lib/python3.7/dist-packages (from matplotlib!=3.0.0,>=2.0.0->scikit-image>=0.16.1->albumentations) (2.8.2)\n",
            "Requirement already satisfied: kiwisolver>=1.0.1 in /usr/local/lib/python3.7/dist-packages (from matplotlib!=3.0.0,>=2.0.0->scikit-image>=0.16.1->albumentations) (1.3.2)\n",
            "Requirement already satisfied: pyparsing!=2.0.4,!=2.1.2,!=2.1.6,>=2.0.1 in /usr/local/lib/python3.7/dist-packages (from matplotlib!=3.0.0,>=2.0.0->scikit-image>=0.16.1->albumentations) (2.4.7)\n",
            "Requirement already satisfied: six>=1.5 in /usr/local/lib/python3.7/dist-packages (from python-dateutil>=2.1->matplotlib!=3.0.0,>=2.0.0->scikit-image>=0.16.1->albumentations) (1.15.0)\n",
            "Requirement already satisfied: threadpoolctl>=2.0.0 in /usr/local/lib/python3.7/dist-packages (from scikit-learn>=0.19.1->qudida>=0.0.4->albumentations) (3.0.0)\n",
            "Requirement already satisfied: joblib>=0.11 in /usr/local/lib/python3.7/dist-packages (from scikit-learn>=0.19.1->qudida>=0.0.4->albumentations) (1.1.0)\n",
            "Installing collected packages: opencv-python-headless, qudida, albumentations\n",
            "  Attempting uninstall: albumentations\n",
            "    Found existing installation: albumentations 0.1.12\n",
            "    Uninstalling albumentations-0.1.12:\n",
            "      Successfully uninstalled albumentations-0.1.12\n",
            "Successfully installed albumentations-1.1.0 opencv-python-headless-4.5.4.58 qudida-0.0.4\n"
          ]
        }
      ]
    },
    {
      "cell_type": "code",
      "metadata": {
        "id": "D8Tjigo2poCl",
        "colab": {
          "base_uri": "https://localhost:8080/",
          "height": 99,
          "referenced_widgets": [
            "86eb3fa3014648ce9098f4b6f265ea00",
            "e69cb90696624524b46668ed7151115a",
            "7161fc61c45d47f7ab01c4b1f354b420",
            "96651fb6bd3e4edaab166082f592afef",
            "b4711423708148a1ad5b7126780a3fab",
            "8f3d960931fd48769490cdc9620004c0",
            "232336d74f66447e96c9a06b8b0a1e58",
            "36c9dd35106742dbb8d7f3c09c30bb16",
            "3041bca987ee403e9efd2cdab77e297e",
            "5c5b1052d0924e6493b25fb732bbd99f",
            "5204285249d543fe99dc967a822031fb"
          ]
        },
        "outputId": "38e9406c-4b24-4398-e446-9849a364ce84"
      },
      "source": [
        "# transform = transforms.Compose(\n",
        "#     [transforms.ToTensor(),\n",
        "#      transforms.Normalize(mean, std_dev)])\n",
        "\n",
        "batch_size = 128\n",
        "trainset = datasets.CIFAR10(root='./data', train=True,\n",
        "                                        download=True, transform=train_transforms)\n",
        "trainloader = torch.utils.data.DataLoader(trainset, batch_size=batch_size,\n",
        "                                          shuffle=True, num_workers=2)\n",
        "\n",
        "testset = datasets.CIFAR10(root='./data', train=False,\n",
        "                                       download=True, transform=test_transforms)\n",
        "testloader = torch.utils.data.DataLoader(testset, batch_size=batch_size,\n",
        "                                         shuffle=False, num_workers=2)\n",
        "\n",
        "classes = ('plane', 'car', 'bird', 'cat',\n",
        "           'deer', 'dog', 'frog', 'horse', 'ship', 'truck')"
      ],
      "execution_count": 7,
      "outputs": [
        {
          "output_type": "stream",
          "name": "stdout",
          "text": [
            "Downloading https://www.cs.toronto.edu/~kriz/cifar-10-python.tar.gz to ./data/cifar-10-python.tar.gz\n"
          ]
        },
        {
          "output_type": "display_data",
          "data": {
            "application/vnd.jupyter.widget-view+json": {
              "model_id": "86eb3fa3014648ce9098f4b6f265ea00",
              "version_minor": 0,
              "version_major": 2
            },
            "text/plain": [
              "  0%|          | 0/170498071 [00:00<?, ?it/s]"
            ]
          },
          "metadata": {}
        },
        {
          "output_type": "stream",
          "name": "stdout",
          "text": [
            "Extracting ./data/cifar-10-python.tar.gz to ./data\n",
            "Files already downloaded and verified\n"
          ]
        }
      ]
    },
    {
      "cell_type": "markdown",
      "metadata": {
        "id": "_cj433rtpoCn"
      },
      "source": [
        "#### Visualizing Images\n"
      ]
    },
    {
      "cell_type": "code",
      "metadata": {
        "id": "daA7bADhpoCo",
        "colab": {
          "base_uri": "https://localhost:8080/",
          "height": 322
        },
        "outputId": "09905695-580f-4988-9fff-f4f9ab73247c"
      },
      "source": [
        "import matplotlib.pyplot as plt # for visualizing images\n",
        "import numpy as np\n",
        "import torchvision\n",
        "\n",
        "def imshow(img):\n",
        "  '''\n",
        "  function to show an image\n",
        "  '''\n",
        "  img = img / 2 + 0.5     # unnormalize\n",
        "  npimg = img.numpy()\n",
        "  plt.imshow(np.transpose(npimg, (1, 2, 0)))\n",
        "\n",
        "\n",
        "# get some random training images\n",
        "dataiter = iter(trainloader)\n",
        "images, labels = dataiter.next()\n",
        "\n",
        "# show images\n",
        "imshow(torchvision.utils.make_grid(images))\n",
        "# print labels\n",
        "print(' '.join('%5s' % classes[labels[j]] for j in range(batch_size)))"
      ],
      "execution_count": 8,
      "outputs": [
        {
          "output_type": "stream",
          "name": "stderr",
          "text": [
            "Clipping input data to the valid range for imshow with RGB data ([0..1] for floats or [0..255] for integers).\n"
          ]
        },
        {
          "output_type": "stream",
          "name": "stdout",
          "text": [
            " bird  frog  bird   car  bird  frog horse  frog horse plane horse  frog   car  frog  bird truck   car   dog horse plane   cat   car  frog  ship  frog horse  ship   car  bird truck  frog   cat  ship   dog plane  deer  bird   dog truck  bird   dog truck  deer  deer   car   cat  frog   dog  frog  ship  bird  deer  ship horse  bird  bird  deer  deer  frog   dog  bird  bird truck  ship truck truck   dog   cat  ship   car plane truck plane  ship  frog  ship   cat   car   dog   car   car   dog  deer   dog  ship   dog plane plane plane  ship  ship horse truck   cat   cat truck truck   cat   dog   cat   car  bird  deer horse truck truck   car  ship  deer truck truck  deer   cat   car plane  bird   car truck   cat horse  frog  deer  ship  frog plane  ship plane  ship\n"
          ]
        },
        {
          "output_type": "display_data",
          "data": {
            "image/png": "[encoded data removed]",
            "text/plain": [
              "<Figure size 432x288 with 1 Axes>"
            ]
          },
          "metadata": {
            "needs_background": "light"
          }
        }
      ]
    },
    {
      "cell_type": "markdown",
      "metadata": {
        "id": "8WSq8BX1dsLk"
      },
      "source": [
        "### 2. Network\n",
        "Defining CNN"
      ]
    },
    {
      "cell_type": "code",
      "metadata": {
        "id": "0jjLwLLQpoCr"
      },
      "source": [
        "# import torch\n",
        "# import torch.nn as nn # for network\n",
        "# import torch.nn.functional as F # for forward method\n",
        "\n",
        "# drop_out_value = 0.1\n",
        "\n",
        "# class Network(nn.Module):\n",
        "#     def __init__(self):\n",
        "#       super(Network,self).__init__() # extending super class method\n",
        "\n",
        "#       # Input block\n",
        "#       self.convblock_input= nn.Sequential(\n",
        "#         nn.Conv2d(3,32,3,padding=1), # In- 3x32x32, Out- 32x32x32, RF- 3x3, Jump_in -1, Jump_out -1\n",
        "#         nn.ReLU(),\n",
        "#         nn.BatchNorm2d(32),\n",
        "#         nn.Dropout(drop_out_value)\n",
        "#         )\n",
        "      \n",
        "#       # CONV BLOCK 1\n",
        "#       self.convblock1 = nn.Sequential(\n",
        "#         nn.Conv2d(32,32,3,padding=1), # In- 32x32x32, Out- 32x32x32, RF- 5x5, Jump_in -1, Jump_out -1\n",
        "#         nn.ReLU(),\n",
        "#         nn.BatchNorm2d(32),\n",
        "#         nn.Dropout(drop_out_value)\n",
        "#         ,\n",
        "#         nn.Conv2d(32,32,3,padding=1), # In- 32x32x32, Out- 32x32x32, RF- 7x7, Jump_in -1, Jump_out -1\n",
        "#         nn.ReLU(),\n",
        "#         nn.BatchNorm2d(32),\n",
        "#         nn.Dropout(drop_out_value)\n",
        "#         )\n",
        "\n",
        "#       # TRANSITION BLOCK 1\n",
        "#       # STRIDED CONVOLUTION LAYER\n",
        "#       self.transitionblock1 = nn.Sequential(\n",
        "#         nn.Conv2d(32,32,3,stride=2,padding=1), # In- 32x32x32, Out- 32x16x16, RF- 9x9, Jump_in -1, Jump_out -2\n",
        "#         nn.ReLU(),\n",
        "#         nn.BatchNorm2d(32),\n",
        "#         nn.Dropout(drop_out_value)\n",
        "#         )\n",
        "      \n",
        "#       # CONV BLOCK 2\n",
        "#       # Depthwise Separable Convolution Layer\n",
        "#       self.convblock2 = nn.Sequential(\n",
        "#         nn.Conv2d(32,32,3,padding=1,groups=32),# In- 32x16x16, Out- 32x16x16, RF- 13x13, Jump_in -2, Jump_out -2\n",
        "#         nn.Conv2d(32,32,1,padding=0), # In-32x16x16 , Out- 32x16x16, RF- 13x13, Jump_in -2, Jump_out -2\n",
        "#         nn.ReLU(),\n",
        "#         nn.BatchNorm2d(32),\n",
        "#         nn.Dropout(drop_out_value)\n",
        "#         ,\n",
        "#         nn.Conv2d(32,32,3,padding=1), # In-32x16x16 , Out-32x16x16 , RF- 17x17, Jump_in -2, Jump_out -2\n",
        "#         nn.ReLU(),\n",
        "#         nn.BatchNorm2d(32),\n",
        "#         nn.Dropout(drop_out_value)\n",
        "#         )\n",
        "      \n",
        "#       # TRANSITION BLOCK 2\n",
        "#       # STRIDED CONVOLUTION LAYER\n",
        "#       self.transitionblock2 = nn.Sequential(\n",
        "#         nn.Conv2d(32,32,3,stride=2,padding=1), # In- 32x16x16, Out-32x8x8 , RF- 21x21, Jump_in -2, Jump_out -4\n",
        "#         nn.ReLU(),\n",
        "#         nn.BatchNorm2d(32),\n",
        "#         nn.Dropout(drop_out_value)\n",
        "#         )\n",
        "        \n",
        "      \n",
        "#       # CONV BLOCK 3\n",
        "#       # Dilated Convolution Layer\n",
        "#       self.convblock3 = nn.Sequential(\n",
        "#         nn.Conv2d(32,32,3,padding=1,dilation=2),# In- 32x8x8, Out-32x6x6 , RF- 29x29, Jump_in -4, Jump_out -4\n",
        "#         nn.ReLU(),\n",
        "#         nn.BatchNorm2d(32),\n",
        "#         nn.Dropout(drop_out_value)\n",
        "#         ,\n",
        "#         nn.Conv2d(32,32,3,padding=1), # In-32x6x6 , Out- 32x6x6, RF- 37x37, Jump_in -4, Jump_out -4\n",
        "#         nn.ReLU(),\n",
        "#         nn.BatchNorm2d(32),\n",
        "#         nn.Dropout(drop_out_value)\n",
        "#         )\n",
        "      \n",
        "#       # TRANSITION BLOCK 3\n",
        "#       # STRIDED CONVOLUTION LAYER\n",
        "#       self.transitionblock3 = nn.Sequential(\n",
        "#         nn.Conv2d(32,32,3,stride=2,padding=1), # In-32x6x6 , Out-32x3x3 , RF- 45x45, Jump_in -4, Jump_out -8\n",
        "#         nn.ReLU(),\n",
        "#         nn.BatchNorm2d(32),\n",
        "#         nn.Dropout(drop_out_value)\n",
        "#         )   \n",
        "\n",
        "#       # CONV BLOCK 4\n",
        "#       # Depthwise Separable Convolution Layer\n",
        "#       self.convblock4 = nn.Sequential(\n",
        "#         nn.Conv2d(32,32,3,padding=1), # In- 32x3x3, Out-32x3x3 , RF- 61x61, Jump_in -8, Jump_out -8\n",
        "#         nn.ReLU(),\n",
        "#         nn.BatchNorm2d(32),\n",
        "#         nn.Dropout(drop_out_value)\n",
        "#         ,\n",
        "#         nn.Conv2d(32,32,3,padding=1,groups=32), # In-32x3x3 , Out-32x3x3 , RF- 77x77, Jump_in -8, Jump_out -8\n",
        "#         nn.Conv2d(32,10,1,padding=0) # In- 32x3x3, Out-10x3x3 , RF- 77x77, Jump_in -8, Jump_out -8\n",
        "#         # , \n",
        "#         # nn.ReLU(),\n",
        "#         # nn.BatchNorm2d(10),\n",
        "#         # nn.Dropout(drop_out_value)\n",
        "#         )\n",
        "      \n",
        "#       # Output BLOCK \n",
        "#       # GAP Layer\n",
        "#       self.gap = nn.AvgPool2d(3) # In- 10x3x3, Out-10x1x1 , RF- 77x77, Jump_in -8, Jump_out -8\n",
        "\n",
        "\n",
        "#     def forward(self, x):\n",
        "#       x = self.convblock_input(x)\n",
        "#       x = self.convblock1(x)\n",
        "#       x = self.transitionblock1(x)\n",
        "#       x = self.convblock2(x)\n",
        "#       x = self.transitionblock2(x)\n",
        "#       x = self.convblock3(x)\n",
        "#       x = self.transitionblock3(x)\n",
        "#       x = self.convblock4(x)\n",
        "#       x = self.gap(x)\n",
        "\n",
        "#       x = x.view(-1, 10)\n",
        "\n",
        "#       return F.log_softmax(x, dim=1)"
      ],
      "execution_count": 9,
      "outputs": []
    },
    {
      "cell_type": "markdown",
      "metadata": {
        "id": "9DkzYiAIfew_"
      },
      "source": [
        "#### Model Params\n",
        "Checking the model summary and number of parameters\n"
      ]
    },
    {
      "cell_type": "code",
      "metadata": {
        "colab": {
          "base_uri": "https://localhost:8080/"
        },
        "id": "u7cA9WW3fg4-",
        "outputId": "caae13ae-f921-43cf-80fe-11ce8f7d3856"
      },
      "source": [
        "device = torch.device(\"cuda\" if cuda else \"cpu\")\n",
        "print(device)\n",
        "\n",
        "model = Network().to(device)\n",
        "# print(model)\n",
        "\n",
        "# !pip install torchsummary\n",
        "from torchsummary import summary # for model summary and params\n",
        "summary(model, input_size=(3, 32, 32))\n"
      ],
      "execution_count": 10,
      "outputs": [
        {
          "output_type": "stream",
          "name": "stdout",
          "text": [
            "cuda\n",
            "----------------------------------------------------------------\n",
            "        Layer (type)               Output Shape         Param #\n",
            "================================================================\n",
            "            Conv2d-1           [-1, 32, 32, 32]             896\n",
            "              ReLU-2           [-1, 32, 32, 32]               0\n",
            "       BatchNorm2d-3           [-1, 32, 32, 32]              64\n",
            "           Dropout-4           [-1, 32, 32, 32]               0\n",
            "            Conv2d-5           [-1, 32, 32, 32]           9,248\n",
            "              ReLU-6           [-1, 32, 32, 32]               0\n",
            "       BatchNorm2d-7           [-1, 32, 32, 32]              64\n",
            "           Dropout-8           [-1, 32, 32, 32]               0\n",
            "            Conv2d-9           [-1, 32, 32, 32]           9,248\n",
            "             ReLU-10           [-1, 32, 32, 32]               0\n",
            "      BatchNorm2d-11           [-1, 32, 32, 32]              64\n",
            "          Dropout-12           [-1, 32, 32, 32]               0\n",
            "           Conv2d-13           [-1, 32, 16, 16]           9,248\n",
            "             ReLU-14           [-1, 32, 16, 16]               0\n",
            "      BatchNorm2d-15           [-1, 32, 16, 16]              64\n",
            "          Dropout-16           [-1, 32, 16, 16]               0\n",
            "           Conv2d-17           [-1, 32, 16, 16]             320\n",
            "           Conv2d-18           [-1, 32, 16, 16]           1,056\n",
            "             ReLU-19           [-1, 32, 16, 16]               0\n",
            "      BatchNorm2d-20           [-1, 32, 16, 16]              64\n",
            "          Dropout-21           [-1, 32, 16, 16]               0\n",
            "           Conv2d-22           [-1, 32, 16, 16]           9,248\n",
            "             ReLU-23           [-1, 32, 16, 16]               0\n",
            "      BatchNorm2d-24           [-1, 32, 16, 16]              64\n",
            "          Dropout-25           [-1, 32, 16, 16]               0\n",
            "           Conv2d-26             [-1, 32, 8, 8]           9,248\n",
            "             ReLU-27             [-1, 32, 8, 8]               0\n",
            "      BatchNorm2d-28             [-1, 32, 8, 8]              64\n",
            "          Dropout-29             [-1, 32, 8, 8]               0\n",
            "           Conv2d-30             [-1, 32, 6, 6]           9,248\n",
            "             ReLU-31             [-1, 32, 6, 6]               0\n",
            "      BatchNorm2d-32             [-1, 32, 6, 6]              64\n",
            "          Dropout-33             [-1, 32, 6, 6]               0\n",
            "           Conv2d-34             [-1, 32, 6, 6]           9,248\n",
            "             ReLU-35             [-1, 32, 6, 6]               0\n",
            "      BatchNorm2d-36             [-1, 32, 6, 6]              64\n",
            "          Dropout-37             [-1, 32, 6, 6]               0\n",
            "           Conv2d-38             [-1, 32, 3, 3]           9,248\n",
            "             ReLU-39             [-1, 32, 3, 3]               0\n",
            "      BatchNorm2d-40             [-1, 32, 3, 3]              64\n",
            "          Dropout-41             [-1, 32, 3, 3]               0\n",
            "           Conv2d-42             [-1, 32, 3, 3]           9,248\n",
            "             ReLU-43             [-1, 32, 3, 3]               0\n",
            "      BatchNorm2d-44             [-1, 32, 3, 3]              64\n",
            "          Dropout-45             [-1, 32, 3, 3]               0\n",
            "           Conv2d-46             [-1, 32, 3, 3]             320\n",
            "           Conv2d-47             [-1, 10, 3, 3]             330\n",
            "        AvgPool2d-48             [-1, 10, 1, 1]               0\n",
            "================================================================\n",
            "Total params: 86,858\n",
            "Trainable params: 86,858\n",
            "Non-trainable params: 0\n",
            "----------------------------------------------------------------\n",
            "Input size (MB): 0.01\n",
            "Forward/backward pass size (MB): 3.97\n",
            "Params size (MB): 0.33\n",
            "Estimated Total Size (MB): 4.31\n",
            "----------------------------------------------------------------\n"
          ]
        }
      ]
    },
    {
      "cell_type": "markdown",
      "metadata": {
        "id": "pouboG2BMHqY"
      },
      "source": [
        "### 3. Training and Testing\n",
        "\n",
        "*   includes test and train functions\n",
        "*   includes loop function, where test can happen after each epoch is trained"
      ]
    },
    {
      "cell_type": "code",
      "metadata": {
        "id": "M4xBbDROpoCv"
      },
      "source": [
        "import torch.optim as optim # for optimizer\n",
        "\n",
        "\n",
        "criterion = nn.CrossEntropyLoss()\n",
        "optimizer = optim.SGD(model.parameters(), lr=0.001, momentum=0.9)"
      ],
      "execution_count": 11,
      "outputs": []
    },
    {
      "cell_type": "code",
      "metadata": {
        "id": "8g7yD5z_OLbL"
      },
      "source": [
        "# Training Function\n",
        "train_losses = [] # to capture train losses over training epochs\n",
        "train_accuracy = [] # to capture train accuracy over training epochs\n",
        "\n",
        "def train(model,device, train_loader,optimizer,epoch):\n",
        "  model.train() # setting the model in training \n",
        "  pbar = tqdm(train_loader) # putting the iterator in pbar\n",
        "  correct = 0 # for accuracy numerator\n",
        "  processed =0 # for accuracy denominator\n",
        "\n",
        "  for batch_idx, (images,labels) in enumerate(pbar):\n",
        "    images, labels = images.to(device),labels.to(device)#sending data to CPU or GPU as per device\n",
        "    optimizer.zero_grad() # setting gradients to zero to avoid accumulation\n",
        "\n",
        "    y_preds = model(images) # forward pass, result captured in y_preds (plural as there are many images in a batch)\n",
        "    # the predictions are in one hot vector\n",
        "\n",
        "    loss = criterion(y_preds,labels) # capturing loss\n",
        "\n",
        "    train_losses.append(loss) # to capture loss over many epochs\n",
        "\n",
        "    loss.backward() # backpropagation\n",
        "    optimizer.step() # updating the params\n",
        "\n",
        "    preds = y_preds.argmax(dim=1, keepdim=True)  # get the index of the max log-probability\n",
        "    correct += preds.eq(labels.view_as(preds)).sum().item()\n",
        "    processed += len(images)\n",
        "\n",
        "\n",
        "    pbar.set_description(desc= f'Loss={loss.item()} Batch_id={batch_idx} Accuracy={100*correct/processed:0.2f}')\n",
        "\n",
        "    train_accuracy.append(100*correct/processed)"
      ],
      "execution_count": 12,
      "outputs": []
    },
    {
      "cell_type": "code",
      "metadata": {
        "id": "V7ID3S6tOw10"
      },
      "source": [
        "# Test Function\n",
        "test_losses = [] # to capture test losses \n",
        "test_accuracy = [] # to capture test accuracy \n",
        "\n",
        "def test(model,device, test_loader):\n",
        "  model.eval() # setting the model in evaluation mode\n",
        "  test_loss = 0\n",
        "  correct = 0 # for accuracy numerator\n",
        "\n",
        "  with torch.no_grad():\n",
        "    for (images,labels) in test_loader:\n",
        "      images, labels = images.to(device),labels.to(device)#sending data to CPU or GPU as per device\n",
        "      outputs = model(images) # forward pass, result captured in outputs (plural as there are many images in a batch)\n",
        "      # the outputs are in batch size x one hot vector \n",
        "\n",
        "      test_loss = criterion(outputs,labels).item()  # sum up batch loss\n",
        "      preds = outputs.argmax(dim=1, keepdim=True)  # get the index of the max log-probability\n",
        "      correct += preds.eq(labels.view_as(preds)).sum().item()\n",
        "\n",
        "    test_loss /= len(test_loader.dataset) # average test loss\n",
        "    test_losses.append(test_loss) # to capture loss over many batches\n",
        "\n",
        "    print('\\nTest set: Average loss: {:.4f}, Accuracy: {}/{} ({:.2f}%)\\n'.format(\n",
        "    test_loss, correct, len(test_loader.dataset),\n",
        "    100. * correct / len(test_loader.dataset)))\n",
        "\n",
        "    test_accuracy.append(100*correct/len(test_loader.dataset))"
      ],
      "execution_count": 13,
      "outputs": []
    },
    {
      "cell_type": "code",
      "metadata": {
        "colab": {
          "base_uri": "https://localhost:8080/"
        },
        "id": "CAEL54QePXFI",
        "outputId": "8dae2b11-f561-4842-cf6b-7b36493f15b9"
      },
      "source": [
        "EPOCHS = 170\n",
        "# EPOCHS = 2\n",
        "\n",
        "for epoch in range(EPOCHS):\n",
        "    print(\"EPOCH:\", epoch+1)\n",
        "    train(model, device, trainloader, optimizer, epoch)\n",
        "    test(model, device, testloader)\n",
        "\n"
      ],
      "execution_count": 14,
      "outputs": [
        {
          "output_type": "stream",
          "name": "stdout",
          "text": [
            "EPOCH: 1\n"
          ]
        },
        {
          "output_type": "stream",
          "name": "stderr",
          "text": [
            "Loss=2.1100752353668213 Batch_id=390 Accuracy=15.57: 100%|██████████| 391/391 [00:36<00:00, 10.64it/s]\n"
          ]
        },
        {
          "output_type": "stream",
          "name": "stdout",
          "text": [
            "\n",
            "Test set: Average loss: 0.0002, Accuracy: 2135/10000 (21.35%)\n",
            "\n",
            "EPOCH: 2\n"
          ]
        },
        {
          "output_type": "stream",
          "name": "stderr",
          "text": [
            "Loss=1.8324930667877197 Batch_id=390 Accuracy=26.62: 100%|██████████| 391/391 [00:33<00:00, 11.77it/s]\n"
          ]
        },
        {
          "output_type": "stream",
          "name": "stdout",
          "text": [
            "\n",
            "Test set: Average loss: 0.0002, Accuracy: 2867/10000 (28.67%)\n",
            "\n",
            "EPOCH: 3\n"
          ]
        },
        {
          "output_type": "stream",
          "name": "stderr",
          "text": [
            "Loss=1.7296664714813232 Batch_id=390 Accuracy=34.42: 100%|██████████| 391/391 [00:35<00:00, 10.87it/s]\n"
          ]
        },
        {
          "output_type": "stream",
          "name": "stdout",
          "text": [
            "\n",
            "Test set: Average loss: 0.0002, Accuracy: 3922/10000 (39.22%)\n",
            "\n",
            "EPOCH: 4\n"
          ]
        },
        {
          "output_type": "stream",
          "name": "stderr",
          "text": [
            "Loss=1.6016744375228882 Batch_id=390 Accuracy=40.23: 100%|██████████| 391/391 [00:33<00:00, 11.73it/s]\n"
          ]
        },
        {
          "output_type": "stream",
          "name": "stdout",
          "text": [
            "\n",
            "Test set: Average loss: 0.0001, Accuracy: 4684/10000 (46.84%)\n",
            "\n",
            "EPOCH: 5\n"
          ]
        },
        {
          "output_type": "stream",
          "name": "stderr",
          "text": [
            "Loss=1.5826642513275146 Batch_id=390 Accuracy=44.55: 100%|██████████| 391/391 [00:36<00:00, 10.77it/s]\n"
          ]
        },
        {
          "output_type": "stream",
          "name": "stdout",
          "text": [
            "\n",
            "Test set: Average loss: 0.0001, Accuracy: 4981/10000 (49.81%)\n",
            "\n",
            "EPOCH: 6\n"
          ]
        },
        {
          "output_type": "stream",
          "name": "stderr",
          "text": [
            "Loss=1.3019081354141235 Batch_id=390 Accuracy=48.26: 100%|██████████| 391/391 [00:33<00:00, 11.76it/s]\n"
          ]
        },
        {
          "output_type": "stream",
          "name": "stdout",
          "text": [
            "\n",
            "Test set: Average loss: 0.0001, Accuracy: 5567/10000 (55.67%)\n",
            "\n",
            "EPOCH: 7\n"
          ]
        },
        {
          "output_type": "stream",
          "name": "stderr",
          "text": [
            "Loss=1.336268424987793 Batch_id=390 Accuracy=51.87: 100%|██████████| 391/391 [00:36<00:00, 10.82it/s]\n"
          ]
        },
        {
          "output_type": "stream",
          "name": "stdout",
          "text": [
            "\n",
            "Test set: Average loss: 0.0001, Accuracy: 5896/10000 (58.96%)\n",
            "\n",
            "EPOCH: 8\n"
          ]
        },
        {
          "output_type": "stream",
          "name": "stderr",
          "text": [
            "Loss=1.2847288846969604 Batch_id=390 Accuracy=54.57: 100%|██████████| 391/391 [00:33<00:00, 11.72it/s]\n"
          ]
        },
        {
          "output_type": "stream",
          "name": "stdout",
          "text": [
            "\n",
            "Test set: Average loss: 0.0001, Accuracy: 6091/10000 (60.91%)\n",
            "\n",
            "EPOCH: 9\n"
          ]
        },
        {
          "output_type": "stream",
          "name": "stderr",
          "text": [
            "Loss=0.9921624064445496 Batch_id=390 Accuracy=57.31: 100%|██████████| 391/391 [00:36<00:00, 10.75it/s]\n"
          ]
        },
        {
          "output_type": "stream",
          "name": "stdout",
          "text": [
            "\n",
            "Test set: Average loss: 0.0001, Accuracy: 6380/10000 (63.80%)\n",
            "\n",
            "EPOCH: 10\n"
          ]
        },
        {
          "output_type": "stream",
          "name": "stderr",
          "text": [
            "Loss=1.1241079568862915 Batch_id=390 Accuracy=58.72: 100%|██████████| 391/391 [00:33<00:00, 11.74it/s]\n"
          ]
        },
        {
          "output_type": "stream",
          "name": "stdout",
          "text": [
            "\n",
            "Test set: Average loss: 0.0001, Accuracy: 6446/10000 (64.46%)\n",
            "\n",
            "EPOCH: 11\n"
          ]
        },
        {
          "output_type": "stream",
          "name": "stderr",
          "text": [
            "Loss=0.9309322237968445 Batch_id=390 Accuracy=60.41: 100%|██████████| 391/391 [00:36<00:00, 10.83it/s]\n"
          ]
        },
        {
          "output_type": "stream",
          "name": "stdout",
          "text": [
            "\n",
            "Test set: Average loss: 0.0001, Accuracy: 6594/10000 (65.94%)\n",
            "\n",
            "EPOCH: 12\n"
          ]
        },
        {
          "output_type": "stream",
          "name": "stderr",
          "text": [
            "Loss=1.0961602926254272 Batch_id=390 Accuracy=61.42: 100%|██████████| 391/391 [00:33<00:00, 11.73it/s]\n"
          ]
        },
        {
          "output_type": "stream",
          "name": "stdout",
          "text": [
            "\n",
            "Test set: Average loss: 0.0001, Accuracy: 6690/10000 (66.90%)\n",
            "\n",
            "EPOCH: 13\n"
          ]
        },
        {
          "output_type": "stream",
          "name": "stderr",
          "text": [
            "Loss=0.9292014241218567 Batch_id=390 Accuracy=62.80: 100%|██████████| 391/391 [00:36<00:00, 10.74it/s]\n"
          ]
        },
        {
          "output_type": "stream",
          "name": "stdout",
          "text": [
            "\n",
            "Test set: Average loss: 0.0001, Accuracy: 6910/10000 (69.10%)\n",
            "\n",
            "EPOCH: 14\n"
          ]
        },
        {
          "output_type": "stream",
          "name": "stderr",
          "text": [
            "Loss=1.0487982034683228 Batch_id=390 Accuracy=63.66: 100%|██████████| 391/391 [00:33<00:00, 11.74it/s]\n"
          ]
        },
        {
          "output_type": "stream",
          "name": "stdout",
          "text": [
            "\n",
            "Test set: Average loss: 0.0001, Accuracy: 6948/10000 (69.48%)\n",
            "\n",
            "EPOCH: 15\n"
          ]
        },
        {
          "output_type": "stream",
          "name": "stderr",
          "text": [
            "Loss=1.0363919734954834 Batch_id=390 Accuracy=64.78: 100%|██████████| 391/391 [00:36<00:00, 10.83it/s]\n"
          ]
        },
        {
          "output_type": "stream",
          "name": "stdout",
          "text": [
            "\n",
            "Test set: Average loss: 0.0001, Accuracy: 6959/10000 (69.59%)\n",
            "\n",
            "EPOCH: 16\n"
          ]
        },
        {
          "output_type": "stream",
          "name": "stderr",
          "text": [
            "Loss=1.011906623840332 Batch_id=390 Accuracy=65.89: 100%|██████████| 391/391 [00:33<00:00, 11.71it/s]\n"
          ]
        },
        {
          "output_type": "stream",
          "name": "stdout",
          "text": [
            "\n",
            "Test set: Average loss: 0.0001, Accuracy: 7170/10000 (71.70%)\n",
            "\n",
            "EPOCH: 17\n"
          ]
        },
        {
          "output_type": "stream",
          "name": "stderr",
          "text": [
            "Loss=0.85759037733078 Batch_id=390 Accuracy=66.31: 100%|██████████| 391/391 [00:36<00:00, 10.74it/s]\n"
          ]
        },
        {
          "output_type": "stream",
          "name": "stdout",
          "text": [
            "\n",
            "Test set: Average loss: 0.0001, Accuracy: 7200/10000 (72.00%)\n",
            "\n",
            "EPOCH: 18\n"
          ]
        },
        {
          "output_type": "stream",
          "name": "stderr",
          "text": [
            "Loss=0.9063647389411926 Batch_id=390 Accuracy=67.42: 100%|██████████| 391/391 [00:33<00:00, 11.72it/s]\n"
          ]
        },
        {
          "output_type": "stream",
          "name": "stdout",
          "text": [
            "\n",
            "Test set: Average loss: 0.0001, Accuracy: 7363/10000 (73.63%)\n",
            "\n",
            "EPOCH: 19\n"
          ]
        },
        {
          "output_type": "stream",
          "name": "stderr",
          "text": [
            "Loss=0.8322809934616089 Batch_id=390 Accuracy=68.34: 100%|██████████| 391/391 [00:36<00:00, 10.83it/s]\n"
          ]
        },
        {
          "output_type": "stream",
          "name": "stdout",
          "text": [
            "\n",
            "Test set: Average loss: 0.0001, Accuracy: 7367/10000 (73.67%)\n",
            "\n",
            "EPOCH: 20\n"
          ]
        },
        {
          "output_type": "stream",
          "name": "stderr",
          "text": [
            "Loss=1.085662603378296 Batch_id=390 Accuracy=69.01: 100%|██████████| 391/391 [00:33<00:00, 11.68it/s]\n"
          ]
        },
        {
          "output_type": "stream",
          "name": "stdout",
          "text": [
            "\n",
            "Test set: Average loss: 0.0001, Accuracy: 7457/10000 (74.57%)\n",
            "\n",
            "EPOCH: 21\n"
          ]
        },
        {
          "output_type": "stream",
          "name": "stderr",
          "text": [
            "Loss=0.8981949687004089 Batch_id=390 Accuracy=69.48: 100%|██████████| 391/391 [00:36<00:00, 10.71it/s]\n"
          ]
        },
        {
          "output_type": "stream",
          "name": "stdout",
          "text": [
            "\n",
            "Test set: Average loss: 0.0001, Accuracy: 7543/10000 (75.43%)\n",
            "\n",
            "EPOCH: 22\n"
          ]
        },
        {
          "output_type": "stream",
          "name": "stderr",
          "text": [
            "Loss=1.0171573162078857 Batch_id=390 Accuracy=70.23: 100%|██████████| 391/391 [00:33<00:00, 11.71it/s]\n"
          ]
        },
        {
          "output_type": "stream",
          "name": "stdout",
          "text": [
            "\n",
            "Test set: Average loss: 0.0001, Accuracy: 7683/10000 (76.83%)\n",
            "\n",
            "EPOCH: 23\n"
          ]
        },
        {
          "output_type": "stream",
          "name": "stderr",
          "text": [
            "Loss=0.993607223033905 Batch_id=390 Accuracy=70.53: 100%|██████████| 391/391 [00:36<00:00, 10.81it/s]\n"
          ]
        },
        {
          "output_type": "stream",
          "name": "stdout",
          "text": [
            "\n",
            "Test set: Average loss: 0.0001, Accuracy: 7674/10000 (76.74%)\n",
            "\n",
            "EPOCH: 24\n"
          ]
        },
        {
          "output_type": "stream",
          "name": "stderr",
          "text": [
            "Loss=0.7843819856643677 Batch_id=390 Accuracy=71.13: 100%|██████████| 391/391 [00:33<00:00, 11.71it/s]\n"
          ]
        },
        {
          "output_type": "stream",
          "name": "stdout",
          "text": [
            "\n",
            "Test set: Average loss: 0.0001, Accuracy: 7755/10000 (77.55%)\n",
            "\n",
            "EPOCH: 25\n"
          ]
        },
        {
          "output_type": "stream",
          "name": "stderr",
          "text": [
            "Loss=0.8446677327156067 Batch_id=390 Accuracy=71.65: 100%|██████████| 391/391 [00:36<00:00, 10.69it/s]\n"
          ]
        },
        {
          "output_type": "stream",
          "name": "stdout",
          "text": [
            "\n",
            "Test set: Average loss: 0.0001, Accuracy: 7727/10000 (77.27%)\n",
            "\n",
            "EPOCH: 26\n"
          ]
        },
        {
          "output_type": "stream",
          "name": "stderr",
          "text": [
            "Loss=0.8647769689559937 Batch_id=390 Accuracy=72.07: 100%|██████████| 391/391 [00:33<00:00, 11.71it/s]\n"
          ]
        },
        {
          "output_type": "stream",
          "name": "stdout",
          "text": [
            "\n",
            "Test set: Average loss: 0.0001, Accuracy: 7757/10000 (77.57%)\n",
            "\n",
            "EPOCH: 27\n"
          ]
        },
        {
          "output_type": "stream",
          "name": "stderr",
          "text": [
            "Loss=1.000710368156433 Batch_id=390 Accuracy=72.30: 100%|██████████| 391/391 [00:36<00:00, 10.81it/s]\n"
          ]
        },
        {
          "output_type": "stream",
          "name": "stdout",
          "text": [
            "\n",
            "Test set: Average loss: 0.0001, Accuracy: 7754/10000 (77.54%)\n",
            "\n",
            "EPOCH: 28\n"
          ]
        },
        {
          "output_type": "stream",
          "name": "stderr",
          "text": [
            "Loss=0.8049702644348145 Batch_id=390 Accuracy=72.86: 100%|██████████| 391/391 [00:33<00:00, 11.70it/s]\n"
          ]
        },
        {
          "output_type": "stream",
          "name": "stdout",
          "text": [
            "\n",
            "Test set: Average loss: 0.0001, Accuracy: 7834/10000 (78.34%)\n",
            "\n",
            "EPOCH: 29\n"
          ]
        },
        {
          "output_type": "stream",
          "name": "stderr",
          "text": [
            "Loss=0.7531301379203796 Batch_id=390 Accuracy=73.28: 100%|██████████| 391/391 [00:36<00:00, 10.69it/s]\n"
          ]
        },
        {
          "output_type": "stream",
          "name": "stdout",
          "text": [
            "\n",
            "Test set: Average loss: 0.0001, Accuracy: 7832/10000 (78.32%)\n",
            "\n",
            "EPOCH: 30\n"
          ]
        },
        {
          "output_type": "stream",
          "name": "stderr",
          "text": [
            "Loss=0.8484224081039429 Batch_id=390 Accuracy=73.34: 100%|██████████| 391/391 [00:33<00:00, 11.73it/s]\n"
          ]
        },
        {
          "output_type": "stream",
          "name": "stdout",
          "text": [
            "\n",
            "Test set: Average loss: 0.0001, Accuracy: 7945/10000 (79.45%)\n",
            "\n",
            "EPOCH: 31\n"
          ]
        },
        {
          "output_type": "stream",
          "name": "stderr",
          "text": [
            "Loss=0.6763149499893188 Batch_id=390 Accuracy=73.69: 100%|██████████| 391/391 [00:36<00:00, 10.82it/s]\n"
          ]
        },
        {
          "output_type": "stream",
          "name": "stdout",
          "text": [
            "\n",
            "Test set: Average loss: 0.0001, Accuracy: 7901/10000 (79.01%)\n",
            "\n",
            "EPOCH: 32\n"
          ]
        },
        {
          "output_type": "stream",
          "name": "stderr",
          "text": [
            "Loss=0.9467731714248657 Batch_id=390 Accuracy=74.38: 100%|██████████| 391/391 [00:33<00:00, 11.69it/s]\n"
          ]
        },
        {
          "output_type": "stream",
          "name": "stdout",
          "text": [
            "\n",
            "Test set: Average loss: 0.0001, Accuracy: 7946/10000 (79.46%)\n",
            "\n",
            "EPOCH: 33\n"
          ]
        },
        {
          "output_type": "stream",
          "name": "stderr",
          "text": [
            "Loss=0.777999997138977 Batch_id=390 Accuracy=74.33: 100%|██████████| 391/391 [00:36<00:00, 10.71it/s]\n"
          ]
        },
        {
          "output_type": "stream",
          "name": "stdout",
          "text": [
            "\n",
            "Test set: Average loss: 0.0001, Accuracy: 8008/10000 (80.08%)\n",
            "\n",
            "EPOCH: 34\n"
          ]
        },
        {
          "output_type": "stream",
          "name": "stderr",
          "text": [
            "Loss=0.6753572225570679 Batch_id=390 Accuracy=74.47: 100%|██████████| 391/391 [00:33<00:00, 11.74it/s]\n"
          ]
        },
        {
          "output_type": "stream",
          "name": "stdout",
          "text": [
            "\n",
            "Test set: Average loss: 0.0001, Accuracy: 8006/10000 (80.06%)\n",
            "\n",
            "EPOCH: 35\n"
          ]
        },
        {
          "output_type": "stream",
          "name": "stderr",
          "text": [
            "Loss=0.7588441967964172 Batch_id=390 Accuracy=74.71: 100%|██████████| 391/391 [00:36<00:00, 10.80it/s]\n"
          ]
        },
        {
          "output_type": "stream",
          "name": "stdout",
          "text": [
            "\n",
            "Test set: Average loss: 0.0001, Accuracy: 8014/10000 (80.14%)\n",
            "\n",
            "EPOCH: 36\n"
          ]
        },
        {
          "output_type": "stream",
          "name": "stderr",
          "text": [
            "Loss=0.8721492886543274 Batch_id=390 Accuracy=74.86: 100%|██████████| 391/391 [00:33<00:00, 11.67it/s]\n"
          ]
        },
        {
          "output_type": "stream",
          "name": "stdout",
          "text": [
            "\n",
            "Test set: Average loss: 0.0000, Accuracy: 8010/10000 (80.10%)\n",
            "\n",
            "EPOCH: 37\n"
          ]
        },
        {
          "output_type": "stream",
          "name": "stderr",
          "text": [
            "Loss=0.9127933382987976 Batch_id=390 Accuracy=75.02: 100%|██████████| 391/391 [00:36<00:00, 10.71it/s]\n"
          ]
        },
        {
          "output_type": "stream",
          "name": "stdout",
          "text": [
            "\n",
            "Test set: Average loss: 0.0001, Accuracy: 8044/10000 (80.44%)\n",
            "\n",
            "EPOCH: 38\n"
          ]
        },
        {
          "output_type": "stream",
          "name": "stderr",
          "text": [
            "Loss=0.5404258966445923 Batch_id=390 Accuracy=75.53: 100%|██████████| 391/391 [00:33<00:00, 11.68it/s]\n"
          ]
        },
        {
          "output_type": "stream",
          "name": "stdout",
          "text": [
            "\n",
            "Test set: Average loss: 0.0001, Accuracy: 8046/10000 (80.46%)\n",
            "\n",
            "EPOCH: 39\n"
          ]
        },
        {
          "output_type": "stream",
          "name": "stderr",
          "text": [
            "Loss=0.5940162539482117 Batch_id=390 Accuracy=75.65: 100%|██████████| 391/391 [00:36<00:00, 10.77it/s]\n"
          ]
        },
        {
          "output_type": "stream",
          "name": "stdout",
          "text": [
            "\n",
            "Test set: Average loss: 0.0001, Accuracy: 8043/10000 (80.43%)\n",
            "\n",
            "EPOCH: 40\n"
          ]
        },
        {
          "output_type": "stream",
          "name": "stderr",
          "text": [
            "Loss=0.6228832006454468 Batch_id=390 Accuracy=75.98: 100%|██████████| 391/391 [00:33<00:00, 11.70it/s]\n"
          ]
        },
        {
          "output_type": "stream",
          "name": "stdout",
          "text": [
            "\n",
            "Test set: Average loss: 0.0001, Accuracy: 8095/10000 (80.95%)\n",
            "\n",
            "EPOCH: 41\n"
          ]
        },
        {
          "output_type": "stream",
          "name": "stderr",
          "text": [
            "Loss=0.7573458552360535 Batch_id=390 Accuracy=76.13: 100%|██████████| 391/391 [00:36<00:00, 10.71it/s]\n"
          ]
        },
        {
          "output_type": "stream",
          "name": "stdout",
          "text": [
            "\n",
            "Test set: Average loss: 0.0001, Accuracy: 8110/10000 (81.10%)\n",
            "\n",
            "EPOCH: 42\n"
          ]
        },
        {
          "output_type": "stream",
          "name": "stderr",
          "text": [
            "Loss=0.7448878884315491 Batch_id=390 Accuracy=76.15: 100%|██████████| 391/391 [00:33<00:00, 11.71it/s]\n"
          ]
        },
        {
          "output_type": "stream",
          "name": "stdout",
          "text": [
            "\n",
            "Test set: Average loss: 0.0001, Accuracy: 8070/10000 (80.70%)\n",
            "\n",
            "EPOCH: 43\n"
          ]
        },
        {
          "output_type": "stream",
          "name": "stderr",
          "text": [
            "Loss=0.8797130584716797 Batch_id=390 Accuracy=76.23: 100%|██████████| 391/391 [00:36<00:00, 10.79it/s]\n"
          ]
        },
        {
          "output_type": "stream",
          "name": "stdout",
          "text": [
            "\n",
            "Test set: Average loss: 0.0001, Accuracy: 8150/10000 (81.50%)\n",
            "\n",
            "EPOCH: 44\n"
          ]
        },
        {
          "output_type": "stream",
          "name": "stderr",
          "text": [
            "Loss=0.8369450569152832 Batch_id=390 Accuracy=76.54: 100%|██████████| 391/391 [00:33<00:00, 11.67it/s]\n"
          ]
        },
        {
          "output_type": "stream",
          "name": "stdout",
          "text": [
            "\n",
            "Test set: Average loss: 0.0000, Accuracy: 8151/10000 (81.51%)\n",
            "\n",
            "EPOCH: 45\n"
          ]
        },
        {
          "output_type": "stream",
          "name": "stderr",
          "text": [
            "Loss=0.8896807432174683 Batch_id=390 Accuracy=76.67: 100%|██████████| 391/391 [00:36<00:00, 10.70it/s]\n"
          ]
        },
        {
          "output_type": "stream",
          "name": "stdout",
          "text": [
            "\n",
            "Test set: Average loss: 0.0001, Accuracy: 8142/10000 (81.42%)\n",
            "\n",
            "EPOCH: 46\n"
          ]
        },
        {
          "output_type": "stream",
          "name": "stderr",
          "text": [
            "Loss=0.7911389470100403 Batch_id=390 Accuracy=77.00: 100%|██████████| 391/391 [00:33<00:00, 11.68it/s]\n"
          ]
        },
        {
          "output_type": "stream",
          "name": "stdout",
          "text": [
            "\n",
            "Test set: Average loss: 0.0001, Accuracy: 8170/10000 (81.70%)\n",
            "\n",
            "EPOCH: 47\n"
          ]
        },
        {
          "output_type": "stream",
          "name": "stderr",
          "text": [
            "Loss=0.6688029170036316 Batch_id=390 Accuracy=76.87: 100%|██████████| 391/391 [00:36<00:00, 10.78it/s]\n"
          ]
        },
        {
          "output_type": "stream",
          "name": "stdout",
          "text": [
            "\n",
            "Test set: Average loss: 0.0001, Accuracy: 8209/10000 (82.09%)\n",
            "\n",
            "EPOCH: 48\n"
          ]
        },
        {
          "output_type": "stream",
          "name": "stderr",
          "text": [
            "Loss=0.6459117531776428 Batch_id=390 Accuracy=77.27: 100%|██████████| 391/391 [00:33<00:00, 11.68it/s]\n"
          ]
        },
        {
          "output_type": "stream",
          "name": "stdout",
          "text": [
            "\n",
            "Test set: Average loss: 0.0000, Accuracy: 8228/10000 (82.28%)\n",
            "\n",
            "EPOCH: 49\n"
          ]
        },
        {
          "output_type": "stream",
          "name": "stderr",
          "text": [
            "Loss=0.5098927617073059 Batch_id=390 Accuracy=77.46: 100%|██████████| 391/391 [00:36<00:00, 10.70it/s]\n"
          ]
        },
        {
          "output_type": "stream",
          "name": "stdout",
          "text": [
            "\n",
            "Test set: Average loss: 0.0001, Accuracy: 8172/10000 (81.72%)\n",
            "\n",
            "EPOCH: 50\n"
          ]
        },
        {
          "output_type": "stream",
          "name": "stderr",
          "text": [
            "Loss=0.6137790679931641 Batch_id=390 Accuracy=77.11: 100%|██████████| 391/391 [00:33<00:00, 11.71it/s]\n"
          ]
        },
        {
          "output_type": "stream",
          "name": "stdout",
          "text": [
            "\n",
            "Test set: Average loss: 0.0000, Accuracy: 8210/10000 (82.10%)\n",
            "\n",
            "EPOCH: 51\n"
          ]
        },
        {
          "output_type": "stream",
          "name": "stderr",
          "text": [
            "Loss=0.8761876821517944 Batch_id=390 Accuracy=77.52: 100%|██████████| 391/391 [00:36<00:00, 10.79it/s]\n"
          ]
        },
        {
          "output_type": "stream",
          "name": "stdout",
          "text": [
            "\n",
            "Test set: Average loss: 0.0000, Accuracy: 8226/10000 (82.26%)\n",
            "\n",
            "EPOCH: 52\n"
          ]
        },
        {
          "output_type": "stream",
          "name": "stderr",
          "text": [
            "Loss=0.5521502494812012 Batch_id=390 Accuracy=77.48: 100%|██████████| 391/391 [00:33<00:00, 11.65it/s]\n"
          ]
        },
        {
          "output_type": "stream",
          "name": "stdout",
          "text": [
            "\n",
            "Test set: Average loss: 0.0001, Accuracy: 8257/10000 (82.57%)\n",
            "\n",
            "EPOCH: 53\n"
          ]
        },
        {
          "output_type": "stream",
          "name": "stderr",
          "text": [
            "Loss=0.6911195516586304 Batch_id=390 Accuracy=77.84: 100%|██████████| 391/391 [00:36<00:00, 10.65it/s]\n"
          ]
        },
        {
          "output_type": "stream",
          "name": "stdout",
          "text": [
            "\n",
            "Test set: Average loss: 0.0001, Accuracy: 8260/10000 (82.60%)\n",
            "\n",
            "EPOCH: 54\n"
          ]
        },
        {
          "output_type": "stream",
          "name": "stderr",
          "text": [
            "Loss=0.47639209032058716 Batch_id=390 Accuracy=78.29: 100%|██████████| 391/391 [00:33<00:00, 11.69it/s]\n"
          ]
        },
        {
          "output_type": "stream",
          "name": "stdout",
          "text": [
            "\n",
            "Test set: Average loss: 0.0000, Accuracy: 8303/10000 (83.03%)\n",
            "\n",
            "EPOCH: 55\n"
          ]
        },
        {
          "output_type": "stream",
          "name": "stderr",
          "text": [
            "Loss=0.5730563998222351 Batch_id=390 Accuracy=77.83: 100%|██████████| 391/391 [00:36<00:00, 10.77it/s]\n"
          ]
        },
        {
          "output_type": "stream",
          "name": "stdout",
          "text": [
            "\n",
            "Test set: Average loss: 0.0001, Accuracy: 8278/10000 (82.78%)\n",
            "\n",
            "EPOCH: 56\n"
          ]
        },
        {
          "output_type": "stream",
          "name": "stderr",
          "text": [
            "Loss=0.6849583983421326 Batch_id=390 Accuracy=78.18: 100%|██████████| 391/391 [00:33<00:00, 11.62it/s]\n"
          ]
        },
        {
          "output_type": "stream",
          "name": "stdout",
          "text": [
            "\n",
            "Test set: Average loss: 0.0000, Accuracy: 8272/10000 (82.72%)\n",
            "\n",
            "EPOCH: 57\n"
          ]
        },
        {
          "output_type": "stream",
          "name": "stderr",
          "text": [
            "Loss=0.5598973035812378 Batch_id=390 Accuracy=78.29: 100%|██████████| 391/391 [00:36<00:00, 10.68it/s]\n"
          ]
        },
        {
          "output_type": "stream",
          "name": "stdout",
          "text": [
            "\n",
            "Test set: Average loss: 0.0000, Accuracy: 8292/10000 (82.92%)\n",
            "\n",
            "EPOCH: 58\n"
          ]
        },
        {
          "output_type": "stream",
          "name": "stderr",
          "text": [
            "Loss=0.6233875751495361 Batch_id=390 Accuracy=78.12: 100%|██████████| 391/391 [00:33<00:00, 11.63it/s]\n"
          ]
        },
        {
          "output_type": "stream",
          "name": "stdout",
          "text": [
            "\n",
            "Test set: Average loss: 0.0000, Accuracy: 8329/10000 (83.29%)\n",
            "\n",
            "EPOCH: 59\n"
          ]
        },
        {
          "output_type": "stream",
          "name": "stderr",
          "text": [
            "Loss=0.4817434847354889 Batch_id=390 Accuracy=78.44: 100%|██████████| 391/391 [00:36<00:00, 10.75it/s]\n"
          ]
        },
        {
          "output_type": "stream",
          "name": "stdout",
          "text": [
            "\n",
            "Test set: Average loss: 0.0001, Accuracy: 8334/10000 (83.34%)\n",
            "\n",
            "EPOCH: 60\n"
          ]
        },
        {
          "output_type": "stream",
          "name": "stderr",
          "text": [
            "Loss=0.905829906463623 Batch_id=390 Accuracy=78.28: 100%|██████████| 391/391 [00:33<00:00, 11.61it/s]\n"
          ]
        },
        {
          "output_type": "stream",
          "name": "stdout",
          "text": [
            "\n",
            "Test set: Average loss: 0.0000, Accuracy: 8261/10000 (82.61%)\n",
            "\n",
            "EPOCH: 61\n"
          ]
        },
        {
          "output_type": "stream",
          "name": "stderr",
          "text": [
            "Loss=0.5338864922523499 Batch_id=390 Accuracy=78.44: 100%|██████████| 391/391 [00:36<00:00, 10.63it/s]\n"
          ]
        },
        {
          "output_type": "stream",
          "name": "stdout",
          "text": [
            "\n",
            "Test set: Average loss: 0.0000, Accuracy: 8297/10000 (82.97%)\n",
            "\n",
            "EPOCH: 62\n"
          ]
        },
        {
          "output_type": "stream",
          "name": "stderr",
          "text": [
            "Loss=0.6979466676712036 Batch_id=390 Accuracy=78.60: 100%|██████████| 391/391 [00:33<00:00, 11.63it/s]\n"
          ]
        },
        {
          "output_type": "stream",
          "name": "stdout",
          "text": [
            "\n",
            "Test set: Average loss: 0.0000, Accuracy: 8323/10000 (83.23%)\n",
            "\n",
            "EPOCH: 63\n"
          ]
        },
        {
          "output_type": "stream",
          "name": "stderr",
          "text": [
            "Loss=0.6289762258529663 Batch_id=390 Accuracy=78.82: 100%|██████████| 391/391 [00:36<00:00, 10.72it/s]\n"
          ]
        },
        {
          "output_type": "stream",
          "name": "stdout",
          "text": [
            "\n",
            "Test set: Average loss: 0.0000, Accuracy: 8351/10000 (83.51%)\n",
            "\n",
            "EPOCH: 64\n"
          ]
        },
        {
          "output_type": "stream",
          "name": "stderr",
          "text": [
            "Loss=0.5821845531463623 Batch_id=390 Accuracy=78.87: 100%|██████████| 391/391 [00:33<00:00, 11.61it/s]\n"
          ]
        },
        {
          "output_type": "stream",
          "name": "stdout",
          "text": [
            "\n",
            "Test set: Average loss: 0.0000, Accuracy: 8335/10000 (83.35%)\n",
            "\n",
            "EPOCH: 65\n"
          ]
        },
        {
          "output_type": "stream",
          "name": "stderr",
          "text": [
            "Loss=0.6272561550140381 Batch_id=390 Accuracy=78.62: 100%|██████████| 391/391 [00:36<00:00, 10.63it/s]\n"
          ]
        },
        {
          "output_type": "stream",
          "name": "stdout",
          "text": [
            "\n",
            "Test set: Average loss: 0.0000, Accuracy: 8311/10000 (83.11%)\n",
            "\n",
            "EPOCH: 66\n"
          ]
        },
        {
          "output_type": "stream",
          "name": "stderr",
          "text": [
            "Loss=0.5649338364601135 Batch_id=390 Accuracy=79.06: 100%|██████████| 391/391 [00:33<00:00, 11.61it/s]\n"
          ]
        },
        {
          "output_type": "stream",
          "name": "stdout",
          "text": [
            "\n",
            "Test set: Average loss: 0.0000, Accuracy: 8357/10000 (83.57%)\n",
            "\n",
            "EPOCH: 67\n"
          ]
        },
        {
          "output_type": "stream",
          "name": "stderr",
          "text": [
            "Loss=0.5184321403503418 Batch_id=390 Accuracy=79.19: 100%|██████████| 391/391 [00:36<00:00, 10.69it/s]\n"
          ]
        },
        {
          "output_type": "stream",
          "name": "stdout",
          "text": [
            "\n",
            "Test set: Average loss: 0.0000, Accuracy: 8343/10000 (83.43%)\n",
            "\n",
            "EPOCH: 68\n"
          ]
        },
        {
          "output_type": "stream",
          "name": "stderr",
          "text": [
            "Loss=0.4706047475337982 Batch_id=390 Accuracy=79.32: 100%|██████████| 391/391 [00:33<00:00, 11.60it/s]\n"
          ]
        },
        {
          "output_type": "stream",
          "name": "stdout",
          "text": [
            "\n",
            "Test set: Average loss: 0.0000, Accuracy: 8349/10000 (83.49%)\n",
            "\n",
            "EPOCH: 69\n"
          ]
        },
        {
          "output_type": "stream",
          "name": "stderr",
          "text": [
            "Loss=0.4225758910179138 Batch_id=390 Accuracy=79.23: 100%|██████████| 391/391 [00:37<00:00, 10.52it/s]\n"
          ]
        },
        {
          "output_type": "stream",
          "name": "stdout",
          "text": [
            "\n",
            "Test set: Average loss: 0.0000, Accuracy: 8341/10000 (83.41%)\n",
            "\n",
            "EPOCH: 70\n"
          ]
        },
        {
          "output_type": "stream",
          "name": "stderr",
          "text": [
            "Loss=0.6062684059143066 Batch_id=390 Accuracy=79.46: 100%|██████████| 391/391 [00:33<00:00, 11.62it/s]\n"
          ]
        },
        {
          "output_type": "stream",
          "name": "stdout",
          "text": [
            "\n",
            "Test set: Average loss: 0.0000, Accuracy: 8395/10000 (83.95%)\n",
            "\n",
            "EPOCH: 71\n"
          ]
        },
        {
          "output_type": "stream",
          "name": "stderr",
          "text": [
            "Loss=0.46356940269470215 Batch_id=390 Accuracy=79.59: 100%|██████████| 391/391 [00:36<00:00, 10.74it/s]\n"
          ]
        },
        {
          "output_type": "stream",
          "name": "stdout",
          "text": [
            "\n",
            "Test set: Average loss: 0.0000, Accuracy: 8387/10000 (83.87%)\n",
            "\n",
            "EPOCH: 72\n"
          ]
        },
        {
          "output_type": "stream",
          "name": "stderr",
          "text": [
            "Loss=0.4742688238620758 Batch_id=390 Accuracy=79.50: 100%|██████████| 391/391 [00:33<00:00, 11.59it/s]\n"
          ]
        },
        {
          "output_type": "stream",
          "name": "stdout",
          "text": [
            "\n",
            "Test set: Average loss: 0.0000, Accuracy: 8382/10000 (83.82%)\n",
            "\n",
            "EPOCH: 73\n"
          ]
        },
        {
          "output_type": "stream",
          "name": "stderr",
          "text": [
            "Loss=0.8694382905960083 Batch_id=390 Accuracy=79.56: 100%|██████████| 391/391 [00:36<00:00, 10.65it/s]\n"
          ]
        },
        {
          "output_type": "stream",
          "name": "stdout",
          "text": [
            "\n",
            "Test set: Average loss: 0.0000, Accuracy: 8363/10000 (83.63%)\n",
            "\n",
            "EPOCH: 74\n"
          ]
        },
        {
          "output_type": "stream",
          "name": "stderr",
          "text": [
            "Loss=0.552568793296814 Batch_id=390 Accuracy=79.79: 100%|██████████| 391/391 [00:33<00:00, 11.62it/s]\n"
          ]
        },
        {
          "output_type": "stream",
          "name": "stdout",
          "text": [
            "\n",
            "Test set: Average loss: 0.0000, Accuracy: 8371/10000 (83.71%)\n",
            "\n",
            "EPOCH: 75\n"
          ]
        },
        {
          "output_type": "stream",
          "name": "stderr",
          "text": [
            "Loss=0.4966360628604889 Batch_id=390 Accuracy=79.68: 100%|██████████| 391/391 [00:36<00:00, 10.76it/s]\n"
          ]
        },
        {
          "output_type": "stream",
          "name": "stdout",
          "text": [
            "\n",
            "Test set: Average loss: 0.0000, Accuracy: 8375/10000 (83.75%)\n",
            "\n",
            "EPOCH: 76\n"
          ]
        },
        {
          "output_type": "stream",
          "name": "stderr",
          "text": [
            "Loss=0.6944774389266968 Batch_id=390 Accuracy=79.87: 100%|██████████| 391/391 [00:33<00:00, 11.62it/s]\n"
          ]
        },
        {
          "output_type": "stream",
          "name": "stdout",
          "text": [
            "\n",
            "Test set: Average loss: 0.0000, Accuracy: 8375/10000 (83.75%)\n",
            "\n",
            "EPOCH: 77\n"
          ]
        },
        {
          "output_type": "stream",
          "name": "stderr",
          "text": [
            "Loss=0.5010042190551758 Batch_id=390 Accuracy=79.78: 100%|██████████| 391/391 [00:36<00:00, 10.67it/s]\n"
          ]
        },
        {
          "output_type": "stream",
          "name": "stdout",
          "text": [
            "\n",
            "Test set: Average loss: 0.0000, Accuracy: 8398/10000 (83.98%)\n",
            "\n",
            "EPOCH: 78\n"
          ]
        },
        {
          "output_type": "stream",
          "name": "stderr",
          "text": [
            "Loss=0.48219817876815796 Batch_id=390 Accuracy=80.16: 100%|██████████| 391/391 [00:33<00:00, 11.64it/s]\n"
          ]
        },
        {
          "output_type": "stream",
          "name": "stdout",
          "text": [
            "\n",
            "Test set: Average loss: 0.0000, Accuracy: 8415/10000 (84.15%)\n",
            "\n",
            "EPOCH: 79\n"
          ]
        },
        {
          "output_type": "stream",
          "name": "stderr",
          "text": [
            "Loss=0.6339697241783142 Batch_id=390 Accuracy=79.99: 100%|██████████| 391/391 [00:36<00:00, 10.71it/s]\n"
          ]
        },
        {
          "output_type": "stream",
          "name": "stdout",
          "text": [
            "\n",
            "Test set: Average loss: 0.0000, Accuracy: 8416/10000 (84.16%)\n",
            "\n",
            "EPOCH: 80\n"
          ]
        },
        {
          "output_type": "stream",
          "name": "stderr",
          "text": [
            "Loss=0.5676466226577759 Batch_id=390 Accuracy=80.06: 100%|██████████| 391/391 [00:33<00:00, 11.59it/s]\n"
          ]
        },
        {
          "output_type": "stream",
          "name": "stdout",
          "text": [
            "\n",
            "Test set: Average loss: 0.0000, Accuracy: 8415/10000 (84.15%)\n",
            "\n",
            "EPOCH: 81\n"
          ]
        },
        {
          "output_type": "stream",
          "name": "stderr",
          "text": [
            "Loss=0.5503158569335938 Batch_id=390 Accuracy=80.14: 100%|██████████| 391/391 [00:36<00:00, 10.65it/s]\n"
          ]
        },
        {
          "output_type": "stream",
          "name": "stdout",
          "text": [
            "\n",
            "Test set: Average loss: 0.0000, Accuracy: 8406/10000 (84.06%)\n",
            "\n",
            "EPOCH: 82\n"
          ]
        },
        {
          "output_type": "stream",
          "name": "stderr",
          "text": [
            "Loss=0.5068295001983643 Batch_id=390 Accuracy=80.28: 100%|██████████| 391/391 [00:33<00:00, 11.65it/s]\n"
          ]
        },
        {
          "output_type": "stream",
          "name": "stdout",
          "text": [
            "\n",
            "Test set: Average loss: 0.0000, Accuracy: 8427/10000 (84.27%)\n",
            "\n",
            "EPOCH: 83\n"
          ]
        },
        {
          "output_type": "stream",
          "name": "stderr",
          "text": [
            "Loss=0.6450968384742737 Batch_id=390 Accuracy=80.47: 100%|██████████| 391/391 [00:36<00:00, 10.72it/s]\n"
          ]
        },
        {
          "output_type": "stream",
          "name": "stdout",
          "text": [
            "\n",
            "Test set: Average loss: 0.0000, Accuracy: 8423/10000 (84.23%)\n",
            "\n",
            "EPOCH: 84\n"
          ]
        },
        {
          "output_type": "stream",
          "name": "stderr",
          "text": [
            "Loss=0.6636596918106079 Batch_id=390 Accuracy=80.54: 100%|██████████| 391/391 [00:33<00:00, 11.61it/s]\n"
          ]
        },
        {
          "output_type": "stream",
          "name": "stdout",
          "text": [
            "\n",
            "Test set: Average loss: 0.0000, Accuracy: 8393/10000 (83.93%)\n",
            "\n",
            "EPOCH: 85\n"
          ]
        },
        {
          "output_type": "stream",
          "name": "stderr",
          "text": [
            "Loss=0.5309664607048035 Batch_id=390 Accuracy=80.39: 100%|██████████| 391/391 [00:36<00:00, 10.63it/s]\n"
          ]
        },
        {
          "output_type": "stream",
          "name": "stdout",
          "text": [
            "\n",
            "Test set: Average loss: 0.0000, Accuracy: 8431/10000 (84.31%)\n",
            "\n",
            "EPOCH: 86\n"
          ]
        },
        {
          "output_type": "stream",
          "name": "stderr",
          "text": [
            "Loss=0.7293575406074524 Batch_id=390 Accuracy=80.39: 100%|██████████| 391/391 [00:33<00:00, 11.63it/s]\n"
          ]
        },
        {
          "output_type": "stream",
          "name": "stdout",
          "text": [
            "\n",
            "Test set: Average loss: 0.0000, Accuracy: 8437/10000 (84.37%)\n",
            "\n",
            "EPOCH: 87\n"
          ]
        },
        {
          "output_type": "stream",
          "name": "stderr",
          "text": [
            "Loss=0.39849331974983215 Batch_id=390 Accuracy=80.61: 100%|██████████| 391/391 [00:36<00:00, 10.74it/s]\n"
          ]
        },
        {
          "output_type": "stream",
          "name": "stdout",
          "text": [
            "\n",
            "Test set: Average loss: 0.0000, Accuracy: 8473/10000 (84.73%)\n",
            "\n",
            "EPOCH: 88\n"
          ]
        },
        {
          "output_type": "stream",
          "name": "stderr",
          "text": [
            "Loss=0.5614215731620789 Batch_id=390 Accuracy=80.81: 100%|██████████| 391/391 [00:33<00:00, 11.56it/s]\n"
          ]
        },
        {
          "output_type": "stream",
          "name": "stdout",
          "text": [
            "\n",
            "Test set: Average loss: 0.0000, Accuracy: 8491/10000 (84.91%)\n",
            "\n",
            "EPOCH: 89\n"
          ]
        },
        {
          "output_type": "stream",
          "name": "stderr",
          "text": [
            "Loss=0.5894009470939636 Batch_id=390 Accuracy=80.52: 100%|██████████| 391/391 [00:36<00:00, 10.65it/s]\n"
          ]
        },
        {
          "output_type": "stream",
          "name": "stdout",
          "text": [
            "\n",
            "Test set: Average loss: 0.0000, Accuracy: 8438/10000 (84.38%)\n",
            "\n",
            "EPOCH: 90\n"
          ]
        },
        {
          "output_type": "stream",
          "name": "stderr",
          "text": [
            "Loss=0.6065171360969543 Batch_id=390 Accuracy=80.71: 100%|██████████| 391/391 [00:33<00:00, 11.62it/s]\n"
          ]
        },
        {
          "output_type": "stream",
          "name": "stdout",
          "text": [
            "\n",
            "Test set: Average loss: 0.0000, Accuracy: 8501/10000 (85.01%)\n",
            "\n",
            "EPOCH: 91\n"
          ]
        },
        {
          "output_type": "stream",
          "name": "stderr",
          "text": [
            "Loss=0.5354758501052856 Batch_id=390 Accuracy=81.03: 100%|██████████| 391/391 [00:36<00:00, 10.71it/s]\n"
          ]
        },
        {
          "output_type": "stream",
          "name": "stdout",
          "text": [
            "\n",
            "Test set: Average loss: 0.0000, Accuracy: 8469/10000 (84.69%)\n",
            "\n",
            "EPOCH: 92\n"
          ]
        },
        {
          "output_type": "stream",
          "name": "stderr",
          "text": [
            "Loss=0.7374811768531799 Batch_id=390 Accuracy=80.94: 100%|██████████| 391/391 [00:33<00:00, 11.59it/s]\n"
          ]
        },
        {
          "output_type": "stream",
          "name": "stdout",
          "text": [
            "\n",
            "Test set: Average loss: 0.0000, Accuracy: 8485/10000 (84.85%)\n",
            "\n",
            "EPOCH: 93\n"
          ]
        },
        {
          "output_type": "stream",
          "name": "stderr",
          "text": [
            "Loss=0.6522011160850525 Batch_id=390 Accuracy=80.81: 100%|██████████| 391/391 [00:36<00:00, 10.62it/s]\n"
          ]
        },
        {
          "output_type": "stream",
          "name": "stdout",
          "text": [
            "\n",
            "Test set: Average loss: 0.0000, Accuracy: 8512/10000 (85.12%)\n",
            "\n",
            "EPOCH: 94\n"
          ]
        },
        {
          "output_type": "stream",
          "name": "stderr",
          "text": [
            "Loss=0.3890395760536194 Batch_id=390 Accuracy=80.98: 100%|██████████| 391/391 [00:33<00:00, 11.61it/s]\n"
          ]
        },
        {
          "output_type": "stream",
          "name": "stdout",
          "text": [
            "\n",
            "Test set: Average loss: 0.0000, Accuracy: 8478/10000 (84.78%)\n",
            "\n",
            "EPOCH: 95\n"
          ]
        },
        {
          "output_type": "stream",
          "name": "stderr",
          "text": [
            "Loss=0.8330539464950562 Batch_id=390 Accuracy=80.76: 100%|██████████| 391/391 [00:36<00:00, 10.76it/s]\n"
          ]
        },
        {
          "output_type": "stream",
          "name": "stdout",
          "text": [
            "\n",
            "Test set: Average loss: 0.0000, Accuracy: 8463/10000 (84.63%)\n",
            "\n",
            "EPOCH: 96\n"
          ]
        },
        {
          "output_type": "stream",
          "name": "stderr",
          "text": [
            "Loss=0.6541143655776978 Batch_id=390 Accuracy=80.85: 100%|██████████| 391/391 [00:33<00:00, 11.56it/s]\n"
          ]
        },
        {
          "output_type": "stream",
          "name": "stdout",
          "text": [
            "\n",
            "Test set: Average loss: 0.0000, Accuracy: 8492/10000 (84.92%)\n",
            "\n",
            "EPOCH: 97\n"
          ]
        },
        {
          "output_type": "stream",
          "name": "stderr",
          "text": [
            "Loss=0.6267529726028442 Batch_id=390 Accuracy=80.92: 100%|██████████| 391/391 [00:36<00:00, 10.68it/s]\n"
          ]
        },
        {
          "output_type": "stream",
          "name": "stdout",
          "text": [
            "\n",
            "Test set: Average loss: 0.0000, Accuracy: 8486/10000 (84.86%)\n",
            "\n",
            "EPOCH: 98\n"
          ]
        },
        {
          "output_type": "stream",
          "name": "stderr",
          "text": [
            "Loss=0.529616117477417 Batch_id=390 Accuracy=81.30: 100%|██████████| 391/391 [00:33<00:00, 11.63it/s]\n"
          ]
        },
        {
          "output_type": "stream",
          "name": "stdout",
          "text": [
            "\n",
            "Test set: Average loss: 0.0000, Accuracy: 8487/10000 (84.87%)\n",
            "\n",
            "EPOCH: 99\n"
          ]
        },
        {
          "output_type": "stream",
          "name": "stderr",
          "text": [
            "Loss=0.5493414998054504 Batch_id=390 Accuracy=81.22: 100%|██████████| 391/391 [00:36<00:00, 10.80it/s]\n"
          ]
        },
        {
          "output_type": "stream",
          "name": "stdout",
          "text": [
            "\n",
            "Test set: Average loss: 0.0000, Accuracy: 8517/10000 (85.17%)\n",
            "\n",
            "EPOCH: 100\n"
          ]
        },
        {
          "output_type": "stream",
          "name": "stderr",
          "text": [
            "Loss=0.42842382192611694 Batch_id=390 Accuracy=81.23: 100%|██████████| 391/391 [00:33<00:00, 11.59it/s]\n"
          ]
        },
        {
          "output_type": "stream",
          "name": "stdout",
          "text": [
            "\n",
            "Test set: Average loss: 0.0000, Accuracy: 8505/10000 (85.05%)\n",
            "\n",
            "EPOCH: 101\n"
          ]
        },
        {
          "output_type": "stream",
          "name": "stderr",
          "text": [
            "Loss=0.6251036524772644 Batch_id=390 Accuracy=81.01: 100%|██████████| 391/391 [00:36<00:00, 10.63it/s]\n"
          ]
        },
        {
          "output_type": "stream",
          "name": "stdout",
          "text": [
            "\n",
            "Test set: Average loss: 0.0000, Accuracy: 8495/10000 (84.95%)\n",
            "\n",
            "EPOCH: 102\n"
          ]
        },
        {
          "output_type": "stream",
          "name": "stderr",
          "text": [
            "Loss=0.5654088258743286 Batch_id=390 Accuracy=81.49: 100%|██████████| 391/391 [00:33<00:00, 11.60it/s]\n"
          ]
        },
        {
          "output_type": "stream",
          "name": "stdout",
          "text": [
            "\n",
            "Test set: Average loss: 0.0000, Accuracy: 8522/10000 (85.22%)\n",
            "\n",
            "EPOCH: 103\n"
          ]
        },
        {
          "output_type": "stream",
          "name": "stderr",
          "text": [
            "Loss=0.48576268553733826 Batch_id=390 Accuracy=81.24: 100%|██████████| 391/391 [00:36<00:00, 10.72it/s]\n"
          ]
        },
        {
          "output_type": "stream",
          "name": "stdout",
          "text": [
            "\n",
            "Test set: Average loss: 0.0000, Accuracy: 8514/10000 (85.14%)\n",
            "\n",
            "EPOCH: 104\n"
          ]
        },
        {
          "output_type": "stream",
          "name": "stderr",
          "text": [
            "Loss=0.596933126449585 Batch_id=390 Accuracy=81.46: 100%|██████████| 391/391 [00:33<00:00, 11.59it/s]\n"
          ]
        },
        {
          "output_type": "stream",
          "name": "stdout",
          "text": [
            "\n",
            "Test set: Average loss: 0.0000, Accuracy: 8489/10000 (84.89%)\n",
            "\n",
            "EPOCH: 105\n"
          ]
        },
        {
          "output_type": "stream",
          "name": "stderr",
          "text": [
            "Loss=0.5496557354927063 Batch_id=390 Accuracy=81.42: 100%|██████████| 391/391 [00:36<00:00, 10.63it/s]\n"
          ]
        },
        {
          "output_type": "stream",
          "name": "stdout",
          "text": [
            "\n",
            "Test set: Average loss: 0.0000, Accuracy: 8516/10000 (85.16%)\n",
            "\n",
            "EPOCH: 106\n"
          ]
        },
        {
          "output_type": "stream",
          "name": "stderr",
          "text": [
            "Loss=0.49730730056762695 Batch_id=390 Accuracy=81.37: 100%|██████████| 391/391 [00:33<00:00, 11.57it/s]\n"
          ]
        },
        {
          "output_type": "stream",
          "name": "stdout",
          "text": [
            "\n",
            "Test set: Average loss: 0.0000, Accuracy: 8525/10000 (85.25%)\n",
            "\n",
            "EPOCH: 107\n"
          ]
        },
        {
          "output_type": "stream",
          "name": "stderr",
          "text": [
            "Loss=0.5378270745277405 Batch_id=390 Accuracy=81.60: 100%|██████████| 391/391 [00:36<00:00, 10.71it/s]\n"
          ]
        },
        {
          "output_type": "stream",
          "name": "stdout",
          "text": [
            "\n",
            "Test set: Average loss: 0.0000, Accuracy: 8471/10000 (84.71%)\n",
            "\n",
            "EPOCH: 108\n"
          ]
        },
        {
          "output_type": "stream",
          "name": "stderr",
          "text": [
            "Loss=0.4324165880680084 Batch_id=390 Accuracy=81.50: 100%|██████████| 391/391 [00:33<00:00, 11.57it/s]\n"
          ]
        },
        {
          "output_type": "stream",
          "name": "stdout",
          "text": [
            "\n",
            "Test set: Average loss: 0.0000, Accuracy: 8512/10000 (85.12%)\n",
            "\n",
            "EPOCH: 109\n"
          ]
        },
        {
          "output_type": "stream",
          "name": "stderr",
          "text": [
            "Loss=0.6670854091644287 Batch_id=390 Accuracy=81.35: 100%|██████████| 391/391 [00:36<00:00, 10.61it/s]\n"
          ]
        },
        {
          "output_type": "stream",
          "name": "stdout",
          "text": [
            "\n",
            "Test set: Average loss: 0.0000, Accuracy: 8534/10000 (85.34%)\n",
            "\n",
            "EPOCH: 110\n"
          ]
        },
        {
          "output_type": "stream",
          "name": "stderr",
          "text": [
            "Loss=0.693191409111023 Batch_id=390 Accuracy=81.64: 100%|██████████| 391/391 [00:33<00:00, 11.59it/s]\n"
          ]
        },
        {
          "output_type": "stream",
          "name": "stdout",
          "text": [
            "\n",
            "Test set: Average loss: 0.0000, Accuracy: 8522/10000 (85.22%)\n",
            "\n",
            "EPOCH: 111\n"
          ]
        },
        {
          "output_type": "stream",
          "name": "stderr",
          "text": [
            "Loss=0.5875498652458191 Batch_id=390 Accuracy=81.44: 100%|██████████| 391/391 [00:36<00:00, 10.71it/s]\n"
          ]
        },
        {
          "output_type": "stream",
          "name": "stdout",
          "text": [
            "\n",
            "Test set: Average loss: 0.0000, Accuracy: 8537/10000 (85.37%)\n",
            "\n",
            "EPOCH: 112\n"
          ]
        },
        {
          "output_type": "stream",
          "name": "stderr",
          "text": [
            "Loss=0.7472817301750183 Batch_id=390 Accuracy=81.64: 100%|██████████| 391/391 [00:33<00:00, 11.51it/s]\n"
          ]
        },
        {
          "output_type": "stream",
          "name": "stdout",
          "text": [
            "\n",
            "Test set: Average loss: 0.0000, Accuracy: 8535/10000 (85.35%)\n",
            "\n",
            "EPOCH: 113\n"
          ]
        },
        {
          "output_type": "stream",
          "name": "stderr",
          "text": [
            "Loss=0.5139240622520447 Batch_id=390 Accuracy=81.49: 100%|██████████| 391/391 [00:36<00:00, 10.63it/s]\n"
          ]
        },
        {
          "output_type": "stream",
          "name": "stdout",
          "text": [
            "\n",
            "Test set: Average loss: 0.0000, Accuracy: 8532/10000 (85.32%)\n",
            "\n",
            "EPOCH: 114\n"
          ]
        },
        {
          "output_type": "stream",
          "name": "stderr",
          "text": [
            "Loss=0.5051407814025879 Batch_id=390 Accuracy=81.76: 100%|██████████| 391/391 [00:33<00:00, 11.55it/s]\n"
          ]
        },
        {
          "output_type": "stream",
          "name": "stdout",
          "text": [
            "\n",
            "Test set: Average loss: 0.0000, Accuracy: 8521/10000 (85.21%)\n",
            "\n",
            "EPOCH: 115\n"
          ]
        },
        {
          "output_type": "stream",
          "name": "stderr",
          "text": [
            "Loss=0.6171163320541382 Batch_id=390 Accuracy=81.78: 100%|██████████| 391/391 [00:36<00:00, 10.67it/s]\n"
          ]
        },
        {
          "output_type": "stream",
          "name": "stdout",
          "text": [
            "\n",
            "Test set: Average loss: 0.0000, Accuracy: 8550/10000 (85.50%)\n",
            "\n",
            "EPOCH: 116\n"
          ]
        },
        {
          "output_type": "stream",
          "name": "stderr",
          "text": [
            "Loss=0.641224205493927 Batch_id=390 Accuracy=81.95: 100%|██████████| 391/391 [00:34<00:00, 11.49it/s]\n"
          ]
        },
        {
          "output_type": "stream",
          "name": "stdout",
          "text": [
            "\n",
            "Test set: Average loss: 0.0000, Accuracy: 8563/10000 (85.63%)\n",
            "\n",
            "EPOCH: 117\n"
          ]
        },
        {
          "output_type": "stream",
          "name": "stderr",
          "text": [
            "Loss=0.5378371477127075 Batch_id=390 Accuracy=81.84: 100%|██████████| 391/391 [00:36<00:00, 10.60it/s]\n"
          ]
        },
        {
          "output_type": "stream",
          "name": "stdout",
          "text": [
            "\n",
            "Test set: Average loss: 0.0000, Accuracy: 8537/10000 (85.37%)\n",
            "\n",
            "EPOCH: 118\n"
          ]
        },
        {
          "output_type": "stream",
          "name": "stderr",
          "text": [
            "Loss=0.5849941372871399 Batch_id=390 Accuracy=81.81: 100%|██████████| 391/391 [00:33<00:00, 11.56it/s]\n"
          ]
        },
        {
          "output_type": "stream",
          "name": "stdout",
          "text": [
            "\n",
            "Test set: Average loss: 0.0000, Accuracy: 8548/10000 (85.48%)\n",
            "\n",
            "EPOCH: 119\n"
          ]
        },
        {
          "output_type": "stream",
          "name": "stderr",
          "text": [
            "Loss=0.5721490979194641 Batch_id=390 Accuracy=81.63: 100%|██████████| 391/391 [00:36<00:00, 10.68it/s]\n"
          ]
        },
        {
          "output_type": "stream",
          "name": "stdout",
          "text": [
            "\n",
            "Test set: Average loss: 0.0000, Accuracy: 8580/10000 (85.80%)\n",
            "\n",
            "EPOCH: 120\n"
          ]
        },
        {
          "output_type": "stream",
          "name": "stderr",
          "text": [
            "Loss=0.5534623861312866 Batch_id=390 Accuracy=81.80: 100%|██████████| 391/391 [00:33<00:00, 11.54it/s]\n"
          ]
        },
        {
          "output_type": "stream",
          "name": "stdout",
          "text": [
            "\n",
            "Test set: Average loss: 0.0000, Accuracy: 8594/10000 (85.94%)\n",
            "\n",
            "EPOCH: 121\n"
          ]
        },
        {
          "output_type": "stream",
          "name": "stderr",
          "text": [
            "Loss=0.7381659150123596 Batch_id=390 Accuracy=82.35: 100%|██████████| 391/391 [00:36<00:00, 10.61it/s]\n"
          ]
        },
        {
          "output_type": "stream",
          "name": "stdout",
          "text": [
            "\n",
            "Test set: Average loss: 0.0000, Accuracy: 8522/10000 (85.22%)\n",
            "\n",
            "EPOCH: 122\n"
          ]
        },
        {
          "output_type": "stream",
          "name": "stderr",
          "text": [
            "Loss=0.5571944713592529 Batch_id=390 Accuracy=82.13: 100%|██████████| 391/391 [00:33<00:00, 11.55it/s]\n"
          ]
        },
        {
          "output_type": "stream",
          "name": "stdout",
          "text": [
            "\n",
            "Test set: Average loss: 0.0000, Accuracy: 8602/10000 (86.02%)\n",
            "\n",
            "EPOCH: 123\n"
          ]
        },
        {
          "output_type": "stream",
          "name": "stderr",
          "text": [
            "Loss=0.31585830450057983 Batch_id=390 Accuracy=82.05: 100%|██████████| 391/391 [00:36<00:00, 10.72it/s]\n"
          ]
        },
        {
          "output_type": "stream",
          "name": "stdout",
          "text": [
            "\n",
            "Test set: Average loss: 0.0000, Accuracy: 8581/10000 (85.81%)\n",
            "\n",
            "EPOCH: 124\n"
          ]
        },
        {
          "output_type": "stream",
          "name": "stderr",
          "text": [
            "Loss=0.5475362539291382 Batch_id=390 Accuracy=82.36: 100%|██████████| 391/391 [00:33<00:00, 11.54it/s]\n"
          ]
        },
        {
          "output_type": "stream",
          "name": "stdout",
          "text": [
            "\n",
            "Test set: Average loss: 0.0000, Accuracy: 8600/10000 (86.00%)\n",
            "\n",
            "EPOCH: 125\n"
          ]
        },
        {
          "output_type": "stream",
          "name": "stderr",
          "text": [
            "Loss=0.5096850991249084 Batch_id=390 Accuracy=82.12: 100%|██████████| 391/391 [00:36<00:00, 10.61it/s]\n"
          ]
        },
        {
          "output_type": "stream",
          "name": "stdout",
          "text": [
            "\n",
            "Test set: Average loss: 0.0000, Accuracy: 8579/10000 (85.79%)\n",
            "\n",
            "EPOCH: 126\n"
          ]
        },
        {
          "output_type": "stream",
          "name": "stderr",
          "text": [
            "Loss=0.6318669319152832 Batch_id=390 Accuracy=81.90: 100%|██████████| 391/391 [00:33<00:00, 11.55it/s]\n"
          ]
        },
        {
          "output_type": "stream",
          "name": "stdout",
          "text": [
            "\n",
            "Test set: Average loss: 0.0000, Accuracy: 8547/10000 (85.47%)\n",
            "\n",
            "EPOCH: 127\n"
          ]
        },
        {
          "output_type": "stream",
          "name": "stderr",
          "text": [
            "Loss=0.589290976524353 Batch_id=390 Accuracy=82.26: 100%|██████████| 391/391 [00:36<00:00, 10.65it/s]\n"
          ]
        },
        {
          "output_type": "stream",
          "name": "stdout",
          "text": [
            "\n",
            "Test set: Average loss: 0.0000, Accuracy: 8590/10000 (85.90%)\n",
            "\n",
            "EPOCH: 128\n"
          ]
        },
        {
          "output_type": "stream",
          "name": "stderr",
          "text": [
            "Loss=0.45014625787734985 Batch_id=390 Accuracy=82.22: 100%|██████████| 391/391 [00:34<00:00, 11.48it/s]\n"
          ]
        },
        {
          "output_type": "stream",
          "name": "stdout",
          "text": [
            "\n",
            "Test set: Average loss: 0.0000, Accuracy: 8604/10000 (86.04%)\n",
            "\n",
            "EPOCH: 129\n"
          ]
        },
        {
          "output_type": "stream",
          "name": "stderr",
          "text": [
            "Loss=0.578066349029541 Batch_id=390 Accuracy=82.21: 100%|██████████| 391/391 [00:36<00:00, 10.58it/s]\n"
          ]
        },
        {
          "output_type": "stream",
          "name": "stdout",
          "text": [
            "\n",
            "Test set: Average loss: 0.0000, Accuracy: 8586/10000 (85.86%)\n",
            "\n",
            "EPOCH: 130\n"
          ]
        },
        {
          "output_type": "stream",
          "name": "stderr",
          "text": [
            "Loss=0.40618592500686646 Batch_id=390 Accuracy=82.22: 100%|██████████| 391/391 [00:33<00:00, 11.55it/s]\n"
          ]
        },
        {
          "output_type": "stream",
          "name": "stdout",
          "text": [
            "\n",
            "Test set: Average loss: 0.0000, Accuracy: 8592/10000 (85.92%)\n",
            "\n",
            "EPOCH: 131\n"
          ]
        },
        {
          "output_type": "stream",
          "name": "stderr",
          "text": [
            "Loss=0.4067172110080719 Batch_id=390 Accuracy=82.55: 100%|██████████| 391/391 [00:36<00:00, 10.69it/s]\n"
          ]
        },
        {
          "output_type": "stream",
          "name": "stdout",
          "text": [
            "\n",
            "Test set: Average loss: 0.0000, Accuracy: 8550/10000 (85.50%)\n",
            "\n",
            "EPOCH: 132\n"
          ]
        },
        {
          "output_type": "stream",
          "name": "stderr",
          "text": [
            "Loss=0.4894019067287445 Batch_id=390 Accuracy=81.99: 100%|██████████| 391/391 [00:33<00:00, 11.54it/s]\n"
          ]
        },
        {
          "output_type": "stream",
          "name": "stdout",
          "text": [
            "\n",
            "Test set: Average loss: 0.0000, Accuracy: 8578/10000 (85.78%)\n",
            "\n",
            "EPOCH: 133\n"
          ]
        },
        {
          "output_type": "stream",
          "name": "stderr",
          "text": [
            "Loss=0.6386643648147583 Batch_id=390 Accuracy=82.38: 100%|██████████| 391/391 [00:36<00:00, 10.57it/s]\n"
          ]
        },
        {
          "output_type": "stream",
          "name": "stdout",
          "text": [
            "\n",
            "Test set: Average loss: 0.0000, Accuracy: 8613/10000 (86.13%)\n",
            "\n",
            "EPOCH: 134\n"
          ]
        },
        {
          "output_type": "stream",
          "name": "stderr",
          "text": [
            "Loss=0.55823814868927 Batch_id=390 Accuracy=82.29: 100%|██████████| 391/391 [00:33<00:00, 11.54it/s]\n"
          ]
        },
        {
          "output_type": "stream",
          "name": "stdout",
          "text": [
            "\n",
            "Test set: Average loss: 0.0000, Accuracy: 8558/10000 (85.58%)\n",
            "\n",
            "EPOCH: 135\n"
          ]
        },
        {
          "output_type": "stream",
          "name": "stderr",
          "text": [
            "Loss=0.4146374762058258 Batch_id=390 Accuracy=82.17: 100%|██████████| 391/391 [00:36<00:00, 10.66it/s]\n"
          ]
        },
        {
          "output_type": "stream",
          "name": "stdout",
          "text": [
            "\n",
            "Test set: Average loss: 0.0000, Accuracy: 8613/10000 (86.13%)\n",
            "\n",
            "EPOCH: 136\n"
          ]
        },
        {
          "output_type": "stream",
          "name": "stderr",
          "text": [
            "Loss=0.43347206711769104 Batch_id=390 Accuracy=82.73: 100%|██████████| 391/391 [00:34<00:00, 11.41it/s]\n"
          ]
        },
        {
          "output_type": "stream",
          "name": "stdout",
          "text": [
            "\n",
            "Test set: Average loss: 0.0000, Accuracy: 8574/10000 (85.74%)\n",
            "\n",
            "EPOCH: 137\n"
          ]
        },
        {
          "output_type": "stream",
          "name": "stderr",
          "text": [
            "Loss=0.5394539833068848 Batch_id=390 Accuracy=82.36: 100%|██████████| 391/391 [00:37<00:00, 10.54it/s]\n"
          ]
        },
        {
          "output_type": "stream",
          "name": "stdout",
          "text": [
            "\n",
            "Test set: Average loss: 0.0000, Accuracy: 8618/10000 (86.18%)\n",
            "\n",
            "EPOCH: 138\n"
          ]
        },
        {
          "output_type": "stream",
          "name": "stderr",
          "text": [
            "Loss=0.7387709617614746 Batch_id=390 Accuracy=82.54: 100%|██████████| 391/391 [00:33<00:00, 11.52it/s]\n"
          ]
        },
        {
          "output_type": "stream",
          "name": "stdout",
          "text": [
            "\n",
            "Test set: Average loss: 0.0000, Accuracy: 8589/10000 (85.89%)\n",
            "\n",
            "EPOCH: 139\n"
          ]
        },
        {
          "output_type": "stream",
          "name": "stderr",
          "text": [
            "Loss=0.5824819207191467 Batch_id=390 Accuracy=82.51: 100%|██████████| 391/391 [00:36<00:00, 10.69it/s]\n"
          ]
        },
        {
          "output_type": "stream",
          "name": "stdout",
          "text": [
            "\n",
            "Test set: Average loss: 0.0000, Accuracy: 8587/10000 (85.87%)\n",
            "\n",
            "EPOCH: 140\n"
          ]
        },
        {
          "output_type": "stream",
          "name": "stderr",
          "text": [
            "Loss=0.6009189486503601 Batch_id=390 Accuracy=82.49: 100%|██████████| 391/391 [00:34<00:00, 11.49it/s]\n"
          ]
        },
        {
          "output_type": "stream",
          "name": "stdout",
          "text": [
            "\n",
            "Test set: Average loss: 0.0000, Accuracy: 8594/10000 (85.94%)\n",
            "\n",
            "EPOCH: 141\n"
          ]
        },
        {
          "output_type": "stream",
          "name": "stderr",
          "text": [
            "Loss=0.5074015855789185 Batch_id=390 Accuracy=82.74: 100%|██████████| 391/391 [00:36<00:00, 10.57it/s]\n"
          ]
        },
        {
          "output_type": "stream",
          "name": "stdout",
          "text": [
            "\n",
            "Test set: Average loss: 0.0000, Accuracy: 8585/10000 (85.85%)\n",
            "\n",
            "EPOCH: 142\n"
          ]
        },
        {
          "output_type": "stream",
          "name": "stderr",
          "text": [
            "Loss=0.35621801018714905 Batch_id=390 Accuracy=82.80: 100%|██████████| 391/391 [00:33<00:00, 11.56it/s]\n"
          ]
        },
        {
          "output_type": "stream",
          "name": "stdout",
          "text": [
            "\n",
            "Test set: Average loss: 0.0000, Accuracy: 8601/10000 (86.01%)\n",
            "\n",
            "EPOCH: 143\n"
          ]
        },
        {
          "output_type": "stream",
          "name": "stderr",
          "text": [
            "Loss=0.49727287888526917 Batch_id=390 Accuracy=82.81: 100%|██████████| 391/391 [00:36<00:00, 10.68it/s]\n"
          ]
        },
        {
          "output_type": "stream",
          "name": "stdout",
          "text": [
            "\n",
            "Test set: Average loss: 0.0000, Accuracy: 8613/10000 (86.13%)\n",
            "\n",
            "EPOCH: 144\n"
          ]
        },
        {
          "output_type": "stream",
          "name": "stderr",
          "text": [
            "Loss=0.5703905820846558 Batch_id=390 Accuracy=82.89: 100%|██████████| 391/391 [00:33<00:00, 11.50it/s]\n"
          ]
        },
        {
          "output_type": "stream",
          "name": "stdout",
          "text": [
            "\n",
            "Test set: Average loss: 0.0000, Accuracy: 8627/10000 (86.27%)\n",
            "\n",
            "EPOCH: 145\n"
          ]
        },
        {
          "output_type": "stream",
          "name": "stderr",
          "text": [
            "Loss=0.5759248733520508 Batch_id=390 Accuracy=82.84: 100%|██████████| 391/391 [00:36<00:00, 10.59it/s]\n"
          ]
        },
        {
          "output_type": "stream",
          "name": "stdout",
          "text": [
            "\n",
            "Test set: Average loss: 0.0000, Accuracy: 8596/10000 (85.96%)\n",
            "\n",
            "EPOCH: 146\n"
          ]
        },
        {
          "output_type": "stream",
          "name": "stderr",
          "text": [
            "Loss=0.42697739601135254 Batch_id=390 Accuracy=82.92: 100%|██████████| 391/391 [00:33<00:00, 11.53it/s]\n"
          ]
        },
        {
          "output_type": "stream",
          "name": "stdout",
          "text": [
            "\n",
            "Test set: Average loss: 0.0000, Accuracy: 8597/10000 (85.97%)\n",
            "\n",
            "EPOCH: 147\n"
          ]
        },
        {
          "output_type": "stream",
          "name": "stderr",
          "text": [
            "Loss=0.42437344789505005 Batch_id=390 Accuracy=82.40: 100%|██████████| 391/391 [00:36<00:00, 10.67it/s]\n"
          ]
        },
        {
          "output_type": "stream",
          "name": "stdout",
          "text": [
            "\n",
            "Test set: Average loss: 0.0000, Accuracy: 8598/10000 (85.98%)\n",
            "\n",
            "EPOCH: 148\n"
          ]
        },
        {
          "output_type": "stream",
          "name": "stderr",
          "text": [
            "Loss=0.6247614026069641 Batch_id=390 Accuracy=82.89: 100%|██████████| 391/391 [00:34<00:00, 11.47it/s]\n"
          ]
        },
        {
          "output_type": "stream",
          "name": "stdout",
          "text": [
            "\n",
            "Test set: Average loss: 0.0000, Accuracy: 8635/10000 (86.35%)\n",
            "\n",
            "EPOCH: 149\n"
          ]
        },
        {
          "output_type": "stream",
          "name": "stderr",
          "text": [
            "Loss=0.5188658237457275 Batch_id=390 Accuracy=82.76: 100%|██████████| 391/391 [00:37<00:00, 10.54it/s]\n"
          ]
        },
        {
          "output_type": "stream",
          "name": "stdout",
          "text": [
            "\n",
            "Test set: Average loss: 0.0000, Accuracy: 8592/10000 (85.92%)\n",
            "\n",
            "EPOCH: 150\n"
          ]
        },
        {
          "output_type": "stream",
          "name": "stderr",
          "text": [
            "Loss=0.6267871260643005 Batch_id=390 Accuracy=82.71: 100%|██████████| 391/391 [00:33<00:00, 11.55it/s]\n"
          ]
        },
        {
          "output_type": "stream",
          "name": "stdout",
          "text": [
            "\n",
            "Test set: Average loss: 0.0000, Accuracy: 8639/10000 (86.39%)\n",
            "\n",
            "EPOCH: 151\n"
          ]
        },
        {
          "output_type": "stream",
          "name": "stderr",
          "text": [
            "Loss=0.5476226210594177 Batch_id=390 Accuracy=82.92: 100%|██████████| 391/391 [00:36<00:00, 10.61it/s]\n"
          ]
        },
        {
          "output_type": "stream",
          "name": "stdout",
          "text": [
            "\n",
            "Test set: Average loss: 0.0000, Accuracy: 8570/10000 (85.70%)\n",
            "\n",
            "EPOCH: 152\n"
          ]
        },
        {
          "output_type": "stream",
          "name": "stderr",
          "text": [
            "Loss=0.40741491317749023 Batch_id=390 Accuracy=82.82: 100%|██████████| 391/391 [00:33<00:00, 11.51it/s]\n"
          ]
        },
        {
          "output_type": "stream",
          "name": "stdout",
          "text": [
            "\n",
            "Test set: Average loss: 0.0000, Accuracy: 8590/10000 (85.90%)\n",
            "\n",
            "EPOCH: 153\n"
          ]
        },
        {
          "output_type": "stream",
          "name": "stderr",
          "text": [
            "Loss=0.38875389099121094 Batch_id=390 Accuracy=82.79: 100%|██████████| 391/391 [00:37<00:00, 10.56it/s]\n"
          ]
        },
        {
          "output_type": "stream",
          "name": "stdout",
          "text": [
            "\n",
            "Test set: Average loss: 0.0000, Accuracy: 8599/10000 (85.99%)\n",
            "\n",
            "EPOCH: 154\n"
          ]
        },
        {
          "output_type": "stream",
          "name": "stderr",
          "text": [
            "Loss=0.4738622307777405 Batch_id=390 Accuracy=82.94: 100%|██████████| 391/391 [00:33<00:00, 11.54it/s]\n"
          ]
        },
        {
          "output_type": "stream",
          "name": "stdout",
          "text": [
            "\n",
            "Test set: Average loss: 0.0000, Accuracy: 8622/10000 (86.22%)\n",
            "\n",
            "EPOCH: 155\n"
          ]
        },
        {
          "output_type": "stream",
          "name": "stderr",
          "text": [
            "Loss=0.44556981325149536 Batch_id=390 Accuracy=82.98: 100%|██████████| 391/391 [00:36<00:00, 10.68it/s]\n"
          ]
        },
        {
          "output_type": "stream",
          "name": "stdout",
          "text": [
            "\n",
            "Test set: Average loss: 0.0000, Accuracy: 8620/10000 (86.20%)\n",
            "\n",
            "EPOCH: 156\n"
          ]
        },
        {
          "output_type": "stream",
          "name": "stderr",
          "text": [
            "Loss=0.5339500308036804 Batch_id=390 Accuracy=83.13: 100%|██████████| 391/391 [00:34<00:00, 11.47it/s]\n"
          ]
        },
        {
          "output_type": "stream",
          "name": "stdout",
          "text": [
            "\n",
            "Test set: Average loss: 0.0000, Accuracy: 8634/10000 (86.34%)\n",
            "\n",
            "EPOCH: 157\n"
          ]
        },
        {
          "output_type": "stream",
          "name": "stderr",
          "text": [
            "Loss=0.5711321234703064 Batch_id=390 Accuracy=83.12: 100%|██████████| 391/391 [00:37<00:00, 10.50it/s]\n"
          ]
        },
        {
          "output_type": "stream",
          "name": "stdout",
          "text": [
            "\n",
            "Test set: Average loss: 0.0000, Accuracy: 8583/10000 (85.83%)\n",
            "\n",
            "EPOCH: 158\n"
          ]
        },
        {
          "output_type": "stream",
          "name": "stderr",
          "text": [
            "Loss=0.4286385178565979 Batch_id=390 Accuracy=83.29: 100%|██████████| 391/391 [00:33<00:00, 11.52it/s]\n"
          ]
        },
        {
          "output_type": "stream",
          "name": "stdout",
          "text": [
            "\n",
            "Test set: Average loss: 0.0000, Accuracy: 8608/10000 (86.08%)\n",
            "\n",
            "EPOCH: 159\n"
          ]
        },
        {
          "output_type": "stream",
          "name": "stderr",
          "text": [
            "Loss=0.3483412265777588 Batch_id=390 Accuracy=83.08: 100%|██████████| 391/391 [00:36<00:00, 10.59it/s]\n"
          ]
        },
        {
          "output_type": "stream",
          "name": "stdout",
          "text": [
            "\n",
            "Test set: Average loss: 0.0000, Accuracy: 8623/10000 (86.23%)\n",
            "\n",
            "EPOCH: 160\n"
          ]
        },
        {
          "output_type": "stream",
          "name": "stderr",
          "text": [
            "Loss=0.4548174738883972 Batch_id=390 Accuracy=82.89: 100%|██████████| 391/391 [00:34<00:00, 11.49it/s]\n"
          ]
        },
        {
          "output_type": "stream",
          "name": "stdout",
          "text": [
            "\n",
            "Test set: Average loss: 0.0000, Accuracy: 8621/10000 (86.21%)\n",
            "\n",
            "EPOCH: 161\n"
          ]
        },
        {
          "output_type": "stream",
          "name": "stderr",
          "text": [
            "Loss=0.4862020015716553 Batch_id=390 Accuracy=83.02: 100%|██████████| 391/391 [00:37<00:00, 10.56it/s]\n"
          ]
        },
        {
          "output_type": "stream",
          "name": "stdout",
          "text": [
            "\n",
            "Test set: Average loss: 0.0000, Accuracy: 8609/10000 (86.09%)\n",
            "\n",
            "EPOCH: 162\n"
          ]
        },
        {
          "output_type": "stream",
          "name": "stderr",
          "text": [
            "Loss=0.4255538582801819 Batch_id=390 Accuracy=83.03: 100%|██████████| 391/391 [00:34<00:00, 11.49it/s]\n"
          ]
        },
        {
          "output_type": "stream",
          "name": "stdout",
          "text": [
            "\n",
            "Test set: Average loss: 0.0000, Accuracy: 8627/10000 (86.27%)\n",
            "\n",
            "EPOCH: 163\n"
          ]
        },
        {
          "output_type": "stream",
          "name": "stderr",
          "text": [
            "Loss=0.695776104927063 Batch_id=390 Accuracy=83.22: 100%|██████████| 391/391 [00:36<00:00, 10.59it/s]\n"
          ]
        },
        {
          "output_type": "stream",
          "name": "stdout",
          "text": [
            "\n",
            "Test set: Average loss: 0.0000, Accuracy: 8621/10000 (86.21%)\n",
            "\n",
            "EPOCH: 164\n"
          ]
        },
        {
          "output_type": "stream",
          "name": "stderr",
          "text": [
            "Loss=0.4166873097419739 Batch_id=390 Accuracy=83.32: 100%|██████████| 391/391 [00:34<00:00, 11.41it/s]\n"
          ]
        },
        {
          "output_type": "stream",
          "name": "stdout",
          "text": [
            "\n",
            "Test set: Average loss: 0.0000, Accuracy: 8601/10000 (86.01%)\n",
            "\n",
            "EPOCH: 165\n"
          ]
        },
        {
          "output_type": "stream",
          "name": "stderr",
          "text": [
            "Loss=0.5137770175933838 Batch_id=390 Accuracy=83.17: 100%|██████████| 391/391 [00:37<00:00, 10.51it/s]\n"
          ]
        },
        {
          "output_type": "stream",
          "name": "stdout",
          "text": [
            "\n",
            "Test set: Average loss: 0.0000, Accuracy: 8601/10000 (86.01%)\n",
            "\n",
            "EPOCH: 166\n"
          ]
        },
        {
          "output_type": "stream",
          "name": "stderr",
          "text": [
            "Loss=0.5387396216392517 Batch_id=390 Accuracy=83.35: 100%|██████████| 391/391 [00:34<00:00, 11.43it/s]\n"
          ]
        },
        {
          "output_type": "stream",
          "name": "stdout",
          "text": [
            "\n",
            "Test set: Average loss: 0.0000, Accuracy: 8613/10000 (86.13%)\n",
            "\n",
            "EPOCH: 167\n"
          ]
        },
        {
          "output_type": "stream",
          "name": "stderr",
          "text": [
            "Loss=0.42475754022598267 Batch_id=390 Accuracy=83.24: 100%|██████████| 391/391 [00:36<00:00, 10.59it/s]\n"
          ]
        },
        {
          "output_type": "stream",
          "name": "stdout",
          "text": [
            "\n",
            "Test set: Average loss: 0.0000, Accuracy: 8597/10000 (85.97%)\n",
            "\n",
            "EPOCH: 168\n"
          ]
        },
        {
          "output_type": "stream",
          "name": "stderr",
          "text": [
            "Loss=0.5020042061805725 Batch_id=390 Accuracy=83.21: 100%|██████████| 391/391 [00:34<00:00, 11.42it/s]\n"
          ]
        },
        {
          "output_type": "stream",
          "name": "stdout",
          "text": [
            "\n",
            "Test set: Average loss: 0.0000, Accuracy: 8627/10000 (86.27%)\n",
            "\n",
            "EPOCH: 169\n"
          ]
        },
        {
          "output_type": "stream",
          "name": "stderr",
          "text": [
            "Loss=0.7004002332687378 Batch_id=390 Accuracy=83.18: 100%|██████████| 391/391 [00:37<00:00, 10.47it/s]\n"
          ]
        },
        {
          "output_type": "stream",
          "name": "stdout",
          "text": [
            "\n",
            "Test set: Average loss: 0.0000, Accuracy: 8627/10000 (86.27%)\n",
            "\n",
            "EPOCH: 170\n"
          ]
        },
        {
          "output_type": "stream",
          "name": "stderr",
          "text": [
            "Loss=0.5940354466438293 Batch_id=390 Accuracy=83.43: 100%|██████████| 391/391 [00:34<00:00, 11.44it/s]\n"
          ]
        },
        {
          "output_type": "stream",
          "name": "stdout",
          "text": [
            "\n",
            "Test set: Average loss: 0.0000, Accuracy: 8626/10000 (86.26%)\n",
            "\n"
          ]
        }
      ]
    },
    {
      "cell_type": "markdown",
      "metadata": {
        "id": "2tK--U27UsHZ"
      },
      "source": [
        "### 4. Checking results"
      ]
    },
    {
      "cell_type": "code",
      "metadata": {
        "colab": {
          "base_uri": "https://localhost:8080/",
          "height": 773
        },
        "id": "NDhcHD1FcRij",
        "outputId": "cf621a56-45dd-42d0-ee22-20bc1c3e8963"
      },
      "source": [
        "import seaborn as sns\n",
        "\n",
        "def plot_metrics(train_accuracy, train_losses, test_accuracy, test_losses):\n",
        "    sns.set(font_scale=1)\n",
        "    plt.rcParams[\"figure.figsize\"] = (25,6)\n",
        "\n",
        "    # Plot the learning curve.\n",
        "    fig, (ax1,ax2) = plt.subplots(1,2)\n",
        "    ax1.plot(np.array(train_losses), 'b', label=\"Train Loss\")\n",
        "    \n",
        "    # Label the plot.\n",
        "    ax1.set_title(\"Train Loss\")\n",
        "    ax1.set_xlabel(\"Epoch\")\n",
        "    ax1.set_ylabel(\"Loss\")\n",
        "    ax1.legend()\n",
        "    \n",
        "    ax2.plot(np.array(train_accuracy), 'b', label=\"Train Accuracy\")\n",
        "    \n",
        "    # Label the plot.\n",
        "    ax2.set_title(\"Train Accuracy\")\n",
        "    ax2.set_xlabel(\"Epoch\")\n",
        "    ax2.set_ylabel(\"Loss\")\n",
        "    ax2.legend()\n",
        "    \n",
        "    plt.show()\n",
        "    \n",
        "    # Plot the learning curve.\n",
        "    fig, (ax1,ax2) = plt.subplots(1,2)\n",
        "    ax1.plot(np.array(test_losses), 'b', label=\"Test Loss\")\n",
        "    \n",
        "    # Label the plot.\n",
        "    ax1.set_title(\"Test Loss\")\n",
        "    ax1.set_xlabel(\"Epoch\")\n",
        "    ax1.set_ylabel(\"Loss\")\n",
        "    ax1.legend()\n",
        "    \n",
        "    ax2.plot(np.array(test_accuracy), 'b', label=\"Test Accuracy\")\n",
        "    \n",
        "    # Label the plot.\n",
        "    ax2.set_title(\"Test Accuracy\")\n",
        "    ax2.set_xlabel(\"Epoch\")\n",
        "    ax2.set_ylabel(\"Loss\")\n",
        "    ax2.legend()\n",
        "    \n",
        "    plt.show()\n",
        "\n",
        "plot_metrics(train_accuracy, train_losses, test_accuracy, test_losses)"
      ],
      "execution_count": 15,
      "outputs": [
        {
          "output_type": "display_data",
          "data": {
            "image/png": "[encoded data removed]",
            "text/plain": [
              "<Figure size 1800x432 with 2 Axes>"
            ]
          },
          "metadata": {}
        },
        {
          "output_type": "display_data",
          "data": {
            "image/png": "[encoded data removed]",
            "text/plain": [
              "<Figure size 1800x432 with 2 Axes>"
            ]
          },
          "metadata": {}
        }
      ]
    },
    {
      "cell_type": "code",
      "metadata": {
        "colab": {
          "base_uri": "https://localhost:8080/",
          "height": 388
        },
        "id": "l_wLFknCUwQC",
        "outputId": "b6ef73ed-c85d-475f-dd62-0a9732b295ea"
      },
      "source": [
        "def show_predicted_actual(model, device, dataset, classes):\n",
        "\tdataiter = iter(dataset)\n",
        "\timages, labels = dataiter.next()\n",
        "\n",
        "\timg_list = range(5, 10)\n",
        "\n",
        "\t# print images\n",
        "\timshow(torchvision.utils.make_grid(images[img_list]))\n",
        "\tprint('GroundTruth: ', ' '.join('%5s' % classes[labels[j]] for j in img_list))\n",
        "\n",
        "\timages = images.to(device)\n",
        "\toutputs = model(images)\n",
        "\n",
        "\t_, predicted = torch.max(outputs, 1)\n",
        "\tprint('Predicted: ', ' '.join('%5s' % classes[predicted[j]]\n",
        "                              for j in img_list))\n",
        " \n",
        "\n",
        "show_predicted_actual(model, device, testloader, classes)\n"
      ],
      "execution_count": 16,
      "outputs": [
        {
          "output_type": "stream",
          "name": "stderr",
          "text": [
            "Clipping input data to the valid range for imshow with RGB data ([0..1] for floats or [0..255] for integers).\n"
          ]
        },
        {
          "output_type": "stream",
          "name": "stdout",
          "text": [
            "GroundTruth:   frog   car  frog   cat   car\n",
            "Predicted:   frog   car  frog   cat   car\n"
          ]
        },
        {
          "output_type": "display_data",
          "data": {
            "image/png": "[encoded data removed]",
            "text/plain": [
              "<Figure size 1800x432 with 1 Axes>"
            ]
          },
          "metadata": {}
        }
      ]
    },
    {
      "cell_type": "code",
      "metadata": {
        "id": "pDNFuDEDpoDG",
        "colab": {
          "base_uri": "https://localhost:8080/"
        },
        "outputId": "06b053e2-df4c-4040-d6b4-b85a38315fcd"
      },
      "source": [
        "def evaluate_classwise_accuracy(model, device, classes, test_loader):\n",
        "    class_correct = list(0. for i in range(10))\n",
        "    class_total = list(0. for i in range(10))\n",
        "    with torch.no_grad():\n",
        "        for images, labels in test_loader:\n",
        "            images, labels = images.to(device), labels.to(device)\n",
        "            outputs = model(images)\n",
        "            _, predicted = torch.max(outputs, 1)\n",
        "            c = (predicted == labels).squeeze()\n",
        "            for i in range(4):\n",
        "            \tlabel = labels[i]\n",
        "            \tclass_correct[label] += c[i].item()\n",
        "            \tclass_total[label] += 1\n",
        "\n",
        "    for i in range(10):\n",
        "        print('Accuracy of %5s : %2d %%' % (\n",
        "            classes[i], 100 * class_correct[i] / class_total[i]))\n",
        "      \n",
        "evaluate_classwise_accuracy(model, device, classes, testloader)\n"
      ],
      "execution_count": 17,
      "outputs": [
        {
          "output_type": "stream",
          "name": "stdout",
          "text": [
            "Accuracy of plane : 82 %\n",
            "Accuracy of   car : 100 %\n",
            "Accuracy of  bird : 81 %\n",
            "Accuracy of   cat : 82 %\n",
            "Accuracy of  deer : 88 %\n",
            "Accuracy of   dog : 78 %\n",
            "Accuracy of  frog : 91 %\n",
            "Accuracy of horse : 88 %\n",
            "Accuracy of  ship : 93 %\n",
            "Accuracy of truck : 87 %\n"
          ]
        }
      ]
    }
  ]
}